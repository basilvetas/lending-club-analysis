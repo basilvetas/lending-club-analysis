{
 "cells": [
  {
   "cell_type": "markdown",
   "metadata": {},
   "source": [
    "## Homogenous (stationary) Markov Chain Implementation in Edward"
   ]
  },
  {
   "cell_type": "markdown",
   "metadata": {},
   "source": [
    "### Package Imports and Options"
   ]
  },
  {
   "cell_type": "code",
   "execution_count": null,
   "metadata": {},
   "outputs": [],
   "source": [
    "import pandas as pd\n",
    "import numpy as np\n",
    "\n",
    "%matplotlib inline\n",
    "import matplotlib.pyplot as plt\n",
    "import seaborn as sns\n",
    "import missingno as msno\n",
    "\n",
    "import tensorflow as tf\n",
    "import edward as ed\n",
    "from edward.models import Bernoulli, Categorical, Normal, Empirical, Multinomial\n",
    "\n",
    "from utils.utils import load_dataframe, load_data_dic, preprocess"
   ]
  },
  {
   "cell_type": "code",
   "execution_count": null,
   "metadata": {},
   "outputs": [],
   "source": [
    "pd.set_option('display.max_columns', 200)\n",
    "pd.set_option('display.max_rows', 200)\n",
    "pd.set_option('display.max_colwidth', -1)\n",
    "sns.set_style('whitegrid')"
   ]
  },
  {
   "cell_type": "markdown",
   "metadata": {},
   "source": [
    "### Load Data"
   ]
  },
  {
   "cell_type": "code",
   "execution_count": null,
   "metadata": {},
   "outputs": [],
   "source": [
    "df_raw = load_dataframe()"
   ]
  },
  {
   "cell_type": "code",
   "execution_count": null,
   "metadata": {},
   "outputs": [],
   "source": [
    "df = df_raw.copy()"
   ]
  },
  {
   "cell_type": "markdown",
   "metadata": {},
   "source": [
    "### Analysis"
   ]
  },
  {
   "cell_type": "code",
   "execution_count": null,
   "metadata": {},
   "outputs": [],
   "source": [
    "counts = df.groupby(['term', 'age_of_loan', 'loan_status']).count()"
   ]
  },
  {
   "cell_type": "code",
   "execution_count": null,
   "metadata": {},
   "outputs": [],
   "source": [
    "counts.head(20)"
   ]
  },
  {
   "cell_type": "code",
   "execution_count": null,
   "metadata": {},
   "outputs": [],
   "source": [
    "# get currently active loans\n",
    "df_active = df.loc[df.age_of_loan < df.term.astype(int)].reset_index(drop=True)\n",
    "df_inactive = df.loc[~(df.age_of_loan < df.term.astype(int))].reset_index(drop=True)\n",
    "df_active.shape[0] + df_inactive.shape[0] == df.shape[0]"
   ]
  },
  {
   "cell_type": "code",
   "execution_count": null,
   "metadata": {},
   "outputs": [],
   "source": [
    "df_active.shape"
   ]
  },
  {
   "cell_type": "code",
   "execution_count": null,
   "metadata": {},
   "outputs": [],
   "source": [
    "df_inactive.shape"
   ]
  },
  {
   "cell_type": "code",
   "execution_count": null,
   "metadata": {},
   "outputs": [],
   "source": [
    "df_active.dtypes"
   ]
  },
  {
   "cell_type": "code",
   "execution_count": null,
   "metadata": {},
   "outputs": [],
   "source": [
    "sns.distplot(df.age_of_loan)"
   ]
  },
  {
   "cell_type": "code",
   "execution_count": null,
   "metadata": {},
   "outputs": [],
   "source": [
    "sns.distplot(df_active.age_of_loan)"
   ]
  },
  {
   "cell_type": "code",
   "execution_count": null,
   "metadata": {},
   "outputs": [],
   "source": [
    "sns.distplot(df_inactive.age_of_loan)"
   ]
  },
  {
   "cell_type": "code",
   "execution_count": null,
   "metadata": {},
   "outputs": [],
   "source": [
    "# split active loans by 36 and 60 month terms\n",
    "df_active_36 = df_active.loc[df_active.term.astype(int) == 36]\n",
    "df_active_60 = df_active.loc[df_active.term.astype(int) == 60]\n",
    "df_active_36.shape[0] + df_active_60.shape[0] == df_active.shape[0]"
   ]
  },
  {
   "cell_type": "code",
   "execution_count": null,
   "metadata": {},
   "outputs": [],
   "source": [
    "df_active_36.shape"
   ]
  },
  {
   "cell_type": "code",
   "execution_count": null,
   "metadata": {},
   "outputs": [],
   "source": [
    "df_active_60.shape"
   ]
  },
  {
   "cell_type": "code",
   "execution_count": null,
   "metadata": {},
   "outputs": [],
   "source": [
    "sns.distplot(df_active_36.age_of_loan)"
   ]
  },
  {
   "cell_type": "code",
   "execution_count": null,
   "metadata": {},
   "outputs": [],
   "source": [
    "sns.distplot(df_active_60.age_of_loan)"
   ]
  },
  {
   "cell_type": "code",
   "execution_count": null,
   "metadata": {},
   "outputs": [],
   "source": [
    "sns.countplot(x=\"loan_status\", data=df_active_36)"
   ]
  },
  {
   "cell_type": "code",
   "execution_count": null,
   "metadata": {},
   "outputs": [],
   "source": [
    "sns.countplot(x=\"loan_status\", data=df_active_60)"
   ]
  },
  {
   "cell_type": "code",
   "execution_count": null,
   "metadata": {},
   "outputs": [],
   "source": [
    "sns.distplot(df_active_36.loc[df_active_36.loan_status == 'Current'].age_of_loan)"
   ]
  },
  {
   "cell_type": "code",
   "execution_count": null,
   "metadata": {},
   "outputs": [],
   "source": [
    "late = (df_active_36.loan_status == 'Late (16-30 days)') | (df_active_36.loan_status == 'Late (31-120 days)')\n",
    "sns.distplot(df_active_36.loc[late].age_of_loan)"
   ]
  },
  {
   "cell_type": "markdown",
   "metadata": {},
   "source": [
    "### Preprocessing"
   ]
  },
  {
   "cell_type": "code",
   "execution_count": null,
   "metadata": {},
   "outputs": [],
   "source": [
    "df = preprocess(df)"
   ]
  },
  {
   "cell_type": "code",
   "execution_count": null,
   "metadata": {},
   "outputs": [],
   "source": [
    "df.term.value_counts()"
   ]
  },
  {
   "cell_type": "code",
   "execution_count": null,
   "metadata": {},
   "outputs": [],
   "source": [
    "df.loan_status.value_counts(sort=False)"
   ]
  },
  {
   "cell_type": "markdown",
   "metadata": {},
   "source": [
    "**TODO** it might be good to use panda's Categorical type instead of sklearn's label encoder so we have the mapping between indew and category directly from the dataframe (or modify the preprocess function to return the label encoder objects too, but then it means we also need to cache them which is not super clean)."
   ]
  },
  {
   "cell_type": "markdown",
   "metadata": {},
   "source": [
    "## Markov chain"
   ]
  },
  {
   "cell_type": "code",
   "execution_count": null,
   "metadata": {},
   "outputs": [],
   "source": [
    "statuses = df.loan_status.unique()\n",
    "n_statuses = len(statuses)"
   ]
  },
  {
   "cell_type": "markdown",
   "metadata": {},
   "source": [
    "### 0. Generating the transitions"
   ]
  },
  {
   "cell_type": "markdown",
   "metadata": {},
   "source": [
    "This doesn't take too long (took me a while to figure out a clean way to do it):"
   ]
  },
  {
   "cell_type": "code",
   "execution_count": null,
   "metadata": {},
   "outputs": [],
   "source": [
    "df['previous_month'] = df.age_of_loan - 1\n",
    "transitions =  pd.merge(df, df, left_on=['id', 'age_of_loan'], right_on=['id', 'previous_month'])"
   ]
  },
  {
   "cell_type": "code",
   "execution_count": null,
   "metadata": {},
   "outputs": [],
   "source": [
    "transitions.head()"
   ]
  },
  {
   "cell_type": "markdown",
   "metadata": {},
   "source": [
    "### 1. Solving with MLE:"
   ]
  },
  {
   "cell_type": "markdown",
   "metadata": {},
   "source": [
    "The MLE solution to a markov chain is simply the empirical counts, so easy to implement. This can give us a good baseline to check our bayesian results later:"
   ]
  },
  {
   "cell_type": "markdown",
   "metadata": {},
   "source": [
    "**Step 1**: count the transitions"
   ]
  },
  {
   "cell_type": "code",
   "execution_count": null,
   "metadata": {},
   "outputs": [],
   "source": [
    "transition_counts = pd.crosstab(transitions['loan_status_x'],\n",
    "                                transitions['loan_status_y'])"
   ]
  },
  {
   "cell_type": "markdown",
   "metadata": {},
   "source": [
    "**Step 2**: transform the count dataframe to a count matrix:"
   ]
  },
  {
   "cell_type": "code",
   "execution_count": null,
   "metadata": {},
   "outputs": [],
   "source": [
    "transition_counts"
   ]
  },
  {
   "cell_type": "markdown",
   "metadata": {},
   "source": [
    "Note that row 0 is missing, we add it by hand and set it to 0. Same with column 5:"
   ]
  },
  {
   "cell_type": "code",
   "execution_count": null,
   "metadata": {},
   "outputs": [],
   "source": [
    "for i in range(n_statuses):\n",
    "    if i not in transition_counts.index:\n",
    "        # if no row, create it and set to 0:\n",
    "        print('Filling in row %s ...' % (i,))\n",
    "        transition_counts.loc[i] = 0\n",
    "    if i not in transition_counts.columns:\n",
    "        # if no column, create it and set to 0:\n",
    "        print('Filling in column %s ...' % (i,))\n",
    "        transition_counts[i] = 0"
   ]
  },
  {
   "cell_type": "code",
   "execution_count": null,
   "metadata": {},
   "outputs": [],
   "source": [
    "transition_counts"
   ]
  },
  {
   "cell_type": "markdown",
   "metadata": {},
   "source": [
    "Re-sort the indexes:"
   ]
  },
  {
   "cell_type": "code",
   "execution_count": null,
   "metadata": {},
   "outputs": [],
   "source": [
    "transition_counts.sort_index(axis=0, inplace=True)\n",
    "transition_counts.sort_index(axis=1, inplace=True)"
   ]
  },
  {
   "cell_type": "code",
   "execution_count": null,
   "metadata": {},
   "outputs": [],
   "source": [
    "transition_counts"
   ]
  },
  {
   "cell_type": "markdown",
   "metadata": {},
   "source": [
    "Note with crosstab we could have gotten the frequencies directly, but having this raw count table might be useful for the Bayesian case.\n",
    "\n",
    "We can also get the margins directly (sum by row), but then sort_index fails..."
   ]
  },
  {
   "cell_type": "code",
   "execution_count": null,
   "metadata": {},
   "outputs": [],
   "source": [
    "transitions_mle = transition_counts.values.astype(float)"
   ]
  },
  {
   "cell_type": "code",
   "execution_count": null,
   "metadata": {},
   "outputs": [],
   "source": [
    "for i in range(transitions_mle.shape[0]):\n",
    "    n_i_all = sum(transitions_mle[i,:]) # count how many i => j for this i and any j\n",
    "    if n_i_all != 0:\n",
    "        transitions_mle[i,:] *= (1/n_i_all)"
   ]
  },
  {
   "cell_type": "code",
   "execution_count": null,
   "metadata": {},
   "outputs": [],
   "source": [
    "np.round(transitions_mle, 2)"
   ]
  },
  {
   "cell_type": "code",
   "execution_count": 57,
   "metadata": {},
   "outputs": [
    {
     "data": {
      "text/plain": [
       "array([1, 3, 6, 7, 0, 2, 4, 5])"
      ]
     },
     "execution_count": 57,
     "metadata": {},
     "output_type": "execute_result"
    }
   ],
   "source": [
    "df.loan_status.unique()"
   ]
  },
  {
   "cell_type": "code",
   "execution_count": 58,
   "metadata": {},
   "outputs": [
    {
     "data": {
      "text/plain": [
       "1    37859913\n",
       "3    951255  \n",
       "7    843537  \n",
       "6    292358  \n",
       "0    234296  \n",
       "2    49490   \n",
       "5    22905   \n",
       "4    10233   \n",
       "Name: loan_status, dtype: int64"
      ]
     },
     "execution_count": 58,
     "metadata": {},
     "output_type": "execute_result"
    }
   ],
   "source": [
    "df.loan_status.value_counts()"
   ]
  },
  {
   "cell_type": "code",
   "execution_count": 59,
   "metadata": {},
   "outputs": [
    {
     "data": {
      "text/html": [
       "<div>\n",
       "<style scoped>\n",
       "    .dataframe tbody tr th:only-of-type {\n",
       "        vertical-align: middle;\n",
       "    }\n",
       "\n",
       "    .dataframe tbody tr th {\n",
       "        vertical-align: top;\n",
       "    }\n",
       "\n",
       "    .dataframe thead th {\n",
       "        text-align: right;\n",
       "    }\n",
       "</style>\n",
       "<table border=\"1\" class=\"dataframe\">\n",
       "  <thead>\n",
       "    <tr style=\"text-align: right;\">\n",
       "      <th>loan_status_y</th>\n",
       "      <th>0</th>\n",
       "      <th>1</th>\n",
       "      <th>2</th>\n",
       "      <th>3</th>\n",
       "      <th>4</th>\n",
       "      <th>5</th>\n",
       "      <th>6</th>\n",
       "      <th>7</th>\n",
       "    </tr>\n",
       "    <tr>\n",
       "      <th>loan_status_x</th>\n",
       "      <th></th>\n",
       "      <th></th>\n",
       "      <th></th>\n",
       "      <th></th>\n",
       "      <th></th>\n",
       "      <th></th>\n",
       "      <th></th>\n",
       "      <th></th>\n",
       "    </tr>\n",
       "  </thead>\n",
       "  <tbody>\n",
       "    <tr>\n",
       "      <th>0</th>\n",
       "      <td>0</td>\n",
       "      <td>0</td>\n",
       "      <td>0</td>\n",
       "      <td>0</td>\n",
       "      <td>0</td>\n",
       "      <td>0</td>\n",
       "      <td>0</td>\n",
       "      <td>0</td>\n",
       "    </tr>\n",
       "    <tr>\n",
       "      <th>1</th>\n",
       "      <td>1245</td>\n",
       "      <td>35679469</td>\n",
       "      <td>4</td>\n",
       "      <td>898628</td>\n",
       "      <td>9517</td>\n",
       "      <td>0</td>\n",
       "      <td>260336</td>\n",
       "      <td>96651</td>\n",
       "    </tr>\n",
       "    <tr>\n",
       "      <th>2</th>\n",
       "      <td>45449</td>\n",
       "      <td>220</td>\n",
       "      <td>2861</td>\n",
       "      <td>135</td>\n",
       "      <td>0</td>\n",
       "      <td>0</td>\n",
       "      <td>5</td>\n",
       "      <td>770</td>\n",
       "    </tr>\n",
       "    <tr>\n",
       "      <th>3</th>\n",
       "      <td>0</td>\n",
       "      <td>0</td>\n",
       "      <td>0</td>\n",
       "      <td>12119</td>\n",
       "      <td>18</td>\n",
       "      <td>0</td>\n",
       "      <td>169</td>\n",
       "      <td>96</td>\n",
       "    </tr>\n",
       "    <tr>\n",
       "      <th>4</th>\n",
       "      <td>0</td>\n",
       "      <td>436</td>\n",
       "      <td>0</td>\n",
       "      <td>15</td>\n",
       "      <td>28</td>\n",
       "      <td>0</td>\n",
       "      <td>96</td>\n",
       "      <td>64</td>\n",
       "    </tr>\n",
       "    <tr>\n",
       "      <th>5</th>\n",
       "      <td>0</td>\n",
       "      <td>20644</td>\n",
       "      <td>0</td>\n",
       "      <td>852</td>\n",
       "      <td>2</td>\n",
       "      <td>0</td>\n",
       "      <td>64</td>\n",
       "      <td>1</td>\n",
       "    </tr>\n",
       "    <tr>\n",
       "      <th>6</th>\n",
       "      <td>7354</td>\n",
       "      <td>49741</td>\n",
       "      <td>0</td>\n",
       "      <td>3462</td>\n",
       "      <td>459</td>\n",
       "      <td>0</td>\n",
       "      <td>23156</td>\n",
       "      <td>198158</td>\n",
       "    </tr>\n",
       "    <tr>\n",
       "      <th>7</th>\n",
       "      <td>180232</td>\n",
       "      <td>38013</td>\n",
       "      <td>46625</td>\n",
       "      <td>3840</td>\n",
       "      <td>83</td>\n",
       "      <td>0</td>\n",
       "      <td>5512</td>\n",
       "      <td>546017</td>\n",
       "    </tr>\n",
       "  </tbody>\n",
       "</table>\n",
       "</div>"
      ],
      "text/plain": [
       "loan_status_y       0         1      2       3     4  5       6       7\n",
       "loan_status_x                                                          \n",
       "0              0       0         0      0       0     0  0       0     \n",
       "1              1245    35679469  4      898628  9517  0  260336  96651 \n",
       "2              45449   220       2861   135     0     0  5       770   \n",
       "3              0       0         0      12119   18    0  169     96    \n",
       "4              0       436       0      15      28    0  96      64    \n",
       "5              0       20644     0      852     2     0  64      1     \n",
       "6              7354    49741     0      3462    459   0  23156   198158\n",
       "7              180232  38013     46625  3840    83    0  5512    546017"
      ]
     },
     "execution_count": 59,
     "metadata": {},
     "output_type": "execute_result"
    }
   ],
   "source": [
    "transition_counts"
   ]
  },
  {
   "cell_type": "code",
   "execution_count": 69,
   "metadata": {},
   "outputs": [
    {
     "data": {
      "text/plain": [
       "LabelEncoder()"
      ]
     },
     "execution_count": 69,
     "metadata": {},
     "output_type": "execute_result"
    }
   ],
   "source": [
    "from sklearn import preprocessing\n",
    "le = preprocessing.LabelEncoder()\n",
    "le.fit(df_raw.loan_status)"
   ]
  },
  {
   "cell_type": "code",
   "execution_count": 72,
   "metadata": {},
   "outputs": [],
   "source": [
    "mapping = {i: le.inverse_transform([i]) for i in range(8)}"
   ]
  },
  {
   "cell_type": "code",
   "execution_count": 71,
   "metadata": {},
   "outputs": [],
   "source": [
    "transition_counts_2 = transition_counts.copy()"
   ]
  },
  {
   "cell_type": "code",
   "execution_count": 82,
   "metadata": {},
   "outputs": [],
   "source": [
    "transition_counts_2.index = [l[0] for l in list(list(v) for v in mapping.values())]\n",
    "transition_counts_2.columns = [l[0] for l in list(list(v) for v in mapping.values())]"
   ]
  },
  {
   "cell_type": "code",
   "execution_count": 83,
   "metadata": {},
   "outputs": [
    {
     "data": {
      "text/html": [
       "<div>\n",
       "<style scoped>\n",
       "    .dataframe tbody tr th:only-of-type {\n",
       "        vertical-align: middle;\n",
       "    }\n",
       "\n",
       "    .dataframe tbody tr th {\n",
       "        vertical-align: top;\n",
       "    }\n",
       "\n",
       "    .dataframe thead th {\n",
       "        text-align: right;\n",
       "    }\n",
       "</style>\n",
       "<table border=\"1\" class=\"dataframe\">\n",
       "  <thead>\n",
       "    <tr style=\"text-align: right;\">\n",
       "      <th></th>\n",
       "      <th>Charged Off</th>\n",
       "      <th>Current</th>\n",
       "      <th>Default</th>\n",
       "      <th>Fully Paid</th>\n",
       "      <th>In Grace Period</th>\n",
       "      <th>Issued</th>\n",
       "      <th>Late (16-30 days)</th>\n",
       "      <th>Late (31-120 days)</th>\n",
       "    </tr>\n",
       "  </thead>\n",
       "  <tbody>\n",
       "    <tr>\n",
       "      <th>Charged Off</th>\n",
       "      <td>0</td>\n",
       "      <td>0</td>\n",
       "      <td>0</td>\n",
       "      <td>0</td>\n",
       "      <td>0</td>\n",
       "      <td>0</td>\n",
       "      <td>0</td>\n",
       "      <td>0</td>\n",
       "    </tr>\n",
       "    <tr>\n",
       "      <th>Current</th>\n",
       "      <td>1245</td>\n",
       "      <td>35679469</td>\n",
       "      <td>4</td>\n",
       "      <td>898628</td>\n",
       "      <td>9517</td>\n",
       "      <td>0</td>\n",
       "      <td>260336</td>\n",
       "      <td>96651</td>\n",
       "    </tr>\n",
       "    <tr>\n",
       "      <th>Default</th>\n",
       "      <td>45449</td>\n",
       "      <td>220</td>\n",
       "      <td>2861</td>\n",
       "      <td>135</td>\n",
       "      <td>0</td>\n",
       "      <td>0</td>\n",
       "      <td>5</td>\n",
       "      <td>770</td>\n",
       "    </tr>\n",
       "    <tr>\n",
       "      <th>Fully Paid</th>\n",
       "      <td>0</td>\n",
       "      <td>0</td>\n",
       "      <td>0</td>\n",
       "      <td>12119</td>\n",
       "      <td>18</td>\n",
       "      <td>0</td>\n",
       "      <td>169</td>\n",
       "      <td>96</td>\n",
       "    </tr>\n",
       "    <tr>\n",
       "      <th>In Grace Period</th>\n",
       "      <td>0</td>\n",
       "      <td>436</td>\n",
       "      <td>0</td>\n",
       "      <td>15</td>\n",
       "      <td>28</td>\n",
       "      <td>0</td>\n",
       "      <td>96</td>\n",
       "      <td>64</td>\n",
       "    </tr>\n",
       "    <tr>\n",
       "      <th>Issued</th>\n",
       "      <td>0</td>\n",
       "      <td>20644</td>\n",
       "      <td>0</td>\n",
       "      <td>852</td>\n",
       "      <td>2</td>\n",
       "      <td>0</td>\n",
       "      <td>64</td>\n",
       "      <td>1</td>\n",
       "    </tr>\n",
       "    <tr>\n",
       "      <th>Late (16-30 days)</th>\n",
       "      <td>7354</td>\n",
       "      <td>49741</td>\n",
       "      <td>0</td>\n",
       "      <td>3462</td>\n",
       "      <td>459</td>\n",
       "      <td>0</td>\n",
       "      <td>23156</td>\n",
       "      <td>198158</td>\n",
       "    </tr>\n",
       "    <tr>\n",
       "      <th>Late (31-120 days)</th>\n",
       "      <td>180232</td>\n",
       "      <td>38013</td>\n",
       "      <td>46625</td>\n",
       "      <td>3840</td>\n",
       "      <td>83</td>\n",
       "      <td>0</td>\n",
       "      <td>5512</td>\n",
       "      <td>546017</td>\n",
       "    </tr>\n",
       "  </tbody>\n",
       "</table>\n",
       "</div>"
      ],
      "text/plain": [
       "                    Charged Off   Current  Default  Fully Paid  \\\n",
       "Charged Off         0            0         0        0            \n",
       "Current             1245         35679469  4        898628       \n",
       "Default             45449        220       2861     135          \n",
       "Fully Paid          0            0         0        12119        \n",
       "In Grace Period     0            436       0        15           \n",
       "Issued              0            20644     0        852          \n",
       "Late (16-30 days)   7354         49741     0        3462         \n",
       "Late (31-120 days)  180232       38013     46625    3840         \n",
       "\n",
       "                    In Grace Period  Issued  Late (16-30 days)  \\\n",
       "Charged Off         0                0       0                   \n",
       "Current             9517             0       260336              \n",
       "Default             0                0       5                   \n",
       "Fully Paid          18               0       169                 \n",
       "In Grace Period     28               0       96                  \n",
       "Issued              2                0       64                  \n",
       "Late (16-30 days)   459              0       23156               \n",
       "Late (31-120 days)  83               0       5512                \n",
       "\n",
       "                    Late (31-120 days)  \n",
       "Charged Off         0                   \n",
       "Current             96651               \n",
       "Default             770                 \n",
       "Fully Paid          96                  \n",
       "In Grace Period     64                  \n",
       "Issued              1                   \n",
       "Late (16-30 days)   198158              \n",
       "Late (31-120 days)  546017              "
      ]
     },
     "execution_count": 83,
     "metadata": {},
     "output_type": "execute_result"
    }
   ],
   "source": [
    "transition_counts_2"
   ]
  },
  {
   "cell_type": "markdown",
   "metadata": {},
   "source": [
    "todo look at FP -> late\n",
    "\n",
    "look at when igp happens, when is it taken into account"
   ]
  },
  {
   "cell_type": "markdown",
   "metadata": {},
   "source": [
    "### 2. Bayesian Estimation, Multinomial Model"
   ]
  },
  {
   "cell_type": "code",
   "execution_count": null,
   "metadata": {},
   "outputs": [],
   "source": [
    "import tensorflow as tf\n",
    "import edward as ed"
   ]
  },
  {
   "cell_type": "markdown",
   "metadata": {},
   "source": [
    "**Based on the paper \"Markov Chain Models for Delinquency: Transition Matrix Estimation and Forecasting\", Scott D. Grimshaw, William P. Alexander, Section 3**"
   ]
  },
  {
   "cell_type": "markdown",
   "metadata": {},
   "source": [
    "We can model the counts of the transitions with a multinomial. More specifically:"
   ]
  },
  {
   "cell_type": "markdown",
   "metadata": {},
   "source": [
    "We call $f(j)$ the row vector of monthly movements: $f(j,k)$ is the number of accounts that start the month in state $j$ and move to state $k$. We model this vector's distribution as a multinomial."
   ]
  },
  {
   "cell_type": "markdown",
   "metadata": {},
   "source": [
    "The multinomial follows probabilities, denoted as $p(j,k)$ in the paper, that are the probability of each individual transition j => k."
   ]
  },
  {
   "cell_type": "markdown",
   "metadata": {},
   "source": [
    "And the prior is the Dirichlet distribution with parameters $\\alpha(j)$."
   ]
  },
  {
   "cell_type": "code",
   "execution_count": 43,
   "metadata": {},
   "outputs": [
    {
     "data": {
      "text/plain": [
       "array([    1245, 35679469,        4,   898628,     9517,        0,\n",
       "         260336,    96651])"
      ]
     },
     "execution_count": 43,
     "metadata": {},
     "output_type": "execute_result"
    }
   ],
   "source": [
    "transition_counts.iloc[1,:].values"
   ]
  },
  {
   "cell_type": "markdown",
   "metadata": {},
   "source": [
    "**Transition counts, per month:**"
   ]
  },
  {
   "cell_type": "code",
   "execution_count": 44,
   "metadata": {},
   "outputs": [
    {
     "data": {
      "text/html": [
       "<div>\n",
       "<style scoped>\n",
       "    .dataframe tbody tr th:only-of-type {\n",
       "        vertical-align: middle;\n",
       "    }\n",
       "\n",
       "    .dataframe tbody tr th {\n",
       "        vertical-align: top;\n",
       "    }\n",
       "\n",
       "    .dataframe thead th {\n",
       "        text-align: right;\n",
       "    }\n",
       "</style>\n",
       "<table border=\"1\" class=\"dataframe\">\n",
       "  <thead>\n",
       "    <tr style=\"text-align: right;\">\n",
       "      <th></th>\n",
       "      <th>id</th>\n",
       "      <th>loan_status_x</th>\n",
       "      <th>age_of_loan_x</th>\n",
       "      <th>term_x</th>\n",
       "      <th>previous_month_x</th>\n",
       "      <th>loan_status_y</th>\n",
       "      <th>age_of_loan_y</th>\n",
       "      <th>term_y</th>\n",
       "      <th>previous_month_y</th>\n",
       "    </tr>\n",
       "  </thead>\n",
       "  <tbody>\n",
       "    <tr>\n",
       "      <th>0</th>\n",
       "      <td>54734</td>\n",
       "      <td>1</td>\n",
       "      <td>1</td>\n",
       "      <td>0</td>\n",
       "      <td>0</td>\n",
       "      <td>1</td>\n",
       "      <td>2</td>\n",
       "      <td>0</td>\n",
       "      <td>1</td>\n",
       "    </tr>\n",
       "    <tr>\n",
       "      <th>1</th>\n",
       "      <td>54734</td>\n",
       "      <td>1</td>\n",
       "      <td>2</td>\n",
       "      <td>0</td>\n",
       "      <td>1</td>\n",
       "      <td>1</td>\n",
       "      <td>3</td>\n",
       "      <td>0</td>\n",
       "      <td>2</td>\n",
       "    </tr>\n",
       "    <tr>\n",
       "      <th>2</th>\n",
       "      <td>54734</td>\n",
       "      <td>1</td>\n",
       "      <td>3</td>\n",
       "      <td>0</td>\n",
       "      <td>2</td>\n",
       "      <td>1</td>\n",
       "      <td>4</td>\n",
       "      <td>0</td>\n",
       "      <td>3</td>\n",
       "    </tr>\n",
       "    <tr>\n",
       "      <th>3</th>\n",
       "      <td>54734</td>\n",
       "      <td>1</td>\n",
       "      <td>4</td>\n",
       "      <td>0</td>\n",
       "      <td>3</td>\n",
       "      <td>1</td>\n",
       "      <td>5</td>\n",
       "      <td>0</td>\n",
       "      <td>4</td>\n",
       "    </tr>\n",
       "    <tr>\n",
       "      <th>4</th>\n",
       "      <td>54734</td>\n",
       "      <td>1</td>\n",
       "      <td>5</td>\n",
       "      <td>0</td>\n",
       "      <td>4</td>\n",
       "      <td>1</td>\n",
       "      <td>6</td>\n",
       "      <td>0</td>\n",
       "      <td>5</td>\n",
       "    </tr>\n",
       "  </tbody>\n",
       "</table>\n",
       "</div>"
      ],
      "text/plain": [
       "      id  loan_status_x  age_of_loan_x  term_x  previous_month_x  \\\n",
       "0  54734  1              1              0       0                  \n",
       "1  54734  1              2              0       1                  \n",
       "2  54734  1              3              0       2                  \n",
       "3  54734  1              4              0       3                  \n",
       "4  54734  1              5              0       4                  \n",
       "\n",
       "   loan_status_y  age_of_loan_y  term_y  previous_month_y  \n",
       "0  1              2              0       1                 \n",
       "1  1              3              0       2                 \n",
       "2  1              4              0       3                 \n",
       "3  1              5              0       4                 \n",
       "4  1              6              0       5                 "
      ]
     },
     "execution_count": 44,
     "metadata": {},
     "output_type": "execute_result"
    }
   ],
   "source": [
    "transitions.head()"
   ]
  },
  {
   "cell_type": "code",
   "execution_count": 45,
   "metadata": {},
   "outputs": [],
   "source": [
    "transition_counts_per_month = transitions.groupby(['previous_month_x', 'loan_status_x', 'loan_status_y']).size()"
   ]
  },
  {
   "cell_type": "code",
   "execution_count": 46,
   "metadata": {},
   "outputs": [],
   "source": [
    "temp = list()\n",
    "for month in transition_counts_per_month.index.levels[0]:\n",
    "    temp.append(transition_counts_per_month[month].unstack().fillna(0))\n",
    "transition_counts_per_month = temp"
   ]
  },
  {
   "cell_type": "code",
   "execution_count": 47,
   "metadata": {},
   "outputs": [
    {
     "data": {
      "text/html": [
       "<div>\n",
       "<style scoped>\n",
       "    .dataframe tbody tr th:only-of-type {\n",
       "        vertical-align: middle;\n",
       "    }\n",
       "\n",
       "    .dataframe tbody tr th {\n",
       "        vertical-align: top;\n",
       "    }\n",
       "\n",
       "    .dataframe thead th {\n",
       "        text-align: right;\n",
       "    }\n",
       "</style>\n",
       "<table border=\"1\" class=\"dataframe\">\n",
       "  <thead>\n",
       "    <tr style=\"text-align: right;\">\n",
       "      <th>loan_status_y</th>\n",
       "      <th>1</th>\n",
       "      <th>3</th>\n",
       "      <th>4</th>\n",
       "      <th>6</th>\n",
       "      <th>7</th>\n",
       "    </tr>\n",
       "    <tr>\n",
       "      <th>loan_status_x</th>\n",
       "      <th></th>\n",
       "      <th></th>\n",
       "      <th></th>\n",
       "      <th></th>\n",
       "      <th></th>\n",
       "    </tr>\n",
       "  </thead>\n",
       "  <tbody>\n",
       "    <tr>\n",
       "      <th>1</th>\n",
       "      <td>5162.0</td>\n",
       "      <td>219.0</td>\n",
       "      <td>1.0</td>\n",
       "      <td>8.0</td>\n",
       "      <td>21.0</td>\n",
       "    </tr>\n",
       "    <tr>\n",
       "      <th>3</th>\n",
       "      <td>0.0</td>\n",
       "      <td>48.0</td>\n",
       "      <td>0.0</td>\n",
       "      <td>1.0</td>\n",
       "      <td>0.0</td>\n",
       "    </tr>\n",
       "    <tr>\n",
       "      <th>5</th>\n",
       "      <td>20644.0</td>\n",
       "      <td>852.0</td>\n",
       "      <td>2.0</td>\n",
       "      <td>64.0</td>\n",
       "      <td>1.0</td>\n",
       "    </tr>\n",
       "  </tbody>\n",
       "</table>\n",
       "</div>"
      ],
      "text/plain": [
       "loan_status_y        1      3    4     6     7\n",
       "loan_status_x                                 \n",
       "1              5162.0   219.0  1.0  8.0   21.0\n",
       "3              0.0      48.0   0.0  1.0   0.0 \n",
       "5              20644.0  852.0  2.0  64.0  1.0 "
      ]
     },
     "execution_count": 47,
     "metadata": {},
     "output_type": "execute_result"
    }
   ],
   "source": [
    "transition_counts_per_month[0]"
   ]
  },
  {
   "cell_type": "code",
   "execution_count": 48,
   "metadata": {},
   "outputs": [],
   "source": [
    "for counts in transition_counts_per_month:\n",
    "    for i in range(n_statuses):\n",
    "        if i not in counts.index:\n",
    "            # if no row, create it and set to 0:\n",
    "            # print('Filling in row %s ...' % (i,))\n",
    "            counts.loc[i] = 0\n",
    "        if i not in counts.columns:\n",
    "            # if no column, create it and set to 0:\n",
    "            # print('Filling in column %s ...' % (i,))\n",
    "            counts[i] = 0\n",
    "    counts.sort_index(axis=0, inplace=True)\n",
    "    counts.sort_index(axis=1, inplace=True)"
   ]
  },
  {
   "cell_type": "code",
   "execution_count": 49,
   "metadata": {},
   "outputs": [
    {
     "data": {
      "text/html": [
       "<div>\n",
       "<style scoped>\n",
       "    .dataframe tbody tr th:only-of-type {\n",
       "        vertical-align: middle;\n",
       "    }\n",
       "\n",
       "    .dataframe tbody tr th {\n",
       "        vertical-align: top;\n",
       "    }\n",
       "\n",
       "    .dataframe thead th {\n",
       "        text-align: right;\n",
       "    }\n",
       "</style>\n",
       "<table border=\"1\" class=\"dataframe\">\n",
       "  <thead>\n",
       "    <tr style=\"text-align: right;\">\n",
       "      <th>loan_status_y</th>\n",
       "      <th>0</th>\n",
       "      <th>1</th>\n",
       "      <th>2</th>\n",
       "      <th>3</th>\n",
       "      <th>4</th>\n",
       "      <th>5</th>\n",
       "      <th>6</th>\n",
       "      <th>7</th>\n",
       "    </tr>\n",
       "    <tr>\n",
       "      <th>loan_status_x</th>\n",
       "      <th></th>\n",
       "      <th></th>\n",
       "      <th></th>\n",
       "      <th></th>\n",
       "      <th></th>\n",
       "      <th></th>\n",
       "      <th></th>\n",
       "      <th></th>\n",
       "    </tr>\n",
       "  </thead>\n",
       "  <tbody>\n",
       "    <tr>\n",
       "      <th>0</th>\n",
       "      <td>0</td>\n",
       "      <td>0.0</td>\n",
       "      <td>0</td>\n",
       "      <td>0.0</td>\n",
       "      <td>0.0</td>\n",
       "      <td>0</td>\n",
       "      <td>0.0</td>\n",
       "      <td>0.0</td>\n",
       "    </tr>\n",
       "    <tr>\n",
       "      <th>1</th>\n",
       "      <td>0</td>\n",
       "      <td>5162.0</td>\n",
       "      <td>0</td>\n",
       "      <td>219.0</td>\n",
       "      <td>1.0</td>\n",
       "      <td>0</td>\n",
       "      <td>8.0</td>\n",
       "      <td>21.0</td>\n",
       "    </tr>\n",
       "    <tr>\n",
       "      <th>2</th>\n",
       "      <td>0</td>\n",
       "      <td>0.0</td>\n",
       "      <td>0</td>\n",
       "      <td>0.0</td>\n",
       "      <td>0.0</td>\n",
       "      <td>0</td>\n",
       "      <td>0.0</td>\n",
       "      <td>0.0</td>\n",
       "    </tr>\n",
       "    <tr>\n",
       "      <th>3</th>\n",
       "      <td>0</td>\n",
       "      <td>0.0</td>\n",
       "      <td>0</td>\n",
       "      <td>48.0</td>\n",
       "      <td>0.0</td>\n",
       "      <td>0</td>\n",
       "      <td>1.0</td>\n",
       "      <td>0.0</td>\n",
       "    </tr>\n",
       "    <tr>\n",
       "      <th>4</th>\n",
       "      <td>0</td>\n",
       "      <td>0.0</td>\n",
       "      <td>0</td>\n",
       "      <td>0.0</td>\n",
       "      <td>0.0</td>\n",
       "      <td>0</td>\n",
       "      <td>0.0</td>\n",
       "      <td>0.0</td>\n",
       "    </tr>\n",
       "    <tr>\n",
       "      <th>5</th>\n",
       "      <td>0</td>\n",
       "      <td>20644.0</td>\n",
       "      <td>0</td>\n",
       "      <td>852.0</td>\n",
       "      <td>2.0</td>\n",
       "      <td>0</td>\n",
       "      <td>64.0</td>\n",
       "      <td>1.0</td>\n",
       "    </tr>\n",
       "    <tr>\n",
       "      <th>6</th>\n",
       "      <td>0</td>\n",
       "      <td>0.0</td>\n",
       "      <td>0</td>\n",
       "      <td>0.0</td>\n",
       "      <td>0.0</td>\n",
       "      <td>0</td>\n",
       "      <td>0.0</td>\n",
       "      <td>0.0</td>\n",
       "    </tr>\n",
       "    <tr>\n",
       "      <th>7</th>\n",
       "      <td>0</td>\n",
       "      <td>0.0</td>\n",
       "      <td>0</td>\n",
       "      <td>0.0</td>\n",
       "      <td>0.0</td>\n",
       "      <td>0</td>\n",
       "      <td>0.0</td>\n",
       "      <td>0.0</td>\n",
       "    </tr>\n",
       "  </tbody>\n",
       "</table>\n",
       "</div>"
      ],
      "text/plain": [
       "loan_status_y  0        1  2      3    4  5     6     7\n",
       "loan_status_x                                          \n",
       "0              0  0.0      0  0.0    0.0  0  0.0   0.0 \n",
       "1              0  5162.0   0  219.0  1.0  0  8.0   21.0\n",
       "2              0  0.0      0  0.0    0.0  0  0.0   0.0 \n",
       "3              0  0.0      0  48.0   0.0  0  1.0   0.0 \n",
       "4              0  0.0      0  0.0    0.0  0  0.0   0.0 \n",
       "5              0  20644.0  0  852.0  2.0  0  64.0  1.0 \n",
       "6              0  0.0      0  0.0    0.0  0  0.0   0.0 \n",
       "7              0  0.0      0  0.0    0.0  0  0.0   0.0 "
      ]
     },
     "execution_count": 49,
     "metadata": {},
     "output_type": "execute_result"
    }
   ],
   "source": [
    "transition_counts_per_month[0]"
   ]
  },
  {
   "cell_type": "code",
   "execution_count": 50,
   "metadata": {},
   "outputs": [],
   "source": [
    "n_accounts = df.id.nunique()"
   ]
  },
  {
   "cell_type": "code",
   "execution_count": 51,
   "metadata": {},
   "outputs": [
    {
     "data": {
      "text/plain": [
       "2131441"
      ]
     },
     "execution_count": 51,
     "metadata": {},
     "output_type": "execute_result"
    }
   ],
   "source": [
    "n_accounts"
   ]
  },
  {
   "cell_type": "markdown",
   "metadata": {},
   "source": [
    "### 2.1 MODEL"
   ]
  },
  {
   "cell_type": "code",
   "execution_count": 52,
   "metadata": {},
   "outputs": [],
   "source": [
    "tf.reset_default_graph()\n",
    "sess = tf.InteractiveSession()\n",
    "\n",
    "data = np.array([month_counts.iloc[2,:].values for month_counts in transition_counts_per_month])\n",
    "\n",
    "# MODEL\n",
    "# trying to build a model just for the first row:\n",
    "pi = ed.models.Dirichlet(tf.ones(n_statuses))\n",
    "\n",
    "# TODO define counts for each row\n",
    "# (since there aren't too many rows we can just do a loop instead of using a matrix)\n",
    "# total_count is the number of individual draws for each sample of the multinomial\n",
    "counts = ed.models.Multinomial(total_count=data.sum(axis=1).astype(np.float32), probs=pi)"
   ]
  },
  {
   "cell_type": "markdown",
   "metadata": {},
   "source": [
    "### 2.2 INFERENCE"
   ]
  },
  {
   "cell_type": "markdown",
   "metadata": {},
   "source": [
    "**Note:** In all the edward example they tend to create the variables with tf.get_variable rather than tf.Variable. This will create a new var if no var with the same name already exist, and otherwise re-use the older one. I don't like this that much when experimenting, because it can become a mess, you have to call reset_default_graph often... At least for the Inference part, I created the variables with tf.Var() instead, because we need to overwrite qpi (for example) multiple times:"
   ]
  },
  {
   "cell_type": "markdown",
   "metadata": {},
   "source": [
    "#### 2.2.1 Variational Inference (KLqp)"
   ]
  },
  {
   "cell_type": "markdown",
   "metadata": {},
   "source": [
    "The example I found used tf.nn.softplus, not sure why exactly, need to check..."
   ]
  },
  {
   "cell_type": "markdown",
   "metadata": {},
   "source": [
    "The inference.run() method for KLqp takes as input n_samples = Number of samples from variational model for calculating stochastic gradients. I left it to 1 for now (default)."
   ]
  },
  {
   "cell_type": "code",
   "execution_count": 53,
   "metadata": {},
   "outputs": [
    {
     "name": "stderr",
     "output_type": "stream",
     "text": [
      "/Users/jeromekafrouni/.pyenv/versions/3.6.1/envs/prob-prog/lib/python3.6/site-packages/edward/util/random_variables.py:52: FutureWarning: Conversion of the second argument of issubdtype from `float` to `np.floating` is deprecated. In future, it will be treated as `np.float64 == np.dtype(float).type`.\n",
      "  not np.issubdtype(value.dtype, np.float) and \\\n"
     ]
    },
    {
     "name": "stdout",
     "output_type": "stream",
     "text": [
      "500/500 [100%] ██████████████████████████████ Elapsed: 1s | Loss: 5782.331\n",
      "Inferred pi: [0.7548411  0.02239267 0.07160637 0.01922306 0.01932448 0.01507482\n",
      " 0.02894686 0.06859059]\n"
     ]
    }
   ],
   "source": [
    "# qpi = ed.models.Dirichlet(tf.nn.softplus(tf.get_variable(\"qpi/concentration\", [n_statuses])), name=\"qpi\")\n",
    "qpi = ed.models.Dirichlet(\n",
    "    tf.nn.softplus(tf.Variable(name=\"qpi/concentration\",\n",
    "                               expected_shape=[n_statuses],\n",
    "                               initial_value=tf.constant(1.0/n_statuses, shape=[n_statuses]))), name=\"qpi\")\n",
    "\n",
    "inference = ed.KLqp({pi: qpi}, data={counts: data})\n",
    "inference.run(n_iter=500)\n",
    "\n",
    "# CRITICISM\n",
    "print(\"Inferred pi: {}\".format(sess.run(qpi.mean())))"
   ]
  },
  {
   "cell_type": "markdown",
   "metadata": {},
   "source": [
    "Once, I got it to randomly converge to this: [0.66669214 0.02093365 0.10725855 0.01944017 0.06792089 0.04235639 0.04178157 0.03361673]"
   ]
  },
  {
   "cell_type": "markdown",
   "metadata": {},
   "source": [
    "Without tf.nn.softplus, same:"
   ]
  },
  {
   "cell_type": "code",
   "execution_count": 54,
   "metadata": {},
   "outputs": [
    {
     "name": "stdout",
     "output_type": "stream",
     "text": [
      "500/500 [100%] ██████████████████████████████ Elapsed: 1s | Loss: 26495.760\n",
      "Inferred pi: [0.22504617 0.15220492 0.08478747 0.08997159 0.12081517 0.06958628\n",
      " 0.13417296 0.12341552]\n"
     ]
    }
   ],
   "source": [
    "# qpi = ed.models.Dirichlet(tf.get_variable(\"qpi/concentration\", [n_statuses]), name=\"qpi\")\n",
    "qpi = ed.models.Dirichlet(tf.Variable(name=\"qpi/concentration\",\n",
    "                               expected_shape=[n_statuses],\n",
    "                               initial_value=tf.constant(1.0/n_statuses, shape=[n_statuses])), name=\"qpi\")\n",
    "\n",
    "inference = ed.KLqp({pi: qpi}, data={counts: data})\n",
    "inference.run(n_iter=500)\n",
    "\n",
    "# CRITICISM\n",
    "print(\"Inferred pi: {}\".format(sess.run(qpi.mean())))"
   ]
  },
  {
   "cell_type": "markdown",
   "metadata": {},
   "source": [
    "Sometimes it converges to nan loss and nan qpi, sometimes it converges to bad results... need to figure this out"
   ]
  },
  {
   "cell_type": "markdown",
   "metadata": {},
   "source": [
    "#### 2.2.2 MCMC: HMC (\"black box\" Monte Carlo)"
   ]
  },
  {
   "cell_type": "markdown",
   "metadata": {},
   "source": [
    "This fails, the error is related to https://github.com/blei-lab/edward/issues/785.\n",
    "I think the error is linked to the fact that dirichlet is actually defined in a k-1 dimensional space (because vectors need to sum up to 1).\n",
    "\n",
    "In Edward MCMC requires that latent vars have \"unconstrained support\" (see edward/inferences/hmc.py). They say that setting auto_transform=True should make the vars unconstrained and fix the problem...\n",
    "\n",
    "About auto_transform: *Automated transformations provide convenient handling of constrained continuous variables during inference by transforming them to an unconstrained space. Automated transformations are crucial for expanding the scope of algorithm classes such as gradient-based Monte Carlo and variational inference with reparameterization gradients.*\n",
    "\n",
    "But it doesn't seem to work..."
   ]
  },
  {
   "cell_type": "code",
   "execution_count": null,
   "metadata": {},
   "outputs": [],
   "source": [
    "T = 5000 # number of posterior samples => the \"M\" in our lecture on MCMC (length of MC used for inference)\n",
    "\n",
    "# the approximating family has to be an empirical distribution in MCMC:\n",
    "# qpi = ed.models.Empirical(params=tf.get_variable(\"qpi/params\", [T, n_statuses],\n",
    "#       initializer=tf.constant_initializer(1.0 / n_statuses))) # initialize as uniform probs\n",
    "qpi = ed.models.Empirical(tf.Variable(name=\"qpi/params\", expected_shape=[T, n_statuses],\n",
    "                                      initial_value=tf.constant(1.0/n_statuses, shape=[T, n_statuses])))\n",
    "\n",
    "inference = ed.inferences.HMC(latent_vars={pi: qpi}, data={counts: data}) # passing auto_transform fails\n",
    "inference.run(step_size=1e-3)\n",
    "\n",
    "# CRITICISM\n",
    "print(\"Inferred pi: {}\".format(sess.run(qpi.mean()))) "
   ]
  },
  {
   "cell_type": "markdown",
   "metadata": {},
   "source": [
    "**MCMC: Gibbs**"
   ]
  },
  {
   "cell_type": "markdown",
   "metadata": {},
   "source": [
    "We define qpi similarly as for HMC (Empirical)"
   ]
  },
  {
   "cell_type": "code",
   "execution_count": 55,
   "metadata": {},
   "outputs": [
    {
     "name": "stdout",
     "output_type": "stream",
     "text": [
      "5000/5000 [100%] ██████████████████████████████ Elapsed: 8s | Acceptance Rate: 1.000\n",
      "Inferred pi: [9.19138551e-01 4.47059423e-03 5.78967817e-02 2.74759904e-03\n",
      " 1.99671213e-05 1.99579590e-05 1.21376645e-04 1.55859394e-02]\n"
     ]
    }
   ],
   "source": [
    "T = 5000 # number of posterior samples => the \"M\" in our lecture on MCMC (length of MC used for inference)\n",
    "\n",
    "# the approximating family has to be an empirical distribution in MCMC:\n",
    "# qpi = ed.models.Empirical(params=tf.get_variable(\"qpi/params\", [T, n_statuses],\n",
    "#       initializer=tf.constant_initializer(1.0 / n_statuses))) # initialize as uniform probs\n",
    "qpi = ed.models.Empirical(tf.Variable(name=\"qpi/params\", expected_shape=[T, n_statuses],\n",
    "                                      initial_value=tf.constant(1.0/n_statuses, shape=[T, n_statuses])))\n",
    "\n",
    "# self.qu = ed.models.Empirical(params=tf.Variable(tf.zeros([n_iter, self.N, self.K]), name=\"qu\"))\n",
    "inference = ed.inferences.Gibbs(latent_vars={pi: qpi}, data={counts: data})\n",
    "inference.run()\n",
    "\n",
    "# CRITICISM\n",
    "print(\"Inferred pi: {}\".format(sess.run(qpi.mean()))) "
   ]
  },
  {
   "cell_type": "markdown",
   "metadata": {},
   "source": [
    "These results seem pretty good so that's promising!"
   ]
  },
  {
   "cell_type": "markdown",
   "metadata": {},
   "source": [
    "Next steps:\n",
    "- Figure out with HMC fails\n",
    "- Figure out why KLqp fails (but maybe we can leave that for later)\n",
    "- Run Gibbs but for the full model i.e. one multinomial per row, with a list of variables\n",
    "- Run Gibbs for the full model but with a matrix\n",
    "\n",
    "- Develop our model more\n",
    "- Stop using the multinomial model and formalize directly as a Markov Model, as in https://github.com/blei-lab/edward/issues/450.\n",
    "- Think about criticism"
   ]
  },
  {
   "cell_type": "markdown",
   "metadata": {},
   "source": [
    "### 3. Bayesian Estimation, Markov Chain"
   ]
  },
  {
   "cell_type": "code",
   "execution_count": null,
   "metadata": {},
   "outputs": [],
   "source": []
  }
 ],
 "metadata": {
  "kernelspec": {
   "display_name": "Python 3",
   "language": "python",
   "name": "python3"
  },
  "language_info": {
   "codemirror_mode": {
    "name": "ipython",
    "version": 3
   },
   "file_extension": ".py",
   "mimetype": "text/x-python",
   "name": "python",
   "nbconvert_exporter": "python",
   "pygments_lexer": "ipython3",
   "version": "3.6.1"
  }
 },
 "nbformat": 4,
 "nbformat_minor": 2
}
