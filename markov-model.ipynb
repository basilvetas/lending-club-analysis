{
 "cells": [
  {
   "cell_type": "markdown",
   "metadata": {},
   "source": [
    "## Homogenous (stationary) Markov Chain Implementation in Edward"
   ]
  },
  {
   "cell_type": "markdown",
   "metadata": {},
   "source": [
    "### Package Imports and Options"
   ]
  },
  {
   "cell_type": "code",
   "execution_count": 7,
   "metadata": {},
   "outputs": [],
   "source": [
    "from os import getcwd\n",
    "import glob\n",
    "from pprint import pprint\n",
    "\n",
    "import pandas as pd\n",
    "import numpy as np\n",
    "from sklearn import preprocessing\n",
    "\n",
    "%matplotlib inline\n",
    "import matplotlib.pyplot as plt\n",
    "import seaborn as sns\n",
    "import missingno as msno\n",
    "\n",
    "import tensorflow as tf\n",
    "import edward as ed\n",
    "from edward.models import Bernoulli, Categorical, Normal"
   ]
  },
  {
   "cell_type": "code",
   "execution_count": 2,
   "metadata": {},
   "outputs": [],
   "source": [
    "pd.set_option('display.max_columns', 200)\n",
    "pd.set_option('display.max_rows', 200)\n",
    "pd.set_option('display.max_colwidth', -1)"
   ]
  },
  {
   "cell_type": "markdown",
   "metadata": {},
   "source": [
    "### Load Data"
   ]
  },
  {
   "cell_type": "code",
   "execution_count": 4,
   "metadata": {},
   "outputs": [],
   "source": [
    "dic = pd.read_excel('data/LCDataDictionary.xlsx')"
   ]
  },
  {
   "cell_type": "code",
   "execution_count": 5,
   "metadata": {},
   "outputs": [],
   "source": [
    "csv_files = glob.glob(f'{getcwd()}/data/*.csv')\n",
    "df_raw = pd.concat((pd.read_csv(f, header=1, low_memory=False) for f in csv_files))"
   ]
  },
  {
   "cell_type": "code",
   "execution_count": 6,
   "metadata": {},
   "outputs": [],
   "source": [
    "df = df_raw"
   ]
  },
  {
   "cell_type": "code",
   "execution_count": null,
   "metadata": {},
   "outputs": [],
   "source": [
    "# resources\n",
    "# http://www.utstat.toronto.edu/~rsalakhu/sta4273/notes/Lecture11.pdf\n",
    "# https://github.com/blei-lab/edward/issues/450\n",
    "# https://gist.github.com/fredcallaway/c7252b6326dfb502e70cad4146731aef\n",
    "# https://discourse.edwardlib.org/t/a-simple-tensorflow-implementation-of-forward-backward/67\n",
    "# https://gist.github.com/currymj/e903644c4e54e35fdb858c94f1631fe4"
   ]
  },
  {
   "cell_type": "code",
   "execution_count": null,
   "metadata": {},
   "outputs": [],
   "source": [
    "# experimenting with: https://gist.github.com/fredcallaway/c7252b6326dfb502e70cad4146731aef\n",
    "def categorical(ps):\n",
    "    return Categorical(logits=ed.logit(ps)).value()\n",
    "\n",
    "def flip(p):\n",
    "    return tf.equal(Bernoulli(p=p), tf.constant(1))\n",
    "\n",
    "def append(lst, x):\n",
    "    return tf.concat(0, [lst, [x]])\n",
    "\n",
    "class HMM(object):\n",
    "    \"\"\"A Hidden Markov Model.\"\"\"\n",
    "\n",
    "    def step(self, state):\n",
    "        \"\"\"Returns a new state following `state`.\"\"\"\n",
    "        raise NotImplementedError()\n",
    "\n",
    "    def emit(self, state):\n",
    "        \"\"\"Returns an observable emission from `state`.\"\"\"\n",
    "        raise NotImplementedError()\n",
    "\n",
    "    def init(self):\n",
    "        \"\"\"Returns an intial state.\"\"\"\n",
    "        raise NotImplementedError()\n",
    "\n",
    "    def final(self, state):\n",
    "        \"\"\"Returns true if the model should stop in `state`.\"\"\"\n",
    "        raise NotImplementedError()\n",
    "    \n",
    "    def sample(self):\n",
    "        def cond(states, emissions):\n",
    "            s0 = states[-1]\n",
    "            return self.final(s0) # TODO not final\n",
    "        \n",
    "        def body(states, emissions):\n",
    "            s0 = states[-1]\n",
    "            s1 = self.step(s0)\n",
    "            e1 = self.emit(s1)\n",
    "            return append(states, s1), append(emissions, e1)\n",
    "\n",
    "        s0 = self.init()\n",
    "        e0 = self.emit(s0)\n",
    "        states = tf.convert_to_tensor([s0])\n",
    "        emissions = tf.convert_to_tensor([e0])\n",
    "        return tf.while_loop(\n",
    "            cond, body, \n",
    "            loop_vars=[states, emissions],\n",
    "            shape_invariants=[tf.TensorShape(None), tf.TensorShape(None)]\n",
    "        )\n",
    "\n",
    "\n",
    "class DiscreteGaussianHMM(HMM):\n",
    "    \"\"\"HMM with discrete transitions and gaussian emissions.\"\"\"\n",
    "    def __init__(self, P, mu, sigma, p_init, p_final):\n",
    "        super().__init__()\n",
    "        self.P = P\n",
    "        self.mu = mu\n",
    "        self.sigma = sigma\n",
    "        self.p_init = p_init\n",
    "        self.p_final = p_final\n",
    "\n",
    "    def step(self, state):\n",
    "        return categorical(self.P[state])\n",
    "\n",
    "    def emit(self, state):\n",
    "        return Normal(mu=self.mu[state], sigma=self.sigma[state]).value()\n",
    "\n",
    "    def init(self):\n",
    "        return categorical(self.p_init)\n",
    "\n",
    "    def final(self, state):\n",
    "        return flip(1 - tf.gather(self.p_final, state))\n",
    "      \n",
    "\n",
    "def demo():\n",
    "    import matplotlib.pyplot as plt\n",
    "\n",
    "    P = tf.constant(np.array([\n",
    "        [.6, .4],\n",
    "        [.2, .8],\n",
    "    ], dtype='float32'))\n",
    "    mu = tf.constant([5., -5.])\n",
    "    sigma = tf.constant([1., 1.])\n",
    "    model = DiscreteGaussianHMM(P, mu, sigma, [0.5, 0.5], [0.02, 0.02])\n",
    "\n",
    "    sess = ed.get_session()\n",
    "    emissions = [sess.run(model.sample()[1]) for _ in range(3)]\n",
    "    for e in emissions:\n",
    "        plt.plot(e)\n",
    "    plt.show()"
   ]
  }
 ],
 "metadata": {
  "kernelspec": {
   "display_name": "MLPP Lending Club",
   "language": "python",
   "name": "lending-club-analysis-iuojzap3"
  },
  "language_info": {
   "codemirror_mode": {
    "name": "ipython",
    "version": 3
   },
   "file_extension": ".py",
   "mimetype": "text/x-python",
   "name": "python",
   "nbconvert_exporter": "python",
   "pygments_lexer": "ipython3",
   "version": "3.6.5"
  }
 },
 "nbformat": 4,
 "nbformat_minor": 2
}
