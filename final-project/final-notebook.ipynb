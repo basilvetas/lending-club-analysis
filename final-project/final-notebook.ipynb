{
 "cells": [
  {
   "cell_type": "markdown",
   "metadata": {},
   "source": [
    "# Modeling Personal Loan Delinquency with LendingClub Data"
   ]
  },
  {
   "cell_type": "markdown",
   "metadata": {},
   "source": [
    "## Data"
   ]
  },
  {
   "cell_type": "code",
   "execution_count": 1,
   "metadata": {},
   "outputs": [
    {
     "name": "stdout",
     "output_type": "stream",
     "text": [
      "WARNING:tensorflow:From /Users/basilvetas/.local/share/virtualenvs/lending-club-analysis-iUojZaP3/lib/python3.6/site-packages/tensorflow/contrib/learn/python/learn/datasets/base.py:198: retry (from tensorflow.contrib.learn.python.learn.datasets.base) is deprecated and will be removed in a future version.\n",
      "Instructions for updating:\n",
      "Use the retry module or similar alternatives.\n"
     ]
    }
   ],
   "source": [
    "from utils.utils import load_dataframe, preprocess, split_data\n",
    "from utils.models import build_mle_matrix, build_mc_no_priors, build_mc_with_priors\n",
    "from utils.inference import compute_mle, infer_mc_no_priors, infer_mc_with_priors"
   ]
  },
  {
   "cell_type": "code",
   "execution_count": null,
   "metadata": {},
   "outputs": [
    {
     "name": "stdout",
     "output_type": "stream",
     "text": [
      "Loading raw data from cache...\n",
      "Retrieved 40,268,594 rows, 4 columns in 2.69 seconds\n"
     ]
    }
   ],
   "source": [
    "df = load_dataframe()"
   ]
  },
  {
   "cell_type": "markdown",
   "metadata": {},
   "source": [
    "Our variable of interest is called `loan_status` which has eight possible states. These are the Loan Status Descriptions from the LendingClub [website](https://help.lendingclub.com/hc/en-us/articles/215488038-What-do-the-different-Note-statuses-mean-):\n",
    "\n",
    "- **Current**: Loan is up to date on all outstanding payments. \n",
    "\n",
    "- **Fully paid**: Loan has been fully repaid, either at the expiration of the 3- or 5-year year term or as a result of a prepayment.\n",
    " \n",
    "- **Late (16-30)**: Loan has not been current for 16 to 30 days. Learn more about the tools LendingClub has to deal with delinquent borrowers.\n",
    " \n",
    "- **Late (31-120)**: Loan has not been current for 31 to 120 days. Learn more about the tools LendingClub has to deal with delinquent borrowers.\n",
    " \n",
    "- **Charged Off**: Loan for which there is no longer a reasonable expectation of further payments. Upon Charge Off, the remaining principal balance of the Note is deducted from the account balance. Charge Off typically occurs when a loan is 120 days or more past due and there is no reasonable expectation of sufficient payment to prevent the charge off. Loans for which borrowers have filed for bankruptcy may be charged off earlier based on the date of bankruptcy notification. \n",
    "\n",
    "- **Default**: Loan has not been current for an extended period of time. More about the difference between Default and Charged Off [here](https://help.lendingclub.com/hc/en-us/articles/216127747)\n",
    "\n",
    "- **In Grace Period**: Loan is past due but within the 15-day grace period. \n",
    "\n",
    "- **Issued**: New loan that has passed all LendingClub reviews, received full funding, and has been issued."
   ]
  },
  {
   "cell_type": "code",
   "execution_count": null,
   "metadata": {},
   "outputs": [
    {
     "name": "stdout",
     "output_type": "stream",
     "text": [
      "Mapping column names...\n",
      "Loading preprocessed data from cache...\n"
     ]
    }
   ],
   "source": [
    "df = preprocess(df)"
   ]
  },
  {
   "cell_type": "code",
   "execution_count": null,
   "metadata": {},
   "outputs": [],
   "source": [
    "x_train, x_test = split_data(df)"
   ]
  },
  {
   "cell_type": "markdown",
   "metadata": {},
   "source": [
    "## Experiment 1: Markov Model with Maximum Likelihood Estimates"
   ]
  },
  {
   "cell_type": "markdown",
   "metadata": {},
   "source": [
    "The MLE solution of a Markov Chain is simply the empirical frequencies of each transition. Even though we want to solve the problem from a Bayesian perspective, it's good to look at this estimate and have it in mind later."
   ]
  },
  {
   "cell_type": "markdown",
   "metadata": {},
   "source": [
    "### 1.1 Model"
   ]
  },
  {
   "cell_type": "code",
   "execution_count": 5,
   "metadata": {},
   "outputs": [
    {
     "name": "stdout",
     "output_type": "stream",
     "text": [
      "Loading transition matrix from hdf5 cache...\n",
      "Fetching transition matrix took 0.01 seconds\n"
     ]
    }
   ],
   "source": [
    "realized_transitions = build_mle_matrix(df)"
   ]
  },
  {
   "cell_type": "code",
   "execution_count": 6,
   "metadata": {},
   "outputs": [
    {
     "data": {
      "text/html": [
       "<div>\n",
       "<style scoped>\n",
       "    .dataframe tbody tr th:only-of-type {\n",
       "        vertical-align: middle;\n",
       "    }\n",
       "\n",
       "    .dataframe tbody tr th {\n",
       "        vertical-align: top;\n",
       "    }\n",
       "\n",
       "    .dataframe thead th {\n",
       "        text-align: right;\n",
       "    }\n",
       "</style>\n",
       "<table border=\"1\" class=\"dataframe\">\n",
       "  <thead>\n",
       "    <tr style=\"text-align: right;\">\n",
       "      <th></th>\n",
       "      <th>Charged Off</th>\n",
       "      <th>Current</th>\n",
       "      <th>Default</th>\n",
       "      <th>Fully Paid</th>\n",
       "      <th>In Grace Period</th>\n",
       "      <th>Issued</th>\n",
       "      <th>Late (16-30 days)</th>\n",
       "      <th>Late (31-120 days)</th>\n",
       "    </tr>\n",
       "  </thead>\n",
       "  <tbody>\n",
       "    <tr>\n",
       "      <th>Charged Off</th>\n",
       "      <td>0</td>\n",
       "      <td>0</td>\n",
       "      <td>0</td>\n",
       "      <td>0</td>\n",
       "      <td>0</td>\n",
       "      <td>0</td>\n",
       "      <td>0</td>\n",
       "      <td>0</td>\n",
       "    </tr>\n",
       "    <tr>\n",
       "      <th>Current</th>\n",
       "      <td>774</td>\n",
       "      <td>24453702</td>\n",
       "      <td>3</td>\n",
       "      <td>707322</td>\n",
       "      <td>5831</td>\n",
       "      <td>0</td>\n",
       "      <td>160366</td>\n",
       "      <td>62102</td>\n",
       "    </tr>\n",
       "    <tr>\n",
       "      <th>Default</th>\n",
       "      <td>28897</td>\n",
       "      <td>147</td>\n",
       "      <td>2297</td>\n",
       "      <td>71</td>\n",
       "      <td>0</td>\n",
       "      <td>0</td>\n",
       "      <td>4</td>\n",
       "      <td>506</td>\n",
       "    </tr>\n",
       "    <tr>\n",
       "      <th>Fully Paid</th>\n",
       "      <td>0</td>\n",
       "      <td>0</td>\n",
       "      <td>0</td>\n",
       "      <td>8063</td>\n",
       "      <td>12</td>\n",
       "      <td>0</td>\n",
       "      <td>101</td>\n",
       "      <td>72</td>\n",
       "    </tr>\n",
       "    <tr>\n",
       "      <th>In Grace Period</th>\n",
       "      <td>0</td>\n",
       "      <td>276</td>\n",
       "      <td>0</td>\n",
       "      <td>11</td>\n",
       "      <td>22</td>\n",
       "      <td>0</td>\n",
       "      <td>59</td>\n",
       "      <td>41</td>\n",
       "    </tr>\n",
       "    <tr>\n",
       "      <th>Issued</th>\n",
       "      <td>0</td>\n",
       "      <td>17206</td>\n",
       "      <td>0</td>\n",
       "      <td>670</td>\n",
       "      <td>1</td>\n",
       "      <td>0</td>\n",
       "      <td>38</td>\n",
       "      <td>1</td>\n",
       "    </tr>\n",
       "    <tr>\n",
       "      <th>Late (16-30 days)</th>\n",
       "      <td>4548</td>\n",
       "      <td>32376</td>\n",
       "      <td>0</td>\n",
       "      <td>2066</td>\n",
       "      <td>257</td>\n",
       "      <td>0</td>\n",
       "      <td>13413</td>\n",
       "      <td>119621</td>\n",
       "    </tr>\n",
       "    <tr>\n",
       "      <th>Late (31-120 days)</th>\n",
       "      <td>105934</td>\n",
       "      <td>25434</td>\n",
       "      <td>29802</td>\n",
       "      <td>2146</td>\n",
       "      <td>56</td>\n",
       "      <td>0</td>\n",
       "      <td>3292</td>\n",
       "      <td>332762</td>\n",
       "    </tr>\n",
       "  </tbody>\n",
       "</table>\n",
       "</div>"
      ],
      "text/plain": [
       "                    Charged Off   Current  Default  Fully Paid  \\\n",
       "Charged Off                   0         0        0           0   \n",
       "Current                     774  24453702        3      707322   \n",
       "Default                   28897       147     2297          71   \n",
       "Fully Paid                    0         0        0        8063   \n",
       "In Grace Period               0       276        0          11   \n",
       "Issued                        0     17206        0         670   \n",
       "Late (16-30 days)          4548     32376        0        2066   \n",
       "Late (31-120 days)       105934     25434    29802        2146   \n",
       "\n",
       "                    In Grace Period  Issued  Late (16-30 days)  \\\n",
       "Charged Off                       0       0                  0   \n",
       "Current                        5831       0             160366   \n",
       "Default                           0       0                  4   \n",
       "Fully Paid                       12       0                101   \n",
       "In Grace Period                  22       0                 59   \n",
       "Issued                            1       0                 38   \n",
       "Late (16-30 days)               257       0              13413   \n",
       "Late (31-120 days)               56       0               3292   \n",
       "\n",
       "                    Late (31-120 days)  \n",
       "Charged Off                          0  \n",
       "Current                          62102  \n",
       "Default                            506  \n",
       "Fully Paid                          72  \n",
       "In Grace Period                     41  \n",
       "Issued                               1  \n",
       "Late (16-30 days)               119621  \n",
       "Late (31-120 days)              332762  "
      ]
     },
     "execution_count": 6,
     "metadata": {},
     "output_type": "execute_result"
    }
   ],
   "source": [
    "realized_transitions"
   ]
  },
  {
   "cell_type": "markdown",
   "metadata": {},
   "source": [
    "### 1.2 Inference"
   ]
  },
  {
   "cell_type": "code",
   "execution_count": 7,
   "metadata": {},
   "outputs": [
    {
     "data": {
      "text/html": [
       "<div>\n",
       "<style scoped>\n",
       "    .dataframe tbody tr th:only-of-type {\n",
       "        vertical-align: middle;\n",
       "    }\n",
       "\n",
       "    .dataframe tbody tr th {\n",
       "        vertical-align: top;\n",
       "    }\n",
       "\n",
       "    .dataframe thead th {\n",
       "        text-align: right;\n",
       "    }\n",
       "</style>\n",
       "<table border=\"1\" class=\"dataframe\">\n",
       "  <thead>\n",
       "    <tr style=\"text-align: right;\">\n",
       "      <th></th>\n",
       "      <th>Charged Off</th>\n",
       "      <th>Current</th>\n",
       "      <th>Default</th>\n",
       "      <th>Fully Paid</th>\n",
       "      <th>In Grace Period</th>\n",
       "      <th>Issued</th>\n",
       "      <th>Late (16-30 days)</th>\n",
       "      <th>Late (31-120 days)</th>\n",
       "    </tr>\n",
       "  </thead>\n",
       "  <tbody>\n",
       "    <tr>\n",
       "      <th>Charged Off</th>\n",
       "      <td>0.00</td>\n",
       "      <td>0.00</td>\n",
       "      <td>0.00</td>\n",
       "      <td>0.00</td>\n",
       "      <td>0.00</td>\n",
       "      <td>0.0</td>\n",
       "      <td>0.00</td>\n",
       "      <td>0.00</td>\n",
       "    </tr>\n",
       "    <tr>\n",
       "      <th>Current</th>\n",
       "      <td>0.00</td>\n",
       "      <td>0.96</td>\n",
       "      <td>0.00</td>\n",
       "      <td>0.03</td>\n",
       "      <td>0.00</td>\n",
       "      <td>0.0</td>\n",
       "      <td>0.01</td>\n",
       "      <td>0.00</td>\n",
       "    </tr>\n",
       "    <tr>\n",
       "      <th>Default</th>\n",
       "      <td>0.91</td>\n",
       "      <td>0.00</td>\n",
       "      <td>0.07</td>\n",
       "      <td>0.00</td>\n",
       "      <td>0.00</td>\n",
       "      <td>0.0</td>\n",
       "      <td>0.00</td>\n",
       "      <td>0.02</td>\n",
       "    </tr>\n",
       "    <tr>\n",
       "      <th>Fully Paid</th>\n",
       "      <td>0.00</td>\n",
       "      <td>0.00</td>\n",
       "      <td>0.00</td>\n",
       "      <td>0.98</td>\n",
       "      <td>0.00</td>\n",
       "      <td>0.0</td>\n",
       "      <td>0.01</td>\n",
       "      <td>0.01</td>\n",
       "    </tr>\n",
       "    <tr>\n",
       "      <th>In Grace Period</th>\n",
       "      <td>0.00</td>\n",
       "      <td>0.67</td>\n",
       "      <td>0.00</td>\n",
       "      <td>0.03</td>\n",
       "      <td>0.05</td>\n",
       "      <td>0.0</td>\n",
       "      <td>0.14</td>\n",
       "      <td>0.10</td>\n",
       "    </tr>\n",
       "    <tr>\n",
       "      <th>Issued</th>\n",
       "      <td>0.00</td>\n",
       "      <td>0.96</td>\n",
       "      <td>0.00</td>\n",
       "      <td>0.04</td>\n",
       "      <td>0.00</td>\n",
       "      <td>0.0</td>\n",
       "      <td>0.00</td>\n",
       "      <td>0.00</td>\n",
       "    </tr>\n",
       "    <tr>\n",
       "      <th>Late (16-30 days)</th>\n",
       "      <td>0.03</td>\n",
       "      <td>0.19</td>\n",
       "      <td>0.00</td>\n",
       "      <td>0.01</td>\n",
       "      <td>0.00</td>\n",
       "      <td>0.0</td>\n",
       "      <td>0.08</td>\n",
       "      <td>0.69</td>\n",
       "    </tr>\n",
       "    <tr>\n",
       "      <th>Late (31-120 days)</th>\n",
       "      <td>0.21</td>\n",
       "      <td>0.05</td>\n",
       "      <td>0.06</td>\n",
       "      <td>0.00</td>\n",
       "      <td>0.00</td>\n",
       "      <td>0.0</td>\n",
       "      <td>0.01</td>\n",
       "      <td>0.67</td>\n",
       "    </tr>\n",
       "  </tbody>\n",
       "</table>\n",
       "</div>"
      ],
      "text/plain": [
       "                    Charged Off  Current  Default  Fully Paid  \\\n",
       "Charged Off                0.00     0.00     0.00        0.00   \n",
       "Current                    0.00     0.96     0.00        0.03   \n",
       "Default                    0.91     0.00     0.07        0.00   \n",
       "Fully Paid                 0.00     0.00     0.00        0.98   \n",
       "In Grace Period            0.00     0.67     0.00        0.03   \n",
       "Issued                     0.00     0.96     0.00        0.04   \n",
       "Late (16-30 days)          0.03     0.19     0.00        0.01   \n",
       "Late (31-120 days)         0.21     0.05     0.06        0.00   \n",
       "\n",
       "                    In Grace Period  Issued  Late (16-30 days)  \\\n",
       "Charged Off                    0.00     0.0               0.00   \n",
       "Current                        0.00     0.0               0.01   \n",
       "Default                        0.00     0.0               0.00   \n",
       "Fully Paid                     0.00     0.0               0.01   \n",
       "In Grace Period                0.05     0.0               0.14   \n",
       "Issued                         0.00     0.0               0.00   \n",
       "Late (16-30 days)              0.00     0.0               0.08   \n",
       "Late (31-120 days)             0.00     0.0               0.01   \n",
       "\n",
       "                    Late (31-120 days)  \n",
       "Charged Off                       0.00  \n",
       "Current                           0.00  \n",
       "Default                           0.02  \n",
       "Fully Paid                        0.01  \n",
       "In Grace Period                   0.10  \n",
       "Issued                            0.00  \n",
       "Late (16-30 days)                 0.69  \n",
       "Late (31-120 days)                0.67  "
      ]
     },
     "execution_count": 7,
     "metadata": {},
     "output_type": "execute_result"
    }
   ],
   "source": [
    "compute_mle(realized_transitions)"
   ]
  },
  {
   "cell_type": "markdown",
   "metadata": {},
   "source": [
    "### 1.3 Criticism"
   ]
  },
  {
   "cell_type": "markdown",
   "metadata": {},
   "source": [
    "## Experiment 2: Stationary Markov Chain without Priors"
   ]
  },
  {
   "cell_type": "code",
   "execution_count": 8,
   "metadata": {},
   "outputs": [],
   "source": [
    "chain_len = max(df.age_of_loan)\n",
    "n_states = df.loan_status.unique().shape[0]"
   ]
  },
  {
   "cell_type": "markdown",
   "metadata": {},
   "source": [
    "### 2.1 Model"
   ]
  },
  {
   "cell_type": "code",
   "execution_count": 9,
   "metadata": {},
   "outputs": [],
   "source": [
    "x, T = build_mc_no_priors(n_states, chain_len)"
   ]
  },
  {
   "cell_type": "markdown",
   "metadata": {},
   "source": [
    "### 2.2 Inference"
   ]
  },
  {
   "cell_type": "code",
   "execution_count": 10,
   "metadata": {},
   "outputs": [
    {
     "name": "stdout",
     "output_type": "stream",
     "text": [
      "20000/20000 [100%] ██████████████████████████████ Elapsed: 107s | Loss: 2.416\n"
     ]
    },
    {
     "data": {
      "text/html": [
       "<div>\n",
       "<style scoped>\n",
       "    .dataframe tbody tr th:only-of-type {\n",
       "        vertical-align: middle;\n",
       "    }\n",
       "\n",
       "    .dataframe tbody tr th {\n",
       "        vertical-align: top;\n",
       "    }\n",
       "\n",
       "    .dataframe thead th {\n",
       "        text-align: right;\n",
       "    }\n",
       "</style>\n",
       "<table border=\"1\" class=\"dataframe\">\n",
       "  <thead>\n",
       "    <tr style=\"text-align: right;\">\n",
       "      <th></th>\n",
       "      <th>Charged Off</th>\n",
       "      <th>Current</th>\n",
       "      <th>Default</th>\n",
       "      <th>Fully Paid</th>\n",
       "      <th>In Grace Period</th>\n",
       "      <th>Issued</th>\n",
       "      <th>Late (16-30 days)</th>\n",
       "      <th>Late (31-120 days)</th>\n",
       "    </tr>\n",
       "  </thead>\n",
       "  <tbody>\n",
       "    <tr>\n",
       "      <th>Charged Off</th>\n",
       "      <td>0.13</td>\n",
       "      <td>0.12</td>\n",
       "      <td>0.13</td>\n",
       "      <td>0.13</td>\n",
       "      <td>0.13</td>\n",
       "      <td>0.13</td>\n",
       "      <td>0.13</td>\n",
       "      <td>0.13</td>\n",
       "    </tr>\n",
       "    <tr>\n",
       "      <th>Current</th>\n",
       "      <td>0.18</td>\n",
       "      <td>0.18</td>\n",
       "      <td>0.17</td>\n",
       "      <td>0.17</td>\n",
       "      <td>0.18</td>\n",
       "      <td>0.17</td>\n",
       "      <td>0.17</td>\n",
       "      <td>0.18</td>\n",
       "    </tr>\n",
       "    <tr>\n",
       "      <th>Default</th>\n",
       "      <td>0.14</td>\n",
       "      <td>0.14</td>\n",
       "      <td>0.14</td>\n",
       "      <td>0.14</td>\n",
       "      <td>0.14</td>\n",
       "      <td>0.14</td>\n",
       "      <td>0.14</td>\n",
       "      <td>0.14</td>\n",
       "    </tr>\n",
       "    <tr>\n",
       "      <th>Fully Paid</th>\n",
       "      <td>0.11</td>\n",
       "      <td>0.11</td>\n",
       "      <td>0.10</td>\n",
       "      <td>0.11</td>\n",
       "      <td>0.10</td>\n",
       "      <td>0.11</td>\n",
       "      <td>0.11</td>\n",
       "      <td>0.10</td>\n",
       "    </tr>\n",
       "    <tr>\n",
       "      <th>In Grace Period</th>\n",
       "      <td>0.11</td>\n",
       "      <td>0.11</td>\n",
       "      <td>0.11</td>\n",
       "      <td>0.11</td>\n",
       "      <td>0.11</td>\n",
       "      <td>0.11</td>\n",
       "      <td>0.11</td>\n",
       "      <td>0.11</td>\n",
       "    </tr>\n",
       "    <tr>\n",
       "      <th>Issued</th>\n",
       "      <td>0.10</td>\n",
       "      <td>0.11</td>\n",
       "      <td>0.10</td>\n",
       "      <td>0.11</td>\n",
       "      <td>0.10</td>\n",
       "      <td>0.11</td>\n",
       "      <td>0.10</td>\n",
       "      <td>0.10</td>\n",
       "    </tr>\n",
       "    <tr>\n",
       "      <th>Late (16-30 days)</th>\n",
       "      <td>0.10</td>\n",
       "      <td>0.10</td>\n",
       "      <td>0.11</td>\n",
       "      <td>0.10</td>\n",
       "      <td>0.10</td>\n",
       "      <td>0.10</td>\n",
       "      <td>0.10</td>\n",
       "      <td>0.11</td>\n",
       "    </tr>\n",
       "    <tr>\n",
       "      <th>Late (31-120 days)</th>\n",
       "      <td>0.14</td>\n",
       "      <td>0.13</td>\n",
       "      <td>0.14</td>\n",
       "      <td>0.13</td>\n",
       "      <td>0.13</td>\n",
       "      <td>0.13</td>\n",
       "      <td>0.13</td>\n",
       "      <td>0.13</td>\n",
       "    </tr>\n",
       "  </tbody>\n",
       "</table>\n",
       "</div>"
      ],
      "text/plain": [
       "                    Charged Off  Current  Default  Fully Paid  \\\n",
       "Charged Off                0.13     0.12     0.13        0.13   \n",
       "Current                    0.18     0.18     0.17        0.17   \n",
       "Default                    0.14     0.14     0.14        0.14   \n",
       "Fully Paid                 0.11     0.11     0.10        0.11   \n",
       "In Grace Period            0.11     0.11     0.11        0.11   \n",
       "Issued                     0.10     0.11     0.10        0.11   \n",
       "Late (16-30 days)          0.10     0.10     0.11        0.10   \n",
       "Late (31-120 days)         0.14     0.13     0.14        0.13   \n",
       "\n",
       "                    In Grace Period  Issued  Late (16-30 days)  \\\n",
       "Charged Off                    0.13    0.13               0.13   \n",
       "Current                        0.18    0.17               0.17   \n",
       "Default                        0.14    0.14               0.14   \n",
       "Fully Paid                     0.10    0.11               0.11   \n",
       "In Grace Period                0.11    0.11               0.11   \n",
       "Issued                         0.10    0.11               0.10   \n",
       "Late (16-30 days)              0.10    0.10               0.10   \n",
       "Late (31-120 days)             0.13    0.13               0.13   \n",
       "\n",
       "                    Late (31-120 days)  \n",
       "Charged Off                       0.13  \n",
       "Current                           0.18  \n",
       "Default                           0.14  \n",
       "Fully Paid                        0.10  \n",
       "In Grace Period                   0.11  \n",
       "Issued                            0.10  \n",
       "Late (16-30 days)                 0.11  \n",
       "Late (31-120 days)                0.13  "
      ]
     },
     "execution_count": 10,
     "metadata": {},
     "output_type": "execute_result"
    }
   ],
   "source": [
    "infer_mc_no_priors(x_train, x, T, n_states, chain_len)"
   ]
  },
  {
   "cell_type": "markdown",
   "metadata": {},
   "source": [
    "### 2.3 Criticism"
   ]
  },
  {
   "cell_type": "markdown",
   "metadata": {},
   "source": [
    "## Experiment 3: Stationary Markov Chain with Priors"
   ]
  },
  {
   "cell_type": "markdown",
   "metadata": {},
   "source": [
    "### 3.1 Model"
   ]
  },
  {
   "cell_type": "code",
   "execution_count": 11,
   "metadata": {},
   "outputs": [],
   "source": [
    "batch_size = 1000"
   ]
  },
  {
   "cell_type": "code",
   "execution_count": 12,
   "metadata": {},
   "outputs": [],
   "source": [
    "x, pi_0, pi_T = build_mc_with_priors(n_states, chain_len, batch_size)"
   ]
  },
  {
   "cell_type": "markdown",
   "metadata": {},
   "source": [
    "### 3.2 Inference (Batch)"
   ]
  },
  {
   "cell_type": "code",
   "execution_count": 13,
   "metadata": {},
   "outputs": [
    {
     "name": "stdout",
     "output_type": "stream",
     "text": [
      "133700/133700 [100%] ██████████████████████████████ Elapsed: 539s | Loss: nan\n"
     ]
    },
    {
     "data": {
      "text/html": [
       "<div>\n",
       "<style scoped>\n",
       "    .dataframe tbody tr th:only-of-type {\n",
       "        vertical-align: middle;\n",
       "    }\n",
       "\n",
       "    .dataframe tbody tr th {\n",
       "        vertical-align: top;\n",
       "    }\n",
       "\n",
       "    .dataframe thead th {\n",
       "        text-align: right;\n",
       "    }\n",
       "</style>\n",
       "<table border=\"1\" class=\"dataframe\">\n",
       "  <thead>\n",
       "    <tr style=\"text-align: right;\">\n",
       "      <th></th>\n",
       "      <th>Charged Off</th>\n",
       "      <th>Current</th>\n",
       "      <th>Default</th>\n",
       "      <th>Fully Paid</th>\n",
       "      <th>In Grace Period</th>\n",
       "      <th>Issued</th>\n",
       "      <th>Late (16-30 days)</th>\n",
       "      <th>Late (31-120 days)</th>\n",
       "    </tr>\n",
       "  </thead>\n",
       "  <tbody>\n",
       "    <tr>\n",
       "      <th>Charged Off</th>\n",
       "      <td>0.10</td>\n",
       "      <td>0.11</td>\n",
       "      <td>0.24</td>\n",
       "      <td>0.04</td>\n",
       "      <td>0.04</td>\n",
       "      <td>0.10</td>\n",
       "      <td>0.28</td>\n",
       "      <td>0.08</td>\n",
       "    </tr>\n",
       "    <tr>\n",
       "      <th>Current</th>\n",
       "      <td>0.03</td>\n",
       "      <td>0.09</td>\n",
       "      <td>0.17</td>\n",
       "      <td>0.15</td>\n",
       "      <td>0.02</td>\n",
       "      <td>0.03</td>\n",
       "      <td>0.31</td>\n",
       "      <td>0.20</td>\n",
       "    </tr>\n",
       "    <tr>\n",
       "      <th>Default</th>\n",
       "      <td>0.01</td>\n",
       "      <td>0.10</td>\n",
       "      <td>0.60</td>\n",
       "      <td>0.00</td>\n",
       "      <td>0.08</td>\n",
       "      <td>0.09</td>\n",
       "      <td>0.02</td>\n",
       "      <td>0.09</td>\n",
       "    </tr>\n",
       "    <tr>\n",
       "      <th>Fully Paid</th>\n",
       "      <td>0.07</td>\n",
       "      <td>0.23</td>\n",
       "      <td>0.21</td>\n",
       "      <td>0.14</td>\n",
       "      <td>0.04</td>\n",
       "      <td>0.01</td>\n",
       "      <td>0.13</td>\n",
       "      <td>0.18</td>\n",
       "    </tr>\n",
       "    <tr>\n",
       "      <th>In Grace Period</th>\n",
       "      <td>0.07</td>\n",
       "      <td>0.22</td>\n",
       "      <td>0.00</td>\n",
       "      <td>0.07</td>\n",
       "      <td>0.21</td>\n",
       "      <td>0.31</td>\n",
       "      <td>0.08</td>\n",
       "      <td>0.05</td>\n",
       "    </tr>\n",
       "    <tr>\n",
       "      <th>Issued</th>\n",
       "      <td>0.04</td>\n",
       "      <td>0.36</td>\n",
       "      <td>0.27</td>\n",
       "      <td>0.10</td>\n",
       "      <td>0.01</td>\n",
       "      <td>0.11</td>\n",
       "      <td>0.00</td>\n",
       "      <td>0.12</td>\n",
       "    </tr>\n",
       "    <tr>\n",
       "      <th>Late (16-30 days)</th>\n",
       "      <td>0.08</td>\n",
       "      <td>0.21</td>\n",
       "      <td>0.01</td>\n",
       "      <td>0.26</td>\n",
       "      <td>0.17</td>\n",
       "      <td>0.15</td>\n",
       "      <td>0.09</td>\n",
       "      <td>0.04</td>\n",
       "    </tr>\n",
       "    <tr>\n",
       "      <th>Late (31-120 days)</th>\n",
       "      <td>0.06</td>\n",
       "      <td>0.22</td>\n",
       "      <td>0.04</td>\n",
       "      <td>0.07</td>\n",
       "      <td>0.05</td>\n",
       "      <td>0.14</td>\n",
       "      <td>0.13</td>\n",
       "      <td>0.31</td>\n",
       "    </tr>\n",
       "  </tbody>\n",
       "</table>\n",
       "</div>"
      ],
      "text/plain": [
       "                    Charged Off  Current  Default  Fully Paid  \\\n",
       "Charged Off                0.10     0.11     0.24        0.04   \n",
       "Current                    0.03     0.09     0.17        0.15   \n",
       "Default                    0.01     0.10     0.60        0.00   \n",
       "Fully Paid                 0.07     0.23     0.21        0.14   \n",
       "In Grace Period            0.07     0.22     0.00        0.07   \n",
       "Issued                     0.04     0.36     0.27        0.10   \n",
       "Late (16-30 days)          0.08     0.21     0.01        0.26   \n",
       "Late (31-120 days)         0.06     0.22     0.04        0.07   \n",
       "\n",
       "                    In Grace Period  Issued  Late (16-30 days)  \\\n",
       "Charged Off                    0.04    0.10               0.28   \n",
       "Current                        0.02    0.03               0.31   \n",
       "Default                        0.08    0.09               0.02   \n",
       "Fully Paid                     0.04    0.01               0.13   \n",
       "In Grace Period                0.21    0.31               0.08   \n",
       "Issued                         0.01    0.11               0.00   \n",
       "Late (16-30 days)              0.17    0.15               0.09   \n",
       "Late (31-120 days)             0.05    0.14               0.13   \n",
       "\n",
       "                    Late (31-120 days)  \n",
       "Charged Off                       0.08  \n",
       "Current                           0.20  \n",
       "Default                           0.09  \n",
       "Fully Paid                        0.18  \n",
       "In Grace Period                   0.05  \n",
       "Issued                            0.12  \n",
       "Late (16-30 days)                 0.04  \n",
       "Late (31-120 days)                0.31  "
      ]
     },
     "execution_count": 13,
     "metadata": {},
     "output_type": "execute_result"
    }
   ],
   "source": [
    "infer_mc_with_priors(x_train, x, pi_0, pi_T, n_states, chain_len, batch_size)"
   ]
  },
  {
   "cell_type": "markdown",
   "metadata": {},
   "source": [
    "### 3.3 Criticism"
   ]
  },
  {
   "cell_type": "code",
   "execution_count": null,
   "metadata": {},
   "outputs": [],
   "source": []
  }
 ],
 "metadata": {
  "kernelspec": {
   "display_name": "MLPP Lending Club",
   "language": "python",
   "name": "lending-club-analysis-iuojzap3"
  },
  "language_info": {
   "codemirror_mode": {
    "name": "ipython",
    "version": 3
   },
   "file_extension": ".py",
   "mimetype": "text/x-python",
   "name": "python",
   "nbconvert_exporter": "python",
   "pygments_lexer": "ipython3",
   "version": "3.6.5"
  }
 },
 "nbformat": 4,
 "nbformat_minor": 2
}
