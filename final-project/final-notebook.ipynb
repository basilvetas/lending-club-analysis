{
 "cells": [
  {
   "cell_type": "markdown",
   "metadata": {},
   "source": [
    "# Modeling Personal Loan Delinquency with LendingClub Data"
   ]
  },
  {
   "cell_type": "markdown",
   "metadata": {},
   "source": [
    "The domain of our project is peer-to-peer consumer lending. Our goal is to model credit risk on personal loans, more precisely to evaluate the probability of default or delinquency of borrowers during their loan period.\n",
    "\n",
    "LendingClub loans are made over either a 36 or 60 month term, with a variety of statistics reported about each unique loan on a monthly basis (our analysis focuses on the 36 month terms). Our variable of interest is called `loan_status` which has eight possible states. We attempt to model credit risk by estimating the probability of a loan transitioning between any two of these states at any month during the loan term. Below are the eight `loan_status` states, with descriptions from LendingClub's [website](https://help.lendingclub.com/hc/en-us/articles/215488038-What-do-the-different-Note-statuses-mean-):\n",
    "\n",
    "- **Issued**: New loan that has passed all LendingClub reviews, received full funding, and has been issued.\n",
    "\n",
    "- **Current**: Loan is up to date on all outstanding payments. \n",
    "\n",
    "- **In Grace Period**: Loan payment is late, but within the 15-day grace period.\n",
    " \n",
    "- **Late (16-30)**: Loan is late, past the grace period, hasn't been current for 16 to 30 days.\n",
    " \n",
    "- **Late (31-120)**: Loan has not been current for 31 to 120 days.\n",
    " \n",
    "- **Charged Off**: Loan for which there is no longer a reasonable expectation of further payments. Charge Off typically occurs when a loan is 120 days or more past due and there is no reasonable expectation of sufficient payment to prevent the charge off. Loans for which borrowers have filed for bankruptcy may be charged off earlier.\n",
    "\n",
    "- **Default**: Loan has not been current for an extended period of time. Charged off and default states are similar, yet different. [TODO explain]\n",
    "\n",
    "- **Fully paid**: Loan has been fully repaid, either at the expiration of the 3- or 5-year year term or as a result of a prepayment.\n",
    "\n",
    "To model the transition states month over month, we employed a stationary discrete time step Markov Chain model. Discrete because our data is on a monthly basis, and stationary because we assume the probability distribution of  transition is independent of time (we use the same model across all month). Recall the Markov property, or the \"memoryless\" assumption, that for some sequence of events, that the conditional probability of the next time step $x_t$ depends only upon the previous time step $x_{t-1}$, ignoring all time steps that preceded it:\n",
    "\n",
    "$$\n",
    "\\begin{align*}\n",
    "p(X_t = x_t | X_{t-1} = x_{t-1}, X_{t-2} = x_{t-2}, ... , X_0 = x_0) = p(X_t = x_t | X_{t-1})\n",
    "\\end{align*}\n",
    "$$\n",
    "\n",
    "For a discrete time Markov Chain, the joint distribution for the probability of some sequence length $T$ can then be written as:\n",
    "\n",
    "$$\n",
    "\\begin{align*}\n",
    "p(X_{1:T}) = p(X_1)p(X_2 | X_1) p(X_3 | X_2) ... = p(X_1)\\prod_{t=2}^{T}p(X_t | X_{t-1})\n",
    "\\end{align*}\n",
    "$$\n",
    "\n",
    "[Murphy, 2012, p. 589](#References)\n",
    "\n",
    "For $K$ outcome states, the conditional distribution $p(X_t | X_{t-1})$ can be written as a $K \\times K$ transition matrix (denoted $A$) where $A_jk  = p(X_t = k | X_{t-1} = j)$ (the probability of transitioning from states $j$ to state $k$, where each row in the matrix can be thought of as a probability mass function). In our case $K=8$ and we have an $8 \\times 8$ transition matrix. The goal of our analysis, then, is to estimate the posterior probabilities of this transition matrix using our observed data."
   ]
  },
  {
   "cell_type": "markdown",
   "metadata": {},
   "source": [
    "## Data"
   ]
  },
  {
   "cell_type": "markdown",
   "metadata": {},
   "source": [
    "Our dataset consists of approximately 40 million observations from loans spanning between 2007 through Q3 2018. The dataset includes dozens of fields, however for our Markov model (and to simplify data management) we only need to work with 4 features: `id`, `loan_status`, `term`, and `age_of_loan`. During preprocessing, we also filtered out all loans with a 60 month term and 36 term loans that extended beyond 36 months, reducing our dataset to around 27 million observations. In total, we have just under 1.5 million unique loans, which can be seen in the rows column after we split and pivot our data below."
   ]
  },
  {
   "cell_type": "code",
   "execution_count": 25,
   "metadata": {},
   "outputs": [],
   "source": [
    "from utils.utils import load_dataframe, preprocess, split_data\n",
    "from utils.models import build_mle_matrix, build_mc_no_priors, build_mc_with_priors\n",
    "from utils.inference import compute_mle, infer_mc_no_priors, infer_mc_with_priors\n",
    "from utils.criticism import sample_mle, plot_sampled_lengths\n",
    "import numpy as np"
   ]
  },
  {
   "cell_type": "code",
   "execution_count": 2,
   "metadata": {},
   "outputs": [
    {
     "name": "stdout",
     "output_type": "stream",
     "text": [
      "Loading raw data from cache...\n",
      "Retrieved 40,268,594 rows, 4 columns in 2.80 seconds\n"
     ]
    }
   ],
   "source": [
    "df = load_dataframe()"
   ]
  },
  {
   "cell_type": "code",
   "execution_count": 3,
   "metadata": {},
   "outputs": [
    {
     "name": "stdout",
     "output_type": "stream",
     "text": [
      "Mapping column names...\n",
      "Loading preprocessed data from cache...\n",
      "Retrieved 27,641,460 rows, 4 columns in 2.36 seconds\n"
     ]
    }
   ],
   "source": [
    "df = preprocess(df)"
   ]
  },
  {
   "cell_type": "code",
   "execution_count": 4,
   "metadata": {},
   "outputs": [
    {
     "name": "stdout",
     "output_type": "stream",
     "text": [
      "Loading split data from cache...\n",
      "Retrieved 1,486,355 rows, 36 columns in 0.74 seconds\n",
      "Train: (1337723, 36) | Test: (148632, 36)\n"
     ]
    }
   ],
   "source": [
    "x_train, x_test = split_data(df)"
   ]
  },
  {
   "cell_type": "markdown",
   "metadata": {},
   "source": [
    "## Experiment 1: Markov Model with Maximum Likelihood Estimates"
   ]
  },
  {
   "cell_type": "markdown",
   "metadata": {},
   "source": [
    "We start with a simple model which is a Markov Model, which is stationary and homogeneous: the transitions between states are the same for all loans, and don't vary with time. We will keep this model for several experiments, as inference can be quite challenging even on this simpel model.\n",
    "\n",
    "Even though we want to solve the problem from a Bayesian perspective, our first idea is to estimate the model with MLE estimates, which are easy to obtain and give us a robust baseline."
   ]
  },
  {
   "cell_type": "markdown",
   "metadata": {},
   "source": [
    "### 1.1 Model"
   ]
  },
  {
   "cell_type": "markdown",
   "metadata": {},
   "source": [
    "To get some intuition on how to estimate the transition matrix given our training data, $N$, we start with MLE estimation. The MLE solution of a Markov Chain is simply the empirical frequencies of each transition. Formally, the probability of some particular sequence length $T$, with transition matrix $M$ and states $K$ is given by: \n",
    "\n",
    "$$ \n",
    "\\begin{align*}\n",
    "p(x_{1:T}|\\theta) = p(x_1)A(x_1, x_2)...A(x_{T-1}, x_T) \n",
    "&= \\prod_{j=1}^{K}(p_j)^{\\mathbb{I}(x_1 = j)} \\prod_{t=2}^{T} \\prod_{j=1}^{K} \\prod_{k=1}^{K}(A_{jk})^{\\mathbb{I}(x_{t-1} = j, x_t = k)}\n",
    "\\end{align*}\n",
    "$$\n",
    "\n",
    "It is relatively easy to show that the MLEs for $p_j$ (at state $j$) and $T_{jk}$ (at transition from states $j$ to $k$) are given by the observed frequencies:  \n",
    "$$ \n",
    "\\begin{align*}\n",
    "p_j = \\frac{\\sum_{i=1}^N\\mathbb{I}(x_{i1} = j)}{\\sum_{j}\\sum_{i=1}^N\\mathbb{I}(x_{i1} = j)}\n",
    "\\end{align*}\n",
    "$$\n",
    "\n",
    "$$ \n",
    "\\begin{align*}\n",
    "A_{jk} = \\frac{\\sum_{i=1}^N\\sum_{t=1}^{T-1} \\mathbb{I}(x_{i,t} = j, x_{i,t+1} = k)}{\\sum_k\\sum_{i=1}^N\\sum_{t=1}^{T-1} \\mathbb{I}(x_{i,t} = j, x_{i,t+1} = k)}\n",
    "\\end{align*}\n",
    "$$\n",
    "\n",
    "[Murphy, 2012, pp. 592–593](#References)\n",
    "\n",
    "In more colloquial terms, the estimator for $p$ in any given outcome state $j$ is the number of times we observed $j$ at time $t=1$ in our training data, divided by the total number of observations at time $t=1$. Similarly, the estimator for $A$ of transitioning from state $j$ to state $k$ is given by the total number of times we observed a transition from state $j$ to state $k$, divided by the total number of times we observed a transition from state $j$ to any other state. For our purposes, we ignore $p$ and just generate MLE estimates for the transition matrix $A$."
   ]
  },
  {
   "cell_type": "code",
   "execution_count": 5,
   "metadata": {},
   "outputs": [
    {
     "name": "stdout",
     "output_type": "stream",
     "text": [
      "Loading transitions data from cache...\n",
      "Retrieved 8 rows, 8 columns in 0.01 seconds\n"
     ]
    }
   ],
   "source": [
    "realized_transitions = build_mle_matrix(df)"
   ]
  },
  {
   "cell_type": "code",
   "execution_count": 9,
   "metadata": {},
   "outputs": [
    {
     "data": {
      "text/html": [
       "<div>\n",
       "<style scoped>\n",
       "    .dataframe tbody tr th:only-of-type {\n",
       "        vertical-align: middle;\n",
       "    }\n",
       "\n",
       "    .dataframe tbody tr th {\n",
       "        vertical-align: top;\n",
       "    }\n",
       "\n",
       "    .dataframe thead th {\n",
       "        text-align: right;\n",
       "    }\n",
       "</style>\n",
       "<table border=\"1\" class=\"dataframe\">\n",
       "  <thead>\n",
       "    <tr style=\"text-align: right;\">\n",
       "      <th></th>\n",
       "      <th>Charged Off</th>\n",
       "      <th>Current</th>\n",
       "      <th>Default</th>\n",
       "      <th>Fully Paid</th>\n",
       "      <th>In Grace Period</th>\n",
       "      <th>Issued</th>\n",
       "      <th>Late (16-30 days)</th>\n",
       "      <th>Late (31-120 days)</th>\n",
       "    </tr>\n",
       "  </thead>\n",
       "  <tbody>\n",
       "    <tr>\n",
       "      <th>Charged Off</th>\n",
       "      <td>0</td>\n",
       "      <td>0</td>\n",
       "      <td>0</td>\n",
       "      <td>0</td>\n",
       "      <td>0</td>\n",
       "      <td>0</td>\n",
       "      <td>0</td>\n",
       "      <td>0</td>\n",
       "    </tr>\n",
       "    <tr>\n",
       "      <th>Current</th>\n",
       "      <td>774</td>\n",
       "      <td>24453702</td>\n",
       "      <td>3</td>\n",
       "      <td>707322</td>\n",
       "      <td>5831</td>\n",
       "      <td>0</td>\n",
       "      <td>160366</td>\n",
       "      <td>62102</td>\n",
       "    </tr>\n",
       "    <tr>\n",
       "      <th>Default</th>\n",
       "      <td>28897</td>\n",
       "      <td>147</td>\n",
       "      <td>2297</td>\n",
       "      <td>71</td>\n",
       "      <td>0</td>\n",
       "      <td>0</td>\n",
       "      <td>4</td>\n",
       "      <td>506</td>\n",
       "    </tr>\n",
       "    <tr>\n",
       "      <th>Fully Paid</th>\n",
       "      <td>0</td>\n",
       "      <td>0</td>\n",
       "      <td>0</td>\n",
       "      <td>8063</td>\n",
       "      <td>12</td>\n",
       "      <td>0</td>\n",
       "      <td>101</td>\n",
       "      <td>72</td>\n",
       "    </tr>\n",
       "    <tr>\n",
       "      <th>In Grace Period</th>\n",
       "      <td>0</td>\n",
       "      <td>276</td>\n",
       "      <td>0</td>\n",
       "      <td>11</td>\n",
       "      <td>22</td>\n",
       "      <td>0</td>\n",
       "      <td>59</td>\n",
       "      <td>41</td>\n",
       "    </tr>\n",
       "    <tr>\n",
       "      <th>Issued</th>\n",
       "      <td>0</td>\n",
       "      <td>17206</td>\n",
       "      <td>0</td>\n",
       "      <td>670</td>\n",
       "      <td>1</td>\n",
       "      <td>0</td>\n",
       "      <td>38</td>\n",
       "      <td>1</td>\n",
       "    </tr>\n",
       "    <tr>\n",
       "      <th>Late (16-30 days)</th>\n",
       "      <td>4548</td>\n",
       "      <td>32376</td>\n",
       "      <td>0</td>\n",
       "      <td>2066</td>\n",
       "      <td>257</td>\n",
       "      <td>0</td>\n",
       "      <td>13413</td>\n",
       "      <td>119621</td>\n",
       "    </tr>\n",
       "    <tr>\n",
       "      <th>Late (31-120 days)</th>\n",
       "      <td>105934</td>\n",
       "      <td>25434</td>\n",
       "      <td>29802</td>\n",
       "      <td>2146</td>\n",
       "      <td>56</td>\n",
       "      <td>0</td>\n",
       "      <td>3292</td>\n",
       "      <td>332762</td>\n",
       "    </tr>\n",
       "  </tbody>\n",
       "</table>\n",
       "</div>"
      ],
      "text/plain": [
       "                    Charged Off   Current  Default  Fully Paid  \\\n",
       "Charged Off                   0         0        0           0   \n",
       "Current                     774  24453702        3      707322   \n",
       "Default                   28897       147     2297          71   \n",
       "Fully Paid                    0         0        0        8063   \n",
       "In Grace Period               0       276        0          11   \n",
       "Issued                        0     17206        0         670   \n",
       "Late (16-30 days)          4548     32376        0        2066   \n",
       "Late (31-120 days)       105934     25434    29802        2146   \n",
       "\n",
       "                    In Grace Period  Issued  Late (16-30 days)  \\\n",
       "Charged Off                       0       0                  0   \n",
       "Current                        5831       0             160366   \n",
       "Default                           0       0                  4   \n",
       "Fully Paid                       12       0                101   \n",
       "In Grace Period                  22       0                 59   \n",
       "Issued                            1       0                 38   \n",
       "Late (16-30 days)               257       0              13413   \n",
       "Late (31-120 days)               56       0               3292   \n",
       "\n",
       "                    Late (31-120 days)  \n",
       "Charged Off                          0  \n",
       "Current                          62102  \n",
       "Default                            506  \n",
       "Fully Paid                          72  \n",
       "In Grace Period                     41  \n",
       "Issued                               1  \n",
       "Late (16-30 days)               119621  \n",
       "Late (31-120 days)              332762  "
      ]
     },
     "execution_count": 9,
     "metadata": {},
     "output_type": "execute_result"
    }
   ],
   "source": [
    "realized_transitions"
   ]
  },
  {
   "cell_type": "markdown",
   "metadata": {},
   "source": [
    "### 1.2 Inference"
   ]
  },
  {
   "cell_type": "markdown",
   "metadata": {},
   "source": [
    "Now that we have built a count matrix, we just take empirical frequencies to get our estimates:"
   ]
  },
  {
   "cell_type": "code",
   "execution_count": 10,
   "metadata": {},
   "outputs": [],
   "source": [
    "mle = compute_mle(realized_transitions)"
   ]
  },
  {
   "cell_type": "code",
   "execution_count": 11,
   "metadata": {},
   "outputs": [
    {
     "data": {
      "text/html": [
       "<div>\n",
       "<style scoped>\n",
       "    .dataframe tbody tr th:only-of-type {\n",
       "        vertical-align: middle;\n",
       "    }\n",
       "\n",
       "    .dataframe tbody tr th {\n",
       "        vertical-align: top;\n",
       "    }\n",
       "\n",
       "    .dataframe thead th {\n",
       "        text-align: right;\n",
       "    }\n",
       "</style>\n",
       "<table border=\"1\" class=\"dataframe\">\n",
       "  <thead>\n",
       "    <tr style=\"text-align: right;\">\n",
       "      <th></th>\n",
       "      <th>Charged Off</th>\n",
       "      <th>Current</th>\n",
       "      <th>Default</th>\n",
       "      <th>Fully Paid</th>\n",
       "      <th>In Grace Period</th>\n",
       "      <th>Issued</th>\n",
       "      <th>Late (16-30 days)</th>\n",
       "      <th>Late (31-120 days)</th>\n",
       "    </tr>\n",
       "  </thead>\n",
       "  <tbody>\n",
       "    <tr>\n",
       "      <th>Charged Off</th>\n",
       "      <td>0.000000</td>\n",
       "      <td>0.000000</td>\n",
       "      <td>0.000000</td>\n",
       "      <td>0.000000</td>\n",
       "      <td>0.000000</td>\n",
       "      <td>0.0</td>\n",
       "      <td>0.000000</td>\n",
       "      <td>0.000000</td>\n",
       "    </tr>\n",
       "    <tr>\n",
       "      <th>Current</th>\n",
       "      <td>0.000030</td>\n",
       "      <td>0.963120</td>\n",
       "      <td>0.000000</td>\n",
       "      <td>0.027858</td>\n",
       "      <td>0.000230</td>\n",
       "      <td>0.0</td>\n",
       "      <td>0.006316</td>\n",
       "      <td>0.002446</td>\n",
       "    </tr>\n",
       "    <tr>\n",
       "      <th>Default</th>\n",
       "      <td>0.905238</td>\n",
       "      <td>0.004605</td>\n",
       "      <td>0.071957</td>\n",
       "      <td>0.002224</td>\n",
       "      <td>0.000000</td>\n",
       "      <td>0.0</td>\n",
       "      <td>0.000125</td>\n",
       "      <td>0.015851</td>\n",
       "    </tr>\n",
       "    <tr>\n",
       "      <th>Fully Paid</th>\n",
       "      <td>0.000000</td>\n",
       "      <td>0.000000</td>\n",
       "      <td>0.000000</td>\n",
       "      <td>0.977570</td>\n",
       "      <td>0.001455</td>\n",
       "      <td>0.0</td>\n",
       "      <td>0.012245</td>\n",
       "      <td>0.008729</td>\n",
       "    </tr>\n",
       "    <tr>\n",
       "      <th>In Grace Period</th>\n",
       "      <td>0.000000</td>\n",
       "      <td>0.674817</td>\n",
       "      <td>0.000000</td>\n",
       "      <td>0.026895</td>\n",
       "      <td>0.053790</td>\n",
       "      <td>0.0</td>\n",
       "      <td>0.144254</td>\n",
       "      <td>0.100244</td>\n",
       "    </tr>\n",
       "    <tr>\n",
       "      <th>Issued</th>\n",
       "      <td>0.000000</td>\n",
       "      <td>0.960371</td>\n",
       "      <td>0.000000</td>\n",
       "      <td>0.037397</td>\n",
       "      <td>0.000056</td>\n",
       "      <td>0.0</td>\n",
       "      <td>0.002121</td>\n",
       "      <td>0.000056</td>\n",
       "    </tr>\n",
       "    <tr>\n",
       "      <th>Late (16-30 days)</th>\n",
       "      <td>0.026399</td>\n",
       "      <td>0.187926</td>\n",
       "      <td>0.000000</td>\n",
       "      <td>0.011992</td>\n",
       "      <td>0.001492</td>\n",
       "      <td>0.0</td>\n",
       "      <td>0.077855</td>\n",
       "      <td>0.694337</td>\n",
       "    </tr>\n",
       "    <tr>\n",
       "      <th>Late (31-120 days)</th>\n",
       "      <td>0.212112</td>\n",
       "      <td>0.050926</td>\n",
       "      <td>0.059673</td>\n",
       "      <td>0.004297</td>\n",
       "      <td>0.000112</td>\n",
       "      <td>0.0</td>\n",
       "      <td>0.006592</td>\n",
       "      <td>0.666289</td>\n",
       "    </tr>\n",
       "  </tbody>\n",
       "</table>\n",
       "</div>"
      ],
      "text/plain": [
       "                    Charged Off   Current   Default  Fully Paid  \\\n",
       "Charged Off            0.000000  0.000000  0.000000    0.000000   \n",
       "Current                0.000030  0.963120  0.000000    0.027858   \n",
       "Default                0.905238  0.004605  0.071957    0.002224   \n",
       "Fully Paid             0.000000  0.000000  0.000000    0.977570   \n",
       "In Grace Period        0.000000  0.674817  0.000000    0.026895   \n",
       "Issued                 0.000000  0.960371  0.000000    0.037397   \n",
       "Late (16-30 days)      0.026399  0.187926  0.000000    0.011992   \n",
       "Late (31-120 days)     0.212112  0.050926  0.059673    0.004297   \n",
       "\n",
       "                    In Grace Period  Issued  Late (16-30 days)  \\\n",
       "Charged Off                0.000000     0.0           0.000000   \n",
       "Current                    0.000230     0.0           0.006316   \n",
       "Default                    0.000000     0.0           0.000125   \n",
       "Fully Paid                 0.001455     0.0           0.012245   \n",
       "In Grace Period            0.053790     0.0           0.144254   \n",
       "Issued                     0.000056     0.0           0.002121   \n",
       "Late (16-30 days)          0.001492     0.0           0.077855   \n",
       "Late (31-120 days)         0.000112     0.0           0.006592   \n",
       "\n",
       "                    Late (31-120 days)  \n",
       "Charged Off                   0.000000  \n",
       "Current                       0.002446  \n",
       "Default                       0.015851  \n",
       "Fully Paid                    0.008729  \n",
       "In Grace Period               0.100244  \n",
       "Issued                        0.000056  \n",
       "Late (16-30 days)             0.694337  \n",
       "Late (31-120 days)            0.666289  "
      ]
     },
     "execution_count": 11,
     "metadata": {},
     "output_type": "execute_result"
    }
   ],
   "source": [
    "mle"
   ]
  },
  {
   "cell_type": "markdown",
   "metadata": {},
   "source": [
    "Note that these probabilities are true probabilities, except for Charged Off: this is a \"sink state\", therefore there is no possible next state, hence the row of 0."
   ]
  },
  {
   "cell_type": "markdown",
   "metadata": {},
   "source": [
    "### 1.3 Criticism"
   ]
  },
  {
   "cell_type": "markdown",
   "metadata": {},
   "source": [
    "**Values of the estimates:**"
   ]
  },
  {
   "cell_type": "markdown",
   "metadata": {},
   "source": [
    "We can see that a lot of the MLE estimates reflect our expectations, for example we can see that:\n",
    "- A loan which is 'Current' is much more likely to stay 'Current' the next month than any other state transition.\n",
    "- Some states are not reachable from certain states, for example once Charged Off, a loan cannot go to any other state, because LC shuts down the loan completely. Similarly, a loan cannot transition from 'Current' to 'Late (31-120)', because first it has to go to either Grace Period or 'Late (16-30)', since we are measuring data each month.\n",
    "\n",
    "We can also see the limits of our model and of these estimates:\n",
    "- TODO\n",
    "\n",
    "One trick that is usally done on MLE estimates for Markov Models is \"add-one smoothing\" which sets all the probabilities to a small value different than 0, to account for possible transitions that haven't been observed in our data. Since our dataset is very large and the number of states is small, we assume that it is not the case in our case: if a transition has never been observed, we consider that it is not possible."
   ]
  },
  {
   "cell_type": "markdown",
   "metadata": {},
   "source": [
    "**Sampling:**"
   ]
  },
  {
   "cell_type": "code",
   "execution_count": 12,
   "metadata": {},
   "outputs": [
    {
     "data": {
      "text/plain": [
       "['Issued',\n",
       " 'Current',\n",
       " 'Current',\n",
       " 'Current',\n",
       " 'Current',\n",
       " 'Current',\n",
       " 'Current',\n",
       " 'Current',\n",
       " 'Current',\n",
       " 'Current',\n",
       " 'Current',\n",
       " 'Current',\n",
       " 'Current',\n",
       " 'Current',\n",
       " 'Current',\n",
       " 'Current',\n",
       " 'Current',\n",
       " 'Current',\n",
       " 'Current',\n",
       " 'Current',\n",
       " 'Current',\n",
       " 'Current',\n",
       " 'Current',\n",
       " 'Current',\n",
       " 'Current',\n",
       " 'Current',\n",
       " 'Current',\n",
       " 'Current',\n",
       " 'Current',\n",
       " 'Fully Paid']"
      ]
     },
     "execution_count": 12,
     "metadata": {},
     "output_type": "execute_result"
    }
   ],
   "source": [
    "sample_mle(mle)"
   ]
  },
  {
   "cell_type": "markdown",
   "metadata": {},
   "source": [
    "We can now use these estimates to generate some trajectories. We start as 'issued' and keep generating transitions for a period of 36 months, except if we reach 'Charged Off' which is a \"sink state\"."
   ]
  },
  {
   "cell_type": "code",
   "execution_count": 13,
   "metadata": {},
   "outputs": [
    {
     "data": {
      "text/plain": [
       "['Issued',\n",
       " 'Current',\n",
       " 'Current',\n",
       " 'Current',\n",
       " 'Current',\n",
       " 'Current',\n",
       " 'Current',\n",
       " 'Fully Paid']"
      ]
     },
     "execution_count": 13,
     "metadata": {},
     "output_type": "execute_result"
    }
   ],
   "source": [
    "sample_mle(mle)"
   ]
  },
  {
   "cell_type": "markdown",
   "metadata": {},
   "source": [
    "By sampling, we can see limitations of the model itself, for example:\n",
    "- For Late (31-120), our model doesn't take into account how long has the loan spent in that state. But we do know that after being in that state 4 times, the probability of going to Charged Off is almost 1."
   ]
  },
  {
   "cell_type": "markdown",
   "metadata": {},
   "source": [
    "**Looking at statistics based on generated samples:**"
   ]
  },
  {
   "cell_type": "markdown",
   "metadata": {},
   "source": [
    "One thing we can do is to sample many times and look at the average length of a loan, and compare that to the empirical value in the data:"
   ]
  },
  {
   "cell_type": "code",
   "execution_count": 14,
   "metadata": {},
   "outputs": [],
   "source": [
    "sampled_trajectories = [sample_mle(mle) for _ in range(10000)]"
   ]
  },
  {
   "cell_type": "code",
   "execution_count": 15,
   "metadata": {},
   "outputs": [
    {
     "data": {
      "image/png": "[encoded data removed]",
      "text/plain": [
       "<Figure size 432x288 with 1 Axes>"
      ]
     },
     "metadata": {
      "needs_background": "light"
     },
     "output_type": "display_data"
    },
    {
     "name": "stdout",
     "output_type": "stream",
     "text": [
      "Average length of sampled loans: 21.71 months\n",
      "Average length of true loans: 18.17 months\n"
     ]
    }
   ],
   "source": [
    "plot_sampled_lengths(sampled_trajectories, df)"
   ]
  },
  {
   "cell_type": "markdown",
   "metadata": {},
   "source": [
    "## Experiment 2: Stationary Markov Chain without Priors"
   ]
  },
  {
   "cell_type": "code",
   "execution_count": 16,
   "metadata": {},
   "outputs": [],
   "source": [
    "chain_len = max(df.age_of_loan)\n",
    "n_states = df.loan_status.unique().shape[0]"
   ]
  },
  {
   "cell_type": "markdown",
   "metadata": {},
   "source": [
    "### 2.1 Model"
   ]
  },
  {
   "cell_type": "code",
   "execution_count": 17,
   "metadata": {},
   "outputs": [],
   "source": [
    "x, T = build_mc_no_priors(n_states, chain_len)"
   ]
  },
  {
   "cell_type": "markdown",
   "metadata": {},
   "source": [
    "### 2.2 Inference"
   ]
  },
  {
   "cell_type": "code",
   "execution_count": 18,
   "metadata": {},
   "outputs": [
    {
     "name": "stdout",
     "output_type": "stream",
     "text": [
      "5000/5000 [100%] ██████████████████████████████ Elapsed: 31s | Loss: 2.710\n"
     ]
    }
   ],
   "source": [
    "inferred_T, sess, qx = infer_mc_no_priors(x_train, x, T, n_states, chain_len)"
   ]
  },
  {
   "cell_type": "markdown",
   "metadata": {},
   "source": [
    "### 2.3 Criticism"
   ]
  },
  {
   "cell_type": "markdown",
   "metadata": {},
   "source": [
    "@Basil: now that we have the sess, we can access values in this session by using with sess.as_default()."
   ]
  },
  {
   "cell_type": "code",
   "execution_count": 19,
   "metadata": {},
   "outputs": [
    {
     "name": "stdout",
     "output_type": "stream",
     "text": [
      "0\n"
     ]
    }
   ],
   "source": [
    "# sampling new states:\n",
    "with sess.as_default():\n",
    "    print(sess.run(qx[0].sample()))"
   ]
  },
  {
   "cell_type": "code",
   "execution_count": 20,
   "metadata": {},
   "outputs": [
    {
     "name": "stdout",
     "output_type": "stream",
     "text": [
      "[0.09776109 0.15406753 0.12883368 0.1749692  0.10890567 0.12568462\n",
      " 0.12825322 0.08152495]\n"
     ]
    }
   ],
   "source": [
    "with sess.as_default():\n",
    "    print(sess.run(qx[10].probs))"
   ]
  },
  {
   "cell_type": "code",
   "execution_count": 21,
   "metadata": {},
   "outputs": [
    {
     "name": "stdout",
     "output_type": "stream",
     "text": [
      "[[0.13119265 0.13681072 0.13484801 0.1320502  0.12728    0.1362989\n",
      "  0.13605183 0.13448031]\n",
      " [0.13170607 0.13991229 0.13215339 0.13780634 0.13153455 0.13023\n",
      "  0.13221863 0.13391319]\n",
      " [0.11771289 0.11543139 0.11918899 0.11838347 0.12268537 0.11641473\n",
      "  0.11527679 0.11606661]\n",
      " [0.11444398 0.10653985 0.10802922 0.11818575 0.11230216 0.11182587\n",
      "  0.1102357  0.11064619]\n",
      " [0.12034642 0.12598395 0.12228603 0.12560046 0.13092604 0.1233866\n",
      "  0.12963158 0.12456122]\n",
      " [0.14471175 0.14185487 0.1467279  0.14208558 0.14314897 0.14880629\n",
      "  0.148748   0.14502536]\n",
      " [0.14346357 0.13903973 0.14166504 0.13169265 0.13990808 0.14507648\n",
      "  0.1373215  0.14307246]\n",
      " [0.09642262 0.09442718 0.0951014  0.09419547 0.09221479 0.08796123\n",
      "  0.09051595 0.09223467]]\n"
     ]
    }
   ],
   "source": [
    "with sess.as_default():\n",
    "    print(sess.run(T))"
   ]
  },
  {
   "cell_type": "markdown",
   "metadata": {},
   "source": [
    "## Experiment 3: Stationary Markov Chain with Priors"
   ]
  },
  {
   "cell_type": "markdown",
   "metadata": {},
   "source": [
    "### 3.1 Model"
   ]
  },
  {
   "cell_type": "code",
   "execution_count": 22,
   "metadata": {},
   "outputs": [],
   "source": [
    "batch_size = 1000"
   ]
  },
  {
   "cell_type": "code",
   "execution_count": 23,
   "metadata": {},
   "outputs": [],
   "source": [
    "x, pi_0, pi_T = build_mc_with_priors(n_states, chain_len, batch_size)"
   ]
  },
  {
   "cell_type": "markdown",
   "metadata": {},
   "source": [
    "### 3.2 Inference (Batch)"
   ]
  },
  {
   "cell_type": "code",
   "execution_count": 24,
   "metadata": {},
   "outputs": [
    {
     "name": "stdout",
     "output_type": "stream",
     "text": [
      "13300/13370 [ 99%] █████████████████████████████  ETA: 0s | Loss: 15211.358"
     ]
    },
    {
     "data": {
      "text/plain": [
       "(Empty DataFrame\n",
       " Columns: []\n",
       " Index: [],\n",
       " <tensorflow.python.client.session.Session at 0x131ab8438>,\n",
       " <ed.RandomVariable 'Dirichlet_2/' shape=(8,) dtype=float32>,\n",
       " <ed.RandomVariable 'Dirichlet_3/' shape=(8, 8) dtype=float32>)"
      ]
     },
     "execution_count": 24,
     "metadata": {},
     "output_type": "execute_result"
    }
   ],
   "source": [
    "infer_mc_with_priors(x_train, x, pi_0, pi_T, n_states, chain_len, batch_size)"
   ]
  },
  {
   "cell_type": "markdown",
   "metadata": {},
   "source": [
    "### 3.3 Criticism"
   ]
  },
  {
   "cell_type": "markdown",
   "metadata": {},
   "source": [
    "## References"
   ]
  },
  {
   "cell_type": "markdown",
   "metadata": {},
   "source": [
    "*Machine Learning: A Probabilistic Perspective*, by Kevin P. Murphy, MIT Press, 2012."
   ]
  },
  {
   "cell_type": "code",
   "execution_count": null,
   "metadata": {},
   "outputs": [],
   "source": []
  }
 ],
 "metadata": {
  "kernelspec": {
   "display_name": "MLPP Lending Club",
   "language": "python",
   "name": "lending-club-analysis-iuojzap3"
  },
  "language_info": {
   "codemirror_mode": {
    "name": "ipython",
    "version": 3
   },
   "file_extension": ".py",
   "mimetype": "text/x-python",
   "name": "python",
   "nbconvert_exporter": "python",
   "pygments_lexer": "ipython3",
   "version": "3.6.5"
  }
 },
 "nbformat": 4,
 "nbformat_minor": 2
}
