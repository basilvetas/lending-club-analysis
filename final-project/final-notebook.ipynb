{
 "cells": [
  {
   "cell_type": "markdown",
   "metadata": {},
   "source": [
    "# Modeling Personal Loan Delinquency with LendingClub Data"
   ]
  },
  {
   "cell_type": "markdown",
   "metadata": {},
   "source": [
    "## Imports and Settings"
   ]
  },
  {
   "cell_type": "code",
   "execution_count": 2,
   "metadata": {},
   "outputs": [],
   "source": [
    "import numpy as np\n",
    "import pandas as pd\n",
    "\n",
    "from utils.utils import load_dataframe, preprocess, split_data\n",
    "from utils.models import build_mle_matrix, build_mc_no_priors, build_mc_with_priors\n",
    "from utils.inference import compute_mle, infer_mc_no_priors, infer_mc_with_priors"
   ]
  },
  {
   "cell_type": "code",
   "execution_count": 3,
   "metadata": {},
   "outputs": [],
   "source": [
    "pd.set_option('display.max_columns', 200)\n",
    "pd.set_option('display.max_rows', 200)\n",
    "pd.set_option('display.max_colwidth', -1)"
   ]
  },
  {
   "cell_type": "markdown",
   "metadata": {},
   "source": [
    "## Data Loading and Preprocessing"
   ]
  },
  {
   "cell_type": "code",
   "execution_count": 4,
   "metadata": {},
   "outputs": [
    {
     "name": "stdout",
     "output_type": "stream",
     "text": [
      "Loading raw data from hdf5 cache...\n",
      "Fetching raw data took 2.78 seconds\n",
      "Retrieved 40,268,594 rows, 4 columns\n"
     ]
    }
   ],
   "source": [
    "df = load_dataframe()"
   ]
  },
  {
   "cell_type": "markdown",
   "metadata": {},
   "source": [
    "Our variable of interest is called `loan_status` which has eight possible states. These are the Loan Status Descriptions from the LendingClub [website](https://help.lendingclub.com/hc/en-us/articles/215488038-What-do-the-different-Note-statuses-mean-):\n",
    "\n",
    "- **Current**: Loan is up to date on all outstanding payments. \n",
    "\n",
    "- **Fully paid**: Loan has been fully repaid, either at the expiration of the 3- or 5-year year term or as a result of a prepayment.\n",
    " \n",
    "- **Late (16-30)**: Loan has not been current for 16 to 30 days. Learn more about the tools LendingClub has to deal with delinquent borrowers.\n",
    " \n",
    "- **Late (31-120)**: Loan has not been current for 31 to 120 days. Learn more about the tools LendingClub has to deal with delinquent borrowers.\n",
    " \n",
    "- **Charged Off**: Loan for which there is no longer a reasonable expectation of further payments. Upon Charge Off, the remaining principal balance of the Note is deducted from the account balance. Charge Off typically occurs when a loan is 120 days or more past due and there is no reasonable expectation of sufficient payment to prevent the charge off. Loans for which borrowers have filed for bankruptcy may be charged off earlier based on the date of bankruptcy notification. \n",
    "\n",
    "- **Default**: Loan has not been current for an extended period of time. More about the difference between Default and Charged Off [here](https://help.lendingclub.com/hc/en-us/articles/216127747)\n",
    "\n",
    "- **In Grace Period**: Loan is past due but within the 15-day grace period. \n",
    "\n",
    "- **Issued**: New loan that has passed all LendingClub reviews, received full funding, and has been issued."
   ]
  },
  {
   "cell_type": "code",
   "execution_count": 5,
   "metadata": {},
   "outputs": [
    {
     "name": "stdout",
     "output_type": "stream",
     "text": [
      "Mapping column names...\n",
      "Loading preprocessed data from hdf5 cache...\n",
      "Fetching preprocessed data took 2.58 seconds\n",
      "Preprocessed 27,641,460 rows, 4 columns\n"
     ]
    }
   ],
   "source": [
    "df = preprocess(df)"
   ]
  },
  {
   "cell_type": "code",
   "execution_count": 6,
   "metadata": {},
   "outputs": [
    {
     "name": "stdout",
     "output_type": "stream",
     "text": [
      "Loading training and test data from hdf5 cache...\n",
      "Fetching training and test data took 0.69 seconds\n",
      "Training on 1,337,814 rows, 36 columns\n",
      "Testing on 148,541 rows, 36 columns\n"
     ]
    }
   ],
   "source": [
    "x_train, x_test = split_data(df)"
   ]
  },
  {
   "cell_type": "markdown",
   "metadata": {},
   "source": [
    "## Experiment 1: Markov Model with Maximum Likelihood Estimates"
   ]
  },
  {
   "cell_type": "markdown",
   "metadata": {},
   "source": [
    "The MLE solution of a Markov Chain is simply the empirical frequencies of each transition. Even though we want to solve the problem from a Bayesian perspective, it's good to look at this estimate and have it in mind later."
   ]
  },
  {
   "cell_type": "markdown",
   "metadata": {},
   "source": [
    "### Model"
   ]
  },
  {
   "cell_type": "code",
   "execution_count": 7,
   "metadata": {},
   "outputs": [
    {
     "name": "stdout",
     "output_type": "stream",
     "text": [
      "Loading transition matrix from hdf5 cache...\n",
      "Fetching transition matrix took 0.01 seconds\n"
     ]
    }
   ],
   "source": [
    "realized_transitions = build_mle_matrix(df)"
   ]
  },
  {
   "cell_type": "code",
   "execution_count": 8,
   "metadata": {},
   "outputs": [
    {
     "data": {
      "text/html": [
       "<div>\n",
       "<style scoped>\n",
       "    .dataframe tbody tr th:only-of-type {\n",
       "        vertical-align: middle;\n",
       "    }\n",
       "\n",
       "    .dataframe tbody tr th {\n",
       "        vertical-align: top;\n",
       "    }\n",
       "\n",
       "    .dataframe thead th {\n",
       "        text-align: right;\n",
       "    }\n",
       "</style>\n",
       "<table border=\"1\" class=\"dataframe\">\n",
       "  <thead>\n",
       "    <tr style=\"text-align: right;\">\n",
       "      <th></th>\n",
       "      <th>Charged Off</th>\n",
       "      <th>Current</th>\n",
       "      <th>Default</th>\n",
       "      <th>Fully Paid</th>\n",
       "      <th>In Grace Period</th>\n",
       "      <th>Issued</th>\n",
       "      <th>Late (16-30 days)</th>\n",
       "      <th>Late (31-120 days)</th>\n",
       "    </tr>\n",
       "  </thead>\n",
       "  <tbody>\n",
       "    <tr>\n",
       "      <th>Charged Off</th>\n",
       "      <td>0</td>\n",
       "      <td>0</td>\n",
       "      <td>0</td>\n",
       "      <td>0</td>\n",
       "      <td>0</td>\n",
       "      <td>0</td>\n",
       "      <td>0</td>\n",
       "      <td>0</td>\n",
       "    </tr>\n",
       "    <tr>\n",
       "      <th>Current</th>\n",
       "      <td>774</td>\n",
       "      <td>24453702</td>\n",
       "      <td>3</td>\n",
       "      <td>707322</td>\n",
       "      <td>5831</td>\n",
       "      <td>0</td>\n",
       "      <td>160366</td>\n",
       "      <td>62102</td>\n",
       "    </tr>\n",
       "    <tr>\n",
       "      <th>Default</th>\n",
       "      <td>28897</td>\n",
       "      <td>147</td>\n",
       "      <td>2297</td>\n",
       "      <td>71</td>\n",
       "      <td>0</td>\n",
       "      <td>0</td>\n",
       "      <td>4</td>\n",
       "      <td>506</td>\n",
       "    </tr>\n",
       "    <tr>\n",
       "      <th>Fully Paid</th>\n",
       "      <td>0</td>\n",
       "      <td>0</td>\n",
       "      <td>0</td>\n",
       "      <td>8063</td>\n",
       "      <td>12</td>\n",
       "      <td>0</td>\n",
       "      <td>101</td>\n",
       "      <td>72</td>\n",
       "    </tr>\n",
       "    <tr>\n",
       "      <th>In Grace Period</th>\n",
       "      <td>0</td>\n",
       "      <td>276</td>\n",
       "      <td>0</td>\n",
       "      <td>11</td>\n",
       "      <td>22</td>\n",
       "      <td>0</td>\n",
       "      <td>59</td>\n",
       "      <td>41</td>\n",
       "    </tr>\n",
       "    <tr>\n",
       "      <th>Issued</th>\n",
       "      <td>0</td>\n",
       "      <td>17206</td>\n",
       "      <td>0</td>\n",
       "      <td>670</td>\n",
       "      <td>1</td>\n",
       "      <td>0</td>\n",
       "      <td>38</td>\n",
       "      <td>1</td>\n",
       "    </tr>\n",
       "    <tr>\n",
       "      <th>Late (16-30 days)</th>\n",
       "      <td>4548</td>\n",
       "      <td>32376</td>\n",
       "      <td>0</td>\n",
       "      <td>2066</td>\n",
       "      <td>257</td>\n",
       "      <td>0</td>\n",
       "      <td>13413</td>\n",
       "      <td>119621</td>\n",
       "    </tr>\n",
       "    <tr>\n",
       "      <th>Late (31-120 days)</th>\n",
       "      <td>105934</td>\n",
       "      <td>25434</td>\n",
       "      <td>29802</td>\n",
       "      <td>2146</td>\n",
       "      <td>56</td>\n",
       "      <td>0</td>\n",
       "      <td>3292</td>\n",
       "      <td>332762</td>\n",
       "    </tr>\n",
       "  </tbody>\n",
       "</table>\n",
       "</div>"
      ],
      "text/plain": [
       "                    Charged Off   Current  Default  Fully Paid  \\\n",
       "Charged Off         0            0         0        0            \n",
       "Current             774          24453702  3        707322       \n",
       "Default             28897        147       2297     71           \n",
       "Fully Paid          0            0         0        8063         \n",
       "In Grace Period     0            276       0        11           \n",
       "Issued              0            17206     0        670          \n",
       "Late (16-30 days)   4548         32376     0        2066         \n",
       "Late (31-120 days)  105934       25434     29802    2146         \n",
       "\n",
       "                    In Grace Period  Issued  Late (16-30 days)  \\\n",
       "Charged Off         0                0       0                   \n",
       "Current             5831             0       160366              \n",
       "Default             0                0       4                   \n",
       "Fully Paid          12               0       101                 \n",
       "In Grace Period     22               0       59                  \n",
       "Issued              1                0       38                  \n",
       "Late (16-30 days)   257              0       13413               \n",
       "Late (31-120 days)  56               0       3292                \n",
       "\n",
       "                    Late (31-120 days)  \n",
       "Charged Off         0                   \n",
       "Current             62102               \n",
       "Default             506                 \n",
       "Fully Paid          72                  \n",
       "In Grace Period     41                  \n",
       "Issued              1                   \n",
       "Late (16-30 days)   119621              \n",
       "Late (31-120 days)  332762              "
      ]
     },
     "execution_count": 8,
     "metadata": {},
     "output_type": "execute_result"
    }
   ],
   "source": [
    "realized_transitions"
   ]
  },
  {
   "cell_type": "markdown",
   "metadata": {},
   "source": [
    "### Inference"
   ]
  },
  {
   "cell_type": "code",
   "execution_count": 9,
   "metadata": {},
   "outputs": [
    {
     "data": {
      "text/html": [
       "<div>\n",
       "<style scoped>\n",
       "    .dataframe tbody tr th:only-of-type {\n",
       "        vertical-align: middle;\n",
       "    }\n",
       "\n",
       "    .dataframe tbody tr th {\n",
       "        vertical-align: top;\n",
       "    }\n",
       "\n",
       "    .dataframe thead th {\n",
       "        text-align: right;\n",
       "    }\n",
       "</style>\n",
       "<table border=\"1\" class=\"dataframe\">\n",
       "  <thead>\n",
       "    <tr style=\"text-align: right;\">\n",
       "      <th></th>\n",
       "      <th>Charged Off</th>\n",
       "      <th>Current</th>\n",
       "      <th>Default</th>\n",
       "      <th>Fully Paid</th>\n",
       "      <th>In Grace Period</th>\n",
       "      <th>Issued</th>\n",
       "      <th>Late (16-30 days)</th>\n",
       "      <th>Late (31-120 days)</th>\n",
       "    </tr>\n",
       "  </thead>\n",
       "  <tbody>\n",
       "    <tr>\n",
       "      <th>Charged Off</th>\n",
       "      <td>0.00</td>\n",
       "      <td>0.00</td>\n",
       "      <td>0.00</td>\n",
       "      <td>0.00</td>\n",
       "      <td>0.00</td>\n",
       "      <td>0.0</td>\n",
       "      <td>0.00</td>\n",
       "      <td>0.00</td>\n",
       "    </tr>\n",
       "    <tr>\n",
       "      <th>Current</th>\n",
       "      <td>0.00</td>\n",
       "      <td>0.96</td>\n",
       "      <td>0.00</td>\n",
       "      <td>0.03</td>\n",
       "      <td>0.00</td>\n",
       "      <td>0.0</td>\n",
       "      <td>0.01</td>\n",
       "      <td>0.00</td>\n",
       "    </tr>\n",
       "    <tr>\n",
       "      <th>Default</th>\n",
       "      <td>0.91</td>\n",
       "      <td>0.00</td>\n",
       "      <td>0.07</td>\n",
       "      <td>0.00</td>\n",
       "      <td>0.00</td>\n",
       "      <td>0.0</td>\n",
       "      <td>0.00</td>\n",
       "      <td>0.02</td>\n",
       "    </tr>\n",
       "    <tr>\n",
       "      <th>Fully Paid</th>\n",
       "      <td>0.00</td>\n",
       "      <td>0.00</td>\n",
       "      <td>0.00</td>\n",
       "      <td>0.98</td>\n",
       "      <td>0.00</td>\n",
       "      <td>0.0</td>\n",
       "      <td>0.01</td>\n",
       "      <td>0.01</td>\n",
       "    </tr>\n",
       "    <tr>\n",
       "      <th>In Grace Period</th>\n",
       "      <td>0.00</td>\n",
       "      <td>0.67</td>\n",
       "      <td>0.00</td>\n",
       "      <td>0.03</td>\n",
       "      <td>0.05</td>\n",
       "      <td>0.0</td>\n",
       "      <td>0.14</td>\n",
       "      <td>0.10</td>\n",
       "    </tr>\n",
       "    <tr>\n",
       "      <th>Issued</th>\n",
       "      <td>0.00</td>\n",
       "      <td>0.96</td>\n",
       "      <td>0.00</td>\n",
       "      <td>0.04</td>\n",
       "      <td>0.00</td>\n",
       "      <td>0.0</td>\n",
       "      <td>0.00</td>\n",
       "      <td>0.00</td>\n",
       "    </tr>\n",
       "    <tr>\n",
       "      <th>Late (16-30 days)</th>\n",
       "      <td>0.03</td>\n",
       "      <td>0.19</td>\n",
       "      <td>0.00</td>\n",
       "      <td>0.01</td>\n",
       "      <td>0.00</td>\n",
       "      <td>0.0</td>\n",
       "      <td>0.08</td>\n",
       "      <td>0.69</td>\n",
       "    </tr>\n",
       "    <tr>\n",
       "      <th>Late (31-120 days)</th>\n",
       "      <td>0.21</td>\n",
       "      <td>0.05</td>\n",
       "      <td>0.06</td>\n",
       "      <td>0.00</td>\n",
       "      <td>0.00</td>\n",
       "      <td>0.0</td>\n",
       "      <td>0.01</td>\n",
       "      <td>0.67</td>\n",
       "    </tr>\n",
       "  </tbody>\n",
       "</table>\n",
       "</div>"
      ],
      "text/plain": [
       "                    Charged Off  Current  Default  Fully Paid  \\\n",
       "Charged Off         0.00         0.00     0.00     0.00         \n",
       "Current             0.00         0.96     0.00     0.03         \n",
       "Default             0.91         0.00     0.07     0.00         \n",
       "Fully Paid          0.00         0.00     0.00     0.98         \n",
       "In Grace Period     0.00         0.67     0.00     0.03         \n",
       "Issued              0.00         0.96     0.00     0.04         \n",
       "Late (16-30 days)   0.03         0.19     0.00     0.01         \n",
       "Late (31-120 days)  0.21         0.05     0.06     0.00         \n",
       "\n",
       "                    In Grace Period  Issued  Late (16-30 days)  \\\n",
       "Charged Off         0.00             0.0     0.00                \n",
       "Current             0.00             0.0     0.01                \n",
       "Default             0.00             0.0     0.00                \n",
       "Fully Paid          0.00             0.0     0.01                \n",
       "In Grace Period     0.05             0.0     0.14                \n",
       "Issued              0.00             0.0     0.00                \n",
       "Late (16-30 days)   0.00             0.0     0.08                \n",
       "Late (31-120 days)  0.00             0.0     0.01                \n",
       "\n",
       "                    Late (31-120 days)  \n",
       "Charged Off         0.00                \n",
       "Current             0.00                \n",
       "Default             0.02                \n",
       "Fully Paid          0.01                \n",
       "In Grace Period     0.10                \n",
       "Issued              0.00                \n",
       "Late (16-30 days)   0.69                \n",
       "Late (31-120 days)  0.67                "
      ]
     },
     "execution_count": 9,
     "metadata": {},
     "output_type": "execute_result"
    }
   ],
   "source": [
    "compute_mle(realized_transitions)"
   ]
  },
  {
   "cell_type": "markdown",
   "metadata": {},
   "source": [
    "### Criticism"
   ]
  },
  {
   "cell_type": "markdown",
   "metadata": {},
   "source": [
    "## Experiment 2: Stationary Markov Chain without Priors"
   ]
  },
  {
   "cell_type": "code",
   "execution_count": 10,
   "metadata": {},
   "outputs": [],
   "source": [
    "chain_len = max(df.age_of_loan)\n",
    "n_states = df.loan_status.unique().shape[0]"
   ]
  },
  {
   "cell_type": "markdown",
   "metadata": {},
   "source": [
    "### Model"
   ]
  },
  {
   "cell_type": "code",
   "execution_count": 11,
   "metadata": {},
   "outputs": [],
   "source": [
    "x, T = build_mc_no_priors(n_states, chain_len)"
   ]
  },
  {
   "cell_type": "markdown",
   "metadata": {},
   "source": [
    "### Inference"
   ]
  },
  {
   "cell_type": "code",
   "execution_count": 12,
   "metadata": {},
   "outputs": [
    {
     "name": "stdout",
     "output_type": "stream",
     "text": [
      "20000/20000 [100%] ██████████████████████████████ Elapsed: 102s | Loss: 0.273\n"
     ]
    },
    {
     "data": {
      "text/html": [
       "<div>\n",
       "<style scoped>\n",
       "    .dataframe tbody tr th:only-of-type {\n",
       "        vertical-align: middle;\n",
       "    }\n",
       "\n",
       "    .dataframe tbody tr th {\n",
       "        vertical-align: top;\n",
       "    }\n",
       "\n",
       "    .dataframe thead th {\n",
       "        text-align: right;\n",
       "    }\n",
       "</style>\n",
       "<table border=\"1\" class=\"dataframe\">\n",
       "  <thead>\n",
       "    <tr style=\"text-align: right;\">\n",
       "      <th></th>\n",
       "      <th>Charged Off</th>\n",
       "      <th>Current</th>\n",
       "      <th>Default</th>\n",
       "      <th>Fully Paid</th>\n",
       "      <th>In Grace Period</th>\n",
       "      <th>Issued</th>\n",
       "      <th>Late (16-30 days)</th>\n",
       "      <th>Late (31-120 days)</th>\n",
       "    </tr>\n",
       "  </thead>\n",
       "  <tbody>\n",
       "    <tr>\n",
       "      <th>Charged Off</th>\n",
       "      <td>0.161711</td>\n",
       "      <td>0.162518</td>\n",
       "      <td>0.158327</td>\n",
       "      <td>0.161573</td>\n",
       "      <td>0.162255</td>\n",
       "      <td>0.160442</td>\n",
       "      <td>0.162124</td>\n",
       "      <td>0.160241</td>\n",
       "    </tr>\n",
       "    <tr>\n",
       "      <th>Current</th>\n",
       "      <td>0.086780</td>\n",
       "      <td>0.091728</td>\n",
       "      <td>0.089983</td>\n",
       "      <td>0.090928</td>\n",
       "      <td>0.086450</td>\n",
       "      <td>0.089542</td>\n",
       "      <td>0.086424</td>\n",
       "      <td>0.088475</td>\n",
       "    </tr>\n",
       "    <tr>\n",
       "      <th>Default</th>\n",
       "      <td>0.146862</td>\n",
       "      <td>0.143745</td>\n",
       "      <td>0.150052</td>\n",
       "      <td>0.148977</td>\n",
       "      <td>0.141731</td>\n",
       "      <td>0.151126</td>\n",
       "      <td>0.154098</td>\n",
       "      <td>0.144713</td>\n",
       "    </tr>\n",
       "    <tr>\n",
       "      <th>Fully Paid</th>\n",
       "      <td>0.164884</td>\n",
       "      <td>0.165224</td>\n",
       "      <td>0.161320</td>\n",
       "      <td>0.166085</td>\n",
       "      <td>0.176752</td>\n",
       "      <td>0.164623</td>\n",
       "      <td>0.161951</td>\n",
       "      <td>0.169826</td>\n",
       "    </tr>\n",
       "    <tr>\n",
       "      <th>In Grace Period</th>\n",
       "      <td>0.100248</td>\n",
       "      <td>0.100405</td>\n",
       "      <td>0.099736</td>\n",
       "      <td>0.096463</td>\n",
       "      <td>0.100387</td>\n",
       "      <td>0.102522</td>\n",
       "      <td>0.097602</td>\n",
       "      <td>0.094037</td>\n",
       "    </tr>\n",
       "    <tr>\n",
       "      <th>Issued</th>\n",
       "      <td>0.114879</td>\n",
       "      <td>0.113395</td>\n",
       "      <td>0.112255</td>\n",
       "      <td>0.112943</td>\n",
       "      <td>0.108466</td>\n",
       "      <td>0.108026</td>\n",
       "      <td>0.114654</td>\n",
       "      <td>0.110054</td>\n",
       "    </tr>\n",
       "    <tr>\n",
       "      <th>Late (16-30 days)</th>\n",
       "      <td>0.144974</td>\n",
       "      <td>0.144741</td>\n",
       "      <td>0.148639</td>\n",
       "      <td>0.142889</td>\n",
       "      <td>0.146379</td>\n",
       "      <td>0.144438</td>\n",
       "      <td>0.142573</td>\n",
       "      <td>0.151518</td>\n",
       "    </tr>\n",
       "    <tr>\n",
       "      <th>Late (31-120 days)</th>\n",
       "      <td>0.079662</td>\n",
       "      <td>0.078243</td>\n",
       "      <td>0.079688</td>\n",
       "      <td>0.080142</td>\n",
       "      <td>0.077580</td>\n",
       "      <td>0.079280</td>\n",
       "      <td>0.080574</td>\n",
       "      <td>0.081135</td>\n",
       "    </tr>\n",
       "  </tbody>\n",
       "</table>\n",
       "</div>"
      ],
      "text/plain": [
       "                    Charged Off   Current   Default  Fully Paid  \\\n",
       "Charged Off         0.161711     0.162518  0.158327  0.161573     \n",
       "Current             0.086780     0.091728  0.089983  0.090928     \n",
       "Default             0.146862     0.143745  0.150052  0.148977     \n",
       "Fully Paid          0.164884     0.165224  0.161320  0.166085     \n",
       "In Grace Period     0.100248     0.100405  0.099736  0.096463     \n",
       "Issued              0.114879     0.113395  0.112255  0.112943     \n",
       "Late (16-30 days)   0.144974     0.144741  0.148639  0.142889     \n",
       "Late (31-120 days)  0.079662     0.078243  0.079688  0.080142     \n",
       "\n",
       "                    In Grace Period    Issued  Late (16-30 days)  \\\n",
       "Charged Off         0.162255         0.160442  0.162124            \n",
       "Current             0.086450         0.089542  0.086424            \n",
       "Default             0.141731         0.151126  0.154098            \n",
       "Fully Paid          0.176752         0.164623  0.161951            \n",
       "In Grace Period     0.100387         0.102522  0.097602            \n",
       "Issued              0.108466         0.108026  0.114654            \n",
       "Late (16-30 days)   0.146379         0.144438  0.142573            \n",
       "Late (31-120 days)  0.077580         0.079280  0.080574            \n",
       "\n",
       "                    Late (31-120 days)  \n",
       "Charged Off         0.160241            \n",
       "Current             0.088475            \n",
       "Default             0.144713            \n",
       "Fully Paid          0.169826            \n",
       "In Grace Period     0.094037            \n",
       "Issued              0.110054            \n",
       "Late (16-30 days)   0.151518            \n",
       "Late (31-120 days)  0.081135            "
      ]
     },
     "execution_count": 12,
     "metadata": {},
     "output_type": "execute_result"
    }
   ],
   "source": [
    "infer_mc_no_priors(x_train, x, T, n_states, chain_len)"
   ]
  },
  {
   "cell_type": "markdown",
   "metadata": {},
   "source": [
    "## Experiment 3: Stationary Markov Chain with Priors"
   ]
  },
  {
   "cell_type": "markdown",
   "metadata": {},
   "source": [
    "### Model"
   ]
  },
  {
   "cell_type": "code",
   "execution_count": 13,
   "metadata": {},
   "outputs": [],
   "source": [
    "batch_size = 1000"
   ]
  },
  {
   "cell_type": "code",
   "execution_count": 14,
   "metadata": {},
   "outputs": [],
   "source": [
    "x, pi_0, pi_T = build_mc_with_priors(n_states, chain_len, batch_size)"
   ]
  },
  {
   "cell_type": "markdown",
   "metadata": {},
   "source": [
    "### Inference (Batch)"
   ]
  },
  {
   "cell_type": "code",
   "execution_count": 15,
   "metadata": {},
   "outputs": [
    {
     "name": "stdout",
     "output_type": "stream",
     "text": [
      "6666/6685 [ 99%] █████████████████████████████  ETA: 0s | Loss: 28943.219"
     ]
    },
    {
     "data": {
      "text/html": [
       "<div>\n",
       "<style scoped>\n",
       "    .dataframe tbody tr th:only-of-type {\n",
       "        vertical-align: middle;\n",
       "    }\n",
       "\n",
       "    .dataframe tbody tr th {\n",
       "        vertical-align: top;\n",
       "    }\n",
       "\n",
       "    .dataframe thead th {\n",
       "        text-align: right;\n",
       "    }\n",
       "</style>\n",
       "<table border=\"1\" class=\"dataframe\">\n",
       "  <thead>\n",
       "    <tr style=\"text-align: right;\">\n",
       "      <th></th>\n",
       "      <th>Charged Off</th>\n",
       "      <th>Current</th>\n",
       "      <th>Default</th>\n",
       "      <th>Fully Paid</th>\n",
       "      <th>In Grace Period</th>\n",
       "      <th>Issued</th>\n",
       "      <th>Late (16-30 days)</th>\n",
       "      <th>Late (31-120 days)</th>\n",
       "    </tr>\n",
       "  </thead>\n",
       "  <tbody>\n",
       "    <tr>\n",
       "      <th>Charged Off</th>\n",
       "      <td>0.182430</td>\n",
       "      <td>0.047205</td>\n",
       "      <td>0.140820</td>\n",
       "      <td>0.090194</td>\n",
       "      <td>0.081910</td>\n",
       "      <td>0.011021</td>\n",
       "      <td>0.390469</td>\n",
       "      <td>0.055952</td>\n",
       "    </tr>\n",
       "    <tr>\n",
       "      <th>Current</th>\n",
       "      <td>0.132610</td>\n",
       "      <td>0.085492</td>\n",
       "      <td>0.030641</td>\n",
       "      <td>0.085002</td>\n",
       "      <td>0.176433</td>\n",
       "      <td>0.154572</td>\n",
       "      <td>0.121160</td>\n",
       "      <td>0.214090</td>\n",
       "    </tr>\n",
       "    <tr>\n",
       "      <th>Default</th>\n",
       "      <td>0.182153</td>\n",
       "      <td>0.131054</td>\n",
       "      <td>0.132949</td>\n",
       "      <td>0.108605</td>\n",
       "      <td>0.211747</td>\n",
       "      <td>0.090682</td>\n",
       "      <td>0.085633</td>\n",
       "      <td>0.057176</td>\n",
       "    </tr>\n",
       "    <tr>\n",
       "      <th>Fully Paid</th>\n",
       "      <td>0.053380</td>\n",
       "      <td>0.115130</td>\n",
       "      <td>0.266013</td>\n",
       "      <td>0.019436</td>\n",
       "      <td>0.019310</td>\n",
       "      <td>0.103019</td>\n",
       "      <td>0.011012</td>\n",
       "      <td>0.412700</td>\n",
       "    </tr>\n",
       "    <tr>\n",
       "      <th>In Grace Period</th>\n",
       "      <td>0.081535</td>\n",
       "      <td>0.055636</td>\n",
       "      <td>0.266034</td>\n",
       "      <td>0.130157</td>\n",
       "      <td>0.051865</td>\n",
       "      <td>0.367471</td>\n",
       "      <td>0.033102</td>\n",
       "      <td>0.014200</td>\n",
       "    </tr>\n",
       "    <tr>\n",
       "      <th>Issued</th>\n",
       "      <td>0.079212</td>\n",
       "      <td>0.034491</td>\n",
       "      <td>0.175461</td>\n",
       "      <td>0.007455</td>\n",
       "      <td>0.068220</td>\n",
       "      <td>0.371271</td>\n",
       "      <td>0.078835</td>\n",
       "      <td>0.185055</td>\n",
       "    </tr>\n",
       "    <tr>\n",
       "      <th>Late (16-30 days)</th>\n",
       "      <td>0.027348</td>\n",
       "      <td>0.012592</td>\n",
       "      <td>0.115079</td>\n",
       "      <td>0.402022</td>\n",
       "      <td>0.283953</td>\n",
       "      <td>0.066506</td>\n",
       "      <td>0.031372</td>\n",
       "      <td>0.061128</td>\n",
       "    </tr>\n",
       "    <tr>\n",
       "      <th>Late (31-120 days)</th>\n",
       "      <td>0.019363</td>\n",
       "      <td>0.361003</td>\n",
       "      <td>0.076090</td>\n",
       "      <td>0.191144</td>\n",
       "      <td>0.005702</td>\n",
       "      <td>0.012486</td>\n",
       "      <td>0.056580</td>\n",
       "      <td>0.277631</td>\n",
       "    </tr>\n",
       "  </tbody>\n",
       "</table>\n",
       "</div>"
      ],
      "text/plain": [
       "                    Charged Off   Current   Default  Fully Paid  \\\n",
       "Charged Off         0.182430     0.047205  0.140820  0.090194     \n",
       "Current             0.132610     0.085492  0.030641  0.085002     \n",
       "Default             0.182153     0.131054  0.132949  0.108605     \n",
       "Fully Paid          0.053380     0.115130  0.266013  0.019436     \n",
       "In Grace Period     0.081535     0.055636  0.266034  0.130157     \n",
       "Issued              0.079212     0.034491  0.175461  0.007455     \n",
       "Late (16-30 days)   0.027348     0.012592  0.115079  0.402022     \n",
       "Late (31-120 days)  0.019363     0.361003  0.076090  0.191144     \n",
       "\n",
       "                    In Grace Period    Issued  Late (16-30 days)  \\\n",
       "Charged Off         0.081910         0.011021  0.390469            \n",
       "Current             0.176433         0.154572  0.121160            \n",
       "Default             0.211747         0.090682  0.085633            \n",
       "Fully Paid          0.019310         0.103019  0.011012            \n",
       "In Grace Period     0.051865         0.367471  0.033102            \n",
       "Issued              0.068220         0.371271  0.078835            \n",
       "Late (16-30 days)   0.283953         0.066506  0.031372            \n",
       "Late (31-120 days)  0.005702         0.012486  0.056580            \n",
       "\n",
       "                    Late (31-120 days)  \n",
       "Charged Off         0.055952            \n",
       "Current             0.214090            \n",
       "Default             0.057176            \n",
       "Fully Paid          0.412700            \n",
       "In Grace Period     0.014200            \n",
       "Issued              0.185055            \n",
       "Late (16-30 days)   0.061128            \n",
       "Late (31-120 days)  0.277631            "
      ]
     },
     "execution_count": 15,
     "metadata": {},
     "output_type": "execute_result"
    }
   ],
   "source": [
    "infer_mc_with_priors(x_train, x, pi_0, pi_T, n_states, chain_len, batch_size)"
   ]
  },
  {
   "cell_type": "code",
   "execution_count": null,
   "metadata": {},
   "outputs": [],
   "source": []
  }
 ],
 "metadata": {
  "kernelspec": {
   "display_name": "MLPP Lending Club",
   "language": "python",
   "name": "lending-club-analysis-iuojzap3"
  },
  "language_info": {
   "codemirror_mode": {
    "name": "ipython",
    "version": 3
   },
   "file_extension": ".py",
   "mimetype": "text/x-python",
   "name": "python",
   "nbconvert_exporter": "python",
   "pygments_lexer": "ipython3",
   "version": "3.6.5"
  }
 },
 "nbformat": 4,
 "nbformat_minor": 2
}
