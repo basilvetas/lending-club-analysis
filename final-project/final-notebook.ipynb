{
 "cells": [
  {
   "cell_type": "markdown",
   "metadata": {},
   "source": [
    "# Modeling Personal Loan Delinquency with LendingClub Data"
   ]
  },
  {
   "cell_type": "markdown",
   "metadata": {},
   "source": [
    "**TODO/Questions:**\n",
    "- ~~Are we leaving 'Issued' in the states description? => if not, change K to K=7 in the write up~~~\n",
    "- Need to find reference for \"Hallucinated data\" evaluation, mentioned in lecture 7\n",
    "- ~~Should we replace all the results of MLE by the MLE on extrapolated data? Should we keep both?~~~"
   ]
  },
  {
   "cell_type": "markdown",
   "metadata": {},
   "source": [
    "## Background"
   ]
  },
  {
   "cell_type": "markdown",
   "metadata": {},
   "source": [
    "The domain of our project is peer-to-peer consumer lending. Our goal is to model credit risk on personal loans, more precisely to evaluate the probability of default or delinquency of borrowers during their loan period.\n",
    "\n",
    "LendingClub loans are made over either a 36 or 60 month term, with a variety of statistics reported about each unique loan on a monthly basis (our analysis focuses on the 36 month terms). Our variable of interest is called `loan_status` which has eight possible states. We attempt to model credit risk by estimating the probability of a loan transitioning between any two of these states at any month during the loan term. Below are the eight `loan_status` states, with descriptions from LendingClub's [website](https://help.lendingclub.com/hc/en-us/articles/215488038-What-do-the-different-Note-statuses-mean-):\n",
    "\n",
    "- **Current**: Loan is up to date on all outstanding payments. \n",
    "\n",
    "- **In Grace Period**: Loan payment is late, but within the 15-day grace period.\n",
    " \n",
    "- **Late (16-30)**: Loan is late, past the grace period, hasn't been current for 16 to 30 days.\n",
    " \n",
    "- **Late (31-120)**: Loan has not been current for 31 to 120 days.\n",
    " \n",
    "- **Charged Off**: Loan for which there is no longer a reasonable expectation of further payments. Charge Off typically occurs when a loan is 120 days or more past due and there is no reasonable expectation of sufficient payment to prevent the charge off. Loans for which borrowers have filed for bankruptcy may be charged off earlier.\n",
    "\n",
    "- **Default**: Loan has not been current for an extended period of time. Charged off and default states are similar, yet different. [TODO explain]\n",
    "\n",
    "- **Fully paid**: Loan has been fully repaid, either at the expiration of the 3- or 5-year year term or as a result of a prepayment.\n",
    "\n",
    "- **Done**: Additional state that we add for loans that finish before their term (Either fully paid or delinquent). See the section \"Data\".\n",
    "\n",
    "To model the transition states month over month, we employed a stationary discrete time step Markov Chain model. Discrete because our data is on a monthly basis, and stationary because we assume the probability distribution of  transition is independent of time (we use the same model across all month). Recall the Markov property, or the \"memoryless\" assumption, that for some sequence of events, that the conditional probability of the next time step $x_t$ depends only upon the previous time step $x_{t-1}$, ignoring all time steps that preceded it:\n",
    "\n",
    "$$\n",
    "\\begin{align*}\n",
    "p(X_t = x_t | X_{t-1} = x_{t-1}, X_{t-2} = x_{t-2}, ... , X_0 = x_0) = p(X_t = x_t | X_{t-1})\n",
    "\\end{align*}\n",
    "$$\n",
    "\n",
    "For a discrete time Markov Chain, the joint distribution for the probability of some sequence length $T$ can then be written as:\n",
    "\n",
    "$$\n",
    "\\begin{align*}\n",
    "p(X_{1:T}) = p(X_1)p(X_2 | X_1) p(X_3 | X_2) ... = p(X_1)\\prod_{t=2}^{T}p(X_t | X_{t-1})\n",
    "\\end{align*}\n",
    "$$\n",
    "\n",
    "[Murphy, 2012, p. 589](#References)\n",
    "\n",
    "For $K$ outcome states, the conditional distribution $p(X_t | X_{t-1})$ can be written as a $K \\times K$ transition matrix (denoted $A$) where $A_jk  = p(X_t = k | X_{t-1} = j)$ (the probability of transitioning from states $j$ to state $k$, where each row in the matrix can be thought of as a probability mass function). In our case $K=8$ and we have an $8 \\times 8$ transition matrix. The goal of our analysis, then, is to estimate the posterior probabilities of this transition matrix using our observed data."
   ]
  },
  {
   "cell_type": "markdown",
   "metadata": {},
   "source": [
    "## Data"
   ]
  },
  {
   "cell_type": "markdown",
   "metadata": {},
   "source": [
    "Our dataset consists of approximately 40 million observations from loans spanning between 2007 through Q3 2018. The dataset includes dozens of fields, however for our Markov model (and to simplify data management) we only need to work with 4 features: `id`, `loan_status`, `term`, and `age_of_loan`.\n",
    "\n",
    "During preprocessing, we also filtered out all loans with a 60 month term, and 36 term loans that extended beyond 36 months, reducing our dataset to around 27 million observations. In total, we have just under 1.5 million unique loans, which can be seen in the rows column after we split and pivot our data below.\n",
    "\n",
    "One last preprocessing step that we performed is to extend all loans that are shorter than 36 months to exactly 36 months: The reason is that (given the current version of Edward and Tensorflow), it is not technically possible to build variable length Markov Chains. To do that, all loans that finish earlier than 36 months enter a state \"Done\" that we created. Note that this is not needed for *Experiment 1*, yet, for consistency, we used that method accross all experiments. To confirm that this extra preprocessing step didn't modify the model too much, we did run *Experiment 1* with and without that step, and found out that the MLE estimates were roughly the same, therefore this step is reasonable."
   ]
  },
  {
   "cell_type": "code",
   "execution_count": 1,
   "metadata": {},
   "outputs": [],
   "source": [
    "from utils.utils import load_dataframe, preprocess, split_data\n",
    "from utils.models import build_mle_matrix, build_mc_no_priors, build_mc_with_priors\n",
    "from utils.inference import compute_mle, infer_mc_no_priors, infer_mc_with_priors\n",
    "from utils.criticism import sample_mle, plot_sampled_lengths, graph_trajectory\n",
    "import numpy as np\n",
    "import pandas as pd"
   ]
  },
  {
   "cell_type": "code",
   "execution_count": 2,
   "metadata": {},
   "outputs": [
    {
     "name": "stdout",
     "output_type": "stream",
     "text": [
      "Loading raw data from cache...\n",
      "Retrieved 40,219,838 rows, 4 columns in 3.14 seconds\n"
     ]
    }
   ],
   "source": [
    "df = load_dataframe()"
   ]
  },
  {
   "cell_type": "code",
   "execution_count": 3,
   "metadata": {},
   "outputs": [
    {
     "name": "stdout",
     "output_type": "stream",
     "text": [
      "Mapping column names...\n",
      "Loading preprocessed data from cache...\n",
      "Retrieved 27,602,069 rows, 4 columns in 0.97 seconds\n"
     ]
    }
   ],
   "source": [
    "df = preprocess(df)"
   ]
  },
  {
   "cell_type": "code",
   "execution_count": 4,
   "metadata": {},
   "outputs": [
    {
     "name": "stdout",
     "output_type": "stream",
     "text": [
      "Loading split data from cache...\n",
      "Retrieved 1,508,424 rows, 36 columns in 0.45 seconds\n",
      "Train: (1357829, 36) | Test: (150595, 36)\n"
     ]
    }
   ],
   "source": [
    "x_train, x_test = split_data(df)"
   ]
  },
  {
   "cell_type": "code",
   "execution_count": 5,
   "metadata": {},
   "outputs": [],
   "source": [
    "chain_len = max(df.age_of_loan)\n",
    "n_states = df.loan_status.unique().shape[0] + 1"
   ]
  },
  {
   "cell_type": "markdown",
   "metadata": {},
   "source": [
    "## Experiment 1: Markov Model with Maximum Likelihood Estimates"
   ]
  },
  {
   "cell_type": "markdown",
   "metadata": {},
   "source": [
    "### 1.1 Model"
   ]
  },
  {
   "cell_type": "markdown",
   "metadata": {},
   "source": [
    "To get some intuition on how to estimate the transition matrix given our training data, $N$, we start with MLE estimation. The MLE solution of a Markov Chain is simply the empirical frequencies of each transition. Formally, the probability of some particular sequence length $T$, with transition matrix $A$ and states $K$ is given by: \n",
    "\n",
    "$$ \n",
    "\\begin{align*}\n",
    "p(x_{1:T}|\\theta) = p(x_1)A(x_1, x_2)...A(x_{T-1}, x_T) \n",
    "&= \\prod_{j=1}^{K}(p_j)^{\\mathbb{I}(x_1 = j)} \\prod_{t=2}^{T} \\prod_{j=1}^{K} \\prod_{k=1}^{K}(A_{jk})^{\\mathbb{I}(x_{t-1} = j, x_t = k)}\n",
    "\\end{align*}\n",
    "$$\n",
    "\n",
    "It is relatively easy to show that the MLEs for $p_j$ (at state $j$) and $A_{jk}$ (at transition from states $j$ to $k$) are given by the observed frequencies:  \n",
    "$$ \n",
    "\\begin{align*}\n",
    "p_j = \\frac{\\sum_{i=1}^N\\mathbb{I}(x_{i1} = j)}{\\sum_{j}\\sum_{i=1}^N\\mathbb{I}(x_{i1} = j)}\n",
    "\\end{align*}\n",
    "$$\n",
    "\n",
    "$$ \n",
    "\\begin{align*}\n",
    "A_{jk} = \\frac{\\sum_{i=1}^N\\sum_{t=1}^{T-1} \\mathbb{I}(x_{i,t} = j, x_{i,t+1} = k)}{\\sum_k\\sum_{i=1}^N\\sum_{t=1}^{T-1} \\mathbb{I}(x_{i,t} = j, x_{i,t+1} = k)}\n",
    "\\end{align*}\n",
    "$$\n",
    "\n",
    "[Murphy, 2012, pp. 592–593](#References)\n",
    "\n",
    "In more colloquial terms, the estimator for $p$ in any given outcome state $j$ is the number of times we observed $j$ at time $t=1$ in our training data, divided by the total number of observations at time $t=1$. Similarly, the estimator for $A$ of transitioning from state $j$ to state $k$ is given by the total number of times we observed a transition from state $j$ to state $k$, divided by the total number of times we observed a transition from state $j$ to any other state. For our purposes, we ignore $p$ and just generate MLE estimates for the transition matrix $A$. Even though we want to solve the problem from a Bayesian perspective, our first experiment with MLEs is relatively easy to obtain and should give us a reasonable baseline to compare other models against."
   ]
  },
  {
   "cell_type": "code",
   "execution_count": 6,
   "metadata": {},
   "outputs": [
    {
     "name": "stdout",
     "output_type": "stream",
     "text": [
      "Loading transitions data from cache...\n",
      "Retrieved 8 rows, 8 columns in 0.04 seconds\n"
     ]
    }
   ],
   "source": [
    "realized_transitions = build_mle_matrix(x_train)"
   ]
  },
  {
   "cell_type": "code",
   "execution_count": 7,
   "metadata": {},
   "outputs": [
    {
     "data": {
      "text/html": [
       "<div>\n",
       "<style scoped>\n",
       "    .dataframe tbody tr th:only-of-type {\n",
       "        vertical-align: middle;\n",
       "    }\n",
       "\n",
       "    .dataframe tbody tr th {\n",
       "        vertical-align: top;\n",
       "    }\n",
       "\n",
       "    .dataframe thead th {\n",
       "        text-align: right;\n",
       "    }\n",
       "</style>\n",
       "<table border=\"1\" class=\"dataframe\">\n",
       "  <thead>\n",
       "    <tr style=\"text-align: right;\">\n",
       "      <th></th>\n",
       "      <th>Charged Off</th>\n",
       "      <th>Current</th>\n",
       "      <th>Default</th>\n",
       "      <th>Fully Paid</th>\n",
       "      <th>In Grace Period</th>\n",
       "      <th>Late (16-30 days)</th>\n",
       "      <th>Late (31-120 days)</th>\n",
       "      <th>Done</th>\n",
       "    </tr>\n",
       "  </thead>\n",
       "  <tbody>\n",
       "    <tr>\n",
       "      <th>Charged Off</th>\n",
       "      <td>0</td>\n",
       "      <td>0</td>\n",
       "      <td>0</td>\n",
       "      <td>0</td>\n",
       "      <td>0</td>\n",
       "      <td>0</td>\n",
       "      <td>0</td>\n",
       "      <td>125066</td>\n",
       "    </tr>\n",
       "    <tr>\n",
       "      <th>Current</th>\n",
       "      <td>703</td>\n",
       "      <td>22001299</td>\n",
       "      <td>2</td>\n",
       "      <td>636538</td>\n",
       "      <td>5224</td>\n",
       "      <td>144363</td>\n",
       "      <td>55998</td>\n",
       "      <td>541857</td>\n",
       "    </tr>\n",
       "    <tr>\n",
       "      <th>Default</th>\n",
       "      <td>26147</td>\n",
       "      <td>129</td>\n",
       "      <td>1998</td>\n",
       "      <td>68</td>\n",
       "      <td>0</td>\n",
       "      <td>4</td>\n",
       "      <td>462</td>\n",
       "      <td>22</td>\n",
       "    </tr>\n",
       "    <tr>\n",
       "      <th>Fully Paid</th>\n",
       "      <td>0</td>\n",
       "      <td>0</td>\n",
       "      <td>0</td>\n",
       "      <td>7254</td>\n",
       "      <td>12</td>\n",
       "      <td>86</td>\n",
       "      <td>64</td>\n",
       "      <td>510919</td>\n",
       "    </tr>\n",
       "    <tr>\n",
       "      <th>In Grace Period</th>\n",
       "      <td>0</td>\n",
       "      <td>239</td>\n",
       "      <td>0</td>\n",
       "      <td>8</td>\n",
       "      <td>15</td>\n",
       "      <td>52</td>\n",
       "      <td>38</td>\n",
       "      <td>5179</td>\n",
       "    </tr>\n",
       "    <tr>\n",
       "      <th>Late (16-30 days)</th>\n",
       "      <td>4085</td>\n",
       "      <td>29159</td>\n",
       "      <td>0</td>\n",
       "      <td>1851</td>\n",
       "      <td>236</td>\n",
       "      <td>12125</td>\n",
       "      <td>107755</td>\n",
       "      <td>5237</td>\n",
       "    </tr>\n",
       "    <tr>\n",
       "      <th>Late (31-120 days)</th>\n",
       "      <td>95288</td>\n",
       "      <td>22952</td>\n",
       "      <td>26971</td>\n",
       "      <td>1927</td>\n",
       "      <td>55</td>\n",
       "      <td>2988</td>\n",
       "      <td>299419</td>\n",
       "      <td>11932</td>\n",
       "    </tr>\n",
       "    <tr>\n",
       "      <th>Done</th>\n",
       "      <td>0</td>\n",
       "      <td>0</td>\n",
       "      <td>0</td>\n",
       "      <td>0</td>\n",
       "      <td>0</td>\n",
       "      <td>0</td>\n",
       "      <td>0</td>\n",
       "      <td>22838359</td>\n",
       "    </tr>\n",
       "  </tbody>\n",
       "</table>\n",
       "</div>"
      ],
      "text/plain": [
       "                    Charged Off   Current  Default  Fully Paid  \\\n",
       "Charged Off                   0         0        0           0   \n",
       "Current                     703  22001299        2      636538   \n",
       "Default                   26147       129     1998          68   \n",
       "Fully Paid                    0         0        0        7254   \n",
       "In Grace Period               0       239        0           8   \n",
       "Late (16-30 days)          4085     29159        0        1851   \n",
       "Late (31-120 days)        95288     22952    26971        1927   \n",
       "Done                          0         0        0           0   \n",
       "\n",
       "                    In Grace Period  Late (16-30 days)  Late (31-120 days)  \\\n",
       "Charged Off                       0                  0                   0   \n",
       "Current                        5224             144363               55998   \n",
       "Default                           0                  4                 462   \n",
       "Fully Paid                       12                 86                  64   \n",
       "In Grace Period                  15                 52                  38   \n",
       "Late (16-30 days)               236              12125              107755   \n",
       "Late (31-120 days)               55               2988              299419   \n",
       "Done                              0                  0                   0   \n",
       "\n",
       "                        Done  \n",
       "Charged Off           125066  \n",
       "Current               541857  \n",
       "Default                   22  \n",
       "Fully Paid            510919  \n",
       "In Grace Period         5179  \n",
       "Late (16-30 days)       5237  \n",
       "Late (31-120 days)     11932  \n",
       "Done                22838359  "
      ]
     },
     "execution_count": 7,
     "metadata": {},
     "output_type": "execute_result"
    }
   ],
   "source": [
    "realized_transitions"
   ]
  },
  {
   "cell_type": "markdown",
   "metadata": {},
   "source": [
    "Note that `Charged Off` is a \"sink\" state, therefore there were no observations out of `Charged Off` and we simply filled this column with zeros. The other transition counts represent all observed loan transitions for 36 month term loans between 2007 to Q3 2018."
   ]
  },
  {
   "cell_type": "markdown",
   "metadata": {},
   "source": [
    "### 1.2 Inference"
   ]
  },
  {
   "cell_type": "markdown",
   "metadata": {},
   "source": [
    "Now that we have built a matrix of the realized state transitions, we use it to compute the MLE estimate of $A_{jk}$ from above, for each combination of $j$ and $k$."
   ]
  },
  {
   "cell_type": "code",
   "execution_count": 8,
   "metadata": {},
   "outputs": [],
   "source": [
    "mle = compute_mle(realized_transitions)"
   ]
  },
  {
   "cell_type": "code",
   "execution_count": 9,
   "metadata": {},
   "outputs": [
    {
     "data": {
      "text/html": [
       "<div>\n",
       "<style scoped>\n",
       "    .dataframe tbody tr th:only-of-type {\n",
       "        vertical-align: middle;\n",
       "    }\n",
       "\n",
       "    .dataframe tbody tr th {\n",
       "        vertical-align: top;\n",
       "    }\n",
       "\n",
       "    .dataframe thead th {\n",
       "        text-align: right;\n",
       "    }\n",
       "</style>\n",
       "<table border=\"1\" class=\"dataframe\">\n",
       "  <thead>\n",
       "    <tr style=\"text-align: right;\">\n",
       "      <th></th>\n",
       "      <th>Charged Off</th>\n",
       "      <th>Current</th>\n",
       "      <th>Default</th>\n",
       "      <th>Fully Paid</th>\n",
       "      <th>In Grace Period</th>\n",
       "      <th>Late (16-30 days)</th>\n",
       "      <th>Late (31-120 days)</th>\n",
       "      <th>Done</th>\n",
       "    </tr>\n",
       "  </thead>\n",
       "  <tbody>\n",
       "    <tr>\n",
       "      <th>Charged Off</th>\n",
       "      <td>0.000000</td>\n",
       "      <td>0.000000</td>\n",
       "      <td>0.000000</td>\n",
       "      <td>0.000000</td>\n",
       "      <td>0.000000</td>\n",
       "      <td>0.000000</td>\n",
       "      <td>0.000000</td>\n",
       "      <td>1.000000</td>\n",
       "    </tr>\n",
       "    <tr>\n",
       "      <th>Current</th>\n",
       "      <td>0.000030</td>\n",
       "      <td>0.940790</td>\n",
       "      <td>0.000000</td>\n",
       "      <td>0.027219</td>\n",
       "      <td>0.000223</td>\n",
       "      <td>0.006173</td>\n",
       "      <td>0.002395</td>\n",
       "      <td>0.023170</td>\n",
       "    </tr>\n",
       "    <tr>\n",
       "      <th>Default</th>\n",
       "      <td>0.906937</td>\n",
       "      <td>0.004475</td>\n",
       "      <td>0.069303</td>\n",
       "      <td>0.002359</td>\n",
       "      <td>0.000000</td>\n",
       "      <td>0.000139</td>\n",
       "      <td>0.016025</td>\n",
       "      <td>0.000763</td>\n",
       "    </tr>\n",
       "    <tr>\n",
       "      <th>Fully Paid</th>\n",
       "      <td>0.000000</td>\n",
       "      <td>0.000000</td>\n",
       "      <td>0.000000</td>\n",
       "      <td>0.013995</td>\n",
       "      <td>0.000023</td>\n",
       "      <td>0.000166</td>\n",
       "      <td>0.000123</td>\n",
       "      <td>0.985693</td>\n",
       "    </tr>\n",
       "    <tr>\n",
       "      <th>In Grace Period</th>\n",
       "      <td>0.000000</td>\n",
       "      <td>0.043211</td>\n",
       "      <td>0.000000</td>\n",
       "      <td>0.001446</td>\n",
       "      <td>0.002712</td>\n",
       "      <td>0.009402</td>\n",
       "      <td>0.006870</td>\n",
       "      <td>0.936359</td>\n",
       "    </tr>\n",
       "    <tr>\n",
       "      <th>Late (16-30 days)</th>\n",
       "      <td>0.025460</td>\n",
       "      <td>0.181735</td>\n",
       "      <td>0.000000</td>\n",
       "      <td>0.011536</td>\n",
       "      <td>0.001471</td>\n",
       "      <td>0.075570</td>\n",
       "      <td>0.671588</td>\n",
       "      <td>0.032640</td>\n",
       "    </tr>\n",
       "    <tr>\n",
       "      <th>Late (31-120 days)</th>\n",
       "      <td>0.206460</td>\n",
       "      <td>0.049730</td>\n",
       "      <td>0.058438</td>\n",
       "      <td>0.004175</td>\n",
       "      <td>0.000119</td>\n",
       "      <td>0.006474</td>\n",
       "      <td>0.648750</td>\n",
       "      <td>0.025853</td>\n",
       "    </tr>\n",
       "    <tr>\n",
       "      <th>Done</th>\n",
       "      <td>0.000000</td>\n",
       "      <td>0.000000</td>\n",
       "      <td>0.000000</td>\n",
       "      <td>0.000000</td>\n",
       "      <td>0.000000</td>\n",
       "      <td>0.000000</td>\n",
       "      <td>0.000000</td>\n",
       "      <td>1.000000</td>\n",
       "    </tr>\n",
       "  </tbody>\n",
       "</table>\n",
       "</div>"
      ],
      "text/plain": [
       "                    Charged Off   Current   Default  Fully Paid  \\\n",
       "Charged Off            0.000000  0.000000  0.000000    0.000000   \n",
       "Current                0.000030  0.940790  0.000000    0.027219   \n",
       "Default                0.906937  0.004475  0.069303    0.002359   \n",
       "Fully Paid             0.000000  0.000000  0.000000    0.013995   \n",
       "In Grace Period        0.000000  0.043211  0.000000    0.001446   \n",
       "Late (16-30 days)      0.025460  0.181735  0.000000    0.011536   \n",
       "Late (31-120 days)     0.206460  0.049730  0.058438    0.004175   \n",
       "Done                   0.000000  0.000000  0.000000    0.000000   \n",
       "\n",
       "                    In Grace Period  Late (16-30 days)  Late (31-120 days)  \\\n",
       "Charged Off                0.000000           0.000000            0.000000   \n",
       "Current                    0.000223           0.006173            0.002395   \n",
       "Default                    0.000000           0.000139            0.016025   \n",
       "Fully Paid                 0.000023           0.000166            0.000123   \n",
       "In Grace Period            0.002712           0.009402            0.006870   \n",
       "Late (16-30 days)          0.001471           0.075570            0.671588   \n",
       "Late (31-120 days)         0.000119           0.006474            0.648750   \n",
       "Done                       0.000000           0.000000            0.000000   \n",
       "\n",
       "                        Done  \n",
       "Charged Off         1.000000  \n",
       "Current             0.023170  \n",
       "Default             0.000763  \n",
       "Fully Paid          0.985693  \n",
       "In Grace Period     0.936359  \n",
       "Late (16-30 days)   0.032640  \n",
       "Late (31-120 days)  0.025853  \n",
       "Done                1.000000  "
      ]
     },
     "execution_count": 9,
     "metadata": {},
     "output_type": "execute_result"
    }
   ],
   "source": [
    "mle"
   ]
  },
  {
   "cell_type": "markdown",
   "metadata": {},
   "source": [
    "### 1.3 Criticism"
   ]
  },
  {
   "cell_type": "markdown",
   "metadata": {},
   "source": [
    "#### 1.3.1 Interpreting the estimates"
   ]
  },
  {
   "cell_type": "markdown",
   "metadata": {},
   "source": [
    "We can see that a lot of the MLE estimates reflect our expectations, for example we can see that:\n",
    "- A loan which is `Current` is much more likely to stay 'Current' the next month than any other state transition.\n",
    "- A loan which is in `Default` is much more likely to be `Charged Off` the next month than any other state transition.\n",
    "- Some states are not reachable from other states, for example once `Charged Off`, a loan cannot go to any other state except Done, because LendingClub shuts down the loan completely.\n",
    "- Similarly, a loan cannot transition from `Current` to `Late (31-120 days)` (except with a very low probability which is due to how the data is collected), because first it has to go to either `In Grace Period` or `Late (16-30 days)`, since we are measuring data each month.\n",
    "\n",
    "One problem often observed with MLE estimates for Markov Models is that without enough samples, you may not have observed all the possible states and the transition matrix will show many zero values. A trick to deal with this is called \"add-one smoothing\" which adds one to all counts before computing the transition probabilities. We initially thought we may have this issue beause some of our transition probabilities are very small. However, since our dataset is very large and the number of states is small, we concluded that we have enough observations that this problem is unlikeley in our case: if a transition has never been observed, we consider that it is not possible, and if the values are very infrequent we believe this is reflective of the true transition probabilties."
   ]
  },
  {
   "cell_type": "markdown",
   "metadata": {},
   "source": [
    "#### 1.3.2 Sampling from the posterior predictive"
   ]
  },
  {
   "cell_type": "markdown",
   "metadata": {},
   "source": [
    "We can now use these estimates to generate some trajectories. We start at `Current` and keep generating transitions for a period of 36 months, except if we reach `Charged Off` or `Fully Paid` which both are essentially a \"sink\"."
   ]
  },
  {
   "cell_type": "markdown",
   "metadata": {},
   "source": [
    "**Sample 1**: An example of \"good loan\" that was paid back quickly.\n",
    "\n",
    "Even though the trajectory seems likely, we can see that the loan is quite short. We will discuss loan lengths in the next criticisim section."
   ]
  },
  {
   "cell_type": "code",
   "execution_count": 15,
   "metadata": {},
   "outputs": [
    {
     "data": {
      "image/png": "[encoded data removed]",
      "text/plain": [
       "<Figure size 1600x800 with 1 Axes>"
      ]
     },
     "metadata": {},
     "output_type": "display_data"
    }
   ],
   "source": [
    "graph_trajectory(sample_mle(mle))"
   ]
  },
  {
   "cell_type": "markdown",
   "metadata": {},
   "source": [
    "**Sample 2**: An example of \"bad loan\" that became late after a few months (different states of lateness) until getting charged off in month 12.\n",
    "\n",
    "We can notice the phenomenon that we mentioned earlier: the transitions Current -> Grace Period, and Grace Period -> Late do meet our expectations, yet we can see that the loan only stays one month in the state \"Late (31-120)\" and is Charged Off very soon. Yet, we know that the loan would actually stay longer in that state (up to 4 months) before being Charged Off.\n",
    "\n",
    "This reflects the main drawback of the Markov assumption: the transitions are only conditioned on the current state and do not take into account the previous states, which in our case means that they do not condition on how many months were spent in that state."
   ]
  },
  {
   "cell_type": "code",
   "execution_count": 18,
   "metadata": {},
   "outputs": [
    {
     "data": {
      "image/png": "[encoded data removed]",
      "text/plain": [
       "<Figure size 1600x800 with 1 Axes>"
      ]
     },
     "metadata": {},
     "output_type": "display_data"
    }
   ],
   "source": [
    "graph_trajectory(sample_mle(mle))"
   ]
  },
  {
   "cell_type": "markdown",
   "metadata": {},
   "source": [
    "**Sample 3**: A loan that was late but got paid and got back to Current "
   ]
  },
  {
   "cell_type": "code",
   "execution_count": 14,
   "metadata": {},
   "outputs": [
    {
     "data": {
      "image/png": "[encoded data removed]",
      "text/plain": [
       "<Figure size 1600x800 with 1 Axes>"
      ]
     },
     "metadata": {},
     "output_type": "display_data"
    }
   ],
   "source": [
    "graph_trajectory(sample_mle(mle))"
   ]
  },
  {
   "cell_type": "markdown",
   "metadata": {},
   "source": [
    "### 1.3.3 Computing at statistics based on generated samples"
   ]
  },
  {
   "cell_type": "markdown",
   "metadata": {},
   "source": [
    "**TODO** re-do this part now that we do MLE on extrapolated data (shouldn't be hard)"
   ]
  },
  {
   "cell_type": "markdown",
   "metadata": {},
   "source": [
    "Since we have the ability to sample from our learned posterior predictive, one interesting analysis that we can do is to look at an interesting test statistic on the real data and on sampled data. This echoes work by Gelman et al presented in Lecture 7 (**TODO** couldn't find the reference).\n",
    "\n",
    "One interesting statistic is the average length of the loans, i.e. after how many months they either reach a delinquency state or are \"Fully Paid\"."
   ]
  },
  {
   "cell_type": "code",
   "execution_count": 19,
   "metadata": {},
   "outputs": [],
   "source": [
    "sampled_trajectories = [sample_mle(mle) for _ in range(10000)]"
   ]
  },
  {
   "cell_type": "code",
   "execution_count": 59,
   "metadata": {},
   "outputs": [
    {
     "data": {
      "image/png": "[encoded data removed]",
      "text/plain": [
       "<Figure size 1080x576 with 1 Axes>"
      ]
     },
     "metadata": {
      "needs_background": "light"
     },
     "output_type": "display_data"
    },
    {
     "name": "stdout",
     "output_type": "stream",
     "text": [
      "Average length of sampled loans: 22.02 months\n",
      "Average length of true loans: 18.30 months\n"
     ]
    }
   ],
   "source": [
    "plot_sampled_lengths(sampled_trajectories, df)"
   ]
  },
  {
   "cell_type": "markdown",
   "metadata": {},
   "source": [
    "## Experiment 2: Stationary Markov Chain with Priors"
   ]
  },
  {
   "cell_type": "markdown",
   "metadata": {},
   "source": [
    "### 2.1 Model"
   ]
  },
  {
   "cell_type": "markdown",
   "metadata": {},
   "source": [
    "The first Bayesian model we built uses the Categorical Distribution to model state transitions, with the Dirichlet Distribution as priors. \n",
    "\n",
    "Recall the Categorical Distribution, denoted Cat$(p_1, ..., p_K)$, is a generalization of the Bernoulli Distribution across outcome states, namely, it describes the possible results of a single trial random variable $X$ that can take on one of $K$ possible outcome states, with the probability of each category given by $(p_1, ..., p_K)$. Recall in our scenario, $K=8$ representing the possible `loan_status` states. The probability mass function is then given by:\n",
    "\n",
    "$$\n",
    "\\begin{align*}\n",
    "p(X=x | p_1, ..., p_K) = \\prod_{j=1}^{K}(p_j)^{\\mathbb{I}(x = j)}\n",
    "\\end{align*}\n",
    "$$\n",
    "\n",
    "The Dirichlet Distribution, denoted Dir$(a_1, ..., a_K)$, is the conjugate prior of the Categorical Distribution. It describes the probabilities for a K-dimensional vector of random variables $\\bar{x}$ with entries in (0,1) and which sum to 1. It should be clear why this makes sense for modelling our Categorical priors. It is parameterixed by $(a_1, ..., a_K)$, called the concentration paramters, which become hyperparameters in our model. The probability density function is given by:\n",
    "\n",
    "$$\n",
    "\\begin{align*}\n",
    "p(\\bar{X}=[x_1, ..., x_K] | a_1, ..., a_K) = \\frac{\\Gamma(\\sum_{i=1}^K a_i)}{\\prod_{i=1}^K \\Gamma(a_i)}\\prod_{i=1}^K x_i^{a_i - 1}\n",
    "\\end{align*}\n",
    "$$\n",
    "\n",
    "The Markov Chain model we specify for transition matrix $A$, outcome states $K=8$ over sequence of months $T=36$ is given by:\n",
    "\n",
    "$$\n",
    "\\begin{align*}\n",
    "x_0 &\\text{ ~ Cat}(p_1, ..., p_K) \\\\\n",
    "x_t &\\text{ ~ Cat}_{t-1}(p_1, ..., p_K) \\space\\space\\space\\space t \\in [1, ..., T] \\\\\n",
    "A_j &\\text{ ~ Dir}(a_1, ..., a_K) \\\\\n",
    "\\end{align*}\n",
    "$$\n",
    "\n",
    "Notice that $A_j = [p_1, ..., p_K]$ indicates the $j$th row of the transition matrix, and is not time-dependent since we assume a stationary Markov Chain model with the same transition matrix across time steps. Also note that we are assuming independence of the Categoricals for each $x_t$.\n",
    "\n",
    "[Tu, 2018](#References)\n",
    "\n",
    "[Murphy, 2012, p. 594](#References)"
   ]
  },
  {
   "cell_type": "code",
   "execution_count": 48,
   "metadata": {},
   "outputs": [],
   "source": [
    "batch_size = 1000"
   ]
  },
  {
   "cell_type": "code",
   "execution_count": 49,
   "metadata": {},
   "outputs": [],
   "source": [
    "x, pi_0, pi_T = build_mc_with_priors(n_states, chain_len, batch_size)"
   ]
  },
  {
   "cell_type": "markdown",
   "metadata": {},
   "source": [
    "### 2.2 Inference (Batch)"
   ]
  },
  {
   "cell_type": "markdown",
   "metadata": {},
   "source": [
    "@Basil: I load models and inference like this so that I can reload them without restarting the kernel: (you can reload a module but can't reload a function): "
   ]
  },
  {
   "cell_type": "code",
   "execution_count": 50,
   "metadata": {},
   "outputs": [],
   "source": [
    "import utils.models, utils.inference"
   ]
  },
  {
   "cell_type": "code",
   "execution_count": 51,
   "metadata": {},
   "outputs": [
    {
     "data": {
      "text/plain": [
       "<module 'utils.inference' from '/Users/jeromekafrouni/Documents/Cours/Columbia/Cours/Semestre 3/COMS 6998 Prob Programming/Project/lending-club-analysis/final-project/utils/inference.py'>"
      ]
     },
     "execution_count": 51,
     "metadata": {},
     "output_type": "execute_result"
    }
   ],
   "source": [
    "from importlib import reload\n",
    "reload(utils.models)\n",
    "reload(utils.inference)"
   ]
  },
  {
   "cell_type": "markdown",
   "metadata": {},
   "source": [
    "**Parameter tuning**"
   ]
  },
  {
   "cell_type": "markdown",
   "metadata": {},
   "source": [
    "I tried multiple values for n_samples:\n",
    "- 5 = what we had initially, somewhat converges\n",
    "- 1000 = too high, blows up the memory \n",
    "- 100 = still goes to NaN with default optimizer; with custom optimizer, doesn't seem to help that much\n",
    "=> setting to 10 for now\n",
    "\n",
    "Optimizer:\n",
    "- lr = 0.01 too high, goes to NaN\n",
    "- anything higher than 0.005 goes to NaN eventually\n",
    "- 0.005 what he had so far\n",
    "- 0.001 not much difference\n",
    "- adding exponential decay of the lr (what's done by default when not specifying lr) doesn't help either\n",
    "\n",
    "n_epochs:\n",
    "- Have been using 10 so far"
   ]
  },
  {
   "cell_type": "markdown",
   "metadata": {},
   "source": [
    "**TODO:** write down the KLqp loss; think about kl_scaling argument??"
   ]
  },
  {
   "cell_type": "markdown",
   "metadata": {},
   "source": [
    "Running on 5 epochs: starts around loss 100K, dicreases to around 10K, sometimes goes to NaN right before the end. Takes around 1min to train"
   ]
  },
  {
   "cell_type": "code",
   "execution_count": 52,
   "metadata": {},
   "outputs": [
    {
     "name": "stdout",
     "output_type": "stream",
     "text": [
      "6767/6785 [ 99%] █████████████████████████████  ETA: 0s | Loss: 10603.808Caching experiment2 data...\n",
      "Retrieved 7 rows, 7 columns in 49.22 seconds\n"
     ]
    }
   ],
   "source": [
    "inferred_matrix, sess, qpi_0, qpi_T = utils.inference.infer_mc_with_priors(\n",
    "    x_train, x, pi_0, pi_T, n_states, chain_len, batch_size, lr=0.005)"
   ]
  },
  {
   "cell_type": "code",
   "execution_count": 53,
   "metadata": {},
   "outputs": [
    {
     "data": {
      "text/html": [
       "<div>\n",
       "<style scoped>\n",
       "    .dataframe tbody tr th:only-of-type {\n",
       "        vertical-align: middle;\n",
       "    }\n",
       "\n",
       "    .dataframe tbody tr th {\n",
       "        vertical-align: top;\n",
       "    }\n",
       "\n",
       "    .dataframe thead th {\n",
       "        text-align: right;\n",
       "    }\n",
       "</style>\n",
       "<table border=\"1\" class=\"dataframe\">\n",
       "  <thead>\n",
       "    <tr style=\"text-align: right;\">\n",
       "      <th></th>\n",
       "      <th>Charged Off</th>\n",
       "      <th>Current</th>\n",
       "      <th>Default</th>\n",
       "      <th>Fully Paid</th>\n",
       "      <th>In Grace Period</th>\n",
       "      <th>Late (16-30 days)</th>\n",
       "      <th>Late (31-120 days)</th>\n",
       "    </tr>\n",
       "  </thead>\n",
       "  <tbody>\n",
       "    <tr>\n",
       "      <th>Charged Off</th>\n",
       "      <td>0.206951</td>\n",
       "      <td>0.075214</td>\n",
       "      <td>0.143969</td>\n",
       "      <td>0.137299</td>\n",
       "      <td>0.117976</td>\n",
       "      <td>0.141233</td>\n",
       "      <td>0.177357</td>\n",
       "    </tr>\n",
       "    <tr>\n",
       "      <th>Current</th>\n",
       "      <td>0.038578</td>\n",
       "      <td>0.679605</td>\n",
       "      <td>0.051895</td>\n",
       "      <td>0.060246</td>\n",
       "      <td>0.049125</td>\n",
       "      <td>0.072794</td>\n",
       "      <td>0.047756</td>\n",
       "    </tr>\n",
       "    <tr>\n",
       "      <th>Default</th>\n",
       "      <td>0.157851</td>\n",
       "      <td>0.120921</td>\n",
       "      <td>0.166800</td>\n",
       "      <td>0.180365</td>\n",
       "      <td>0.174231</td>\n",
       "      <td>0.089756</td>\n",
       "      <td>0.110077</td>\n",
       "    </tr>\n",
       "    <tr>\n",
       "      <th>Fully Paid</th>\n",
       "      <td>0.048633</td>\n",
       "      <td>0.122612</td>\n",
       "      <td>0.070369</td>\n",
       "      <td>0.438960</td>\n",
       "      <td>0.110132</td>\n",
       "      <td>0.109899</td>\n",
       "      <td>0.099394</td>\n",
       "    </tr>\n",
       "    <tr>\n",
       "      <th>In Grace Period</th>\n",
       "      <td>0.109583</td>\n",
       "      <td>0.176950</td>\n",
       "      <td>0.206023</td>\n",
       "      <td>0.141662</td>\n",
       "      <td>0.137969</td>\n",
       "      <td>0.093219</td>\n",
       "      <td>0.134595</td>\n",
       "    </tr>\n",
       "    <tr>\n",
       "      <th>Late (16-30 days)</th>\n",
       "      <td>0.144752</td>\n",
       "      <td>0.230798</td>\n",
       "      <td>0.115761</td>\n",
       "      <td>0.224693</td>\n",
       "      <td>0.077556</td>\n",
       "      <td>0.117728</td>\n",
       "      <td>0.088713</td>\n",
       "    </tr>\n",
       "    <tr>\n",
       "      <th>Late (31-120 days)</th>\n",
       "      <td>0.091598</td>\n",
       "      <td>0.143830</td>\n",
       "      <td>0.118713</td>\n",
       "      <td>0.204656</td>\n",
       "      <td>0.148960</td>\n",
       "      <td>0.092114</td>\n",
       "      <td>0.200128</td>\n",
       "    </tr>\n",
       "  </tbody>\n",
       "</table>\n",
       "</div>"
      ],
      "text/plain": [
       "                    Charged Off   Current   Default  Fully Paid  \\\n",
       "Charged Off            0.206951  0.075214  0.143969    0.137299   \n",
       "Current                0.038578  0.679605  0.051895    0.060246   \n",
       "Default                0.157851  0.120921  0.166800    0.180365   \n",
       "Fully Paid             0.048633  0.122612  0.070369    0.438960   \n",
       "In Grace Period        0.109583  0.176950  0.206023    0.141662   \n",
       "Late (16-30 days)      0.144752  0.230798  0.115761    0.224693   \n",
       "Late (31-120 days)     0.091598  0.143830  0.118713    0.204656   \n",
       "\n",
       "                    In Grace Period  Late (16-30 days)  Late (31-120 days)  \n",
       "Charged Off                0.117976           0.141233            0.177357  \n",
       "Current                    0.049125           0.072794            0.047756  \n",
       "Default                    0.174231           0.089756            0.110077  \n",
       "Fully Paid                 0.110132           0.109899            0.099394  \n",
       "In Grace Period            0.137969           0.093219            0.134595  \n",
       "Late (16-30 days)          0.077556           0.117728            0.088713  \n",
       "Late (31-120 days)         0.148960           0.092114            0.200128  "
      ]
     },
     "execution_count": 53,
     "metadata": {},
     "output_type": "execute_result"
    }
   ],
   "source": [
    "inferred_matrix"
   ]
  },
  {
   "cell_type": "markdown",
   "metadata": {},
   "source": [
    "### 2.3 Criticism"
   ]
  },
  {
   "cell_type": "code",
   "execution_count": null,
   "metadata": {},
   "outputs": [],
   "source": []
  },
  {
   "cell_type": "markdown",
   "metadata": {},
   "source": [
    "## Experiment 3: Stationary Markov Chain with Priors, other implementation"
   ]
  },
  {
   "cell_type": "markdown",
   "metadata": {},
   "source": [
    "= Experiment 2 with TFP's code"
   ]
  },
  {
   "cell_type": "code",
   "execution_count": 61,
   "metadata": {},
   "outputs": [
    {
     "data": {
      "text/plain": [
       "<module 'utils.inference' from '/Users/jeromekafrouni/Documents/Cours/Columbia/Cours/Semestre 3/COMS 6998 Prob Programming/Project/lending-club-analysis/final-project/utils/inference.py'>"
      ]
     },
     "execution_count": 61,
     "metadata": {},
     "output_type": "execute_result"
    }
   ],
   "source": [
    "from importlib import reload\n",
    "reload(utils.models)\n",
    "reload(utils.inference)"
   ]
  },
  {
   "cell_type": "code",
   "execution_count": 62,
   "metadata": {},
   "outputs": [],
   "source": [
    "model, pi_0_2, pi_T_2 = utils.models.build_mc_with_priors_2(\n",
    "    n_states, chain_len, batch_size=batch_size)"
   ]
  },
  {
   "cell_type": "markdown",
   "metadata": {},
   "source": [
    "Loss starts around 8K, reaches 3K at 50%, slowly decreases (but with some noise) to around 1K, gets lower than 1K at the very end (TODO/ run with > 1 epochs, but it'll take a while)\n",
    "\n",
    "Like in exp 2, loss is very unstable... Sometimes results are really good, sometimes not...\n",
    "\n",
    "**TODO** print training curve\n",
    "\n",
    "**TODO** maybe get the mean matrix at different steps of the process to see how much it varies..."
   ]
  },
  {
   "cell_type": "code",
   "execution_count": 63,
   "metadata": {},
   "outputs": [
    {
     "name": "stdout",
     "output_type": "stream",
     "text": [
      "1352/1357 [ 99%] █████████████████████████████  ETA: 0s | Loss: 20507.449Caching experiment3 data...\n",
      "Retrieved 7 rows, 7 columns in 246.13 seconds\n"
     ]
    }
   ],
   "source": [
    "inferred_matrix_2, sess_2, qpi_0_2, qpi_T_2 = utils.inference.infer_mc_with_priors_2(\n",
    "    x_train, model, pi_0_2, pi_T_2, n_states, chain_len, batch_size=batch_size, lr=0.002)"
   ]
  },
  {
   "cell_type": "code",
   "execution_count": 64,
   "metadata": {},
   "outputs": [
    {
     "data": {
      "text/html": [
       "<div>\n",
       "<style scoped>\n",
       "    .dataframe tbody tr th:only-of-type {\n",
       "        vertical-align: middle;\n",
       "    }\n",
       "\n",
       "    .dataframe tbody tr th {\n",
       "        vertical-align: top;\n",
       "    }\n",
       "\n",
       "    .dataframe thead th {\n",
       "        text-align: right;\n",
       "    }\n",
       "</style>\n",
       "<table border=\"1\" class=\"dataframe\">\n",
       "  <thead>\n",
       "    <tr style=\"text-align: right;\">\n",
       "      <th></th>\n",
       "      <th>Charged Off</th>\n",
       "      <th>Current</th>\n",
       "      <th>Default</th>\n",
       "      <th>Fully Paid</th>\n",
       "      <th>In Grace Period</th>\n",
       "      <th>Late (16-30 days)</th>\n",
       "      <th>Late (31-120 days)</th>\n",
       "    </tr>\n",
       "  </thead>\n",
       "  <tbody>\n",
       "    <tr>\n",
       "      <th>Charged Off</th>\n",
       "      <td>0.127542</td>\n",
       "      <td>0.134748</td>\n",
       "      <td>0.119181</td>\n",
       "      <td>0.139837</td>\n",
       "      <td>0.109857</td>\n",
       "      <td>0.201425</td>\n",
       "      <td>0.167409</td>\n",
       "    </tr>\n",
       "    <tr>\n",
       "      <th>Current</th>\n",
       "      <td>0.132987</td>\n",
       "      <td>0.219901</td>\n",
       "      <td>0.104461</td>\n",
       "      <td>0.121077</td>\n",
       "      <td>0.155798</td>\n",
       "      <td>0.142938</td>\n",
       "      <td>0.122839</td>\n",
       "    </tr>\n",
       "    <tr>\n",
       "      <th>Default</th>\n",
       "      <td>0.181195</td>\n",
       "      <td>0.175531</td>\n",
       "      <td>0.086902</td>\n",
       "      <td>0.198947</td>\n",
       "      <td>0.101448</td>\n",
       "      <td>0.170413</td>\n",
       "      <td>0.085563</td>\n",
       "    </tr>\n",
       "    <tr>\n",
       "      <th>Fully Paid</th>\n",
       "      <td>0.189186</td>\n",
       "      <td>0.165378</td>\n",
       "      <td>0.102402</td>\n",
       "      <td>0.182074</td>\n",
       "      <td>0.102979</td>\n",
       "      <td>0.157179</td>\n",
       "      <td>0.100802</td>\n",
       "    </tr>\n",
       "    <tr>\n",
       "      <th>In Grace Period</th>\n",
       "      <td>0.176054</td>\n",
       "      <td>0.082203</td>\n",
       "      <td>0.161662</td>\n",
       "      <td>0.097538</td>\n",
       "      <td>0.145803</td>\n",
       "      <td>0.165518</td>\n",
       "      <td>0.171221</td>\n",
       "    </tr>\n",
       "    <tr>\n",
       "      <th>Late (16-30 days)</th>\n",
       "      <td>0.162645</td>\n",
       "      <td>0.181964</td>\n",
       "      <td>0.156189</td>\n",
       "      <td>0.095483</td>\n",
       "      <td>0.161538</td>\n",
       "      <td>0.141947</td>\n",
       "      <td>0.100234</td>\n",
       "    </tr>\n",
       "    <tr>\n",
       "      <th>Late (31-120 days)</th>\n",
       "      <td>0.147203</td>\n",
       "      <td>0.211464</td>\n",
       "      <td>0.118680</td>\n",
       "      <td>0.101715</td>\n",
       "      <td>0.182503</td>\n",
       "      <td>0.134276</td>\n",
       "      <td>0.104159</td>\n",
       "    </tr>\n",
       "  </tbody>\n",
       "</table>\n",
       "</div>"
      ],
      "text/plain": [
       "                    Charged Off   Current   Default  Fully Paid  \\\n",
       "Charged Off            0.127542  0.134748  0.119181    0.139837   \n",
       "Current                0.132987  0.219901  0.104461    0.121077   \n",
       "Default                0.181195  0.175531  0.086902    0.198947   \n",
       "Fully Paid             0.189186  0.165378  0.102402    0.182074   \n",
       "In Grace Period        0.176054  0.082203  0.161662    0.097538   \n",
       "Late (16-30 days)      0.162645  0.181964  0.156189    0.095483   \n",
       "Late (31-120 days)     0.147203  0.211464  0.118680    0.101715   \n",
       "\n",
       "                    In Grace Period  Late (16-30 days)  Late (31-120 days)  \n",
       "Charged Off                0.109857           0.201425            0.167409  \n",
       "Current                    0.155798           0.142938            0.122839  \n",
       "Default                    0.101448           0.170413            0.085563  \n",
       "Fully Paid                 0.102979           0.157179            0.100802  \n",
       "In Grace Period            0.145803           0.165518            0.171221  \n",
       "Late (16-30 days)          0.161538           0.141947            0.100234  \n",
       "Late (31-120 days)         0.182503           0.134276            0.104159  "
      ]
     },
     "execution_count": 64,
     "metadata": {},
     "output_type": "execute_result"
    }
   ],
   "source": [
    "inferred_matrix_2"
   ]
  },
  {
   "cell_type": "markdown",
   "metadata": {},
   "source": [
    "## Experiment 4: One categorical per timestamp in the chain"
   ]
  },
  {
   "cell_type": "markdown",
   "metadata": {},
   "source": [
    "Instead of sharing one transition matrix as a parameter of each Categorical distribution at each timestep, we create one parameter per position in the timestep, with their own Dirichlet prior. In other terms we are conditioning both on the previous step and on the position in the chain [TODO write the updated math].\n",
    "\n",
    "This model should capture dynamics of the sequence of transitions better, since we can expect that the probability of delinquency highly depends on the time elapsed since the beginning of the loan."
   ]
  },
  {
   "cell_type": "markdown",
   "metadata": {},
   "source": [
    "### 4.1 Model"
   ]
  },
  {
   "cell_type": "code",
   "execution_count": 120,
   "metadata": {},
   "outputs": [
    {
     "data": {
      "text/plain": [
       "<module 'utils.models' from '/Users/jeromekafrouni/Documents/Cours/Columbia/Cours/Semestre 3/COMS 6998 Prob Programming/Project/lending-club-analysis/final-project/utils/models.py'>"
      ]
     },
     "execution_count": 120,
     "metadata": {},
     "output_type": "execute_result"
    }
   ],
   "source": [
    "reload(utils.models)"
   ]
  },
  {
   "cell_type": "code",
   "execution_count": 121,
   "metadata": {},
   "outputs": [],
   "source": [
    "batch_size = 1000"
   ]
  },
  {
   "cell_type": "code",
   "execution_count": 122,
   "metadata": {},
   "outputs": [],
   "source": [
    "x, pi_0, pi_T_list = utils.models.build_mc_non_stationary(n_states, chain_len, batch_size)"
   ]
  },
  {
   "cell_type": "markdown",
   "metadata": {},
   "source": [
    "### 4.2 Inference (Batch)"
   ]
  },
  {
   "cell_type": "code",
   "execution_count": 123,
   "metadata": {},
   "outputs": [
    {
     "data": {
      "text/plain": [
       "<module 'utils.inference' from '/Users/jeromekafrouni/Documents/Cours/Columbia/Cours/Semestre 3/COMS 6998 Prob Programming/Project/lending-club-analysis/final-project/utils/inference.py'>"
      ]
     },
     "execution_count": 123,
     "metadata": {},
     "output_type": "execute_result"
    }
   ],
   "source": [
    "reload(utils.inference)"
   ]
  },
  {
   "cell_type": "markdown",
   "metadata": {},
   "source": [
    "Loss seems a bit more stable; but does reach NaN for > 5 epochs..."
   ]
  },
  {
   "cell_type": "markdown",
   "metadata": {},
   "source": [
    "**TODO** had an error when caching list so disabled caching"
   ]
  },
  {
   "cell_type": "code",
   "execution_count": 124,
   "metadata": {},
   "outputs": [
    {
     "name": "stdout",
     "output_type": "stream",
     "text": [
      "6767/6785 [ 99%] █████████████████████████████  ETA: 0s | Loss: 19543.270"
     ]
    }
   ],
   "source": [
    "inferred_matrices, sess, qpi_0, qpi_T_list = utils.inference.infer_mc_non_stationary(\n",
    "    x_train, x, pi_0, pi_T_list, n_states, chain_len, batch_size, n_epoch=5, lr=0.005)"
   ]
  },
  {
   "cell_type": "markdown",
   "metadata": {},
   "source": [
    "### 4.3 Criticism"
   ]
  },
  {
   "cell_type": "code",
   "execution_count": 125,
   "metadata": {},
   "outputs": [
    {
     "data": {
      "text/html": [
       "<div>\n",
       "<style scoped>\n",
       "    .dataframe tbody tr th:only-of-type {\n",
       "        vertical-align: middle;\n",
       "    }\n",
       "\n",
       "    .dataframe tbody tr th {\n",
       "        vertical-align: top;\n",
       "    }\n",
       "\n",
       "    .dataframe thead th {\n",
       "        text-align: right;\n",
       "    }\n",
       "</style>\n",
       "<table border=\"1\" class=\"dataframe\">\n",
       "  <thead>\n",
       "    <tr style=\"text-align: right;\">\n",
       "      <th></th>\n",
       "      <th>Charged Off</th>\n",
       "      <th>Current</th>\n",
       "      <th>Default</th>\n",
       "      <th>Fully Paid</th>\n",
       "      <th>In Grace Period</th>\n",
       "      <th>Late (16-30 days)</th>\n",
       "      <th>Late (31-120 days)</th>\n",
       "    </tr>\n",
       "  </thead>\n",
       "  <tbody>\n",
       "    <tr>\n",
       "      <th>Charged Off</th>\n",
       "      <td>0.091655</td>\n",
       "      <td>0.407144</td>\n",
       "      <td>0.124033</td>\n",
       "      <td>0.175973</td>\n",
       "      <td>0.127193</td>\n",
       "      <td>0.045367</td>\n",
       "      <td>0.028637</td>\n",
       "    </tr>\n",
       "    <tr>\n",
       "      <th>Current</th>\n",
       "      <td>0.112270</td>\n",
       "      <td>0.426863</td>\n",
       "      <td>0.080966</td>\n",
       "      <td>0.151445</td>\n",
       "      <td>0.068005</td>\n",
       "      <td>0.077824</td>\n",
       "      <td>0.082628</td>\n",
       "    </tr>\n",
       "    <tr>\n",
       "      <th>Default</th>\n",
       "      <td>0.152620</td>\n",
       "      <td>0.384892</td>\n",
       "      <td>0.110854</td>\n",
       "      <td>0.104067</td>\n",
       "      <td>0.097153</td>\n",
       "      <td>0.085326</td>\n",
       "      <td>0.065088</td>\n",
       "    </tr>\n",
       "    <tr>\n",
       "      <th>Fully Paid</th>\n",
       "      <td>0.085045</td>\n",
       "      <td>0.397670</td>\n",
       "      <td>0.141834</td>\n",
       "      <td>0.127393</td>\n",
       "      <td>0.100948</td>\n",
       "      <td>0.082897</td>\n",
       "      <td>0.064214</td>\n",
       "    </tr>\n",
       "    <tr>\n",
       "      <th>In Grace Period</th>\n",
       "      <td>0.140949</td>\n",
       "      <td>0.405123</td>\n",
       "      <td>0.095298</td>\n",
       "      <td>0.113763</td>\n",
       "      <td>0.066258</td>\n",
       "      <td>0.077602</td>\n",
       "      <td>0.101008</td>\n",
       "    </tr>\n",
       "    <tr>\n",
       "      <th>Late (16-30 days)</th>\n",
       "      <td>0.110924</td>\n",
       "      <td>0.418934</td>\n",
       "      <td>0.061295</td>\n",
       "      <td>0.191696</td>\n",
       "      <td>0.072310</td>\n",
       "      <td>0.078715</td>\n",
       "      <td>0.066126</td>\n",
       "    </tr>\n",
       "    <tr>\n",
       "      <th>Late (31-120 days)</th>\n",
       "      <td>0.113061</td>\n",
       "      <td>0.353042</td>\n",
       "      <td>0.117305</td>\n",
       "      <td>0.073259</td>\n",
       "      <td>0.132754</td>\n",
       "      <td>0.092185</td>\n",
       "      <td>0.118393</td>\n",
       "    </tr>\n",
       "  </tbody>\n",
       "</table>\n",
       "</div>"
      ],
      "text/plain": [
       "                    Charged Off   Current   Default  Fully Paid  \\\n",
       "Charged Off            0.091655  0.407144  0.124033    0.175973   \n",
       "Current                0.112270  0.426863  0.080966    0.151445   \n",
       "Default                0.152620  0.384892  0.110854    0.104067   \n",
       "Fully Paid             0.085045  0.397670  0.141834    0.127393   \n",
       "In Grace Period        0.140949  0.405123  0.095298    0.113763   \n",
       "Late (16-30 days)      0.110924  0.418934  0.061295    0.191696   \n",
       "Late (31-120 days)     0.113061  0.353042  0.117305    0.073259   \n",
       "\n",
       "                    In Grace Period  Late (16-30 days)  Late (31-120 days)  \n",
       "Charged Off                0.127193           0.045367            0.028637  \n",
       "Current                    0.068005           0.077824            0.082628  \n",
       "Default                    0.097153           0.085326            0.065088  \n",
       "Fully Paid                 0.100948           0.082897            0.064214  \n",
       "In Grace Period            0.066258           0.077602            0.101008  \n",
       "Late (16-30 days)          0.072310           0.078715            0.066126  \n",
       "Late (31-120 days)         0.132754           0.092185            0.118393  "
      ]
     },
     "execution_count": 125,
     "metadata": {},
     "output_type": "execute_result"
    }
   ],
   "source": [
    "inferred_matrices[0]"
   ]
  },
  {
   "cell_type": "markdown",
   "metadata": {},
   "source": [
    "## Experiment 5: Modeling counts of transitions, as a multinomial"
   ]
  },
  {
   "cell_type": "markdown",
   "metadata": {},
   "source": [
    "### 5.1 Model"
   ]
  },
  {
   "cell_type": "code",
   "execution_count": 257,
   "metadata": {},
   "outputs": [],
   "source": [
    "pi_list, counts = utils.models.build_multinomial(\n",
    "    n_states, chain_len, total_counts_per_month=x_train.shape[0])"
   ]
  },
  {
   "cell_type": "markdown",
   "metadata": {},
   "source": [
    "### 5.2 Inference (Batch)"
   ]
  },
  {
   "cell_type": "markdown",
   "metadata": {},
   "source": [
    "For now we can just count states globally, but we should write another preprocessing function to count month per month instead (each month is a new drawing of the multinomial). This is mostly for test purposes.\n",
    "\n",
    "**Pb** we need to add date information when loading the dataframe at the very first..."
   ]
  },
  {
   "cell_type": "code",
   "execution_count": 158,
   "metadata": {},
   "outputs": [],
   "source": [
    "counts_per_month = utils.utils.get_counts_per_month(x_train, n_states)"
   ]
  },
  {
   "cell_type": "markdown",
   "metadata": {},
   "source": [
    "Matrix of size (36, 7), total count of statuses per position in the MC."
   ]
  },
  {
   "cell_type": "code",
   "execution_count": 258,
   "metadata": {},
   "outputs": [
    {
     "data": {
      "text/plain": [
       "<module 'utils.inference' from '/Users/jeromekafrouni/Documents/Cours/Columbia/Cours/Semestre 3/COMS 6998 Prob Programming/Project/lending-club-analysis/final-project/utils/inference.py'>"
      ]
     },
     "execution_count": 258,
     "metadata": {},
     "output_type": "execute_result"
    }
   ],
   "source": [
    "reload(utils.inference)"
   ]
  },
  {
   "cell_type": "code",
   "execution_count": 259,
   "metadata": {},
   "outputs": [
    {
     "name": "stdout",
     "output_type": "stream",
     "text": [
      "3000/3000 [100%] ██████████████████████████████ Elapsed: 27s | Loss: 11538680.000\n"
     ]
    }
   ],
   "source": [
    "inferred_matrix, sess, qpi_list = utils.inference.infer_counts_multinomial(\n",
    "    counts_per_month, pi_list, counts, x_train.shape[0], n_states, chain_len)"
   ]
  },
  {
   "cell_type": "code",
   "execution_count": 261,
   "metadata": {},
   "outputs": [
    {
     "data": {
      "text/html": [
       "<div>\n",
       "<style scoped>\n",
       "    .dataframe tbody tr th:only-of-type {\n",
       "        vertical-align: middle;\n",
       "    }\n",
       "\n",
       "    .dataframe tbody tr th {\n",
       "        vertical-align: top;\n",
       "    }\n",
       "\n",
       "    .dataframe thead th {\n",
       "        text-align: right;\n",
       "    }\n",
       "</style>\n",
       "<table border=\"1\" class=\"dataframe\">\n",
       "  <thead>\n",
       "    <tr style=\"text-align: right;\">\n",
       "      <th></th>\n",
       "      <th>Charged Off</th>\n",
       "      <th>Current</th>\n",
       "      <th>Default</th>\n",
       "      <th>Fully Paid</th>\n",
       "      <th>In Grace Period</th>\n",
       "      <th>Late (16-30 days)</th>\n",
       "      <th>Late (31-120 days)</th>\n",
       "    </tr>\n",
       "  </thead>\n",
       "  <tbody>\n",
       "    <tr>\n",
       "      <th>0</th>\n",
       "      <td>0.05</td>\n",
       "      <td>0.67</td>\n",
       "      <td>0.05</td>\n",
       "      <td>0.06</td>\n",
       "      <td>0.05</td>\n",
       "      <td>0.05</td>\n",
       "      <td>0.05</td>\n",
       "    </tr>\n",
       "    <tr>\n",
       "      <th>1</th>\n",
       "      <td>0.05</td>\n",
       "      <td>0.68</td>\n",
       "      <td>0.05</td>\n",
       "      <td>0.05</td>\n",
       "      <td>0.05</td>\n",
       "      <td>0.05</td>\n",
       "      <td>0.05</td>\n",
       "    </tr>\n",
       "    <tr>\n",
       "      <th>2</th>\n",
       "      <td>0.06</td>\n",
       "      <td>0.65</td>\n",
       "      <td>0.06</td>\n",
       "      <td>0.06</td>\n",
       "      <td>0.06</td>\n",
       "      <td>0.06</td>\n",
       "      <td>0.06</td>\n",
       "    </tr>\n",
       "    <tr>\n",
       "      <th>3</th>\n",
       "      <td>0.06</td>\n",
       "      <td>0.66</td>\n",
       "      <td>0.05</td>\n",
       "      <td>0.06</td>\n",
       "      <td>0.06</td>\n",
       "      <td>0.06</td>\n",
       "      <td>0.06</td>\n",
       "    </tr>\n",
       "    <tr>\n",
       "      <th>4</th>\n",
       "      <td>0.05</td>\n",
       "      <td>0.69</td>\n",
       "      <td>0.05</td>\n",
       "      <td>0.07</td>\n",
       "      <td>0.05</td>\n",
       "      <td>0.05</td>\n",
       "      <td>0.05</td>\n",
       "    </tr>\n",
       "    <tr>\n",
       "      <th>5</th>\n",
       "      <td>0.05</td>\n",
       "      <td>0.67</td>\n",
       "      <td>0.05</td>\n",
       "      <td>0.07</td>\n",
       "      <td>0.05</td>\n",
       "      <td>0.05</td>\n",
       "      <td>0.05</td>\n",
       "    </tr>\n",
       "    <tr>\n",
       "      <th>6</th>\n",
       "      <td>0.06</td>\n",
       "      <td>0.63</td>\n",
       "      <td>0.06</td>\n",
       "      <td>0.09</td>\n",
       "      <td>0.05</td>\n",
       "      <td>0.05</td>\n",
       "      <td>0.06</td>\n",
       "    </tr>\n",
       "    <tr>\n",
       "      <th>7</th>\n",
       "      <td>0.05</td>\n",
       "      <td>0.65</td>\n",
       "      <td>0.05</td>\n",
       "      <td>0.09</td>\n",
       "      <td>0.05</td>\n",
       "      <td>0.05</td>\n",
       "      <td>0.05</td>\n",
       "    </tr>\n",
       "    <tr>\n",
       "      <th>8</th>\n",
       "      <td>0.05</td>\n",
       "      <td>0.62</td>\n",
       "      <td>0.05</td>\n",
       "      <td>0.12</td>\n",
       "      <td>0.05</td>\n",
       "      <td>0.06</td>\n",
       "      <td>0.05</td>\n",
       "    </tr>\n",
       "    <tr>\n",
       "      <th>9</th>\n",
       "      <td>0.05</td>\n",
       "      <td>0.65</td>\n",
       "      <td>0.05</td>\n",
       "      <td>0.12</td>\n",
       "      <td>0.05</td>\n",
       "      <td>0.05</td>\n",
       "      <td>0.05</td>\n",
       "    </tr>\n",
       "    <tr>\n",
       "      <th>10</th>\n",
       "      <td>0.05</td>\n",
       "      <td>0.61</td>\n",
       "      <td>0.05</td>\n",
       "      <td>0.14</td>\n",
       "      <td>0.05</td>\n",
       "      <td>0.05</td>\n",
       "      <td>0.05</td>\n",
       "    </tr>\n",
       "    <tr>\n",
       "      <th>11</th>\n",
       "      <td>0.05</td>\n",
       "      <td>0.62</td>\n",
       "      <td>0.05</td>\n",
       "      <td>0.14</td>\n",
       "      <td>0.05</td>\n",
       "      <td>0.05</td>\n",
       "      <td>0.05</td>\n",
       "    </tr>\n",
       "    <tr>\n",
       "      <th>12</th>\n",
       "      <td>0.05</td>\n",
       "      <td>0.59</td>\n",
       "      <td>0.05</td>\n",
       "      <td>0.15</td>\n",
       "      <td>0.05</td>\n",
       "      <td>0.05</td>\n",
       "      <td>0.05</td>\n",
       "    </tr>\n",
       "    <tr>\n",
       "      <th>13</th>\n",
       "      <td>0.05</td>\n",
       "      <td>0.59</td>\n",
       "      <td>0.05</td>\n",
       "      <td>0.18</td>\n",
       "      <td>0.05</td>\n",
       "      <td>0.05</td>\n",
       "      <td>0.05</td>\n",
       "    </tr>\n",
       "    <tr>\n",
       "      <th>14</th>\n",
       "      <td>0.05</td>\n",
       "      <td>0.56</td>\n",
       "      <td>0.05</td>\n",
       "      <td>0.19</td>\n",
       "      <td>0.05</td>\n",
       "      <td>0.05</td>\n",
       "      <td>0.05</td>\n",
       "    </tr>\n",
       "    <tr>\n",
       "      <th>15</th>\n",
       "      <td>0.05</td>\n",
       "      <td>0.59</td>\n",
       "      <td>0.05</td>\n",
       "      <td>0.16</td>\n",
       "      <td>0.05</td>\n",
       "      <td>0.05</td>\n",
       "      <td>0.05</td>\n",
       "    </tr>\n",
       "    <tr>\n",
       "      <th>16</th>\n",
       "      <td>0.06</td>\n",
       "      <td>0.56</td>\n",
       "      <td>0.05</td>\n",
       "      <td>0.19</td>\n",
       "      <td>0.05</td>\n",
       "      <td>0.05</td>\n",
       "      <td>0.05</td>\n",
       "    </tr>\n",
       "    <tr>\n",
       "      <th>17</th>\n",
       "      <td>0.06</td>\n",
       "      <td>0.55</td>\n",
       "      <td>0.04</td>\n",
       "      <td>0.21</td>\n",
       "      <td>0.04</td>\n",
       "      <td>0.04</td>\n",
       "      <td>0.05</td>\n",
       "    </tr>\n",
       "    <tr>\n",
       "      <th>18</th>\n",
       "      <td>0.06</td>\n",
       "      <td>0.54</td>\n",
       "      <td>0.05</td>\n",
       "      <td>0.21</td>\n",
       "      <td>0.05</td>\n",
       "      <td>0.05</td>\n",
       "      <td>0.05</td>\n",
       "    </tr>\n",
       "    <tr>\n",
       "      <th>19</th>\n",
       "      <td>0.07</td>\n",
       "      <td>0.55</td>\n",
       "      <td>0.04</td>\n",
       "      <td>0.21</td>\n",
       "      <td>0.04</td>\n",
       "      <td>0.04</td>\n",
       "      <td>0.04</td>\n",
       "    </tr>\n",
       "    <tr>\n",
       "      <th>20</th>\n",
       "      <td>0.07</td>\n",
       "      <td>0.51</td>\n",
       "      <td>0.04</td>\n",
       "      <td>0.24</td>\n",
       "      <td>0.04</td>\n",
       "      <td>0.04</td>\n",
       "      <td>0.04</td>\n",
       "    </tr>\n",
       "    <tr>\n",
       "      <th>21</th>\n",
       "      <td>0.08</td>\n",
       "      <td>0.52</td>\n",
       "      <td>0.04</td>\n",
       "      <td>0.23</td>\n",
       "      <td>0.04</td>\n",
       "      <td>0.04</td>\n",
       "      <td>0.05</td>\n",
       "    </tr>\n",
       "    <tr>\n",
       "      <th>22</th>\n",
       "      <td>0.08</td>\n",
       "      <td>0.50</td>\n",
       "      <td>0.04</td>\n",
       "      <td>0.26</td>\n",
       "      <td>0.04</td>\n",
       "      <td>0.04</td>\n",
       "      <td>0.04</td>\n",
       "    </tr>\n",
       "    <tr>\n",
       "      <th>23</th>\n",
       "      <td>0.09</td>\n",
       "      <td>0.50</td>\n",
       "      <td>0.04</td>\n",
       "      <td>0.24</td>\n",
       "      <td>0.04</td>\n",
       "      <td>0.04</td>\n",
       "      <td>0.04</td>\n",
       "    </tr>\n",
       "    <tr>\n",
       "      <th>24</th>\n",
       "      <td>0.08</td>\n",
       "      <td>0.48</td>\n",
       "      <td>0.04</td>\n",
       "      <td>0.27</td>\n",
       "      <td>0.04</td>\n",
       "      <td>0.04</td>\n",
       "      <td>0.04</td>\n",
       "    </tr>\n",
       "    <tr>\n",
       "      <th>25</th>\n",
       "      <td>0.08</td>\n",
       "      <td>0.48</td>\n",
       "      <td>0.04</td>\n",
       "      <td>0.28</td>\n",
       "      <td>0.04</td>\n",
       "      <td>0.04</td>\n",
       "      <td>0.04</td>\n",
       "    </tr>\n",
       "    <tr>\n",
       "      <th>26</th>\n",
       "      <td>0.09</td>\n",
       "      <td>0.48</td>\n",
       "      <td>0.04</td>\n",
       "      <td>0.28</td>\n",
       "      <td>0.04</td>\n",
       "      <td>0.04</td>\n",
       "      <td>0.04</td>\n",
       "    </tr>\n",
       "    <tr>\n",
       "      <th>27</th>\n",
       "      <td>0.08</td>\n",
       "      <td>0.49</td>\n",
       "      <td>0.04</td>\n",
       "      <td>0.27</td>\n",
       "      <td>0.04</td>\n",
       "      <td>0.04</td>\n",
       "      <td>0.04</td>\n",
       "    </tr>\n",
       "    <tr>\n",
       "      <th>28</th>\n",
       "      <td>0.09</td>\n",
       "      <td>0.44</td>\n",
       "      <td>0.04</td>\n",
       "      <td>0.29</td>\n",
       "      <td>0.04</td>\n",
       "      <td>0.04</td>\n",
       "      <td>0.05</td>\n",
       "    </tr>\n",
       "    <tr>\n",
       "      <th>29</th>\n",
       "      <td>0.10</td>\n",
       "      <td>0.45</td>\n",
       "      <td>0.04</td>\n",
       "      <td>0.30</td>\n",
       "      <td>0.04</td>\n",
       "      <td>0.04</td>\n",
       "      <td>0.04</td>\n",
       "    </tr>\n",
       "    <tr>\n",
       "      <th>30</th>\n",
       "      <td>0.10</td>\n",
       "      <td>0.44</td>\n",
       "      <td>0.04</td>\n",
       "      <td>0.29</td>\n",
       "      <td>0.04</td>\n",
       "      <td>0.04</td>\n",
       "      <td>0.04</td>\n",
       "    </tr>\n",
       "    <tr>\n",
       "      <th>31</th>\n",
       "      <td>0.10</td>\n",
       "      <td>0.43</td>\n",
       "      <td>0.04</td>\n",
       "      <td>0.30</td>\n",
       "      <td>0.04</td>\n",
       "      <td>0.04</td>\n",
       "      <td>0.04</td>\n",
       "    </tr>\n",
       "    <tr>\n",
       "      <th>32</th>\n",
       "      <td>0.10</td>\n",
       "      <td>0.41</td>\n",
       "      <td>0.04</td>\n",
       "      <td>0.33</td>\n",
       "      <td>0.04</td>\n",
       "      <td>0.04</td>\n",
       "      <td>0.04</td>\n",
       "    </tr>\n",
       "    <tr>\n",
       "      <th>33</th>\n",
       "      <td>0.11</td>\n",
       "      <td>0.41</td>\n",
       "      <td>0.04</td>\n",
       "      <td>0.32</td>\n",
       "      <td>0.04</td>\n",
       "      <td>0.04</td>\n",
       "      <td>0.04</td>\n",
       "    </tr>\n",
       "    <tr>\n",
       "      <th>34</th>\n",
       "      <td>0.10</td>\n",
       "      <td>0.42</td>\n",
       "      <td>0.04</td>\n",
       "      <td>0.33</td>\n",
       "      <td>0.04</td>\n",
       "      <td>0.04</td>\n",
       "      <td>0.04</td>\n",
       "    </tr>\n",
       "    <tr>\n",
       "      <th>35</th>\n",
       "      <td>0.10</td>\n",
       "      <td>0.35</td>\n",
       "      <td>0.04</td>\n",
       "      <td>0.37</td>\n",
       "      <td>0.04</td>\n",
       "      <td>0.04</td>\n",
       "      <td>0.04</td>\n",
       "    </tr>\n",
       "  </tbody>\n",
       "</table>\n",
       "</div>"
      ],
      "text/plain": [
       "    Charged Off  Current  Default  Fully Paid  In Grace Period  \\\n",
       "0          0.05     0.67     0.05        0.06             0.05   \n",
       "1          0.05     0.68     0.05        0.05             0.05   \n",
       "2          0.06     0.65     0.06        0.06             0.06   \n",
       "3          0.06     0.66     0.05        0.06             0.06   \n",
       "4          0.05     0.69     0.05        0.07             0.05   \n",
       "5          0.05     0.67     0.05        0.07             0.05   \n",
       "6          0.06     0.63     0.06        0.09             0.05   \n",
       "7          0.05     0.65     0.05        0.09             0.05   \n",
       "8          0.05     0.62     0.05        0.12             0.05   \n",
       "9          0.05     0.65     0.05        0.12             0.05   \n",
       "10         0.05     0.61     0.05        0.14             0.05   \n",
       "11         0.05     0.62     0.05        0.14             0.05   \n",
       "12         0.05     0.59     0.05        0.15             0.05   \n",
       "13         0.05     0.59     0.05        0.18             0.05   \n",
       "14         0.05     0.56     0.05        0.19             0.05   \n",
       "15         0.05     0.59     0.05        0.16             0.05   \n",
       "16         0.06     0.56     0.05        0.19             0.05   \n",
       "17         0.06     0.55     0.04        0.21             0.04   \n",
       "18         0.06     0.54     0.05        0.21             0.05   \n",
       "19         0.07     0.55     0.04        0.21             0.04   \n",
       "20         0.07     0.51     0.04        0.24             0.04   \n",
       "21         0.08     0.52     0.04        0.23             0.04   \n",
       "22         0.08     0.50     0.04        0.26             0.04   \n",
       "23         0.09     0.50     0.04        0.24             0.04   \n",
       "24         0.08     0.48     0.04        0.27             0.04   \n",
       "25         0.08     0.48     0.04        0.28             0.04   \n",
       "26         0.09     0.48     0.04        0.28             0.04   \n",
       "27         0.08     0.49     0.04        0.27             0.04   \n",
       "28         0.09     0.44     0.04        0.29             0.04   \n",
       "29         0.10     0.45     0.04        0.30             0.04   \n",
       "30         0.10     0.44     0.04        0.29             0.04   \n",
       "31         0.10     0.43     0.04        0.30             0.04   \n",
       "32         0.10     0.41     0.04        0.33             0.04   \n",
       "33         0.11     0.41     0.04        0.32             0.04   \n",
       "34         0.10     0.42     0.04        0.33             0.04   \n",
       "35         0.10     0.35     0.04        0.37             0.04   \n",
       "\n",
       "    Late (16-30 days)  Late (31-120 days)  \n",
       "0                0.05                0.05  \n",
       "1                0.05                0.05  \n",
       "2                0.06                0.06  \n",
       "3                0.06                0.06  \n",
       "4                0.05                0.05  \n",
       "5                0.05                0.05  \n",
       "6                0.05                0.06  \n",
       "7                0.05                0.05  \n",
       "8                0.06                0.05  \n",
       "9                0.05                0.05  \n",
       "10               0.05                0.05  \n",
       "11               0.05                0.05  \n",
       "12               0.05                0.05  \n",
       "13               0.05                0.05  \n",
       "14               0.05                0.05  \n",
       "15               0.05                0.05  \n",
       "16               0.05                0.05  \n",
       "17               0.04                0.05  \n",
       "18               0.05                0.05  \n",
       "19               0.04                0.04  \n",
       "20               0.04                0.04  \n",
       "21               0.04                0.05  \n",
       "22               0.04                0.04  \n",
       "23               0.04                0.04  \n",
       "24               0.04                0.04  \n",
       "25               0.04                0.04  \n",
       "26               0.04                0.04  \n",
       "27               0.04                0.04  \n",
       "28               0.04                0.05  \n",
       "29               0.04                0.04  \n",
       "30               0.04                0.04  \n",
       "31               0.04                0.04  \n",
       "32               0.04                0.04  \n",
       "33               0.04                0.04  \n",
       "34               0.04                0.04  \n",
       "35               0.04                0.04  "
      ]
     },
     "execution_count": 261,
     "metadata": {},
     "output_type": "execute_result"
    }
   ],
   "source": [
    "round(inferred_matrix, 2)"
   ]
  },
  {
   "cell_type": "markdown",
   "metadata": {},
   "source": [
    "### 5.3 Criticism"
   ]
  },
  {
   "cell_type": "code",
   "execution_count": 159,
   "metadata": {},
   "outputs": [],
   "source": [
    "# TODO"
   ]
  },
  {
   "cell_type": "markdown",
   "metadata": {},
   "source": [
    "## Experiment 6: Segmenting the loans / mixture model"
   ]
  },
  {
   "cell_type": "markdown",
   "metadata": {},
   "source": [
    "Probably won't have much time to do something decent, maybe we can do the segmentation \"by hand\" though, i.e. not in edwards..."
   ]
  },
  {
   "cell_type": "code",
   "execution_count": 67,
   "metadata": {},
   "outputs": [],
   "source": [
    "# TODO"
   ]
  },
  {
   "cell_type": "markdown",
   "metadata": {},
   "source": [
    "## References"
   ]
  },
  {
   "cell_type": "markdown",
   "metadata": {},
   "source": [
    "*Machine Learning: A Probabilistic Perspective*, by Kevin P. Murphy, MIT Press, 2012.\n",
    "\n",
    "*The Dirichlet-Multinomial and Dirichlet-Categorical models for Bayesian inference*, by Stephen Tu, retrieved from https://people.eecs.berkeley.edu/~stephentu/writeups/dirichlet-conjugate-prior.pdf"
   ]
  },
  {
   "cell_type": "code",
   "execution_count": null,
   "metadata": {},
   "outputs": [],
   "source": []
  }
 ],
 "metadata": {
  "kernelspec": {
   "display_name": "Python 3",
   "language": "python",
   "name": "python3"
  },
  "language_info": {
   "codemirror_mode": {
    "name": "ipython",
    "version": 3
   },
   "file_extension": ".py",
   "mimetype": "text/x-python",
   "name": "python",
   "nbconvert_exporter": "python",
   "pygments_lexer": "ipython3",
   "version": "3.6.1"
  }
 },
 "nbformat": 4,
 "nbformat_minor": 2
}
