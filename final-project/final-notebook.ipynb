{
 "cells": [
  {
   "cell_type": "markdown",
   "metadata": {},
   "source": [
    "# Modeling Personal Loan Delinquency with LendingClub Data"
   ]
  },
  {
   "cell_type": "markdown",
   "metadata": {},
   "source": [
    "Our project focuses on the domain of peer-to-peer consumer lending. The task is to model credit risk on personal loans, more precisely to evaluate the probability of default or delinquency of borrowers during their loan period.\n",
    "\n",
    "We explored different ways to model the loans, all based on the idea of modeling the loans as Markov Processes, with discrete states that we present in the next section, and discrete timestamps (data is collected monthly).\n",
    "\n",
    "We discovered that modelling sequential models is not an easy task given the tools of Probabilistic Programming, therefore we tried various way to build models and perform inference, and compared each of them."
   ]
  },
  {
   "cell_type": "markdown",
   "metadata": {},
   "source": [
    "## Data"
   ]
  },
  {
   "cell_type": "code",
   "execution_count": 1,
   "metadata": {},
   "outputs": [
    {
     "name": "stdout",
     "output_type": "stream",
     "text": [
      "WARNING:tensorflow:From /Users/jeromekafrouni/.pyenv/versions/3.6.1/envs/prob-prog/lib/python3.6/site-packages/tensorflow/contrib/learn/python/learn/datasets/base.py:198: retry (from tensorflow.contrib.learn.python.learn.datasets.base) is deprecated and will be removed in a future version.\n",
      "Instructions for updating:\n",
      "Use the retry module or similar alternatives.\n"
     ]
    }
   ],
   "source": [
    "from utils.utils import load_dataframe, preprocess, split_data\n",
    "from utils.models import build_mle_matrix, build_mc_no_priors, build_mc_with_priors\n",
    "from utils.inference import compute_mle, infer_mc_no_priors, infer_mc_with_priors\n",
    "from utils.criticism import sample_mle, plot_sampled_lengths\n",
    "\n",
    "import numpy as np"
   ]
  },
  {
   "cell_type": "code",
   "execution_count": 2,
   "metadata": {},
   "outputs": [
    {
     "name": "stdout",
     "output_type": "stream",
     "text": [
      "Loading raw data from cache...\n",
      "Retrieved 40,263,987 rows, 4 columns in 4.89 seconds\n"
     ]
    }
   ],
   "source": [
    "df = load_dataframe()"
   ]
  },
  {
   "cell_type": "markdown",
   "metadata": {},
   "source": [
    "Our variable of interest is called `loan_status` which has eight possible states. These are the Loan Status Descriptions based on the LendingClub's [website](https://help.lendingclub.com/hc/en-us/articles/215488038-What-do-the-different-Note-statuses-mean-):\n",
    "\n",
    "- **Issued**: New loan that has passed all LendingClub reviews, received full funding, and has been issued.\n",
    "\n",
    "- **Current**: Loan is up to date on all outstanding payments. \n",
    "\n",
    "- **In Grace Period**: Loan payment is late, but within the 15-day grace period.\n",
    " \n",
    "- **Late (16-30)**: Loan is late, past the grace period, hasn't been current for 16 to 30 days.\n",
    " \n",
    "- **Late (31-120)**: Loan has not been current for 31 to 120 days.\n",
    " \n",
    "- **Charged Off**: Loan for which there is no longer a reasonable expectation of further payments. Charge Off typically occurs when a loan is 120 days or more past due and there is no reasonable expectation of sufficient payment to prevent the charge off. Loans for which borrowers have filed for bankruptcy may be charged off earlier.\n",
    "\n",
    "- **Default**: Loan has not been current for an extended period of time. Charged off and default states are similar, yet different. [TODO explain]\n",
    "\n",
    "- **Fully paid**: Loan has been fully repaid, either at the expiration of the 3- or 5-year year term or as a result of a prepayment."
   ]
  },
  {
   "cell_type": "code",
   "execution_count": 3,
   "metadata": {},
   "outputs": [
    {
     "name": "stdout",
     "output_type": "stream",
     "text": [
      "Mapping column names...\n",
      "Loading preprocessed data from cache...\n",
      "Retrieved 27,636,875 rows, 4 columns in 3.09 seconds\n"
     ]
    }
   ],
   "source": [
    "df = preprocess(df)"
   ]
  },
  {
   "cell_type": "code",
   "execution_count": 4,
   "metadata": {},
   "outputs": [
    {
     "name": "stdout",
     "output_type": "stream",
     "text": [
      "Loading split data from cache...\n",
      "Retrieved 1,486,122 rows, 36 columns in 0.87 seconds\n",
      "Train: (1337551, 36) | Test: (148571, 36)\n"
     ]
    }
   ],
   "source": [
    "x_train, x_test = split_data(df)"
   ]
  },
  {
   "cell_type": "markdown",
   "metadata": {},
   "source": [
    "## Experiment 1: Markov Model with Maximum Likelihood Estimates"
   ]
  },
  {
   "cell_type": "markdown",
   "metadata": {},
   "source": [
    "We start with a simple model which is a Markov Model, which is stationary and homogeneous: the transitions between states are the same for all loans, and don't vary with time. We will keep this model for several experiments, as inference can be quite challenging even on this simpel model.\n",
    "\n",
    "Even though we want to solve the problem from a Bayesian perspective, our first idea is to estimate the model with MLE estimates, which are easy to obtain and give us a robust baseline."
   ]
  },
  {
   "cell_type": "markdown",
   "metadata": {},
   "source": [
    "### 1.1 Model"
   ]
  },
  {
   "cell_type": "markdown",
   "metadata": {},
   "source": [
    "We can easily derive that the MLE estimates for such a model are simply the empirical frequencies of each transition, therefore all we need to do is to build a count matrix where we count each type of transition i => j between two states i,j."
   ]
  },
  {
   "cell_type": "code",
   "execution_count": 5,
   "metadata": {},
   "outputs": [
    {
     "name": "stdout",
     "output_type": "stream",
     "text": [
      "Loading transitions data from cache...\n",
      "Retrieved 8 rows, 8 columns in 0.02 seconds\n"
     ]
    }
   ],
   "source": [
    "realized_transitions = build_mle_matrix(df)"
   ]
  },
  {
   "cell_type": "code",
   "execution_count": 6,
   "metadata": {},
   "outputs": [
    {
     "data": {
      "text/html": [
       "<div>\n",
       "<style scoped>\n",
       "    .dataframe tbody tr th:only-of-type {\n",
       "        vertical-align: middle;\n",
       "    }\n",
       "\n",
       "    .dataframe tbody tr th {\n",
       "        vertical-align: top;\n",
       "    }\n",
       "\n",
       "    .dataframe thead th {\n",
       "        text-align: right;\n",
       "    }\n",
       "</style>\n",
       "<table border=\"1\" class=\"dataframe\">\n",
       "  <thead>\n",
       "    <tr style=\"text-align: right;\">\n",
       "      <th></th>\n",
       "      <th>Charged Off</th>\n",
       "      <th>Current</th>\n",
       "      <th>Default</th>\n",
       "      <th>Fully Paid</th>\n",
       "      <th>In Grace Period</th>\n",
       "      <th>Issued</th>\n",
       "      <th>Late (16-30 days)</th>\n",
       "      <th>Late (31-120 days)</th>\n",
       "    </tr>\n",
       "  </thead>\n",
       "  <tbody>\n",
       "    <tr>\n",
       "      <th>Charged Off</th>\n",
       "      <td>0</td>\n",
       "      <td>0</td>\n",
       "      <td>0</td>\n",
       "      <td>0</td>\n",
       "      <td>0</td>\n",
       "      <td>0</td>\n",
       "      <td>0</td>\n",
       "      <td>0</td>\n",
       "    </tr>\n",
       "    <tr>\n",
       "      <th>Current</th>\n",
       "      <td>774</td>\n",
       "      <td>24450170</td>\n",
       "      <td>3</td>\n",
       "      <td>707161</td>\n",
       "      <td>5831</td>\n",
       "      <td>0</td>\n",
       "      <td>160357</td>\n",
       "      <td>62006</td>\n",
       "    </tr>\n",
       "    <tr>\n",
       "      <th>Default</th>\n",
       "      <td>28843</td>\n",
       "      <td>147</td>\n",
       "      <td>2206</td>\n",
       "      <td>71</td>\n",
       "      <td>0</td>\n",
       "      <td>0</td>\n",
       "      <td>4</td>\n",
       "      <td>506</td>\n",
       "    </tr>\n",
       "    <tr>\n",
       "      <th>Fully Paid</th>\n",
       "      <td>0</td>\n",
       "      <td>0</td>\n",
       "      <td>0</td>\n",
       "      <td>8063</td>\n",
       "      <td>12</td>\n",
       "      <td>0</td>\n",
       "      <td>101</td>\n",
       "      <td>72</td>\n",
       "    </tr>\n",
       "    <tr>\n",
       "      <th>In Grace Period</th>\n",
       "      <td>0</td>\n",
       "      <td>276</td>\n",
       "      <td>0</td>\n",
       "      <td>11</td>\n",
       "      <td>22</td>\n",
       "      <td>0</td>\n",
       "      <td>59</td>\n",
       "      <td>41</td>\n",
       "    </tr>\n",
       "    <tr>\n",
       "      <th>Issued</th>\n",
       "      <td>0</td>\n",
       "      <td>17206</td>\n",
       "      <td>0</td>\n",
       "      <td>670</td>\n",
       "      <td>1</td>\n",
       "      <td>0</td>\n",
       "      <td>38</td>\n",
       "      <td>1</td>\n",
       "    </tr>\n",
       "    <tr>\n",
       "      <th>Late (16-30 days)</th>\n",
       "      <td>4548</td>\n",
       "      <td>32374</td>\n",
       "      <td>0</td>\n",
       "      <td>2066</td>\n",
       "      <td>257</td>\n",
       "      <td>0</td>\n",
       "      <td>13413</td>\n",
       "      <td>119613</td>\n",
       "    </tr>\n",
       "    <tr>\n",
       "      <th>Late (31-120 days)</th>\n",
       "      <td>105932</td>\n",
       "      <td>25398</td>\n",
       "      <td>29748</td>\n",
       "      <td>2138</td>\n",
       "      <td>56</td>\n",
       "      <td>0</td>\n",
       "      <td>3292</td>\n",
       "      <td>332463</td>\n",
       "    </tr>\n",
       "  </tbody>\n",
       "</table>\n",
       "</div>"
      ],
      "text/plain": [
       "                    Charged Off   Current  Default  Fully Paid  \\\n",
       "Charged Off                   0         0        0           0   \n",
       "Current                     774  24450170        3      707161   \n",
       "Default                   28843       147     2206          71   \n",
       "Fully Paid                    0         0        0        8063   \n",
       "In Grace Period               0       276        0          11   \n",
       "Issued                        0     17206        0         670   \n",
       "Late (16-30 days)          4548     32374        0        2066   \n",
       "Late (31-120 days)       105932     25398    29748        2138   \n",
       "\n",
       "                    In Grace Period  Issued  Late (16-30 days)  \\\n",
       "Charged Off                       0       0                  0   \n",
       "Current                        5831       0             160357   \n",
       "Default                           0       0                  4   \n",
       "Fully Paid                       12       0                101   \n",
       "In Grace Period                  22       0                 59   \n",
       "Issued                            1       0                 38   \n",
       "Late (16-30 days)               257       0              13413   \n",
       "Late (31-120 days)               56       0               3292   \n",
       "\n",
       "                    Late (31-120 days)  \n",
       "Charged Off                          0  \n",
       "Current                          62006  \n",
       "Default                            506  \n",
       "Fully Paid                          72  \n",
       "In Grace Period                     41  \n",
       "Issued                               1  \n",
       "Late (16-30 days)               119613  \n",
       "Late (31-120 days)              332463  "
      ]
     },
     "execution_count": 6,
     "metadata": {},
     "output_type": "execute_result"
    }
   ],
   "source": [
    "realized_transitions"
   ]
  },
  {
   "cell_type": "markdown",
   "metadata": {},
   "source": [
    "### 1.2 Inference"
   ]
  },
  {
   "cell_type": "markdown",
   "metadata": {},
   "source": [
    "Now that we have built a count matrix, we just take empirical frequencies to get our estimates:"
   ]
  },
  {
   "cell_type": "code",
   "execution_count": 7,
   "metadata": {},
   "outputs": [],
   "source": [
    "mle = compute_mle(realized_transitions)"
   ]
  },
  {
   "cell_type": "code",
   "execution_count": 8,
   "metadata": {},
   "outputs": [
    {
     "data": {
      "text/html": [
       "<div>\n",
       "<style scoped>\n",
       "    .dataframe tbody tr th:only-of-type {\n",
       "        vertical-align: middle;\n",
       "    }\n",
       "\n",
       "    .dataframe tbody tr th {\n",
       "        vertical-align: top;\n",
       "    }\n",
       "\n",
       "    .dataframe thead th {\n",
       "        text-align: right;\n",
       "    }\n",
       "</style>\n",
       "<table border=\"1\" class=\"dataframe\">\n",
       "  <thead>\n",
       "    <tr style=\"text-align: right;\">\n",
       "      <th></th>\n",
       "      <th>Charged Off</th>\n",
       "      <th>Current</th>\n",
       "      <th>Default</th>\n",
       "      <th>Fully Paid</th>\n",
       "      <th>In Grace Period</th>\n",
       "      <th>Issued</th>\n",
       "      <th>Late (16-30 days)</th>\n",
       "      <th>Late (31-120 days)</th>\n",
       "    </tr>\n",
       "  </thead>\n",
       "  <tbody>\n",
       "    <tr>\n",
       "      <th>Charged Off</th>\n",
       "      <td>0.00</td>\n",
       "      <td>0.00</td>\n",
       "      <td>0.00</td>\n",
       "      <td>0.00</td>\n",
       "      <td>0.00</td>\n",
       "      <td>0.0</td>\n",
       "      <td>0.00</td>\n",
       "      <td>0.00</td>\n",
       "    </tr>\n",
       "    <tr>\n",
       "      <th>Current</th>\n",
       "      <td>0.00</td>\n",
       "      <td>0.96</td>\n",
       "      <td>0.00</td>\n",
       "      <td>0.03</td>\n",
       "      <td>0.00</td>\n",
       "      <td>0.0</td>\n",
       "      <td>0.01</td>\n",
       "      <td>0.00</td>\n",
       "    </tr>\n",
       "    <tr>\n",
       "      <th>Default</th>\n",
       "      <td>0.91</td>\n",
       "      <td>0.00</td>\n",
       "      <td>0.07</td>\n",
       "      <td>0.00</td>\n",
       "      <td>0.00</td>\n",
       "      <td>0.0</td>\n",
       "      <td>0.00</td>\n",
       "      <td>0.02</td>\n",
       "    </tr>\n",
       "    <tr>\n",
       "      <th>Fully Paid</th>\n",
       "      <td>0.00</td>\n",
       "      <td>0.00</td>\n",
       "      <td>0.00</td>\n",
       "      <td>0.98</td>\n",
       "      <td>0.00</td>\n",
       "      <td>0.0</td>\n",
       "      <td>0.01</td>\n",
       "      <td>0.01</td>\n",
       "    </tr>\n",
       "    <tr>\n",
       "      <th>In Grace Period</th>\n",
       "      <td>0.00</td>\n",
       "      <td>0.67</td>\n",
       "      <td>0.00</td>\n",
       "      <td>0.03</td>\n",
       "      <td>0.05</td>\n",
       "      <td>0.0</td>\n",
       "      <td>0.14</td>\n",
       "      <td>0.10</td>\n",
       "    </tr>\n",
       "    <tr>\n",
       "      <th>Issued</th>\n",
       "      <td>0.00</td>\n",
       "      <td>0.96</td>\n",
       "      <td>0.00</td>\n",
       "      <td>0.04</td>\n",
       "      <td>0.00</td>\n",
       "      <td>0.0</td>\n",
       "      <td>0.00</td>\n",
       "      <td>0.00</td>\n",
       "    </tr>\n",
       "    <tr>\n",
       "      <th>Late (16-30 days)</th>\n",
       "      <td>0.03</td>\n",
       "      <td>0.19</td>\n",
       "      <td>0.00</td>\n",
       "      <td>0.01</td>\n",
       "      <td>0.00</td>\n",
       "      <td>0.0</td>\n",
       "      <td>0.08</td>\n",
       "      <td>0.69</td>\n",
       "    </tr>\n",
       "    <tr>\n",
       "      <th>Late (31-120 days)</th>\n",
       "      <td>0.21</td>\n",
       "      <td>0.05</td>\n",
       "      <td>0.06</td>\n",
       "      <td>0.00</td>\n",
       "      <td>0.00</td>\n",
       "      <td>0.0</td>\n",
       "      <td>0.01</td>\n",
       "      <td>0.67</td>\n",
       "    </tr>\n",
       "  </tbody>\n",
       "</table>\n",
       "</div>"
      ],
      "text/plain": [
       "                    Charged Off  Current  Default  Fully Paid  \\\n",
       "Charged Off                0.00     0.00     0.00        0.00   \n",
       "Current                    0.00     0.96     0.00        0.03   \n",
       "Default                    0.91     0.00     0.07        0.00   \n",
       "Fully Paid                 0.00     0.00     0.00        0.98   \n",
       "In Grace Period            0.00     0.67     0.00        0.03   \n",
       "Issued                     0.00     0.96     0.00        0.04   \n",
       "Late (16-30 days)          0.03     0.19     0.00        0.01   \n",
       "Late (31-120 days)         0.21     0.05     0.06        0.00   \n",
       "\n",
       "                    In Grace Period  Issued  Late (16-30 days)  \\\n",
       "Charged Off                    0.00     0.0               0.00   \n",
       "Current                        0.00     0.0               0.01   \n",
       "Default                        0.00     0.0               0.00   \n",
       "Fully Paid                     0.00     0.0               0.01   \n",
       "In Grace Period                0.05     0.0               0.14   \n",
       "Issued                         0.00     0.0               0.00   \n",
       "Late (16-30 days)              0.00     0.0               0.08   \n",
       "Late (31-120 days)             0.00     0.0               0.01   \n",
       "\n",
       "                    Late (31-120 days)  \n",
       "Charged Off                       0.00  \n",
       "Current                           0.00  \n",
       "Default                           0.02  \n",
       "Fully Paid                        0.01  \n",
       "In Grace Period                   0.10  \n",
       "Issued                            0.00  \n",
       "Late (16-30 days)                 0.69  \n",
       "Late (31-120 days)                0.67  "
      ]
     },
     "execution_count": 8,
     "metadata": {},
     "output_type": "execute_result"
    }
   ],
   "source": [
    "mle"
   ]
  },
  {
   "cell_type": "markdown",
   "metadata": {},
   "source": [
    "Note that these probabilities are true probabilities, except for Charged Off: this is a \"sink state\", therefore there is no possible next state, hence the row of 0."
   ]
  },
  {
   "cell_type": "markdown",
   "metadata": {},
   "source": [
    "### 1.3 Criticism"
   ]
  },
  {
   "cell_type": "markdown",
   "metadata": {},
   "source": [
    "**Values of the estimates:**"
   ]
  },
  {
   "cell_type": "markdown",
   "metadata": {},
   "source": [
    "We can see that a lot of the MLE estimates reflect our expectations, for example we can see that:\n",
    "- A loan which is 'Current' is much more likely to stay 'Current' the next month than any other state transition.\n",
    "- Some states are not reachable from certain states, for example once Charged Off, a loan cannot go to any other state, because LC shuts down the loan completely. Similarly, a loan cannot transition from 'Current' to 'Late (31-120)', because first it has to go to either Grace Period or 'Late (16-30)', since we are measuring data each month.\n",
    "\n",
    "We can also see the limits of our model and of these estimates:\n",
    "- TODO\n",
    "\n",
    "One trick that is usally done on MLE estimates for Markov Models is \"add-one smoothing\" which sets all the probabilities to a small value different than 0, to account for possible transitions that haven't been observed in our data. Since our dataset is very large and the number of states is small, we assume that it is not the case in our case: if a transition has never been observed, we consider that it is not possible."
   ]
  },
  {
   "cell_type": "markdown",
   "metadata": {},
   "source": [
    "**Sampling:**"
   ]
  },
  {
   "cell_type": "code",
   "execution_count": 9,
   "metadata": {},
   "outputs": [
    {
     "data": {
      "text/plain": [
       "['Issued',\n",
       " 'Current',\n",
       " 'Current',\n",
       " 'Current',\n",
       " 'Current',\n",
       " 'Current',\n",
       " 'Current',\n",
       " 'Current',\n",
       " 'Current',\n",
       " 'Current',\n",
       " 'Current',\n",
       " 'Current',\n",
       " 'Current',\n",
       " 'Current',\n",
       " 'Current',\n",
       " 'Current',\n",
       " 'Current',\n",
       " 'Current',\n",
       " 'Current',\n",
       " 'Current',\n",
       " 'Current',\n",
       " 'Current',\n",
       " 'Fully Paid']"
      ]
     },
     "execution_count": 9,
     "metadata": {},
     "output_type": "execute_result"
    }
   ],
   "source": [
    "sample_mle(mle)"
   ]
  },
  {
   "cell_type": "markdown",
   "metadata": {},
   "source": [
    "We can now use these estimates to generate some trajectories. We start as 'issued' and keep generating transitions for a period of 36 months, except if we reach 'Charged Off' which is a \"sink state\"."
   ]
  },
  {
   "cell_type": "code",
   "execution_count": 28,
   "metadata": {},
   "outputs": [
    {
     "data": {
      "text/plain": [
       "['Issued',\n",
       " 'Current',\n",
       " 'Current',\n",
       " 'Current',\n",
       " 'Current',\n",
       " 'Current',\n",
       " 'Current',\n",
       " 'Current',\n",
       " 'Current',\n",
       " 'Current',\n",
       " 'Current',\n",
       " 'Current',\n",
       " 'Current',\n",
       " 'Current',\n",
       " 'Current',\n",
       " 'Current',\n",
       " 'Current',\n",
       " 'Current',\n",
       " 'Current',\n",
       " 'Current',\n",
       " 'Current',\n",
       " 'Current',\n",
       " 'Current',\n",
       " 'Current',\n",
       " 'Current',\n",
       " 'Current',\n",
       " 'Current',\n",
       " 'Current',\n",
       " 'Current',\n",
       " 'Current',\n",
       " 'Current',\n",
       " 'Late (16-30 days)',\n",
       " 'Late (16-30 days)',\n",
       " 'Late (16-30 days)',\n",
       " 'Current',\n",
       " 'Current']"
      ]
     },
     "execution_count": 28,
     "metadata": {},
     "output_type": "execute_result"
    }
   ],
   "source": [
    "sample_mle(mle)"
   ]
  },
  {
   "cell_type": "markdown",
   "metadata": {},
   "source": [
    "By sampling, we can see limitations of the model itself, for example:\n",
    "- For Late (31-120), our model doesn't take into account how long has the loan spent in that state. But we do know that after being in that state 4 times, the probability of going to Charged Off is almost 1."
   ]
  },
  {
   "cell_type": "markdown",
   "metadata": {},
   "source": [
    "**Looking at statistics based on generated samples:**"
   ]
  },
  {
   "cell_type": "markdown",
   "metadata": {},
   "source": [
    "One thing we can do is to sample many times and look at the average length of a loan, and compare that to the empirical value in the data:"
   ]
  },
  {
   "cell_type": "code",
   "execution_count": 9,
   "metadata": {},
   "outputs": [],
   "source": [
    "sampled_trajectories = [sample_mle(mle) for _ in range(10000)]"
   ]
  },
  {
   "cell_type": "code",
   "execution_count": 10,
   "metadata": {},
   "outputs": [
    {
     "data": {
      "image/png": "[encoded data removed]",
      "text/plain": [
       "<Figure size 432x288 with 1 Axes>"
      ]
     },
     "metadata": {
      "needs_background": "light"
     },
     "output_type": "display_data"
    },
    {
     "name": "stdout",
     "output_type": "stream",
     "text": [
      "Average length of sampled loans: 21.54 months\n",
      "Average length of true loans: 18.17 months\n"
     ]
    }
   ],
   "source": [
    "plot_sampled_lengths(sampled_trajectories, df)"
   ]
  },
  {
   "cell_type": "markdown",
   "metadata": {},
   "source": [
    "### TODO re-run MLE with extrapolated MC"
   ]
  },
  {
   "cell_type": "markdown",
   "metadata": {},
   "source": [
    "## Experiment 2: Stationary Markov Chain with Priors"
   ]
  },
  {
   "cell_type": "code",
   "execution_count": 5,
   "metadata": {},
   "outputs": [],
   "source": [
    "chain_len = max(df.age_of_loan)\n",
    "n_states = df.loan_status.unique().shape[0]"
   ]
  },
  {
   "cell_type": "markdown",
   "metadata": {},
   "source": [
    "### 2.1 Model"
   ]
  },
  {
   "cell_type": "code",
   "execution_count": 48,
   "metadata": {},
   "outputs": [],
   "source": [
    "batch_size = 1000"
   ]
  },
  {
   "cell_type": "code",
   "execution_count": 49,
   "metadata": {},
   "outputs": [],
   "source": [
    "x, pi_0, pi_T = build_mc_with_priors(n_states, chain_len, batch_size)"
   ]
  },
  {
   "cell_type": "markdown",
   "metadata": {},
   "source": [
    "### 2.2 Inference (Batch)"
   ]
  },
  {
   "cell_type": "markdown",
   "metadata": {},
   "source": [
    "@Basil: I load models and inference like this so that I can reload them without restarting the kernel: (you can reload a module but can't reload a function): "
   ]
  },
  {
   "cell_type": "code",
   "execution_count": 50,
   "metadata": {},
   "outputs": [],
   "source": [
    "import utils.models, utils.inference"
   ]
  },
  {
   "cell_type": "code",
   "execution_count": 51,
   "metadata": {},
   "outputs": [
    {
     "data": {
      "text/plain": [
       "<module 'utils.inference' from '/Users/jeromekafrouni/Documents/Cours/Columbia/Cours/Semestre 3/COMS 6998 Prob Programming/Project/lending-club-analysis/final-project/utils/inference.py'>"
      ]
     },
     "execution_count": 51,
     "metadata": {},
     "output_type": "execute_result"
    }
   ],
   "source": [
    "from importlib import reload\n",
    "reload(utils.models)\n",
    "reload(utils.inference)"
   ]
  },
  {
   "cell_type": "markdown",
   "metadata": {},
   "source": [
    "**Parameter tuning**"
   ]
  },
  {
   "cell_type": "markdown",
   "metadata": {},
   "source": [
    "I tried multiple values for n_samples:\n",
    "- 5 = what we had initially, somewhat converges\n",
    "- 1000 = too high, blows up the memory \n",
    "- 100 = still goes to NaN with default optimizer; with custom optimizer, doesn't seem to help that much\n",
    "=> setting to 10 for now\n",
    "\n",
    "Optimizer:\n",
    "- lr = 0.01 too high, goes to NaN\n",
    "- anything higher than 0.005 goes to NaN eventually\n",
    "- 0.005 what he had so far\n",
    "- 0.001 not much difference\n",
    "- adding exponential decay of the lr (what's done by default when not specifying lr) doesn't help either\n",
    "\n",
    "n_epochs:\n",
    "- Have been using 10 so far"
   ]
  },
  {
   "cell_type": "markdown",
   "metadata": {},
   "source": [
    "**TODO:** write down the KLqp loss; think about kl_scaling argument??"
   ]
  },
  {
   "cell_type": "code",
   "execution_count": 52,
   "metadata": {},
   "outputs": [
    {
     "name": "stdout",
     "output_type": "stream",
     "text": [
      "13300/13370 [ 99%] █████████████████████████████  ETA: 0s | Loss: 68652.266"
     ]
    }
   ],
   "source": [
    "inferred_matrix, sess, qpi_0, qpi_T = utils.inference.infer_mc_with_priors(\n",
    "    x_train, x, pi_0, pi_T, n_states, chain_len, batch_size, lr=0.005)"
   ]
  },
  {
   "cell_type": "code",
   "execution_count": 53,
   "metadata": {},
   "outputs": [
    {
     "data": {
      "text/html": [
       "<div>\n",
       "<style scoped>\n",
       "    .dataframe tbody tr th:only-of-type {\n",
       "        vertical-align: middle;\n",
       "    }\n",
       "\n",
       "    .dataframe tbody tr th {\n",
       "        vertical-align: top;\n",
       "    }\n",
       "\n",
       "    .dataframe thead th {\n",
       "        text-align: right;\n",
       "    }\n",
       "</style>\n",
       "<table border=\"1\" class=\"dataframe\">\n",
       "  <thead>\n",
       "    <tr style=\"text-align: right;\">\n",
       "      <th></th>\n",
       "      <th>Charged Off</th>\n",
       "      <th>Current</th>\n",
       "      <th>Default</th>\n",
       "      <th>Fully Paid</th>\n",
       "      <th>In Grace Period</th>\n",
       "      <th>Issued</th>\n",
       "      <th>Late (16-30 days)</th>\n",
       "      <th>Late (31-120 days)</th>\n",
       "    </tr>\n",
       "  </thead>\n",
       "  <tbody>\n",
       "    <tr>\n",
       "      <th>Charged Off</th>\n",
       "      <td>0.15</td>\n",
       "      <td>0.09</td>\n",
       "      <td>0.10</td>\n",
       "      <td>0.12</td>\n",
       "      <td>0.09</td>\n",
       "      <td>0.17</td>\n",
       "      <td>0.11</td>\n",
       "      <td>0.18</td>\n",
       "    </tr>\n",
       "    <tr>\n",
       "      <th>Current</th>\n",
       "      <td>0.12</td>\n",
       "      <td>0.19</td>\n",
       "      <td>0.12</td>\n",
       "      <td>0.08</td>\n",
       "      <td>0.11</td>\n",
       "      <td>0.15</td>\n",
       "      <td>0.12</td>\n",
       "      <td>0.11</td>\n",
       "    </tr>\n",
       "    <tr>\n",
       "      <th>Default</th>\n",
       "      <td>0.14</td>\n",
       "      <td>0.08</td>\n",
       "      <td>0.16</td>\n",
       "      <td>0.14</td>\n",
       "      <td>0.11</td>\n",
       "      <td>0.17</td>\n",
       "      <td>0.08</td>\n",
       "      <td>0.12</td>\n",
       "    </tr>\n",
       "    <tr>\n",
       "      <th>Fully Paid</th>\n",
       "      <td>0.13</td>\n",
       "      <td>0.10</td>\n",
       "      <td>0.08</td>\n",
       "      <td>0.15</td>\n",
       "      <td>0.20</td>\n",
       "      <td>0.13</td>\n",
       "      <td>0.13</td>\n",
       "      <td>0.09</td>\n",
       "    </tr>\n",
       "    <tr>\n",
       "      <th>In Grace Period</th>\n",
       "      <td>0.10</td>\n",
       "      <td>0.13</td>\n",
       "      <td>0.18</td>\n",
       "      <td>0.11</td>\n",
       "      <td>0.12</td>\n",
       "      <td>0.15</td>\n",
       "      <td>0.09</td>\n",
       "      <td>0.12</td>\n",
       "    </tr>\n",
       "    <tr>\n",
       "      <th>Issued</th>\n",
       "      <td>0.16</td>\n",
       "      <td>0.11</td>\n",
       "      <td>0.07</td>\n",
       "      <td>0.10</td>\n",
       "      <td>0.14</td>\n",
       "      <td>0.08</td>\n",
       "      <td>0.16</td>\n",
       "      <td>0.19</td>\n",
       "    </tr>\n",
       "    <tr>\n",
       "      <th>Late (16-30 days)</th>\n",
       "      <td>0.09</td>\n",
       "      <td>0.13</td>\n",
       "      <td>0.16</td>\n",
       "      <td>0.09</td>\n",
       "      <td>0.21</td>\n",
       "      <td>0.15</td>\n",
       "      <td>0.09</td>\n",
       "      <td>0.09</td>\n",
       "    </tr>\n",
       "    <tr>\n",
       "      <th>Late (31-120 days)</th>\n",
       "      <td>0.14</td>\n",
       "      <td>0.15</td>\n",
       "      <td>0.12</td>\n",
       "      <td>0.18</td>\n",
       "      <td>0.10</td>\n",
       "      <td>0.15</td>\n",
       "      <td>0.09</td>\n",
       "      <td>0.07</td>\n",
       "    </tr>\n",
       "  </tbody>\n",
       "</table>\n",
       "</div>"
      ],
      "text/plain": [
       "                    Charged Off  Current  Default  Fully Paid  \\\n",
       "Charged Off                0.15     0.09     0.10        0.12   \n",
       "Current                    0.12     0.19     0.12        0.08   \n",
       "Default                    0.14     0.08     0.16        0.14   \n",
       "Fully Paid                 0.13     0.10     0.08        0.15   \n",
       "In Grace Period            0.10     0.13     0.18        0.11   \n",
       "Issued                     0.16     0.11     0.07        0.10   \n",
       "Late (16-30 days)          0.09     0.13     0.16        0.09   \n",
       "Late (31-120 days)         0.14     0.15     0.12        0.18   \n",
       "\n",
       "                    In Grace Period  Issued  Late (16-30 days)  \\\n",
       "Charged Off                    0.09    0.17               0.11   \n",
       "Current                        0.11    0.15               0.12   \n",
       "Default                        0.11    0.17               0.08   \n",
       "Fully Paid                     0.20    0.13               0.13   \n",
       "In Grace Period                0.12    0.15               0.09   \n",
       "Issued                         0.14    0.08               0.16   \n",
       "Late (16-30 days)              0.21    0.15               0.09   \n",
       "Late (31-120 days)             0.10    0.15               0.09   \n",
       "\n",
       "                    Late (31-120 days)  \n",
       "Charged Off                       0.18  \n",
       "Current                           0.11  \n",
       "Default                           0.12  \n",
       "Fully Paid                        0.09  \n",
       "In Grace Period                   0.12  \n",
       "Issued                            0.19  \n",
       "Late (16-30 days)                 0.09  \n",
       "Late (31-120 days)                0.07  "
      ]
     },
     "execution_count": 53,
     "metadata": {},
     "output_type": "execute_result"
    }
   ],
   "source": [
    "inferred_matrix"
   ]
  },
  {
   "cell_type": "markdown",
   "metadata": {},
   "source": [
    "### 3.3 Criticism"
   ]
  },
  {
   "cell_type": "code",
   "execution_count": null,
   "metadata": {},
   "outputs": [],
   "source": []
  },
  {
   "cell_type": "markdown",
   "metadata": {},
   "source": [
    "## Experiment 3: Stationary Markov Chain with Priors, other implementation"
   ]
  },
  {
   "cell_type": "markdown",
   "metadata": {},
   "source": [
    "= Experiment 2 with TFP's code"
   ]
  },
  {
   "cell_type": "code",
   "execution_count": 55,
   "metadata": {},
   "outputs": [
    {
     "data": {
      "text/plain": [
       "<module 'utils.inference' from '/Users/jeromekafrouni/Documents/Cours/Columbia/Cours/Semestre 3/COMS 6998 Prob Programming/Project/lending-club-analysis/final-project/utils/inference.py'>"
      ]
     },
     "execution_count": 55,
     "metadata": {},
     "output_type": "execute_result"
    }
   ],
   "source": [
    "from importlib import reload\n",
    "reload(utils.models)\n",
    "reload(utils.inference)"
   ]
  },
  {
   "cell_type": "code",
   "execution_count": 56,
   "metadata": {},
   "outputs": [],
   "source": [
    "model, pi_0_2, pi_T_2 = utils.models.build_mc_with_priors_2(n_states, chain_len, batch_size=100)"
   ]
  },
  {
   "cell_type": "code",
   "execution_count": 57,
   "metadata": {},
   "outputs": [
    {
     "name": "stdout",
     "output_type": "stream",
     "text": [
      "13300/13375 [ 99%] █████████████████████████████  ETA: 1s | Loss: 279.274"
     ]
    }
   ],
   "source": [
    "inferred_matrix_2, sess_2, qpi_0_2, qpi_T_2 = utils.inference.infer_mc_with_priors_2(\n",
    "    x_train, model, pi_0_2, pi_T_2, n_states, chain_len, batch_size=100)"
   ]
  },
  {
   "cell_type": "code",
   "execution_count": 89,
   "metadata": {},
   "outputs": [],
   "source": [
    "with sess.as_default():\n",
    "    inferred_qpi_T_2 = sess_2.run(qpi_T_2.mean())"
   ]
  },
  {
   "cell_type": "code",
   "execution_count": 21,
   "metadata": {},
   "outputs": [],
   "source": [
    "import pandas as pd"
   ]
  },
  {
   "cell_type": "code",
   "execution_count": 58,
   "metadata": {},
   "outputs": [
    {
     "data": {
      "text/html": [
       "<div>\n",
       "<style scoped>\n",
       "    .dataframe tbody tr th:only-of-type {\n",
       "        vertical-align: middle;\n",
       "    }\n",
       "\n",
       "    .dataframe tbody tr th {\n",
       "        vertical-align: top;\n",
       "    }\n",
       "\n",
       "    .dataframe thead th {\n",
       "        text-align: right;\n",
       "    }\n",
       "</style>\n",
       "<table border=\"1\" class=\"dataframe\">\n",
       "  <thead>\n",
       "    <tr style=\"text-align: right;\">\n",
       "      <th></th>\n",
       "      <th>0</th>\n",
       "      <th>1</th>\n",
       "      <th>2</th>\n",
       "      <th>3</th>\n",
       "      <th>4</th>\n",
       "      <th>5</th>\n",
       "      <th>6</th>\n",
       "      <th>7</th>\n",
       "    </tr>\n",
       "  </thead>\n",
       "  <tbody>\n",
       "    <tr>\n",
       "      <th>0</th>\n",
       "      <td>0.426628</td>\n",
       "      <td>0.048637</td>\n",
       "      <td>0.062605</td>\n",
       "      <td>0.055921</td>\n",
       "      <td>0.089832</td>\n",
       "      <td>0.091196</td>\n",
       "      <td>0.178470</td>\n",
       "      <td>0.046710</td>\n",
       "    </tr>\n",
       "    <tr>\n",
       "      <th>1</th>\n",
       "      <td>0.011596</td>\n",
       "      <td>0.891086</td>\n",
       "      <td>0.013478</td>\n",
       "      <td>0.020718</td>\n",
       "      <td>0.016596</td>\n",
       "      <td>0.016312</td>\n",
       "      <td>0.016876</td>\n",
       "      <td>0.013338</td>\n",
       "    </tr>\n",
       "    <tr>\n",
       "      <th>2</th>\n",
       "      <td>0.044410</td>\n",
       "      <td>0.170685</td>\n",
       "      <td>0.161403</td>\n",
       "      <td>0.112421</td>\n",
       "      <td>0.074925</td>\n",
       "      <td>0.211061</td>\n",
       "      <td>0.095809</td>\n",
       "      <td>0.129287</td>\n",
       "    </tr>\n",
       "    <tr>\n",
       "      <th>3</th>\n",
       "      <td>0.038578</td>\n",
       "      <td>0.067461</td>\n",
       "      <td>0.033687</td>\n",
       "      <td>0.620236</td>\n",
       "      <td>0.063591</td>\n",
       "      <td>0.059497</td>\n",
       "      <td>0.060069</td>\n",
       "      <td>0.056881</td>\n",
       "    </tr>\n",
       "    <tr>\n",
       "      <th>4</th>\n",
       "      <td>0.081323</td>\n",
       "      <td>0.236946</td>\n",
       "      <td>0.074473</td>\n",
       "      <td>0.089925</td>\n",
       "      <td>0.106642</td>\n",
       "      <td>0.134686</td>\n",
       "      <td>0.131970</td>\n",
       "      <td>0.144035</td>\n",
       "    </tr>\n",
       "    <tr>\n",
       "      <th>5</th>\n",
       "      <td>0.158048</td>\n",
       "      <td>0.226050</td>\n",
       "      <td>0.075840</td>\n",
       "      <td>0.119560</td>\n",
       "      <td>0.110130</td>\n",
       "      <td>0.171880</td>\n",
       "      <td>0.080624</td>\n",
       "      <td>0.057868</td>\n",
       "    </tr>\n",
       "    <tr>\n",
       "      <th>6</th>\n",
       "      <td>0.100323</td>\n",
       "      <td>0.095742</td>\n",
       "      <td>0.154575</td>\n",
       "      <td>0.205999</td>\n",
       "      <td>0.086672</td>\n",
       "      <td>0.103454</td>\n",
       "      <td>0.133485</td>\n",
       "      <td>0.119748</td>\n",
       "    </tr>\n",
       "    <tr>\n",
       "      <th>7</th>\n",
       "      <td>0.103088</td>\n",
       "      <td>0.083031</td>\n",
       "      <td>0.178755</td>\n",
       "      <td>0.054310</td>\n",
       "      <td>0.135737</td>\n",
       "      <td>0.141547</td>\n",
       "      <td>0.080839</td>\n",
       "      <td>0.222694</td>\n",
       "    </tr>\n",
       "  </tbody>\n",
       "</table>\n",
       "</div>"
      ],
      "text/plain": [
       "          0         1         2         3         4         5         6  \\\n",
       "0  0.426628  0.048637  0.062605  0.055921  0.089832  0.091196  0.178470   \n",
       "1  0.011596  0.891086  0.013478  0.020718  0.016596  0.016312  0.016876   \n",
       "2  0.044410  0.170685  0.161403  0.112421  0.074925  0.211061  0.095809   \n",
       "3  0.038578  0.067461  0.033687  0.620236  0.063591  0.059497  0.060069   \n",
       "4  0.081323  0.236946  0.074473  0.089925  0.106642  0.134686  0.131970   \n",
       "5  0.158048  0.226050  0.075840  0.119560  0.110130  0.171880  0.080624   \n",
       "6  0.100323  0.095742  0.154575  0.205999  0.086672  0.103454  0.133485   \n",
       "7  0.103088  0.083031  0.178755  0.054310  0.135737  0.141547  0.080839   \n",
       "\n",
       "          7  \n",
       "0  0.046710  \n",
       "1  0.013338  \n",
       "2  0.129287  \n",
       "3  0.056881  \n",
       "4  0.144035  \n",
       "5  0.057868  \n",
       "6  0.119748  \n",
       "7  0.222694  "
      ]
     },
     "execution_count": 58,
     "metadata": {},
     "output_type": "execute_result"
    }
   ],
   "source": [
    "inferred_matrix_2"
   ]
  },
  {
   "cell_type": "code",
   "execution_count": 8,
   "metadata": {},
   "outputs": [
    {
     "data": {
      "text/html": [
       "<div>\n",
       "<style scoped>\n",
       "    .dataframe tbody tr th:only-of-type {\n",
       "        vertical-align: middle;\n",
       "    }\n",
       "\n",
       "    .dataframe tbody tr th {\n",
       "        vertical-align: top;\n",
       "    }\n",
       "\n",
       "    .dataframe thead th {\n",
       "        text-align: right;\n",
       "    }\n",
       "</style>\n",
       "<table border=\"1\" class=\"dataframe\">\n",
       "  <thead>\n",
       "    <tr style=\"text-align: right;\">\n",
       "      <th></th>\n",
       "      <th>Charged Off</th>\n",
       "      <th>Current</th>\n",
       "      <th>Default</th>\n",
       "      <th>Fully Paid</th>\n",
       "      <th>In Grace Period</th>\n",
       "      <th>Issued</th>\n",
       "      <th>Late (16-30 days)</th>\n",
       "      <th>Late (31-120 days)</th>\n",
       "    </tr>\n",
       "  </thead>\n",
       "  <tbody>\n",
       "    <tr>\n",
       "      <th>Charged Off</th>\n",
       "      <td>0.00</td>\n",
       "      <td>0.00</td>\n",
       "      <td>0.00</td>\n",
       "      <td>0.00</td>\n",
       "      <td>0.00</td>\n",
       "      <td>0.0</td>\n",
       "      <td>0.00</td>\n",
       "      <td>0.00</td>\n",
       "    </tr>\n",
       "    <tr>\n",
       "      <th>Current</th>\n",
       "      <td>0.00</td>\n",
       "      <td>0.96</td>\n",
       "      <td>0.00</td>\n",
       "      <td>0.03</td>\n",
       "      <td>0.00</td>\n",
       "      <td>0.0</td>\n",
       "      <td>0.01</td>\n",
       "      <td>0.00</td>\n",
       "    </tr>\n",
       "    <tr>\n",
       "      <th>Default</th>\n",
       "      <td>0.91</td>\n",
       "      <td>0.00</td>\n",
       "      <td>0.07</td>\n",
       "      <td>0.00</td>\n",
       "      <td>0.00</td>\n",
       "      <td>0.0</td>\n",
       "      <td>0.00</td>\n",
       "      <td>0.02</td>\n",
       "    </tr>\n",
       "    <tr>\n",
       "      <th>Fully Paid</th>\n",
       "      <td>0.00</td>\n",
       "      <td>0.00</td>\n",
       "      <td>0.00</td>\n",
       "      <td>0.98</td>\n",
       "      <td>0.00</td>\n",
       "      <td>0.0</td>\n",
       "      <td>0.01</td>\n",
       "      <td>0.01</td>\n",
       "    </tr>\n",
       "    <tr>\n",
       "      <th>In Grace Period</th>\n",
       "      <td>0.00</td>\n",
       "      <td>0.67</td>\n",
       "      <td>0.00</td>\n",
       "      <td>0.03</td>\n",
       "      <td>0.05</td>\n",
       "      <td>0.0</td>\n",
       "      <td>0.14</td>\n",
       "      <td>0.10</td>\n",
       "    </tr>\n",
       "    <tr>\n",
       "      <th>Issued</th>\n",
       "      <td>0.00</td>\n",
       "      <td>0.96</td>\n",
       "      <td>0.00</td>\n",
       "      <td>0.04</td>\n",
       "      <td>0.00</td>\n",
       "      <td>0.0</td>\n",
       "      <td>0.00</td>\n",
       "      <td>0.00</td>\n",
       "    </tr>\n",
       "    <tr>\n",
       "      <th>Late (16-30 days)</th>\n",
       "      <td>0.03</td>\n",
       "      <td>0.19</td>\n",
       "      <td>0.00</td>\n",
       "      <td>0.01</td>\n",
       "      <td>0.00</td>\n",
       "      <td>0.0</td>\n",
       "      <td>0.08</td>\n",
       "      <td>0.69</td>\n",
       "    </tr>\n",
       "    <tr>\n",
       "      <th>Late (31-120 days)</th>\n",
       "      <td>0.21</td>\n",
       "      <td>0.05</td>\n",
       "      <td>0.06</td>\n",
       "      <td>0.00</td>\n",
       "      <td>0.00</td>\n",
       "      <td>0.0</td>\n",
       "      <td>0.01</td>\n",
       "      <td>0.67</td>\n",
       "    </tr>\n",
       "  </tbody>\n",
       "</table>\n",
       "</div>"
      ],
      "text/plain": [
       "                    Charged Off  Current  Default  Fully Paid  \\\n",
       "Charged Off                0.00     0.00     0.00        0.00   \n",
       "Current                    0.00     0.96     0.00        0.03   \n",
       "Default                    0.91     0.00     0.07        0.00   \n",
       "Fully Paid                 0.00     0.00     0.00        0.98   \n",
       "In Grace Period            0.00     0.67     0.00        0.03   \n",
       "Issued                     0.00     0.96     0.00        0.04   \n",
       "Late (16-30 days)          0.03     0.19     0.00        0.01   \n",
       "Late (31-120 days)         0.21     0.05     0.06        0.00   \n",
       "\n",
       "                    In Grace Period  Issued  Late (16-30 days)  \\\n",
       "Charged Off                    0.00     0.0               0.00   \n",
       "Current                        0.00     0.0               0.01   \n",
       "Default                        0.00     0.0               0.00   \n",
       "Fully Paid                     0.00     0.0               0.01   \n",
       "In Grace Period                0.05     0.0               0.14   \n",
       "Issued                         0.00     0.0               0.00   \n",
       "Late (16-30 days)              0.00     0.0               0.08   \n",
       "Late (31-120 days)             0.00     0.0               0.01   \n",
       "\n",
       "                    Late (31-120 days)  \n",
       "Charged Off                       0.00  \n",
       "Current                           0.00  \n",
       "Default                           0.02  \n",
       "Fully Paid                        0.01  \n",
       "In Grace Period                   0.10  \n",
       "Issued                            0.00  \n",
       "Late (16-30 days)                 0.69  \n",
       "Late (31-120 days)                0.67  "
      ]
     },
     "execution_count": 8,
     "metadata": {},
     "output_type": "execute_result"
    }
   ],
   "source": [
    "mle"
   ]
  },
  {
   "cell_type": "markdown",
   "metadata": {},
   "source": [
    "## Experiment 4: One categorical per timestamp in the chain"
   ]
  },
  {
   "cell_type": "code",
   "execution_count": 65,
   "metadata": {},
   "outputs": [],
   "source": [
    "# TODO"
   ]
  },
  {
   "cell_type": "markdown",
   "metadata": {},
   "source": [
    "## Experiment 5: Modeling counts of transitions, as a multinomial"
   ]
  },
  {
   "cell_type": "code",
   "execution_count": 66,
   "metadata": {},
   "outputs": [],
   "source": [
    "# TODO"
   ]
  },
  {
   "cell_type": "markdown",
   "metadata": {},
   "source": [
    "## Experiment 6: Segmenting the loans / mixture model"
   ]
  },
  {
   "cell_type": "markdown",
   "metadata": {},
   "source": [
    "Probably won't have much time to do something decent, maybe we can do the segmentation \"by hand\" though, i.e. not in edwards..."
   ]
  },
  {
   "cell_type": "code",
   "execution_count": 67,
   "metadata": {},
   "outputs": [],
   "source": [
    "# TODO"
   ]
  }
 ],
 "metadata": {
  "kernelspec": {
   "display_name": "Python 3",
   "language": "python",
   "name": "python3"
  },
  "language_info": {
   "codemirror_mode": {
    "name": "ipython",
    "version": 3
   },
   "file_extension": ".py",
   "mimetype": "text/x-python",
   "name": "python",
   "nbconvert_exporter": "python",
   "pygments_lexer": "ipython3",
   "version": "3.6.1"
  }
 },
 "nbformat": 4,
 "nbformat_minor": 2
}
