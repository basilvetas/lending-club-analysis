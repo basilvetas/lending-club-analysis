{
 "cells": [
  {
   "cell_type": "markdown",
   "metadata": {},
   "source": [
    "# Modeling Personal Loan Delinquency with LendingClub Data"
   ]
  },
  {
   "cell_type": "markdown",
   "metadata": {},
   "source": [
    "The domain of our project is peer-to-peer consumer lending. Our goal is to model credit risk on personal loans, more precisely to evaluate the probability of default or delinquency of borrowers during their loan period.\n",
    "\n",
    "LendingClub loans are made over either a 36 or 60 month term, with a variety of statistics reported about each unique loan on a monthly basis (our analysis focuses on the 36 month terms). Our variable of interest is called `loan_status` which has eight possible states. We attempt to model credit risk by estimating the probability of a loan transitioning between any two of these states at any month during the loan term. Below are the eight `loan_status` states, with descriptions from LendingClub's [website](https://help.lendingclub.com/hc/en-us/articles/215488038-What-do-the-different-Note-statuses-mean-):\n",
    "\n",
    "- **Issued**: New loan that has passed all LendingClub reviews, received full funding, and has been issued.\n",
    "\n",
    "- **Current**: Loan is up to date on all outstanding payments. \n",
    "\n",
    "- **In Grace Period**: Loan payment is late, but within the 15-day grace period.\n",
    " \n",
    "- **Late (16-30)**: Loan is late, past the grace period, hasn't been current for 16 to 30 days.\n",
    " \n",
    "- **Late (31-120)**: Loan has not been current for 31 to 120 days.\n",
    " \n",
    "- **Charged Off**: Loan for which there is no longer a reasonable expectation of further payments. Charge Off typically occurs when a loan is 120 days or more past due and there is no reasonable expectation of sufficient payment to prevent the charge off. Loans for which borrowers have filed for bankruptcy may be charged off earlier.\n",
    "\n",
    "- **Default**: Loan has not been current for an extended period of time. Charged off and default states are similar, yet different. [TODO explain]\n",
    "\n",
    "- **Fully paid**: Loan has been fully repaid, either at the expiration of the 3- or 5-year year term or as a result of a prepayment.\n",
    "\n",
    "To model the transition states month over month, we employed a stationary discrete time step Markov Chain model. Discrete because our data is on a monthly basis, and stationary because we assume the probability distribution of  transition is independent of time (we use the same model across all month). Recall the Markov property, or the \"memoryless\" assumption, that for some sequence of events, that the conditional probability of the next time step $x_t$ depends only upon the previous time step $x_{t-1}$, ignoring all time steps that preceded it:\n",
    "\n",
    "$$\n",
    "\\begin{align*}\n",
    "p(X_t = x_t | X_{t-1} = x_{t-1}, X_{t-2} = x_{t-2}, ... , X_0 = x_0) = p(X_t = x_t | X_{t-1})\n",
    "\\end{align*}\n",
    "$$\n",
    "\n",
    "For a discrete time Markov Chain, the joint distribution for the probability of some sequence length $T$ can then be written as:\n",
    "\n",
    "$$\n",
    "\\begin{align*}\n",
    "p(X_{1:T}) = p(X_1)p(X_2 | X_1) p(X_3 | X_2) ... = p(X_1)\\prod_{t=2}^{T}p(X_t | X_{t-1})\n",
    "\\end{align*}\n",
    "$$\n",
    "\n",
    "[Murphy, 2012, p. 589](#References)\n",
    "\n",
    "For $K$ outcome states, the conditional distribution $p(X_t | X_{t-1})$ can be written as a $K \\times K$ transition matrix (denoted $A$) where $A_jk  = p(X_t = k | X_{t-1} = j)$ (the probability of transitioning from states $j$ to state $k$, where each row in the matrix can be thought of as a probability mass function). In our case $K=8$ and we have an $8 \\times 8$ transition matrix. The goal of our analysis, then, is to estimate the posterior probabilities of this transition matrix using our observed data."
   ]
  },
  {
   "cell_type": "markdown",
   "metadata": {},
   "source": [
    "## Data"
   ]
  },
  {
   "cell_type": "markdown",
   "metadata": {},
   "source": [
    "Our dataset consists of approximately 40 million observations from loans spanning between 2007 through Q3 2018. The dataset includes dozens of fields, however for our Markov model (and to simplify data management) we only need to work with 4 features: `id`, `loan_status`, `term`, and `age_of_loan`. During preprocessing, we also filtered out all loans with a 60 month term and 36 term loans that extended beyond 36 months, reducing our dataset to around 27 million observations. In total, we have just under 1.5 million unique loans, which can be seen in the rows column after we split and pivot our data below."
   ]
  },
  {
   "cell_type": "code",
   "execution_count": 1,
   "metadata": {},
   "outputs": [],
   "source": [
    "from utils.utils import load_dataframe, preprocess, split_data\n",
    "from utils.models import build_mle_matrix, build_mc_no_priors, build_mc_with_priors\n",
    "from utils.inference import compute_mle, infer_mc_no_priors, infer_mc_with_priors\n",
    "from utils.criticism import sample_mle, plot_sampled_lengths\n",
    "import numpy as np"
   ]
  },
  {
   "cell_type": "code",
   "execution_count": 2,
   "metadata": {},
   "outputs": [
    {
     "name": "stdout",
     "output_type": "stream",
     "text": [
      "Loading raw data from cache...\n",
      "Retrieved 40,268,594 rows, 4 columns in 2.78 seconds\n"
     ]
    }
   ],
   "source": [
    "df = load_dataframe()"
   ]
  },
  {
   "cell_type": "code",
   "execution_count": 3,
   "metadata": {},
   "outputs": [
    {
     "name": "stdout",
     "output_type": "stream",
     "text": [
      "Mapping column names...\n",
      "Loading preprocessed data from cache...\n",
      "Retrieved 27,641,460 rows, 4 columns in 2.33 seconds\n"
     ]
    }
   ],
   "source": [
    "df = preprocess(df)"
   ]
  },
  {
   "cell_type": "code",
   "execution_count": 4,
   "metadata": {},
   "outputs": [
    {
     "name": "stdout",
     "output_type": "stream",
     "text": [
      "Loading split data from cache...\n",
      "Retrieved 1,486,355 rows, 36 columns in 0.43 seconds\n",
      "Train: (1338437, 36) | Test: (147918, 36)\n"
     ]
    }
   ],
   "source": [
    "x_train, x_test = split_data(df)"
   ]
  },
  {
   "cell_type": "code",
   "execution_count": 5,
   "metadata": {},
   "outputs": [],
   "source": [
    "chain_len = max(df.age_of_loan)\n",
    "n_states = df.loan_status.unique().shape[0]"
   ]
  },
  {
   "cell_type": "markdown",
   "metadata": {},
   "source": [
    "## Experiment 1: Markov Model with Maximum Likelihood Estimates"
   ]
  },
  {
   "cell_type": "markdown",
   "metadata": {},
   "source": [
    "### 1.1 Model"
   ]
  },
  {
   "cell_type": "markdown",
   "metadata": {},
   "source": [
    "To get some intuition on how to estimate the transition matrix given our training data, $N$, we start with MLE estimation. The MLE solution of a Markov Chain is simply the empirical frequencies of each transition. Formally, the probability of some particular sequence length $T$, with transition matrix $M$ and states $K$ is given by: \n",
    "\n",
    "$$ \n",
    "\\begin{align*}\n",
    "p(x_{1:T}|\\theta) = p(x_1)A(x_1, x_2)...A(x_{T-1}, x_T) \n",
    "&= \\prod_{j=1}^{K}(p_j)^{\\mathbb{I}(x_1 = j)} \\prod_{t=2}^{T} \\prod_{j=1}^{K} \\prod_{k=1}^{K}(A_{jk})^{\\mathbb{I}(x_{t-1} = j, x_t = k)}\n",
    "\\end{align*}\n",
    "$$\n",
    "\n",
    "It is relatively easy to show that the MLEs for $p_j$ (at state $j$) and $T_{jk}$ (at transition from states $j$ to $k$) are given by the observed frequencies:  \n",
    "$$ \n",
    "\\begin{align*}\n",
    "p_j = \\frac{\\sum_{i=1}^N\\mathbb{I}(x_{i1} = j)}{\\sum_{j}\\sum_{i=1}^N\\mathbb{I}(x_{i1} = j)}\n",
    "\\end{align*}\n",
    "$$\n",
    "\n",
    "$$ \n",
    "\\begin{align*}\n",
    "A_{jk} = \\frac{\\sum_{i=1}^N\\sum_{t=1}^{T-1} \\mathbb{I}(x_{i,t} = j, x_{i,t+1} = k)}{\\sum_k\\sum_{i=1}^N\\sum_{t=1}^{T-1} \\mathbb{I}(x_{i,t} = j, x_{i,t+1} = k)}\n",
    "\\end{align*}\n",
    "$$\n",
    "\n",
    "[Murphy, 2012, pp. 592–593](#References)\n",
    "\n",
    "In more colloquial terms, the estimator for $p$ in any given outcome state $j$ is the number of times we observed $j$ at time $t=1$ in our training data, divided by the total number of observations at time $t=1$. Similarly, the estimator for $A$ of transitioning from state $j$ to state $k$ is given by the total number of times we observed a transition from state $j$ to state $k$, divided by the total number of times we observed a transition from state $j$ to any other state. For our purposes, we ignore $p$ and just generate MLE estimates for the transition matrix $A$. Even though we want to solve the problem from a Bayesian perspective, our first experiment with MLEs is relatively easy to obtain and should give us a reasonable baseline to compare other models against."
   ]
  },
  {
   "cell_type": "code",
   "execution_count": 39,
   "metadata": {},
   "outputs": [
    {
     "name": "stdout",
     "output_type": "stream",
     "text": [
      "Loading transitions data from cache...\n",
      "Retrieved 8 rows, 8 columns in 0.16 seconds\n"
     ]
    }
   ],
   "source": [
    "realized_transitions = build_mle_matrix(df)"
   ]
  },
  {
   "cell_type": "code",
   "execution_count": 40,
   "metadata": {},
   "outputs": [
    {
     "data": {
      "text/html": [
       "<div>\n",
       "<style scoped>\n",
       "    .dataframe tbody tr th:only-of-type {\n",
       "        vertical-align: middle;\n",
       "    }\n",
       "\n",
       "    .dataframe tbody tr th {\n",
       "        vertical-align: top;\n",
       "    }\n",
       "\n",
       "    .dataframe thead th {\n",
       "        text-align: right;\n",
       "    }\n",
       "</style>\n",
       "<table border=\"1\" class=\"dataframe\">\n",
       "  <thead>\n",
       "    <tr style=\"text-align: right;\">\n",
       "      <th></th>\n",
       "      <th>Charged Off</th>\n",
       "      <th>Current</th>\n",
       "      <th>Default</th>\n",
       "      <th>Fully Paid</th>\n",
       "      <th>In Grace Period</th>\n",
       "      <th>Issued</th>\n",
       "      <th>Late (16-30 days)</th>\n",
       "      <th>Late (31-120 days)</th>\n",
       "    </tr>\n",
       "  </thead>\n",
       "  <tbody>\n",
       "    <tr>\n",
       "      <th>Charged Off</th>\n",
       "      <td>0</td>\n",
       "      <td>0</td>\n",
       "      <td>0</td>\n",
       "      <td>0</td>\n",
       "      <td>0</td>\n",
       "      <td>0</td>\n",
       "      <td>0</td>\n",
       "      <td>0</td>\n",
       "    </tr>\n",
       "    <tr>\n",
       "      <th>Current</th>\n",
       "      <td>774</td>\n",
       "      <td>24453702</td>\n",
       "      <td>3</td>\n",
       "      <td>707322</td>\n",
       "      <td>5831</td>\n",
       "      <td>0</td>\n",
       "      <td>160366</td>\n",
       "      <td>62102</td>\n",
       "    </tr>\n",
       "    <tr>\n",
       "      <th>Default</th>\n",
       "      <td>28897</td>\n",
       "      <td>147</td>\n",
       "      <td>2297</td>\n",
       "      <td>71</td>\n",
       "      <td>0</td>\n",
       "      <td>0</td>\n",
       "      <td>4</td>\n",
       "      <td>506</td>\n",
       "    </tr>\n",
       "    <tr>\n",
       "      <th>Fully Paid</th>\n",
       "      <td>0</td>\n",
       "      <td>0</td>\n",
       "      <td>0</td>\n",
       "      <td>8063</td>\n",
       "      <td>12</td>\n",
       "      <td>0</td>\n",
       "      <td>101</td>\n",
       "      <td>72</td>\n",
       "    </tr>\n",
       "    <tr>\n",
       "      <th>In Grace Period</th>\n",
       "      <td>0</td>\n",
       "      <td>276</td>\n",
       "      <td>0</td>\n",
       "      <td>11</td>\n",
       "      <td>22</td>\n",
       "      <td>0</td>\n",
       "      <td>59</td>\n",
       "      <td>41</td>\n",
       "    </tr>\n",
       "    <tr>\n",
       "      <th>Issued</th>\n",
       "      <td>0</td>\n",
       "      <td>17206</td>\n",
       "      <td>0</td>\n",
       "      <td>670</td>\n",
       "      <td>1</td>\n",
       "      <td>0</td>\n",
       "      <td>38</td>\n",
       "      <td>1</td>\n",
       "    </tr>\n",
       "    <tr>\n",
       "      <th>Late (16-30 days)</th>\n",
       "      <td>4548</td>\n",
       "      <td>32376</td>\n",
       "      <td>0</td>\n",
       "      <td>2066</td>\n",
       "      <td>257</td>\n",
       "      <td>0</td>\n",
       "      <td>13413</td>\n",
       "      <td>119621</td>\n",
       "    </tr>\n",
       "    <tr>\n",
       "      <th>Late (31-120 days)</th>\n",
       "      <td>105934</td>\n",
       "      <td>25434</td>\n",
       "      <td>29802</td>\n",
       "      <td>2146</td>\n",
       "      <td>56</td>\n",
       "      <td>0</td>\n",
       "      <td>3292</td>\n",
       "      <td>332762</td>\n",
       "    </tr>\n",
       "  </tbody>\n",
       "</table>\n",
       "</div>"
      ],
      "text/plain": [
       "                    Charged Off   Current  Default  Fully Paid  \\\n",
       "Charged Off                   0         0        0           0   \n",
       "Current                     774  24453702        3      707322   \n",
       "Default                   28897       147     2297          71   \n",
       "Fully Paid                    0         0        0        8063   \n",
       "In Grace Period               0       276        0          11   \n",
       "Issued                        0     17206        0         670   \n",
       "Late (16-30 days)          4548     32376        0        2066   \n",
       "Late (31-120 days)       105934     25434    29802        2146   \n",
       "\n",
       "                    In Grace Period  Issued  Late (16-30 days)  \\\n",
       "Charged Off                       0       0                  0   \n",
       "Current                        5831       0             160366   \n",
       "Default                           0       0                  4   \n",
       "Fully Paid                       12       0                101   \n",
       "In Grace Period                  22       0                 59   \n",
       "Issued                            1       0                 38   \n",
       "Late (16-30 days)               257       0              13413   \n",
       "Late (31-120 days)               56       0               3292   \n",
       "\n",
       "                    Late (31-120 days)  \n",
       "Charged Off                          0  \n",
       "Current                          62102  \n",
       "Default                            506  \n",
       "Fully Paid                          72  \n",
       "In Grace Period                     41  \n",
       "Issued                               1  \n",
       "Late (16-30 days)               119621  \n",
       "Late (31-120 days)              332762  "
      ]
     },
     "execution_count": 40,
     "metadata": {},
     "output_type": "execute_result"
    }
   ],
   "source": [
    "realized_transitions"
   ]
  },
  {
   "cell_type": "markdown",
   "metadata": {},
   "source": [
    "Note that `Issued` is a \"source\" state and `Charged Off` is a \"sink\" state, therefore there were no observations into `Issued` or out of `Charged Off` and we simply filled these columns as zeros. The other counts represent all observed loan transitions for 36 month term loans between 2007 to Q3 2018."
   ]
  },
  {
   "cell_type": "markdown",
   "metadata": {},
   "source": [
    "### 1.2 Inference"
   ]
  },
  {
   "cell_type": "markdown",
   "metadata": {},
   "source": [
    "Now that we have built a matrix of the realized state transitions, we use it to compute the MLE estimate of $A_{jk}$ from above, for each combination of $j$ and $k$."
   ]
  },
  {
   "cell_type": "code",
   "execution_count": 8,
   "metadata": {},
   "outputs": [],
   "source": [
    "mle = compute_mle(realized_transitions)"
   ]
  },
  {
   "cell_type": "code",
   "execution_count": 9,
   "metadata": {},
   "outputs": [
    {
     "data": {
      "text/html": [
       "<div>\n",
       "<style scoped>\n",
       "    .dataframe tbody tr th:only-of-type {\n",
       "        vertical-align: middle;\n",
       "    }\n",
       "\n",
       "    .dataframe tbody tr th {\n",
       "        vertical-align: top;\n",
       "    }\n",
       "\n",
       "    .dataframe thead th {\n",
       "        text-align: right;\n",
       "    }\n",
       "</style>\n",
       "<table border=\"1\" class=\"dataframe\">\n",
       "  <thead>\n",
       "    <tr style=\"text-align: right;\">\n",
       "      <th></th>\n",
       "      <th>Charged Off</th>\n",
       "      <th>Current</th>\n",
       "      <th>Default</th>\n",
       "      <th>Fully Paid</th>\n",
       "      <th>In Grace Period</th>\n",
       "      <th>Issued</th>\n",
       "      <th>Late (16-30 days)</th>\n",
       "      <th>Late (31-120 days)</th>\n",
       "    </tr>\n",
       "  </thead>\n",
       "  <tbody>\n",
       "    <tr>\n",
       "      <th>Charged Off</th>\n",
       "      <td>0.000000</td>\n",
       "      <td>0.000000</td>\n",
       "      <td>0.000000</td>\n",
       "      <td>0.000000</td>\n",
       "      <td>0.000000</td>\n",
       "      <td>0.0</td>\n",
       "      <td>0.000000</td>\n",
       "      <td>0.000000</td>\n",
       "    </tr>\n",
       "    <tr>\n",
       "      <th>Current</th>\n",
       "      <td>0.000030</td>\n",
       "      <td>0.963120</td>\n",
       "      <td>0.000000</td>\n",
       "      <td>0.027858</td>\n",
       "      <td>0.000230</td>\n",
       "      <td>0.0</td>\n",
       "      <td>0.006316</td>\n",
       "      <td>0.002446</td>\n",
       "    </tr>\n",
       "    <tr>\n",
       "      <th>Default</th>\n",
       "      <td>0.905238</td>\n",
       "      <td>0.004605</td>\n",
       "      <td>0.071957</td>\n",
       "      <td>0.002224</td>\n",
       "      <td>0.000000</td>\n",
       "      <td>0.0</td>\n",
       "      <td>0.000125</td>\n",
       "      <td>0.015851</td>\n",
       "    </tr>\n",
       "    <tr>\n",
       "      <th>Fully Paid</th>\n",
       "      <td>0.000000</td>\n",
       "      <td>0.000000</td>\n",
       "      <td>0.000000</td>\n",
       "      <td>0.977570</td>\n",
       "      <td>0.001455</td>\n",
       "      <td>0.0</td>\n",
       "      <td>0.012245</td>\n",
       "      <td>0.008729</td>\n",
       "    </tr>\n",
       "    <tr>\n",
       "      <th>In Grace Period</th>\n",
       "      <td>0.000000</td>\n",
       "      <td>0.674817</td>\n",
       "      <td>0.000000</td>\n",
       "      <td>0.026895</td>\n",
       "      <td>0.053790</td>\n",
       "      <td>0.0</td>\n",
       "      <td>0.144254</td>\n",
       "      <td>0.100244</td>\n",
       "    </tr>\n",
       "    <tr>\n",
       "      <th>Issued</th>\n",
       "      <td>0.000000</td>\n",
       "      <td>0.960371</td>\n",
       "      <td>0.000000</td>\n",
       "      <td>0.037397</td>\n",
       "      <td>0.000056</td>\n",
       "      <td>0.0</td>\n",
       "      <td>0.002121</td>\n",
       "      <td>0.000056</td>\n",
       "    </tr>\n",
       "    <tr>\n",
       "      <th>Late (16-30 days)</th>\n",
       "      <td>0.026399</td>\n",
       "      <td>0.187926</td>\n",
       "      <td>0.000000</td>\n",
       "      <td>0.011992</td>\n",
       "      <td>0.001492</td>\n",
       "      <td>0.0</td>\n",
       "      <td>0.077855</td>\n",
       "      <td>0.694337</td>\n",
       "    </tr>\n",
       "    <tr>\n",
       "      <th>Late (31-120 days)</th>\n",
       "      <td>0.212112</td>\n",
       "      <td>0.050926</td>\n",
       "      <td>0.059673</td>\n",
       "      <td>0.004297</td>\n",
       "      <td>0.000112</td>\n",
       "      <td>0.0</td>\n",
       "      <td>0.006592</td>\n",
       "      <td>0.666289</td>\n",
       "    </tr>\n",
       "  </tbody>\n",
       "</table>\n",
       "</div>"
      ],
      "text/plain": [
       "                    Charged Off   Current   Default  Fully Paid  \\\n",
       "Charged Off            0.000000  0.000000  0.000000    0.000000   \n",
       "Current                0.000030  0.963120  0.000000    0.027858   \n",
       "Default                0.905238  0.004605  0.071957    0.002224   \n",
       "Fully Paid             0.000000  0.000000  0.000000    0.977570   \n",
       "In Grace Period        0.000000  0.674817  0.000000    0.026895   \n",
       "Issued                 0.000000  0.960371  0.000000    0.037397   \n",
       "Late (16-30 days)      0.026399  0.187926  0.000000    0.011992   \n",
       "Late (31-120 days)     0.212112  0.050926  0.059673    0.004297   \n",
       "\n",
       "                    In Grace Period  Issued  Late (16-30 days)  \\\n",
       "Charged Off                0.000000     0.0           0.000000   \n",
       "Current                    0.000230     0.0           0.006316   \n",
       "Default                    0.000000     0.0           0.000125   \n",
       "Fully Paid                 0.001455     0.0           0.012245   \n",
       "In Grace Period            0.053790     0.0           0.144254   \n",
       "Issued                     0.000056     0.0           0.002121   \n",
       "Late (16-30 days)          0.001492     0.0           0.077855   \n",
       "Late (31-120 days)         0.000112     0.0           0.006592   \n",
       "\n",
       "                    Late (31-120 days)  \n",
       "Charged Off                   0.000000  \n",
       "Current                       0.002446  \n",
       "Default                       0.015851  \n",
       "Fully Paid                    0.008729  \n",
       "In Grace Period               0.100244  \n",
       "Issued                        0.000056  \n",
       "Late (16-30 days)             0.694337  \n",
       "Late (31-120 days)            0.666289  "
      ]
     },
     "execution_count": 9,
     "metadata": {},
     "output_type": "execute_result"
    }
   ],
   "source": [
    "mle"
   ]
  },
  {
   "cell_type": "markdown",
   "metadata": {},
   "source": [
    "### 1.3 Criticism"
   ]
  },
  {
   "cell_type": "markdown",
   "metadata": {},
   "source": [
    "**Values of the estimates:**"
   ]
  },
  {
   "cell_type": "markdown",
   "metadata": {},
   "source": [
    "We can see that a lot of the MLE estimates reflect our expectations, for example we can see that:\n",
    "- A loan which is 'Current' is much more likely to stay 'Current' the next month than any other state transition.\n",
    "- Some states are not reachable from certain states, for example once Charged Off, a loan cannot go to any other state, because LC shuts down the loan completely. Similarly, a loan cannot transition from 'Current' to 'Late (31-120)', because first it has to go to either Grace Period or 'Late (16-30)', since we are measuring data each month.\n",
    "\n",
    "We can also see the limits of our model and of these estimates:\n",
    "- TODO\n",
    "\n",
    "One trick that is usally done on MLE estimates for Markov Models is \"add-one smoothing\" which sets all the probabilities to a small value different than 0, to account for possible transitions that haven't been observed in our data. Since our dataset is very large and the number of states is small, we assume that it is not the case in our case: if a transition has never been observed, we consider that it is not possible."
   ]
  },
  {
   "cell_type": "markdown",
   "metadata": {},
   "source": [
    "**Sampling:**"
   ]
  },
  {
   "cell_type": "code",
   "execution_count": 10,
   "metadata": {},
   "outputs": [
    {
     "data": {
      "text/plain": [
       "['Issued',\n",
       " 'Current',\n",
       " 'Current',\n",
       " 'Current',\n",
       " 'Current',\n",
       " 'Current',\n",
       " 'Current',\n",
       " 'Current',\n",
       " 'Current',\n",
       " 'Current',\n",
       " 'Current',\n",
       " 'Current',\n",
       " 'Current',\n",
       " 'Current',\n",
       " 'Current',\n",
       " 'Current',\n",
       " 'Current',\n",
       " 'Current',\n",
       " 'Current',\n",
       " 'Current',\n",
       " 'Current',\n",
       " 'Current',\n",
       " 'Current',\n",
       " 'Current',\n",
       " 'Current',\n",
       " 'Current',\n",
       " 'Current',\n",
       " 'Current',\n",
       " 'Current',\n",
       " 'Current',\n",
       " 'Current',\n",
       " 'Current',\n",
       " 'Current',\n",
       " 'Current',\n",
       " 'Current',\n",
       " 'Current']"
      ]
     },
     "execution_count": 10,
     "metadata": {},
     "output_type": "execute_result"
    }
   ],
   "source": [
    "sample_mle(mle)"
   ]
  },
  {
   "cell_type": "markdown",
   "metadata": {},
   "source": [
    "We can now use these estimates to generate some trajectories. We start as 'issued' and keep generating transitions for a period of 36 months, except if we reach 'Charged Off' which is a \"sink state\"."
   ]
  },
  {
   "cell_type": "code",
   "execution_count": 11,
   "metadata": {},
   "outputs": [
    {
     "data": {
      "text/plain": [
       "['Issued',\n",
       " 'Current',\n",
       " 'Current',\n",
       " 'Current',\n",
       " 'Current',\n",
       " 'Current',\n",
       " 'Current',\n",
       " 'Current',\n",
       " 'Current',\n",
       " 'Current',\n",
       " 'Current',\n",
       " 'Current',\n",
       " 'Current',\n",
       " 'Current',\n",
       " 'Current',\n",
       " 'Current',\n",
       " 'Current',\n",
       " 'Current',\n",
       " 'Current',\n",
       " 'Current',\n",
       " 'Current',\n",
       " 'Current',\n",
       " 'Current',\n",
       " 'Current',\n",
       " 'Current',\n",
       " 'Current',\n",
       " 'Current',\n",
       " 'Current',\n",
       " 'Current',\n",
       " 'Current',\n",
       " 'Current',\n",
       " 'Current',\n",
       " 'Current',\n",
       " 'Current',\n",
       " 'Current',\n",
       " 'Current']"
      ]
     },
     "execution_count": 11,
     "metadata": {},
     "output_type": "execute_result"
    }
   ],
   "source": [
    "sample_mle(mle)"
   ]
  },
  {
   "cell_type": "markdown",
   "metadata": {},
   "source": [
    "By sampling, we can see limitations of the model itself, for example:\n",
    "- For Late (31-120), our model doesn't take into account how long has the loan spent in that state. But we do know that after being in that state 4 times, the probability of going to Charged Off is almost 1."
   ]
  },
  {
   "cell_type": "markdown",
   "metadata": {},
   "source": [
    "**Looking at statistics based on generated samples:**"
   ]
  },
  {
   "cell_type": "markdown",
   "metadata": {},
   "source": [
    "One thing we can do is to sample many times and look at the average length of a loan, and compare that to the empirical value in the data:"
   ]
  },
  {
   "cell_type": "code",
   "execution_count": 12,
   "metadata": {},
   "outputs": [],
   "source": [
    "sampled_trajectories = [sample_mle(mle) for _ in range(10000)]"
   ]
  },
  {
   "cell_type": "code",
   "execution_count": 13,
   "metadata": {},
   "outputs": [
    {
     "data": {
      "image/png": "[encoded data removed]",
      "text/plain": [
       "<Figure size 432x288 with 1 Axes>"
      ]
     },
     "metadata": {
      "needs_background": "light"
     },
     "output_type": "display_data"
    },
    {
     "name": "stdout",
     "output_type": "stream",
     "text": [
      "Average length of sampled loans: 21.96 months\n",
      "Average length of true loans: 18.17 months\n"
     ]
    }
   ],
   "source": [
    "plot_sampled_lengths(sampled_trajectories, df)"
   ]
  },
  {
   "cell_type": "markdown",
   "metadata": {},
   "source": [
    "## Experiment 2: Stationary Markov Chain without Priors"
   ]
  },
  {
   "cell_type": "markdown",
   "metadata": {},
   "source": [
    "### 2.1 Model"
   ]
  },
  {
   "cell_type": "code",
   "execution_count": 26,
   "metadata": {},
   "outputs": [],
   "source": [
    "x, T = build_mc_no_priors(n_states, chain_len)"
   ]
  },
  {
   "cell_type": "markdown",
   "metadata": {},
   "source": [
    "### 2.2 Inference"
   ]
  },
  {
   "cell_type": "code",
   "execution_count": 27,
   "metadata": {},
   "outputs": [
    {
     "name": "stdout",
     "output_type": "stream",
     "text": [
      "Loading experiment2 data from cache...\n",
      "Loading cached edward model...\n",
      "Retrieved 8 rows, 8 columns in 0.19 seconds\n"
     ]
    }
   ],
   "source": [
    "inferred_T, sess, T, qx = infer_mc_no_priors(x_train, x, T, n_states, chain_len)"
   ]
  },
  {
   "cell_type": "code",
   "execution_count": 28,
   "metadata": {},
   "outputs": [
    {
     "data": {
      "text/html": [
       "<div>\n",
       "<style scoped>\n",
       "    .dataframe tbody tr th:only-of-type {\n",
       "        vertical-align: middle;\n",
       "    }\n",
       "\n",
       "    .dataframe tbody tr th {\n",
       "        vertical-align: top;\n",
       "    }\n",
       "\n",
       "    .dataframe thead th {\n",
       "        text-align: right;\n",
       "    }\n",
       "</style>\n",
       "<table border=\"1\" class=\"dataframe\">\n",
       "  <thead>\n",
       "    <tr style=\"text-align: right;\">\n",
       "      <th></th>\n",
       "      <th>Charged Off</th>\n",
       "      <th>Current</th>\n",
       "      <th>Default</th>\n",
       "      <th>Fully Paid</th>\n",
       "      <th>In Grace Period</th>\n",
       "      <th>Issued</th>\n",
       "      <th>Late (16-30 days)</th>\n",
       "      <th>Late (31-120 days)</th>\n",
       "    </tr>\n",
       "  </thead>\n",
       "  <tbody>\n",
       "    <tr>\n",
       "      <th>Charged Off</th>\n",
       "      <td>0.151815</td>\n",
       "      <td>0.144816</td>\n",
       "      <td>0.147415</td>\n",
       "      <td>0.148537</td>\n",
       "      <td>0.153261</td>\n",
       "      <td>0.149700</td>\n",
       "      <td>0.153957</td>\n",
       "      <td>0.145684</td>\n",
       "    </tr>\n",
       "    <tr>\n",
       "      <th>Current</th>\n",
       "      <td>0.139258</td>\n",
       "      <td>0.137716</td>\n",
       "      <td>0.145338</td>\n",
       "      <td>0.141780</td>\n",
       "      <td>0.143332</td>\n",
       "      <td>0.137446</td>\n",
       "      <td>0.140408</td>\n",
       "      <td>0.142527</td>\n",
       "    </tr>\n",
       "    <tr>\n",
       "      <th>Default</th>\n",
       "      <td>0.124740</td>\n",
       "      <td>0.123742</td>\n",
       "      <td>0.120178</td>\n",
       "      <td>0.116529</td>\n",
       "      <td>0.112392</td>\n",
       "      <td>0.113944</td>\n",
       "      <td>0.119907</td>\n",
       "      <td>0.116578</td>\n",
       "    </tr>\n",
       "    <tr>\n",
       "      <th>Fully Paid</th>\n",
       "      <td>0.113481</td>\n",
       "      <td>0.110451</td>\n",
       "      <td>0.111394</td>\n",
       "      <td>0.110592</td>\n",
       "      <td>0.109300</td>\n",
       "      <td>0.113793</td>\n",
       "      <td>0.106898</td>\n",
       "      <td>0.111895</td>\n",
       "    </tr>\n",
       "    <tr>\n",
       "      <th>In Grace Period</th>\n",
       "      <td>0.121316</td>\n",
       "      <td>0.121332</td>\n",
       "      <td>0.130171</td>\n",
       "      <td>0.127002</td>\n",
       "      <td>0.126071</td>\n",
       "      <td>0.129887</td>\n",
       "      <td>0.127170</td>\n",
       "      <td>0.127645</td>\n",
       "    </tr>\n",
       "    <tr>\n",
       "      <th>Issued</th>\n",
       "      <td>0.119581</td>\n",
       "      <td>0.119551</td>\n",
       "      <td>0.114546</td>\n",
       "      <td>0.122284</td>\n",
       "      <td>0.120460</td>\n",
       "      <td>0.116047</td>\n",
       "      <td>0.121440</td>\n",
       "      <td>0.120053</td>\n",
       "    </tr>\n",
       "    <tr>\n",
       "      <th>Late (16-30 days)</th>\n",
       "      <td>0.112322</td>\n",
       "      <td>0.111935</td>\n",
       "      <td>0.115255</td>\n",
       "      <td>0.115667</td>\n",
       "      <td>0.114750</td>\n",
       "      <td>0.121577</td>\n",
       "      <td>0.109608</td>\n",
       "      <td>0.114562</td>\n",
       "    </tr>\n",
       "    <tr>\n",
       "      <th>Late (31-120 days)</th>\n",
       "      <td>0.117486</td>\n",
       "      <td>0.130457</td>\n",
       "      <td>0.115703</td>\n",
       "      <td>0.117609</td>\n",
       "      <td>0.120433</td>\n",
       "      <td>0.117605</td>\n",
       "      <td>0.120612</td>\n",
       "      <td>0.121055</td>\n",
       "    </tr>\n",
       "  </tbody>\n",
       "</table>\n",
       "</div>"
      ],
      "text/plain": [
       "                    Charged Off   Current   Default  Fully Paid  \\\n",
       "Charged Off            0.151815  0.144816  0.147415    0.148537   \n",
       "Current                0.139258  0.137716  0.145338    0.141780   \n",
       "Default                0.124740  0.123742  0.120178    0.116529   \n",
       "Fully Paid             0.113481  0.110451  0.111394    0.110592   \n",
       "In Grace Period        0.121316  0.121332  0.130171    0.127002   \n",
       "Issued                 0.119581  0.119551  0.114546    0.122284   \n",
       "Late (16-30 days)      0.112322  0.111935  0.115255    0.115667   \n",
       "Late (31-120 days)     0.117486  0.130457  0.115703    0.117609   \n",
       "\n",
       "                    In Grace Period    Issued  Late (16-30 days)  \\\n",
       "Charged Off                0.153261  0.149700           0.153957   \n",
       "Current                    0.143332  0.137446           0.140408   \n",
       "Default                    0.112392  0.113944           0.119907   \n",
       "Fully Paid                 0.109300  0.113793           0.106898   \n",
       "In Grace Period            0.126071  0.129887           0.127170   \n",
       "Issued                     0.120460  0.116047           0.121440   \n",
       "Late (16-30 days)          0.114750  0.121577           0.109608   \n",
       "Late (31-120 days)         0.120433  0.117605           0.120612   \n",
       "\n",
       "                    Late (31-120 days)  \n",
       "Charged Off                   0.145684  \n",
       "Current                       0.142527  \n",
       "Default                       0.116578  \n",
       "Fully Paid                    0.111895  \n",
       "In Grace Period               0.127645  \n",
       "Issued                        0.120053  \n",
       "Late (16-30 days)             0.114562  \n",
       "Late (31-120 days)            0.121055  "
      ]
     },
     "execution_count": 28,
     "metadata": {},
     "output_type": "execute_result"
    }
   ],
   "source": [
    "inferred_T"
   ]
  },
  {
   "cell_type": "markdown",
   "metadata": {},
   "source": [
    "### 2.3 Criticism"
   ]
  },
  {
   "cell_type": "markdown",
   "metadata": {},
   "source": [
    "@Basil: now that we have the sess, we can access values in this session by using with sess.as_default()."
   ]
  },
  {
   "cell_type": "code",
   "execution_count": 29,
   "metadata": {},
   "outputs": [
    {
     "name": "stdout",
     "output_type": "stream",
     "text": [
      "5\n"
     ]
    }
   ],
   "source": [
    "# sampling new states:\n",
    "with sess.as_default():\n",
    "    print(sess.run(qx[0].sample()))"
   ]
  },
  {
   "cell_type": "code",
   "execution_count": 30,
   "metadata": {},
   "outputs": [
    {
     "name": "stdout",
     "output_type": "stream",
     "text": [
      "[0.13561748 0.1288847  0.12656064 0.1070434  0.10686985 0.12603015\n",
      " 0.14928031 0.11971346]\n"
     ]
    }
   ],
   "source": [
    "with sess.as_default():\n",
    "    print(sess.run(qx[10].probs))"
   ]
  },
  {
   "cell_type": "code",
   "execution_count": 31,
   "metadata": {},
   "outputs": [
    {
     "name": "stdout",
     "output_type": "stream",
     "text": [
      "[[0.15181515 0.14481598 0.1474153  0.14853749 0.15326086 0.1497001\n",
      "  0.15395734 0.14568399]\n",
      " [0.13925791 0.13771576 0.14533757 0.14177966 0.1433319  0.13744645\n",
      "  0.14040788 0.14252698]\n",
      " [0.12474017 0.12374203 0.12017793 0.11652918 0.11239248 0.11394449\n",
      "  0.11990742 0.11657769]\n",
      " [0.1134811  0.11045069 0.11139417 0.11059228 0.10930025 0.11379327\n",
      "  0.10689771 0.11189532]\n",
      " [0.12131648 0.12133186 0.13017137 0.12700196 0.12607129 0.12988727\n",
      "  0.12716967 0.12764537]\n",
      " [0.11958117 0.11955133 0.11454625 0.12228364 0.12046002 0.11604656\n",
      "  0.1214401  0.12005339]\n",
      " [0.11232159 0.11193538 0.11525464 0.11566687 0.11475012 0.12157657\n",
      "  0.10960769 0.11456244]\n",
      " [0.11748645 0.13045697 0.11570276 0.11760893 0.12043307 0.11760526\n",
      "  0.12061224 0.12105472]]\n"
     ]
    }
   ],
   "source": [
    "with sess.as_default():\n",
    "    print(sess.run(T))"
   ]
  },
  {
   "cell_type": "markdown",
   "metadata": {},
   "source": [
    "## Experiment 3: Stationary Markov Chain with Priors"
   ]
  },
  {
   "cell_type": "markdown",
   "metadata": {},
   "source": [
    "### 3.1 Model"
   ]
  },
  {
   "cell_type": "markdown",
   "metadata": {},
   "source": [
    "The first Bayesian model we built uses the Categorical Distribution to model state transitions, with the Dirichlet Distribution as priors. \n",
    "\n",
    "Recall the Categorical Distribution, denoted Cat$(p_1, ..., p_K)$, is a generalization of the Bernoulli Distribution across outcome states, namely, it describes the possible results of a single trial random variable $X$ that can take on one of $K$ possible outcome states, with the probability of each category given by $(p_1, ..., p_K)$. Recall in our scenario, $K=8$ representing the possible `loan_status` states. The probability mass function is then given by:\n",
    "\n",
    "$$\n",
    "\\begin{align*}\n",
    "p(X=x | p_1, ..., p_K) = \\prod_{j=1}^{K}(p_j)^{\\mathbb{I}(x = j)}\n",
    "\\end{align*}\n",
    "$$\n",
    "\n",
    "The Dirichlet Distribution, denoted Dir$(a_1, ..., a_K)$, is the conjugate prior of the Categorical Distribution. It describes the probabilities for a K-dimensional vector of random variables $\\bar{x}$ with entries in (0,1) and which sum to 1. It should be clear why this makes sense for modelling our Categorical priors. It is parameterixed by $(a_1, ..., a_K)$, called the concentration paramters, which become hyperparameters in our model. The probability density function is given by:\n",
    "\n",
    "$$\n",
    "\\begin{align*}\n",
    "p(\\bar{X}=[x_1, ..., x_K] | a_1, ..., a_K) = \\frac{\\Gamma(\\sum_{i=1}^K a_i)}{\\prod_{i=1}^K \\Gamma(a_i)}\\prod_{i=1}^K x_i^{a_i - 1}\n",
    "\\end{align*}\n",
    "$$\n",
    "\n",
    "[Tu, 2018](#References)\n",
    "\n",
    "The Markov Chain model we specify for transition matrix $A$, outcome states $K=8$ over sequence of months $T=36$ is given by:\n",
    "\n",
    "$$\n",
    "\\begin{align*}\n",
    "x_t \\text{ ~ Cat}_{(j, t-1)}(p_1, ..., p_K) \\space\\space\\space\\space t \\in T, \\space\\space j \\in K\n",
    "\\end{align*}\n",
    "$$\n",
    "\n"
   ]
  },
  {
   "cell_type": "code",
   "execution_count": 20,
   "metadata": {},
   "outputs": [],
   "source": [
    "batch_size = 1000"
   ]
  },
  {
   "cell_type": "code",
   "execution_count": 35,
   "metadata": {},
   "outputs": [],
   "source": [
    "x, pi_0, pi_T = build_mc_with_priors(n_states, chain_len, batch_size)"
   ]
  },
  {
   "cell_type": "markdown",
   "metadata": {},
   "source": [
    "### 3.2 Inference (Batch)"
   ]
  },
  {
   "cell_type": "code",
   "execution_count": 36,
   "metadata": {},
   "outputs": [
    {
     "name": "stdout",
     "output_type": "stream",
     "text": [
      "Loading experiment3 data from cache...\n",
      "Loading cached edward model...\n",
      "Retrieved 8 rows, 8 columns in 0.08 seconds\n"
     ]
    }
   ],
   "source": [
    "df, sess, qpi_0, qpi_t = infer_mc_with_priors(x_train, x, pi_0, pi_T, n_states, chain_len, batch_size)"
   ]
  },
  {
   "cell_type": "code",
   "execution_count": 37,
   "metadata": {},
   "outputs": [
    {
     "data": {
      "text/html": [
       "<div>\n",
       "<style scoped>\n",
       "    .dataframe tbody tr th:only-of-type {\n",
       "        vertical-align: middle;\n",
       "    }\n",
       "\n",
       "    .dataframe tbody tr th {\n",
       "        vertical-align: top;\n",
       "    }\n",
       "\n",
       "    .dataframe thead th {\n",
       "        text-align: right;\n",
       "    }\n",
       "</style>\n",
       "<table border=\"1\" class=\"dataframe\">\n",
       "  <thead>\n",
       "    <tr style=\"text-align: right;\">\n",
       "      <th></th>\n",
       "      <th>Charged Off</th>\n",
       "      <th>Current</th>\n",
       "      <th>Default</th>\n",
       "      <th>Fully Paid</th>\n",
       "      <th>In Grace Period</th>\n",
       "      <th>Issued</th>\n",
       "      <th>Late (16-30 days)</th>\n",
       "      <th>Late (31-120 days)</th>\n",
       "    </tr>\n",
       "  </thead>\n",
       "  <tbody>\n",
       "    <tr>\n",
       "      <th>Charged Off</th>\n",
       "      <td>0.270607</td>\n",
       "      <td>0.128769</td>\n",
       "      <td>0.081541</td>\n",
       "      <td>0.070428</td>\n",
       "      <td>0.076399</td>\n",
       "      <td>0.117405</td>\n",
       "      <td>0.164460</td>\n",
       "      <td>0.090392</td>\n",
       "    </tr>\n",
       "    <tr>\n",
       "      <th>Current</th>\n",
       "      <td>0.015246</td>\n",
       "      <td>0.828056</td>\n",
       "      <td>0.021040</td>\n",
       "      <td>0.044684</td>\n",
       "      <td>0.022390</td>\n",
       "      <td>0.016792</td>\n",
       "      <td>0.030016</td>\n",
       "      <td>0.021775</td>\n",
       "    </tr>\n",
       "    <tr>\n",
       "      <th>Default</th>\n",
       "      <td>0.152546</td>\n",
       "      <td>0.120394</td>\n",
       "      <td>0.123971</td>\n",
       "      <td>0.131847</td>\n",
       "      <td>0.155846</td>\n",
       "      <td>0.082085</td>\n",
       "      <td>0.145534</td>\n",
       "      <td>0.087778</td>\n",
       "    </tr>\n",
       "    <tr>\n",
       "      <th>Fully Paid</th>\n",
       "      <td>0.036865</td>\n",
       "      <td>0.050035</td>\n",
       "      <td>0.050240</td>\n",
       "      <td>0.638405</td>\n",
       "      <td>0.036351</td>\n",
       "      <td>0.063181</td>\n",
       "      <td>0.046973</td>\n",
       "      <td>0.077950</td>\n",
       "    </tr>\n",
       "    <tr>\n",
       "      <th>In Grace Period</th>\n",
       "      <td>0.158774</td>\n",
       "      <td>0.121978</td>\n",
       "      <td>0.118425</td>\n",
       "      <td>0.112937</td>\n",
       "      <td>0.076360</td>\n",
       "      <td>0.117436</td>\n",
       "      <td>0.174530</td>\n",
       "      <td>0.119560</td>\n",
       "    </tr>\n",
       "    <tr>\n",
       "      <th>Issued</th>\n",
       "      <td>0.116244</td>\n",
       "      <td>0.172275</td>\n",
       "      <td>0.102518</td>\n",
       "      <td>0.079343</td>\n",
       "      <td>0.177434</td>\n",
       "      <td>0.169137</td>\n",
       "      <td>0.112600</td>\n",
       "      <td>0.070449</td>\n",
       "    </tr>\n",
       "    <tr>\n",
       "      <th>Late (16-30 days)</th>\n",
       "      <td>0.112473</td>\n",
       "      <td>0.155421</td>\n",
       "      <td>0.105290</td>\n",
       "      <td>0.164747</td>\n",
       "      <td>0.076349</td>\n",
       "      <td>0.166576</td>\n",
       "      <td>0.115024</td>\n",
       "      <td>0.104120</td>\n",
       "    </tr>\n",
       "    <tr>\n",
       "      <th>Late (31-120 days)</th>\n",
       "      <td>0.175590</td>\n",
       "      <td>0.130657</td>\n",
       "      <td>0.103344</td>\n",
       "      <td>0.155574</td>\n",
       "      <td>0.132815</td>\n",
       "      <td>0.059216</td>\n",
       "      <td>0.153257</td>\n",
       "      <td>0.089548</td>\n",
       "    </tr>\n",
       "  </tbody>\n",
       "</table>\n",
       "</div>"
      ],
      "text/plain": [
       "                    Charged Off   Current   Default  Fully Paid  \\\n",
       "Charged Off            0.270607  0.128769  0.081541    0.070428   \n",
       "Current                0.015246  0.828056  0.021040    0.044684   \n",
       "Default                0.152546  0.120394  0.123971    0.131847   \n",
       "Fully Paid             0.036865  0.050035  0.050240    0.638405   \n",
       "In Grace Period        0.158774  0.121978  0.118425    0.112937   \n",
       "Issued                 0.116244  0.172275  0.102518    0.079343   \n",
       "Late (16-30 days)      0.112473  0.155421  0.105290    0.164747   \n",
       "Late (31-120 days)     0.175590  0.130657  0.103344    0.155574   \n",
       "\n",
       "                    In Grace Period    Issued  Late (16-30 days)  \\\n",
       "Charged Off                0.076399  0.117405           0.164460   \n",
       "Current                    0.022390  0.016792           0.030016   \n",
       "Default                    0.155846  0.082085           0.145534   \n",
       "Fully Paid                 0.036351  0.063181           0.046973   \n",
       "In Grace Period            0.076360  0.117436           0.174530   \n",
       "Issued                     0.177434  0.169137           0.112600   \n",
       "Late (16-30 days)          0.076349  0.166576           0.115024   \n",
       "Late (31-120 days)         0.132815  0.059216           0.153257   \n",
       "\n",
       "                    Late (31-120 days)  \n",
       "Charged Off                   0.090392  \n",
       "Current                       0.021775  \n",
       "Default                       0.087778  \n",
       "Fully Paid                    0.077950  \n",
       "In Grace Period               0.119560  \n",
       "Issued                        0.070449  \n",
       "Late (16-30 days)             0.104120  \n",
       "Late (31-120 days)            0.089548  "
      ]
     },
     "execution_count": 37,
     "metadata": {},
     "output_type": "execute_result"
    }
   ],
   "source": [
    "df"
   ]
  },
  {
   "cell_type": "code",
   "execution_count": 38,
   "metadata": {},
   "outputs": [
    {
     "name": "stdout",
     "output_type": "stream",
     "text": [
      "[0.10474963 0.08141562 0.23531985 0.02791097 0.03937913 0.08043075\n",
      " 0.16235298 0.26844108]\n",
      "[[3.82505059e-01 2.28392497e-01 1.01010688e-01 2.37050059e-04\n",
      "  3.60750370e-02 1.25232721e-02 1.52996823e-01 8.62595811e-02]\n",
      " [2.70558492e-04 6.90671027e-01 3.71852964e-02 6.03663782e-03\n",
      "  2.69318577e-02 1.01684756e-03 1.74833387e-01 6.30544052e-02]\n",
      " [2.50895202e-01 2.90051196e-02 1.68283030e-01 2.04329908e-01\n",
      "  1.41963422e-01 1.33138569e-02 9.91984084e-02 9.30110961e-02]\n",
      " [1.39018968e-01 3.48017588e-02 2.27025554e-01 4.49428588e-01\n",
      "  1.05724540e-02 1.07159406e-01 1.62299108e-02 1.57633424e-02]\n",
      " [3.96116823e-01 2.51729768e-02 1.75964862e-01 1.01234242e-01\n",
      "  8.31274502e-03 1.43382728e-01 4.65528406e-02 1.03262752e-01]\n",
      " [2.25536197e-01 2.80080903e-02 2.60042906e-01 1.10142626e-01\n",
      "  1.84442624e-01 7.83376992e-02 7.01918527e-02 4.32980508e-02]\n",
      " [4.28195149e-01 1.54667854e-01 2.48399004e-03 8.25597048e-02\n",
      "  1.87181860e-01 3.76919955e-02 9.46681350e-02 1.25512350e-02]\n",
      " [1.34759769e-01 2.55508691e-01 5.24162687e-02 8.12090337e-02\n",
      "  9.11894217e-02 1.52152658e-01 2.10428938e-01 2.23352816e-02]]\n"
     ]
    }
   ],
   "source": [
    "with sess.as_default():\n",
    "    print(sess.run(qpi_0))\n",
    "    print(sess.run(qpi_t))"
   ]
  },
  {
   "cell_type": "markdown",
   "metadata": {},
   "source": [
    "### 3.3 Criticism"
   ]
  },
  {
   "cell_type": "markdown",
   "metadata": {},
   "source": [
    "## References"
   ]
  },
  {
   "cell_type": "markdown",
   "metadata": {},
   "source": [
    "*Machine Learning: A Probabilistic Perspective*, by Kevin P. Murphy, MIT Press, 2012.\n",
    "\n",
    "*The Dirichlet-Multinomial and Dirichlet-Categorical models for Bayesian inference*, by Stephen Tu, retrieved from https://people.eecs.berkeley.edu/~stephentu/writeups/dirichlet-conjugate-prior.pdf"
   ]
  }
 ],
 "metadata": {
  "kernelspec": {
   "display_name": "MLPP Lending Club",
   "language": "python",
   "name": "lending-club-analysis-iuojzap3"
  },
  "language_info": {
   "codemirror_mode": {
    "name": "ipython",
    "version": 3
   },
   "file_extension": ".py",
   "mimetype": "text/x-python",
   "name": "python",
   "nbconvert_exporter": "python",
   "pygments_lexer": "ipython3",
   "version": "3.6.5"
  }
 },
 "nbformat": 4,
 "nbformat_minor": 2
}
