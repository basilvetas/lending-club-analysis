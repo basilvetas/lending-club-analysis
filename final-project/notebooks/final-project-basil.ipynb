{
 "cells": [
  {
   "cell_type": "markdown",
   "metadata": {},
   "source": [
    "# Modeling Personal Loan Delinquency with LendingClub Data"
   ]
  },
  {
   "cell_type": "markdown",
   "metadata": {},
   "source": [
    "## Imports and Settings"
   ]
  },
  {
   "cell_type": "code",
   "execution_count": 1,
   "metadata": {},
   "outputs": [
    {
     "name": "stdout",
     "output_type": "stream",
     "text": [
      "WARNING:tensorflow:From /Users/basilvetas/.local/share/virtualenvs/lending-club-analysis-iUojZaP3/lib/python3.6/site-packages/tensorflow/contrib/learn/python/learn/datasets/base.py:198: retry (from tensorflow.contrib.learn.python.learn.datasets.base) is deprecated and will be removed in a future version.\n",
      "Instructions for updating:\n",
      "Use the retry module or similar alternatives.\n"
     ]
    }
   ],
   "source": [
    "import numpy as np\n",
    "import pandas as pd\n",
    "\n",
    "from utils.utils import (\n",
    "    load_dataframe, \n",
    "    preprocess, \n",
    "    split_data,\n",
    "    reset_axes)\n",
    "\n",
    "from utils.models import build_mle_matrix, build_markov_chain_no_priors\n",
    "from utils.inference import compute_mle, infer_matrix_no_priors"
   ]
  },
  {
   "cell_type": "code",
   "execution_count": 2,
   "metadata": {},
   "outputs": [],
   "source": [
    "pd.set_option('display.max_columns', 200)\n",
    "pd.set_option('display.max_rows', 200)\n",
    "pd.set_option('display.max_colwidth', -1)"
   ]
  },
  {
   "cell_type": "markdown",
   "metadata": {},
   "source": [
    "## Data Loading and Preprocessing"
   ]
  },
  {
   "cell_type": "code",
   "execution_count": 3,
   "metadata": {},
   "outputs": [
    {
     "name": "stdout",
     "output_type": "stream",
     "text": [
      "Loading raw data from hdf5 cache...\n",
      "Fetching raw data took 2.60 seconds\n",
      "Retrieved 40,268,594 rows, 4 columns\n"
     ]
    }
   ],
   "source": [
    "df = load_dataframe()"
   ]
  },
  {
   "cell_type": "markdown",
   "metadata": {},
   "source": [
    "Our variable of interest is called `loan_status` which has eight possible states. These are the Loan Status Descriptions from the LendingClub [website](https://help.lendingclub.com/hc/en-us/articles/215488038-What-do-the-different-Note-statuses-mean-):\n",
    "\n",
    "- **Current**: Loan is up to date on all outstanding payments. \n",
    "\n",
    "- **Fully paid**: Loan has been fully repaid, either at the expiration of the 3- or 5-year year term or as a result of a prepayment.\n",
    " \n",
    "- **Late (16-30)**: Loan has not been current for 16 to 30 days. Learn more about the tools LendingClub has to deal with delinquent borrowers.\n",
    " \n",
    "- **Late (31-120)**: Loan has not been current for 31 to 120 days. Learn more about the tools LendingClub has to deal with delinquent borrowers.\n",
    " \n",
    "- **Charged Off**: Loan for which there is no longer a reasonable expectation of further payments. Upon Charge Off, the remaining principal balance of the Note is deducted from the account balance. Charge Off typically occurs when a loan is 120 days or more past due and there is no reasonable expectation of sufficient payment to prevent the charge off. Loans for which borrowers have filed for bankruptcy may be charged off earlier based on the date of bankruptcy notification. \n",
    "\n",
    "- **Default**: Loan has not been current for an extended period of time. More about the difference between Default and Charged Off [here](https://help.lendingclub.com/hc/en-us/articles/216127747)\n",
    "\n",
    "- **In Grace Period**: Loan is past due but within the 15-day grace period. \n",
    "\n",
    "- **Issued**: New loan that has passed all LendingClub reviews, received full funding, and has been issued."
   ]
  },
  {
   "cell_type": "code",
   "execution_count": 4,
   "metadata": {},
   "outputs": [
    {
     "name": "stdout",
     "output_type": "stream",
     "text": [
      "Mapping column names...\n",
      "Loading preprocessed data from hdf5 cache...\n",
      "Fetching preprocessed data took 2.26 seconds\n",
      "Preprocessed 27,641,460 rows, 4 columns\n"
     ]
    }
   ],
   "source": [
    "df = preprocess(df)"
   ]
  },
  {
   "cell_type": "code",
   "execution_count": 5,
   "metadata": {},
   "outputs": [
    {
     "name": "stdout",
     "output_type": "stream",
     "text": [
      "Loading split data from hdf5 cache...\n",
      "Fetching training and test data took 0.37 seconds\n"
     ]
    }
   ],
   "source": [
    "x_train, x_test = split_data(df)"
   ]
  },
  {
   "cell_type": "markdown",
   "metadata": {},
   "source": [
    "## Experiment 1: Markov Model with Maximum Likelihood Estimates"
   ]
  },
  {
   "cell_type": "markdown",
   "metadata": {},
   "source": [
    "The MLE solution of a Markov Chain is simply the empirical frequencies of each transition. Even though we want to solve the problem from a Bayesian perspective, it's good to look at this estimate and have it in mind later."
   ]
  },
  {
   "cell_type": "markdown",
   "metadata": {},
   "source": [
    "### Model"
   ]
  },
  {
   "cell_type": "code",
   "execution_count": 6,
   "metadata": {},
   "outputs": [
    {
     "name": "stdout",
     "output_type": "stream",
     "text": [
      "Loading transition matrix from hdf5 cache...\n",
      "Fetching transition matrix took 0.01 seconds\n"
     ]
    }
   ],
   "source": [
    "realized_transitions = build_mle_matrix(df)"
   ]
  },
  {
   "cell_type": "code",
   "execution_count": 7,
   "metadata": {},
   "outputs": [
    {
     "data": {
      "text/html": [
       "<div>\n",
       "<style scoped>\n",
       "    .dataframe tbody tr th:only-of-type {\n",
       "        vertical-align: middle;\n",
       "    }\n",
       "\n",
       "    .dataframe tbody tr th {\n",
       "        vertical-align: top;\n",
       "    }\n",
       "\n",
       "    .dataframe thead th {\n",
       "        text-align: right;\n",
       "    }\n",
       "</style>\n",
       "<table border=\"1\" class=\"dataframe\">\n",
       "  <thead>\n",
       "    <tr style=\"text-align: right;\">\n",
       "      <th></th>\n",
       "      <th>Charged Off</th>\n",
       "      <th>Current</th>\n",
       "      <th>Default</th>\n",
       "      <th>Fully Paid</th>\n",
       "      <th>In Grace Period</th>\n",
       "      <th>Issued</th>\n",
       "      <th>Late (16-30 days)</th>\n",
       "      <th>Late (31-120 days)</th>\n",
       "    </tr>\n",
       "  </thead>\n",
       "  <tbody>\n",
       "    <tr>\n",
       "      <th>Charged Off</th>\n",
       "      <td>0</td>\n",
       "      <td>0</td>\n",
       "      <td>0</td>\n",
       "      <td>0</td>\n",
       "      <td>0</td>\n",
       "      <td>0</td>\n",
       "      <td>0</td>\n",
       "      <td>0</td>\n",
       "    </tr>\n",
       "    <tr>\n",
       "      <th>Current</th>\n",
       "      <td>774</td>\n",
       "      <td>24453702</td>\n",
       "      <td>3</td>\n",
       "      <td>707322</td>\n",
       "      <td>5831</td>\n",
       "      <td>0</td>\n",
       "      <td>160366</td>\n",
       "      <td>62102</td>\n",
       "    </tr>\n",
       "    <tr>\n",
       "      <th>Default</th>\n",
       "      <td>28897</td>\n",
       "      <td>147</td>\n",
       "      <td>2297</td>\n",
       "      <td>71</td>\n",
       "      <td>0</td>\n",
       "      <td>0</td>\n",
       "      <td>4</td>\n",
       "      <td>506</td>\n",
       "    </tr>\n",
       "    <tr>\n",
       "      <th>Fully Paid</th>\n",
       "      <td>0</td>\n",
       "      <td>0</td>\n",
       "      <td>0</td>\n",
       "      <td>8063</td>\n",
       "      <td>12</td>\n",
       "      <td>0</td>\n",
       "      <td>101</td>\n",
       "      <td>72</td>\n",
       "    </tr>\n",
       "    <tr>\n",
       "      <th>In Grace Period</th>\n",
       "      <td>0</td>\n",
       "      <td>276</td>\n",
       "      <td>0</td>\n",
       "      <td>11</td>\n",
       "      <td>22</td>\n",
       "      <td>0</td>\n",
       "      <td>59</td>\n",
       "      <td>41</td>\n",
       "    </tr>\n",
       "    <tr>\n",
       "      <th>Issued</th>\n",
       "      <td>0</td>\n",
       "      <td>17206</td>\n",
       "      <td>0</td>\n",
       "      <td>670</td>\n",
       "      <td>1</td>\n",
       "      <td>0</td>\n",
       "      <td>38</td>\n",
       "      <td>1</td>\n",
       "    </tr>\n",
       "    <tr>\n",
       "      <th>Late (16-30 days)</th>\n",
       "      <td>4548</td>\n",
       "      <td>32376</td>\n",
       "      <td>0</td>\n",
       "      <td>2066</td>\n",
       "      <td>257</td>\n",
       "      <td>0</td>\n",
       "      <td>13413</td>\n",
       "      <td>119621</td>\n",
       "    </tr>\n",
       "    <tr>\n",
       "      <th>Late (31-120 days)</th>\n",
       "      <td>105934</td>\n",
       "      <td>25434</td>\n",
       "      <td>29802</td>\n",
       "      <td>2146</td>\n",
       "      <td>56</td>\n",
       "      <td>0</td>\n",
       "      <td>3292</td>\n",
       "      <td>332762</td>\n",
       "    </tr>\n",
       "  </tbody>\n",
       "</table>\n",
       "</div>"
      ],
      "text/plain": [
       "                    Charged Off   Current  Default  Fully Paid  \\\n",
       "Charged Off         0            0         0        0            \n",
       "Current             774          24453702  3        707322       \n",
       "Default             28897        147       2297     71           \n",
       "Fully Paid          0            0         0        8063         \n",
       "In Grace Period     0            276       0        11           \n",
       "Issued              0            17206     0        670          \n",
       "Late (16-30 days)   4548         32376     0        2066         \n",
       "Late (31-120 days)  105934       25434     29802    2146         \n",
       "\n",
       "                    In Grace Period  Issued  Late (16-30 days)  \\\n",
       "Charged Off         0                0       0                   \n",
       "Current             5831             0       160366              \n",
       "Default             0                0       4                   \n",
       "Fully Paid          12               0       101                 \n",
       "In Grace Period     22               0       59                  \n",
       "Issued              1                0       38                  \n",
       "Late (16-30 days)   257              0       13413               \n",
       "Late (31-120 days)  56               0       3292                \n",
       "\n",
       "                    Late (31-120 days)  \n",
       "Charged Off         0                   \n",
       "Current             62102               \n",
       "Default             506                 \n",
       "Fully Paid          72                  \n",
       "In Grace Period     41                  \n",
       "Issued              1                   \n",
       "Late (16-30 days)   119621              \n",
       "Late (31-120 days)  332762              "
      ]
     },
     "execution_count": 7,
     "metadata": {},
     "output_type": "execute_result"
    }
   ],
   "source": [
    "realized_transitions"
   ]
  },
  {
   "cell_type": "markdown",
   "metadata": {},
   "source": [
    "### Inference"
   ]
  },
  {
   "cell_type": "code",
   "execution_count": 8,
   "metadata": {},
   "outputs": [
    {
     "data": {
      "text/html": [
       "<div>\n",
       "<style scoped>\n",
       "    .dataframe tbody tr th:only-of-type {\n",
       "        vertical-align: middle;\n",
       "    }\n",
       "\n",
       "    .dataframe tbody tr th {\n",
       "        vertical-align: top;\n",
       "    }\n",
       "\n",
       "    .dataframe thead th {\n",
       "        text-align: right;\n",
       "    }\n",
       "</style>\n",
       "<table border=\"1\" class=\"dataframe\">\n",
       "  <thead>\n",
       "    <tr style=\"text-align: right;\">\n",
       "      <th></th>\n",
       "      <th>Charged Off</th>\n",
       "      <th>Current</th>\n",
       "      <th>Default</th>\n",
       "      <th>Fully Paid</th>\n",
       "      <th>In Grace Period</th>\n",
       "      <th>Issued</th>\n",
       "      <th>Late (16-30 days)</th>\n",
       "      <th>Late (31-120 days)</th>\n",
       "    </tr>\n",
       "  </thead>\n",
       "  <tbody>\n",
       "    <tr>\n",
       "      <th>Charged Off</th>\n",
       "      <td>0.00</td>\n",
       "      <td>0.00</td>\n",
       "      <td>0.00</td>\n",
       "      <td>0.00</td>\n",
       "      <td>0.00</td>\n",
       "      <td>0.0</td>\n",
       "      <td>0.00</td>\n",
       "      <td>0.00</td>\n",
       "    </tr>\n",
       "    <tr>\n",
       "      <th>Current</th>\n",
       "      <td>0.00</td>\n",
       "      <td>0.96</td>\n",
       "      <td>0.00</td>\n",
       "      <td>0.03</td>\n",
       "      <td>0.00</td>\n",
       "      <td>0.0</td>\n",
       "      <td>0.01</td>\n",
       "      <td>0.00</td>\n",
       "    </tr>\n",
       "    <tr>\n",
       "      <th>Default</th>\n",
       "      <td>0.91</td>\n",
       "      <td>0.00</td>\n",
       "      <td>0.07</td>\n",
       "      <td>0.00</td>\n",
       "      <td>0.00</td>\n",
       "      <td>0.0</td>\n",
       "      <td>0.00</td>\n",
       "      <td>0.02</td>\n",
       "    </tr>\n",
       "    <tr>\n",
       "      <th>Fully Paid</th>\n",
       "      <td>0.00</td>\n",
       "      <td>0.00</td>\n",
       "      <td>0.00</td>\n",
       "      <td>0.98</td>\n",
       "      <td>0.00</td>\n",
       "      <td>0.0</td>\n",
       "      <td>0.01</td>\n",
       "      <td>0.01</td>\n",
       "    </tr>\n",
       "    <tr>\n",
       "      <th>In Grace Period</th>\n",
       "      <td>0.00</td>\n",
       "      <td>0.67</td>\n",
       "      <td>0.00</td>\n",
       "      <td>0.03</td>\n",
       "      <td>0.05</td>\n",
       "      <td>0.0</td>\n",
       "      <td>0.14</td>\n",
       "      <td>0.10</td>\n",
       "    </tr>\n",
       "    <tr>\n",
       "      <th>Issued</th>\n",
       "      <td>0.00</td>\n",
       "      <td>0.96</td>\n",
       "      <td>0.00</td>\n",
       "      <td>0.04</td>\n",
       "      <td>0.00</td>\n",
       "      <td>0.0</td>\n",
       "      <td>0.00</td>\n",
       "      <td>0.00</td>\n",
       "    </tr>\n",
       "    <tr>\n",
       "      <th>Late (16-30 days)</th>\n",
       "      <td>0.03</td>\n",
       "      <td>0.19</td>\n",
       "      <td>0.00</td>\n",
       "      <td>0.01</td>\n",
       "      <td>0.00</td>\n",
       "      <td>0.0</td>\n",
       "      <td>0.08</td>\n",
       "      <td>0.69</td>\n",
       "    </tr>\n",
       "    <tr>\n",
       "      <th>Late (31-120 days)</th>\n",
       "      <td>0.21</td>\n",
       "      <td>0.05</td>\n",
       "      <td>0.06</td>\n",
       "      <td>0.00</td>\n",
       "      <td>0.00</td>\n",
       "      <td>0.0</td>\n",
       "      <td>0.01</td>\n",
       "      <td>0.67</td>\n",
       "    </tr>\n",
       "  </tbody>\n",
       "</table>\n",
       "</div>"
      ],
      "text/plain": [
       "                    Charged Off  Current  Default  Fully Paid  \\\n",
       "Charged Off         0.00         0.00     0.00     0.00         \n",
       "Current             0.00         0.96     0.00     0.03         \n",
       "Default             0.91         0.00     0.07     0.00         \n",
       "Fully Paid          0.00         0.00     0.00     0.98         \n",
       "In Grace Period     0.00         0.67     0.00     0.03         \n",
       "Issued              0.00         0.96     0.00     0.04         \n",
       "Late (16-30 days)   0.03         0.19     0.00     0.01         \n",
       "Late (31-120 days)  0.21         0.05     0.06     0.00         \n",
       "\n",
       "                    In Grace Period  Issued  Late (16-30 days)  \\\n",
       "Charged Off         0.00             0.0     0.00                \n",
       "Current             0.00             0.0     0.01                \n",
       "Default             0.00             0.0     0.00                \n",
       "Fully Paid          0.00             0.0     0.01                \n",
       "In Grace Period     0.05             0.0     0.14                \n",
       "Issued              0.00             0.0     0.00                \n",
       "Late (16-30 days)   0.00             0.0     0.08                \n",
       "Late (31-120 days)  0.00             0.0     0.01                \n",
       "\n",
       "                    Late (31-120 days)  \n",
       "Charged Off         0.00                \n",
       "Current             0.00                \n",
       "Default             0.02                \n",
       "Fully Paid          0.01                \n",
       "In Grace Period     0.10                \n",
       "Issued              0.00                \n",
       "Late (16-30 days)   0.69                \n",
       "Late (31-120 days)  0.67                "
      ]
     },
     "execution_count": 8,
     "metadata": {},
     "output_type": "execute_result"
    }
   ],
   "source": [
    "compute_mle(realized_transitions)"
   ]
  },
  {
   "cell_type": "markdown",
   "metadata": {},
   "source": [
    "### Criticism"
   ]
  },
  {
   "cell_type": "markdown",
   "metadata": {},
   "source": [
    "## Experiment 2: Stationary Markov Chain without Priors"
   ]
  },
  {
   "cell_type": "markdown",
   "metadata": {},
   "source": [
    "### Model"
   ]
  },
  {
   "cell_type": "code",
   "execution_count": 9,
   "metadata": {},
   "outputs": [],
   "source": [
    "chain_len = max(df.age_of_loan)\n",
    "n_states = df.loan_status.unique().shape[0]\n",
    "x, T = build_markov_chain_no_priors(n_states, chain_len)"
   ]
  },
  {
   "cell_type": "markdown",
   "metadata": {},
   "source": [
    "### Inference - Variational Inference"
   ]
  },
  {
   "cell_type": "code",
   "execution_count": 10,
   "metadata": {},
   "outputs": [
    {
     "name": "stdout",
     "output_type": "stream",
     "text": [
      "20000/20000 [100%] ██████████████████████████████ Elapsed: 101s | Loss: 1.833\n"
     ]
    },
    {
     "data": {
      "text/html": [
       "<div>\n",
       "<style scoped>\n",
       "    .dataframe tbody tr th:only-of-type {\n",
       "        vertical-align: middle;\n",
       "    }\n",
       "\n",
       "    .dataframe tbody tr th {\n",
       "        vertical-align: top;\n",
       "    }\n",
       "\n",
       "    .dataframe thead th {\n",
       "        text-align: right;\n",
       "    }\n",
       "</style>\n",
       "<table border=\"1\" class=\"dataframe\">\n",
       "  <thead>\n",
       "    <tr style=\"text-align: right;\">\n",
       "      <th></th>\n",
       "      <th>Charged Off</th>\n",
       "      <th>Current</th>\n",
       "      <th>Default</th>\n",
       "      <th>Fully Paid</th>\n",
       "      <th>In Grace Period</th>\n",
       "      <th>Issued</th>\n",
       "      <th>Late (16-30 days)</th>\n",
       "      <th>Late (31-120 days)</th>\n",
       "    </tr>\n",
       "  </thead>\n",
       "  <tbody>\n",
       "    <tr>\n",
       "      <th>Charged Off</th>\n",
       "      <td>0.098205</td>\n",
       "      <td>0.101345</td>\n",
       "      <td>0.102685</td>\n",
       "      <td>0.099544</td>\n",
       "      <td>0.099228</td>\n",
       "      <td>0.097762</td>\n",
       "      <td>0.097746</td>\n",
       "      <td>0.098790</td>\n",
       "    </tr>\n",
       "    <tr>\n",
       "      <th>Current</th>\n",
       "      <td>0.129179</td>\n",
       "      <td>0.130857</td>\n",
       "      <td>0.129489</td>\n",
       "      <td>0.126082</td>\n",
       "      <td>0.130558</td>\n",
       "      <td>0.127369</td>\n",
       "      <td>0.126617</td>\n",
       "      <td>0.127844</td>\n",
       "    </tr>\n",
       "    <tr>\n",
       "      <th>Default</th>\n",
       "      <td>0.118641</td>\n",
       "      <td>0.121201</td>\n",
       "      <td>0.120378</td>\n",
       "      <td>0.121411</td>\n",
       "      <td>0.124497</td>\n",
       "      <td>0.125006</td>\n",
       "      <td>0.119926</td>\n",
       "      <td>0.121650</td>\n",
       "    </tr>\n",
       "    <tr>\n",
       "      <th>Fully Paid</th>\n",
       "      <td>0.143039</td>\n",
       "      <td>0.140888</td>\n",
       "      <td>0.141293</td>\n",
       "      <td>0.147665</td>\n",
       "      <td>0.140984</td>\n",
       "      <td>0.143109</td>\n",
       "      <td>0.138954</td>\n",
       "      <td>0.141033</td>\n",
       "    </tr>\n",
       "    <tr>\n",
       "      <th>In Grace Period</th>\n",
       "      <td>0.122338</td>\n",
       "      <td>0.123548</td>\n",
       "      <td>0.119738</td>\n",
       "      <td>0.125060</td>\n",
       "      <td>0.118013</td>\n",
       "      <td>0.120828</td>\n",
       "      <td>0.127999</td>\n",
       "      <td>0.118930</td>\n",
       "    </tr>\n",
       "    <tr>\n",
       "      <th>Issued</th>\n",
       "      <td>0.139208</td>\n",
       "      <td>0.131497</td>\n",
       "      <td>0.139040</td>\n",
       "      <td>0.131977</td>\n",
       "      <td>0.138706</td>\n",
       "      <td>0.135345</td>\n",
       "      <td>0.135550</td>\n",
       "      <td>0.140579</td>\n",
       "    </tr>\n",
       "    <tr>\n",
       "      <th>Late (16-30 days)</th>\n",
       "      <td>0.123957</td>\n",
       "      <td>0.124278</td>\n",
       "      <td>0.119150</td>\n",
       "      <td>0.122819</td>\n",
       "      <td>0.122666</td>\n",
       "      <td>0.121893</td>\n",
       "      <td>0.121057</td>\n",
       "      <td>0.125405</td>\n",
       "    </tr>\n",
       "    <tr>\n",
       "      <th>Late (31-120 days)</th>\n",
       "      <td>0.125434</td>\n",
       "      <td>0.126386</td>\n",
       "      <td>0.128226</td>\n",
       "      <td>0.125442</td>\n",
       "      <td>0.125348</td>\n",
       "      <td>0.128690</td>\n",
       "      <td>0.132151</td>\n",
       "      <td>0.125768</td>\n",
       "    </tr>\n",
       "  </tbody>\n",
       "</table>\n",
       "</div>"
      ],
      "text/plain": [
       "                    Charged Off   Current   Default  Fully Paid  \\\n",
       "Charged Off         0.098205     0.101345  0.102685  0.099544     \n",
       "Current             0.129179     0.130857  0.129489  0.126082     \n",
       "Default             0.118641     0.121201  0.120378  0.121411     \n",
       "Fully Paid          0.143039     0.140888  0.141293  0.147665     \n",
       "In Grace Period     0.122338     0.123548  0.119738  0.125060     \n",
       "Issued              0.139208     0.131497  0.139040  0.131977     \n",
       "Late (16-30 days)   0.123957     0.124278  0.119150  0.122819     \n",
       "Late (31-120 days)  0.125434     0.126386  0.128226  0.125442     \n",
       "\n",
       "                    In Grace Period    Issued  Late (16-30 days)  \\\n",
       "Charged Off         0.099228         0.097762  0.097746            \n",
       "Current             0.130558         0.127369  0.126617            \n",
       "Default             0.124497         0.125006  0.119926            \n",
       "Fully Paid          0.140984         0.143109  0.138954            \n",
       "In Grace Period     0.118013         0.120828  0.127999            \n",
       "Issued              0.138706         0.135345  0.135550            \n",
       "Late (16-30 days)   0.122666         0.121893  0.121057            \n",
       "Late (31-120 days)  0.125348         0.128690  0.132151            \n",
       "\n",
       "                    Late (31-120 days)  \n",
       "Charged Off         0.098790            \n",
       "Current             0.127844            \n",
       "Default             0.121650            \n",
       "Fully Paid          0.141033            \n",
       "In Grace Period     0.118930            \n",
       "Issued              0.140579            \n",
       "Late (16-30 days)   0.125405            \n",
       "Late (31-120 days)  0.125768            "
      ]
     },
     "execution_count": 10,
     "metadata": {},
     "output_type": "execute_result"
    }
   ],
   "source": [
    "infer_matrix_no_priors(x_train, x, T, n_states, chain_len, **{'n_iter': 20000})"
   ]
  },
  {
   "cell_type": "markdown",
   "metadata": {},
   "source": [
    "### Inference - Gibbs Sampling"
   ]
  },
  {
   "cell_type": "code",
   "execution_count": null,
   "metadata": {},
   "outputs": [],
   "source": [
    "#WIP \n",
    "\n",
    "T = 5000 # number of posterior samples => the \"M\" in our lecture on MCMC (length of MC used for inference)\n",
    "\n",
    "# the approximating family has to be an empirical distribution in MCMC:\n",
    "# qpi = ed.models.Empirical(params=tf.get_variable(\"qpi/params\", [T, n_statuses],\n",
    "#       initializer=tf.constant_initializer(1.0 / n_statuses))) # initialize as uniform probs\n",
    "qpi = ed.models.Empirical(tf.Variable(name=\"qpi/params\", expected_shape=[T, n_states],\n",
    "                                      initial_value=tf.constant(1.0/n_states, shape=[T, n_states])))\n",
    "\n",
    "# self.qu = ed.models.Empirical(params=tf.Variable(tf.zeros([n_iter, self.N, self.K]), name=\"qu\"))\n",
    "inference = ed.inferences.Gibbs(latent_vars={pi: qpi}, data={counts: data})\n",
    "inference.run()\n",
    "\n",
    "# CRITICISM\n",
    "print(\"Inferred pi: {}\".format(sess.run(qpi.mean()))) "
   ]
  }
 ],
 "metadata": {
  "kernelspec": {
   "display_name": "MLPP Lending Club",
   "language": "python",
   "name": "lending-club-analysis-iuojzap3"
  },
  "language_info": {
   "codemirror_mode": {
    "name": "ipython",
    "version": 3
   },
   "file_extension": ".py",
   "mimetype": "text/x-python",
   "name": "python",
   "nbconvert_exporter": "python",
   "pygments_lexer": "ipython3",
   "version": "3.6.5"
  }
 },
 "nbformat": 4,
 "nbformat_minor": 2
}
