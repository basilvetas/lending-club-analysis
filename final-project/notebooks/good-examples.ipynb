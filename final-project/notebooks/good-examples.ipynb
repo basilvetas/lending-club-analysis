{
 "cells": [
  {
   "cell_type": "markdown",
   "metadata": {},
   "source": [
    "# Good examples and tips in Edward"
   ]
  },
  {
   "cell_type": "markdown",
   "metadata": {},
   "source": [
    "Some code that works and is useful, that I didn't want to throw away."
   ]
  },
  {
   "cell_type": "markdown",
   "metadata": {},
   "source": [
    "**Note:** In many Edward tutorials they use tf.get_variable() instead of creating a tf.Variable(). When the variable doesn't already exist, and if you don't pass an initializer, then tf.get_variable() will initialize the variable using the glorot_uniform_initializer (Xavier initialization, a normal with specific mean and variance depdending on the shape...)"
   ]
  },
  {
   "cell_type": "code",
   "execution_count": 1,
   "metadata": {},
   "outputs": [
    {
     "name": "stdout",
     "output_type": "stream",
     "text": [
      "WARNING:tensorflow:From /Users/jeromekafrouni/.pyenv/versions/3.6.1/envs/prob-prog/lib/python3.6/site-packages/tensorflow/contrib/learn/python/learn/datasets/base.py:198: retry (from tensorflow.contrib.learn.python.learn.datasets.base) is deprecated and will be removed in a future version.\n",
      "Instructions for updating:\n",
      "Use the retry module or similar alternatives.\n"
     ]
    }
   ],
   "source": [
    "import numpy as np\n",
    "import tensorflow as tf\n",
    "import edward as ed\n",
    "from pprint import pprint\n",
    "\n",
    "from edward.models import Categorical, Dirichlet, Uniform, Mixture\n",
    "from edward.models import Bernoulli, Normal\n",
    "%matplotlib inline\n",
    "import matplotlib.pyplot as plt"
   ]
  },
  {
   "cell_type": "markdown",
   "metadata": {},
   "source": [
    "**Dirichlet Categorical, KLqp**"
   ]
  },
  {
   "cell_type": "code",
   "execution_count": 25,
   "metadata": {},
   "outputs": [
    {
     "name": "stdout",
     "output_type": "stream",
     "text": [
      "pi: [0.32717055 0.33842328 0.17252855 0.16187761]\n"
     ]
    },
    {
     "name": "stderr",
     "output_type": "stream",
     "text": [
      "/Users/jeromekafrouni/.pyenv/versions/3.6.1/envs/prob-prog/lib/python3.6/site-packages/edward/util/random_variables.py:52: FutureWarning: Conversion of the second argument of issubdtype from `float` to `np.floating` is deprecated. In future, it will be treated as `np.float64 == np.dtype(float).type`.\n",
      "  not np.issubdtype(value.dtype, np.float) and \\\n",
      "/Users/jeromekafrouni/.pyenv/versions/3.6.1/envs/prob-prog/lib/python3.6/site-packages/edward/util/random_variables.py:53: FutureWarning: Conversion of the second argument of issubdtype from `int` to `np.signedinteger` is deprecated. In future, it will be treated as `np.int64 == np.dtype(int).type`.\n",
      "  not np.issubdtype(value.dtype, np.int) and \\\n"
     ]
    },
    {
     "name": "stdout",
     "output_type": "stream",
     "text": [
      "1500/1500 [100%] ██████████████████████████████ Elapsed: 6s | Loss: 50.350\n",
      "Inferred pi: [0.20643425 0.24809259 0.22217324 0.32329985]\n"
     ]
    }
   ],
   "source": [
    "# code from edward/examples/dirichlet_categorical.py:\n",
    "# Inferring a categorical distribution with KLqp\n",
    "tf.reset_default_graph()\n",
    "sess = tf.InteractiveSession()\n",
    "K = 4\n",
    "N = 30\n",
    "# DATA\n",
    "pi_true = np.random.dirichlet(np.array([20.0, 30.0, 10.0, 10.0]))\n",
    "z_data = np.array([np.random.choice(K, 1, p=pi_true)[0]\n",
    "                   for n in range(N)])\n",
    "print(\"pi: {}\".format(pi_true))\n",
    "\n",
    "# MODEL\n",
    "pi = ed.models.Dirichlet(tf.ones(4))\n",
    "z = ed.models.Categorical(probs=pi, sample_shape=N)\n",
    "\n",
    "# INFERENCE\n",
    "qpi = ed.models.Dirichlet(tf.nn.softplus(\n",
    "    tf.get_variable(\"qpi/concentration\", [K])))\n",
    "\n",
    "inference = ed.KLqp({pi: qpi}, data={z: z_data})\n",
    "inference.run(n_iter=1500, n_samples=30)\n",
    "\n",
    "# sess = ed.get_session()\n",
    "print(\"Inferred pi: {}\".format(sess.run(qpi.mean())))"
   ]
  },
  {
   "cell_type": "code",
   "execution_count": 26,
   "metadata": {},
   "outputs": [
    {
     "data": {
      "text/plain": [
       "TensorShape([Dimension(30)])"
      ]
     },
     "execution_count": 26,
     "metadata": {},
     "output_type": "execute_result"
    }
   ],
   "source": [
    "z.shape"
   ]
  },
  {
   "cell_type": "markdown",
   "metadata": {},
   "source": [
    "**Linear regression, SGHMC**"
   ]
  },
  {
   "cell_type": "code",
   "execution_count": 6,
   "metadata": {},
   "outputs": [
    {
     "name": "stderr",
     "output_type": "stream",
     "text": [
      "/Users/jeromekafrouni/.pyenv/versions/3.6.1/envs/prob-prog/lib/python3.6/site-packages/ipykernel_launcher.py:5: DeprecationWarning: object of type <class 'float'> cannot be safely interpreted as an integer.\n",
      "  \"\"\"\n",
      "/Users/jeromekafrouni/.pyenv/versions/3.6.1/envs/prob-prog/lib/python3.6/site-packages/ipykernel_launcher.py:6: DeprecationWarning: object of type <class 'float'> cannot be safely interpreted as an integer.\n",
      "  \n"
     ]
    },
    {
     "name": "stdout",
     "output_type": "stream",
     "text": [
      "5000/5000 [100%] ██████████████████████████████ Elapsed: 8s | Acceptance Rate: 1.000\n"
     ]
    }
   ],
   "source": [
    "# example from examples/bayesian_linear_regression_sghmc.py\n",
    "tf.reset_default_graph()\n",
    "sess = tf.InteractiveSession()\n",
    "def build_toy_dataset(N, noise_std=0.5):\n",
    "    X = np.concatenate([np.linspace(0, 2, num=N / 2),\n",
    "                        np.linspace(6, 8, num=N / 2)])\n",
    "    y = 2.0 * X + 10 * np.random.normal(0, noise_std, size=N)\n",
    "    X = X.astype(np.float32).reshape((N, 1))\n",
    "    y = y.astype(np.float32)\n",
    "    return X, y\n",
    "\n",
    "N = 40  # number of data points\n",
    "D = 1  # number of features\n",
    "# DATA\n",
    "X_train, y_train = build_toy_dataset(N)\n",
    "X_test, y_test = build_toy_dataset(N)\n",
    "\n",
    "# MODEL\n",
    "X = tf.placeholder(tf.float32, [N, D])\n",
    "w = ed.models.Normal(loc=tf.zeros(D), scale=tf.ones(D))\n",
    "b = ed.models.Normal(loc=tf.zeros(1), scale=tf.ones(1))\n",
    "y = ed.models.Normal(loc=ed.dot(X, w) + b, scale=tf.ones(N))\n",
    "\n",
    "# INFERENCE\n",
    "T = 5000                        # Number of samples.\n",
    "nburn = 100                     # Number of burn-in samples.\n",
    "stride = 10                     # Frequency with which to plot samples.\n",
    "qw = ed.models.Empirical(params=tf.Variable(tf.random_normal([T, D])))\n",
    "qb = ed.models.Empirical(params=tf.Variable(tf.random_normal([T, 1])))\n",
    "\n",
    "inference = ed.SGHMC({w: qw, b: qb}, data={X: X_train, y: y_train})\n",
    "inference.run(step_size=1e-3)"
   ]
  },
  {
   "cell_type": "markdown",
   "metadata": {},
   "source": [
    "**Mixture Gaussian, MH**"
   ]
  },
  {
   "cell_type": "code",
   "execution_count": 42,
   "metadata": {},
   "outputs": [],
   "source": [
    "# https://github.com/blei-lab/edward/blob/master/examples/mixture_gaussian_mh.py"
   ]
  },
  {
   "cell_type": "markdown",
   "metadata": {},
   "source": [
    "**Sample shapes:** https://github.com/blei-lab/edward/issues/686"
   ]
  },
  {
   "cell_type": "code",
   "execution_count": 15,
   "metadata": {},
   "outputs": [
    {
     "name": "stdout",
     "output_type": "stream",
     "text": [
      "Shapes () and (2,) are not compatible\n"
     ]
    }
   ],
   "source": [
    "# DOESN'T WORK:\n",
    "N = 15\n",
    "\n",
    "cat = Categorical(probs=[0.3, 0.7], sample_shape=N)\n",
    "comps = [Bernoulli(probs=[0.1, 0.9], sample_shape=N),\n",
    "Bernoulli(probs=[0.9, 0.1], sample_shape=N)]\n",
    "\n",
    "try:\n",
    "    mix = Mixture(cat=cat, components=comps)\n",
    "except Exception as e:\n",
    "    print(e)"
   ]
  },
  {
   "cell_type": "code",
   "execution_count": 16,
   "metadata": {},
   "outputs": [
    {
     "data": {
      "text/plain": [
       "(TensorShape([Dimension(15)]),\n",
       " [TensorShape([Dimension(15), Dimension(2)]),\n",
       "  TensorShape([Dimension(15), Dimension(2)])])"
      ]
     },
     "execution_count": 16,
     "metadata": {},
     "output_type": "execute_result"
    }
   ],
   "source": [
    "cat.shape, [c.shape for c in comps]"
   ]
  },
  {
   "cell_type": "code",
   "execution_count": 20,
   "metadata": {},
   "outputs": [],
   "source": [
    "# WORKS:\n",
    "N = 15\n",
    "\n",
    "cat = Categorical(probs=[[0.3, 0.7]], sample_shape=N)\n",
    "comps = [Bernoulli(probs=[0.1], sample_shape=N),\n",
    "Bernoulli(probs=[0.9], sample_shape=N)]\n",
    "\n",
    "mix = Mixture(cat=cat, components=comps)"
   ]
  },
  {
   "cell_type": "code",
   "execution_count": 18,
   "metadata": {},
   "outputs": [
    {
     "data": {
      "text/plain": [
       "(TensorShape([Dimension(15), Dimension(1)]),\n",
       " [TensorShape([Dimension(15), Dimension(1)]),\n",
       "  TensorShape([Dimension(15), Dimension(1)])])"
      ]
     },
     "execution_count": 18,
     "metadata": {},
     "output_type": "execute_result"
    }
   ],
   "source": [
    "cat.shape, [c.shape for c in comps]"
   ]
  },
  {
   "cell_type": "code",
   "execution_count": 24,
   "metadata": {},
   "outputs": [],
   "source": [
    "# WORKS:\n",
    "N = 15\n",
    "\n",
    "cat = Categorical(probs=np.array([0.3, 0.7]).reshape(1,-1), sample_shape=N)\n",
    "comps = [Bernoulli(probs=[0.1], sample_shape=N),\n",
    "Bernoulli(probs=[0.9], sample_shape=N)]\n",
    "\n",
    "mix = Mixture(cat=cat, components=comps)"
   ]
  },
  {
   "cell_type": "markdown",
   "metadata": {},
   "source": [
    "**Batch training**"
   ]
  },
  {
   "cell_type": "markdown",
   "metadata": {},
   "source": [
    "Checkout http://edwardlib.org/tutorials/batch-training"
   ]
  },
  {
   "cell_type": "code",
   "execution_count": null,
   "metadata": {},
   "outputs": [],
   "source": []
  },
  {
   "cell_type": "markdown",
   "metadata": {},
   "source": [
    "**Shapes**"
   ]
  },
  {
   "cell_type": "code",
   "execution_count": null,
   "metadata": {},
   "outputs": [],
   "source": [
    "N = 500  # number of data points\n",
    "K = 2  # number of components\n",
    "D = 2  # dimensionality of data\n",
    "ed.set_seed(42)\n",
    "\n",
    "x_train = build_toy_dataset(N)\n",
    "transformedx_train = 5.0*x_train + 3.0\n",
    "\n",
    "# Mixture model\n",
    "\n",
    "pi = Dirichlet(tf.ones(K))\n",
    "mu = Normal(tf.zeros(D), tf.ones(D), sample_shape=K)\n",
    "sigmasq = InverseGamma(tf.ones(D), tf.ones(D), sample_shape=K)\n",
    "\n",
    "cat = Categorical(probs=pi, sample_shape=N)\n",
    "components = [\n",
    "    MultivariateNormalDiag(mu[k], sigmasq[k], sample_shape=N)\n",
    "    for k in range(K)]"
   ]
  }
 ],
 "metadata": {
  "kernelspec": {
   "display_name": "Python 3",
   "language": "python",
   "name": "python3"
  },
  "language_info": {
   "codemirror_mode": {
    "name": "ipython",
    "version": 3
   },
   "file_extension": ".py",
   "mimetype": "text/x-python",
   "name": "python",
   "nbconvert_exporter": "python",
   "pygments_lexer": "ipython3",
   "version": "3.6.1"
  }
 },
 "nbformat": 4,
 "nbformat_minor": 2
}
