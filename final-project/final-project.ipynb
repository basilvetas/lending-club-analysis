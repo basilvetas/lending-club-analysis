{
 "cells": [
  {
   "cell_type": "markdown",
   "metadata": {},
   "source": [
    "# Modeling Personal Loan Delinquency with LendingClub Data"
   ]
  },
  {
   "cell_type": "markdown",
   "metadata": {},
   "source": [
    "## Imports and Settings"
   ]
  },
  {
   "cell_type": "code",
   "execution_count": 1,
   "metadata": {},
   "outputs": [
    {
     "name": "stdout",
     "output_type": "stream",
     "text": [
      "WARNING:tensorflow:From /Users/basilvetas/.local/share/virtualenvs/lending-club-analysis-iUojZaP3/lib/python3.6/site-packages/tensorflow/contrib/learn/python/learn/datasets/base.py:198: retry (from tensorflow.contrib.learn.python.learn.datasets.base) is deprecated and will be removed in a future version.\n",
      "Instructions for updating:\n",
      "Use the retry module or similar alternatives.\n"
     ]
    }
   ],
   "source": [
    "import numpy as np\n",
    "import pandas as pd\n",
    "\n",
    "from utils.utils import (\n",
    "    load_dataframe, \n",
    "    preprocess, \n",
    "    split_data,\n",
    "    reset_axes)\n",
    "\n",
    "from utils.models import build_mle_matrix, build_markov_chain_no_priors\n",
    "from utils.inference import compute_mle, infer_matrix_no_priors"
   ]
  },
  {
   "cell_type": "code",
   "execution_count": 2,
   "metadata": {},
   "outputs": [],
   "source": [
    "pd.set_option('display.max_columns', 200)\n",
    "pd.set_option('display.max_rows', 200)\n",
    "pd.set_option('display.max_colwidth', -1)"
   ]
  },
  {
   "cell_type": "markdown",
   "metadata": {},
   "source": [
    "## Data Loading and Preprocessing"
   ]
  },
  {
   "cell_type": "code",
   "execution_count": 3,
   "metadata": {},
   "outputs": [
    {
     "name": "stdout",
     "output_type": "stream",
     "text": [
      "Loading raw data from hdf5 cache...\n",
      "Fetching raw data took 2.79 seconds\n",
      "Retrieved 40,268,594 rows, 4 columns\n"
     ]
    }
   ],
   "source": [
    "df = load_dataframe()"
   ]
  },
  {
   "cell_type": "markdown",
   "metadata": {},
   "source": [
    "Our variable of interest is called `loan_status` which has eight possible states. These are the Loan Status Descriptions from the LendingClub [website](https://help.lendingclub.com/hc/en-us/articles/215488038-What-do-the-different-Note-statuses-mean-):\n",
    "\n",
    "- **Current**: Loan is up to date on all outstanding payments. \n",
    "\n",
    "- **Fully paid**: Loan has been fully repaid, either at the expiration of the 3- or 5-year year term or as a result of a prepayment.\n",
    " \n",
    "- **Late (16-30)**: Loan has not been current for 16 to 30 days. Learn more about the tools LendingClub has to deal with delinquent borrowers.\n",
    " \n",
    "- **Late (31-120)**: Loan has not been current for 31 to 120 days. Learn more about the tools LendingClub has to deal with delinquent borrowers.\n",
    " \n",
    "- **Charged Off**: Loan for which there is no longer a reasonable expectation of further payments. Upon Charge Off, the remaining principal balance of the Note is deducted from the account balance. Charge Off typically occurs when a loan is 120 days or more past due and there is no reasonable expectation of sufficient payment to prevent the charge off. Loans for which borrowers have filed for bankruptcy may be charged off earlier based on the date of bankruptcy notification. \n",
    "\n",
    "- **Default**: Loan has not been current for an extended period of time. More about the difference between Default and Charged Off [here](https://help.lendingclub.com/hc/en-us/articles/216127747)\n",
    "\n",
    "- **In Grace Period**: Loan is past due but within the 15-day grace period. \n",
    "\n",
    "- **Issued**: New loan that has passed all LendingClub reviews, received full funding, and has been issued."
   ]
  },
  {
   "cell_type": "code",
   "execution_count": 4,
   "metadata": {},
   "outputs": [
    {
     "name": "stdout",
     "output_type": "stream",
     "text": [
      "Mapping column names...\n",
      "Loading preprocessed data from hdf5 cache...\n",
      "Fetching preprocessed data took 2.33 seconds\n",
      "Preprocessed 27,641,460 rows, 4 columns\n"
     ]
    }
   ],
   "source": [
    "df = preprocess(df)"
   ]
  },
  {
   "cell_type": "code",
   "execution_count": 5,
   "metadata": {},
   "outputs": [
    {
     "name": "stdout",
     "output_type": "stream",
     "text": [
      "Loading training and test data from hdf5 cache...\n",
      "Fetching training and test data took 0.46 seconds\n",
      "Training on 1,337,814 rows, 36 columns\n",
      "Testing on 148,541 rows, 36 columns\n"
     ]
    }
   ],
   "source": [
    "x_train, x_test = split_data(df)"
   ]
  },
  {
   "cell_type": "markdown",
   "metadata": {},
   "source": [
    "## Experiment 1: Markov Model with Maximum Likelihood Estimates"
   ]
  },
  {
   "cell_type": "markdown",
   "metadata": {},
   "source": [
    "The MLE solution of a Markov Chain is simply the empirical frequencies of each transition. Even though we want to solve the problem from a Bayesian perspective, it's good to look at this estimate and have it in mind later."
   ]
  },
  {
   "cell_type": "markdown",
   "metadata": {},
   "source": [
    "### Model"
   ]
  },
  {
   "cell_type": "code",
   "execution_count": 6,
   "metadata": {},
   "outputs": [
    {
     "name": "stdout",
     "output_type": "stream",
     "text": [
      "Loading transition matrix from hdf5 cache...\n",
      "Fetching transition matrix took 0.01 seconds\n"
     ]
    }
   ],
   "source": [
    "realized_transitions = build_mle_matrix(df)"
   ]
  },
  {
   "cell_type": "code",
   "execution_count": 7,
   "metadata": {},
   "outputs": [
    {
     "data": {
      "text/html": [
       "<div>\n",
       "<style scoped>\n",
       "    .dataframe tbody tr th:only-of-type {\n",
       "        vertical-align: middle;\n",
       "    }\n",
       "\n",
       "    .dataframe tbody tr th {\n",
       "        vertical-align: top;\n",
       "    }\n",
       "\n",
       "    .dataframe thead th {\n",
       "        text-align: right;\n",
       "    }\n",
       "</style>\n",
       "<table border=\"1\" class=\"dataframe\">\n",
       "  <thead>\n",
       "    <tr style=\"text-align: right;\">\n",
       "      <th></th>\n",
       "      <th>Charged Off</th>\n",
       "      <th>Current</th>\n",
       "      <th>Default</th>\n",
       "      <th>Fully Paid</th>\n",
       "      <th>In Grace Period</th>\n",
       "      <th>Issued</th>\n",
       "      <th>Late (16-30 days)</th>\n",
       "      <th>Late (31-120 days)</th>\n",
       "    </tr>\n",
       "  </thead>\n",
       "  <tbody>\n",
       "    <tr>\n",
       "      <th>Charged Off</th>\n",
       "      <td>0</td>\n",
       "      <td>0</td>\n",
       "      <td>0</td>\n",
       "      <td>0</td>\n",
       "      <td>0</td>\n",
       "      <td>0</td>\n",
       "      <td>0</td>\n",
       "      <td>0</td>\n",
       "    </tr>\n",
       "    <tr>\n",
       "      <th>Current</th>\n",
       "      <td>774</td>\n",
       "      <td>24453702</td>\n",
       "      <td>3</td>\n",
       "      <td>707322</td>\n",
       "      <td>5831</td>\n",
       "      <td>0</td>\n",
       "      <td>160366</td>\n",
       "      <td>62102</td>\n",
       "    </tr>\n",
       "    <tr>\n",
       "      <th>Default</th>\n",
       "      <td>28897</td>\n",
       "      <td>147</td>\n",
       "      <td>2297</td>\n",
       "      <td>71</td>\n",
       "      <td>0</td>\n",
       "      <td>0</td>\n",
       "      <td>4</td>\n",
       "      <td>506</td>\n",
       "    </tr>\n",
       "    <tr>\n",
       "      <th>Fully Paid</th>\n",
       "      <td>0</td>\n",
       "      <td>0</td>\n",
       "      <td>0</td>\n",
       "      <td>8063</td>\n",
       "      <td>12</td>\n",
       "      <td>0</td>\n",
       "      <td>101</td>\n",
       "      <td>72</td>\n",
       "    </tr>\n",
       "    <tr>\n",
       "      <th>In Grace Period</th>\n",
       "      <td>0</td>\n",
       "      <td>276</td>\n",
       "      <td>0</td>\n",
       "      <td>11</td>\n",
       "      <td>22</td>\n",
       "      <td>0</td>\n",
       "      <td>59</td>\n",
       "      <td>41</td>\n",
       "    </tr>\n",
       "    <tr>\n",
       "      <th>Issued</th>\n",
       "      <td>0</td>\n",
       "      <td>17206</td>\n",
       "      <td>0</td>\n",
       "      <td>670</td>\n",
       "      <td>1</td>\n",
       "      <td>0</td>\n",
       "      <td>38</td>\n",
       "      <td>1</td>\n",
       "    </tr>\n",
       "    <tr>\n",
       "      <th>Late (16-30 days)</th>\n",
       "      <td>4548</td>\n",
       "      <td>32376</td>\n",
       "      <td>0</td>\n",
       "      <td>2066</td>\n",
       "      <td>257</td>\n",
       "      <td>0</td>\n",
       "      <td>13413</td>\n",
       "      <td>119621</td>\n",
       "    </tr>\n",
       "    <tr>\n",
       "      <th>Late (31-120 days)</th>\n",
       "      <td>105934</td>\n",
       "      <td>25434</td>\n",
       "      <td>29802</td>\n",
       "      <td>2146</td>\n",
       "      <td>56</td>\n",
       "      <td>0</td>\n",
       "      <td>3292</td>\n",
       "      <td>332762</td>\n",
       "    </tr>\n",
       "  </tbody>\n",
       "</table>\n",
       "</div>"
      ],
      "text/plain": [
       "                    Charged Off   Current  Default  Fully Paid  \\\n",
       "Charged Off         0            0         0        0            \n",
       "Current             774          24453702  3        707322       \n",
       "Default             28897        147       2297     71           \n",
       "Fully Paid          0            0         0        8063         \n",
       "In Grace Period     0            276       0        11           \n",
       "Issued              0            17206     0        670          \n",
       "Late (16-30 days)   4548         32376     0        2066         \n",
       "Late (31-120 days)  105934       25434     29802    2146         \n",
       "\n",
       "                    In Grace Period  Issued  Late (16-30 days)  \\\n",
       "Charged Off         0                0       0                   \n",
       "Current             5831             0       160366              \n",
       "Default             0                0       4                   \n",
       "Fully Paid          12               0       101                 \n",
       "In Grace Period     22               0       59                  \n",
       "Issued              1                0       38                  \n",
       "Late (16-30 days)   257              0       13413               \n",
       "Late (31-120 days)  56               0       3292                \n",
       "\n",
       "                    Late (31-120 days)  \n",
       "Charged Off         0                   \n",
       "Current             62102               \n",
       "Default             506                 \n",
       "Fully Paid          72                  \n",
       "In Grace Period     41                  \n",
       "Issued              1                   \n",
       "Late (16-30 days)   119621              \n",
       "Late (31-120 days)  332762              "
      ]
     },
     "execution_count": 7,
     "metadata": {},
     "output_type": "execute_result"
    }
   ],
   "source": [
    "realized_transitions"
   ]
  },
  {
   "cell_type": "markdown",
   "metadata": {},
   "source": [
    "### Inference"
   ]
  },
  {
   "cell_type": "code",
   "execution_count": 8,
   "metadata": {},
   "outputs": [
    {
     "data": {
      "text/html": [
       "<div>\n",
       "<style scoped>\n",
       "    .dataframe tbody tr th:only-of-type {\n",
       "        vertical-align: middle;\n",
       "    }\n",
       "\n",
       "    .dataframe tbody tr th {\n",
       "        vertical-align: top;\n",
       "    }\n",
       "\n",
       "    .dataframe thead th {\n",
       "        text-align: right;\n",
       "    }\n",
       "</style>\n",
       "<table border=\"1\" class=\"dataframe\">\n",
       "  <thead>\n",
       "    <tr style=\"text-align: right;\">\n",
       "      <th></th>\n",
       "      <th>Charged Off</th>\n",
       "      <th>Current</th>\n",
       "      <th>Default</th>\n",
       "      <th>Fully Paid</th>\n",
       "      <th>In Grace Period</th>\n",
       "      <th>Issued</th>\n",
       "      <th>Late (16-30 days)</th>\n",
       "      <th>Late (31-120 days)</th>\n",
       "    </tr>\n",
       "  </thead>\n",
       "  <tbody>\n",
       "    <tr>\n",
       "      <th>Charged Off</th>\n",
       "      <td>0.00</td>\n",
       "      <td>0.00</td>\n",
       "      <td>0.00</td>\n",
       "      <td>0.00</td>\n",
       "      <td>0.00</td>\n",
       "      <td>0.0</td>\n",
       "      <td>0.00</td>\n",
       "      <td>0.00</td>\n",
       "    </tr>\n",
       "    <tr>\n",
       "      <th>Current</th>\n",
       "      <td>0.00</td>\n",
       "      <td>0.96</td>\n",
       "      <td>0.00</td>\n",
       "      <td>0.03</td>\n",
       "      <td>0.00</td>\n",
       "      <td>0.0</td>\n",
       "      <td>0.01</td>\n",
       "      <td>0.00</td>\n",
       "    </tr>\n",
       "    <tr>\n",
       "      <th>Default</th>\n",
       "      <td>0.91</td>\n",
       "      <td>0.00</td>\n",
       "      <td>0.07</td>\n",
       "      <td>0.00</td>\n",
       "      <td>0.00</td>\n",
       "      <td>0.0</td>\n",
       "      <td>0.00</td>\n",
       "      <td>0.02</td>\n",
       "    </tr>\n",
       "    <tr>\n",
       "      <th>Fully Paid</th>\n",
       "      <td>0.00</td>\n",
       "      <td>0.00</td>\n",
       "      <td>0.00</td>\n",
       "      <td>0.98</td>\n",
       "      <td>0.00</td>\n",
       "      <td>0.0</td>\n",
       "      <td>0.01</td>\n",
       "      <td>0.01</td>\n",
       "    </tr>\n",
       "    <tr>\n",
       "      <th>In Grace Period</th>\n",
       "      <td>0.00</td>\n",
       "      <td>0.67</td>\n",
       "      <td>0.00</td>\n",
       "      <td>0.03</td>\n",
       "      <td>0.05</td>\n",
       "      <td>0.0</td>\n",
       "      <td>0.14</td>\n",
       "      <td>0.10</td>\n",
       "    </tr>\n",
       "    <tr>\n",
       "      <th>Issued</th>\n",
       "      <td>0.00</td>\n",
       "      <td>0.96</td>\n",
       "      <td>0.00</td>\n",
       "      <td>0.04</td>\n",
       "      <td>0.00</td>\n",
       "      <td>0.0</td>\n",
       "      <td>0.00</td>\n",
       "      <td>0.00</td>\n",
       "    </tr>\n",
       "    <tr>\n",
       "      <th>Late (16-30 days)</th>\n",
       "      <td>0.03</td>\n",
       "      <td>0.19</td>\n",
       "      <td>0.00</td>\n",
       "      <td>0.01</td>\n",
       "      <td>0.00</td>\n",
       "      <td>0.0</td>\n",
       "      <td>0.08</td>\n",
       "      <td>0.69</td>\n",
       "    </tr>\n",
       "    <tr>\n",
       "      <th>Late (31-120 days)</th>\n",
       "      <td>0.21</td>\n",
       "      <td>0.05</td>\n",
       "      <td>0.06</td>\n",
       "      <td>0.00</td>\n",
       "      <td>0.00</td>\n",
       "      <td>0.0</td>\n",
       "      <td>0.01</td>\n",
       "      <td>0.67</td>\n",
       "    </tr>\n",
       "  </tbody>\n",
       "</table>\n",
       "</div>"
      ],
      "text/plain": [
       "                    Charged Off  Current  Default  Fully Paid  \\\n",
       "Charged Off         0.00         0.00     0.00     0.00         \n",
       "Current             0.00         0.96     0.00     0.03         \n",
       "Default             0.91         0.00     0.07     0.00         \n",
       "Fully Paid          0.00         0.00     0.00     0.98         \n",
       "In Grace Period     0.00         0.67     0.00     0.03         \n",
       "Issued              0.00         0.96     0.00     0.04         \n",
       "Late (16-30 days)   0.03         0.19     0.00     0.01         \n",
       "Late (31-120 days)  0.21         0.05     0.06     0.00         \n",
       "\n",
       "                    In Grace Period  Issued  Late (16-30 days)  \\\n",
       "Charged Off         0.00             0.0     0.00                \n",
       "Current             0.00             0.0     0.01                \n",
       "Default             0.00             0.0     0.00                \n",
       "Fully Paid          0.00             0.0     0.01                \n",
       "In Grace Period     0.05             0.0     0.14                \n",
       "Issued              0.00             0.0     0.00                \n",
       "Late (16-30 days)   0.00             0.0     0.08                \n",
       "Late (31-120 days)  0.00             0.0     0.01                \n",
       "\n",
       "                    Late (31-120 days)  \n",
       "Charged Off         0.00                \n",
       "Current             0.00                \n",
       "Default             0.02                \n",
       "Fully Paid          0.01                \n",
       "In Grace Period     0.10                \n",
       "Issued              0.00                \n",
       "Late (16-30 days)   0.69                \n",
       "Late (31-120 days)  0.67                "
      ]
     },
     "execution_count": 8,
     "metadata": {},
     "output_type": "execute_result"
    }
   ],
   "source": [
    "compute_mle(realized_transitions)"
   ]
  },
  {
   "cell_type": "markdown",
   "metadata": {},
   "source": [
    "### Criticism"
   ]
  },
  {
   "cell_type": "markdown",
   "metadata": {},
   "source": [
    "## Experiment 2: Stationary Markov Chain without Priors"
   ]
  },
  {
   "cell_type": "code",
   "execution_count": 9,
   "metadata": {},
   "outputs": [],
   "source": [
    "chain_len = max(df.age_of_loan)\n",
    "n_states = df.loan_status.unique().shape[0]"
   ]
  },
  {
   "cell_type": "markdown",
   "metadata": {},
   "source": [
    "### Model"
   ]
  },
  {
   "cell_type": "code",
   "execution_count": 10,
   "metadata": {},
   "outputs": [],
   "source": [
    "x, T = build_markov_chain_no_priors(n_states, chain_len)"
   ]
  },
  {
   "cell_type": "markdown",
   "metadata": {},
   "source": [
    "### Inference"
   ]
  },
  {
   "cell_type": "code",
   "execution_count": 11,
   "metadata": {},
   "outputs": [
    {
     "name": "stdout",
     "output_type": "stream",
     "text": [
      "20000/20000 [100%] ██████████████████████████████ Elapsed: 113s | Loss: 2.254\n"
     ]
    },
    {
     "data": {
      "text/html": [
       "<div>\n",
       "<style scoped>\n",
       "    .dataframe tbody tr th:only-of-type {\n",
       "        vertical-align: middle;\n",
       "    }\n",
       "\n",
       "    .dataframe tbody tr th {\n",
       "        vertical-align: top;\n",
       "    }\n",
       "\n",
       "    .dataframe thead th {\n",
       "        text-align: right;\n",
       "    }\n",
       "</style>\n",
       "<table border=\"1\" class=\"dataframe\">\n",
       "  <thead>\n",
       "    <tr style=\"text-align: right;\">\n",
       "      <th></th>\n",
       "      <th>Charged Off</th>\n",
       "      <th>Current</th>\n",
       "      <th>Default</th>\n",
       "      <th>Fully Paid</th>\n",
       "      <th>In Grace Period</th>\n",
       "      <th>Issued</th>\n",
       "      <th>Late (16-30 days)</th>\n",
       "      <th>Late (31-120 days)</th>\n",
       "    </tr>\n",
       "  </thead>\n",
       "  <tbody>\n",
       "    <tr>\n",
       "      <th>Charged Off</th>\n",
       "      <td>0.090544</td>\n",
       "      <td>0.091356</td>\n",
       "      <td>0.091502</td>\n",
       "      <td>0.093266</td>\n",
       "      <td>0.089471</td>\n",
       "      <td>0.091574</td>\n",
       "      <td>0.090890</td>\n",
       "      <td>0.091522</td>\n",
       "    </tr>\n",
       "    <tr>\n",
       "      <th>Current</th>\n",
       "      <td>0.112818</td>\n",
       "      <td>0.112714</td>\n",
       "      <td>0.110720</td>\n",
       "      <td>0.115084</td>\n",
       "      <td>0.115543</td>\n",
       "      <td>0.109126</td>\n",
       "      <td>0.114241</td>\n",
       "      <td>0.109078</td>\n",
       "    </tr>\n",
       "    <tr>\n",
       "      <th>Default</th>\n",
       "      <td>0.127862</td>\n",
       "      <td>0.126773</td>\n",
       "      <td>0.128156</td>\n",
       "      <td>0.125549</td>\n",
       "      <td>0.130121</td>\n",
       "      <td>0.126625</td>\n",
       "      <td>0.124615</td>\n",
       "      <td>0.125298</td>\n",
       "    </tr>\n",
       "    <tr>\n",
       "      <th>Fully Paid</th>\n",
       "      <td>0.072671</td>\n",
       "      <td>0.081318</td>\n",
       "      <td>0.079279</td>\n",
       "      <td>0.080357</td>\n",
       "      <td>0.084068</td>\n",
       "      <td>0.080091</td>\n",
       "      <td>0.079148</td>\n",
       "      <td>0.080356</td>\n",
       "    </tr>\n",
       "    <tr>\n",
       "      <th>In Grace Period</th>\n",
       "      <td>0.199384</td>\n",
       "      <td>0.191548</td>\n",
       "      <td>0.189464</td>\n",
       "      <td>0.197563</td>\n",
       "      <td>0.189009</td>\n",
       "      <td>0.199124</td>\n",
       "      <td>0.194411</td>\n",
       "      <td>0.198610</td>\n",
       "    </tr>\n",
       "    <tr>\n",
       "      <th>Issued</th>\n",
       "      <td>0.109619</td>\n",
       "      <td>0.114605</td>\n",
       "      <td>0.120081</td>\n",
       "      <td>0.111959</td>\n",
       "      <td>0.117241</td>\n",
       "      <td>0.114356</td>\n",
       "      <td>0.112465</td>\n",
       "      <td>0.111935</td>\n",
       "    </tr>\n",
       "    <tr>\n",
       "      <th>Late (16-30 days)</th>\n",
       "      <td>0.122225</td>\n",
       "      <td>0.124331</td>\n",
       "      <td>0.120604</td>\n",
       "      <td>0.122278</td>\n",
       "      <td>0.117185</td>\n",
       "      <td>0.121461</td>\n",
       "      <td>0.122313</td>\n",
       "      <td>0.125618</td>\n",
       "    </tr>\n",
       "    <tr>\n",
       "      <th>Late (31-120 days)</th>\n",
       "      <td>0.164878</td>\n",
       "      <td>0.157356</td>\n",
       "      <td>0.160193</td>\n",
       "      <td>0.153945</td>\n",
       "      <td>0.157362</td>\n",
       "      <td>0.157644</td>\n",
       "      <td>0.161917</td>\n",
       "      <td>0.157583</td>\n",
       "    </tr>\n",
       "  </tbody>\n",
       "</table>\n",
       "</div>"
      ],
      "text/plain": [
       "                    Charged Off   Current   Default  Fully Paid  \\\n",
       "Charged Off         0.090544     0.091356  0.091502  0.093266     \n",
       "Current             0.112818     0.112714  0.110720  0.115084     \n",
       "Default             0.127862     0.126773  0.128156  0.125549     \n",
       "Fully Paid          0.072671     0.081318  0.079279  0.080357     \n",
       "In Grace Period     0.199384     0.191548  0.189464  0.197563     \n",
       "Issued              0.109619     0.114605  0.120081  0.111959     \n",
       "Late (16-30 days)   0.122225     0.124331  0.120604  0.122278     \n",
       "Late (31-120 days)  0.164878     0.157356  0.160193  0.153945     \n",
       "\n",
       "                    In Grace Period    Issued  Late (16-30 days)  \\\n",
       "Charged Off         0.089471         0.091574  0.090890            \n",
       "Current             0.115543         0.109126  0.114241            \n",
       "Default             0.130121         0.126625  0.124615            \n",
       "Fully Paid          0.084068         0.080091  0.079148            \n",
       "In Grace Period     0.189009         0.199124  0.194411            \n",
       "Issued              0.117241         0.114356  0.112465            \n",
       "Late (16-30 days)   0.117185         0.121461  0.122313            \n",
       "Late (31-120 days)  0.157362         0.157644  0.161917            \n",
       "\n",
       "                    Late (31-120 days)  \n",
       "Charged Off         0.091522            \n",
       "Current             0.109078            \n",
       "Default             0.125298            \n",
       "Fully Paid          0.080356            \n",
       "In Grace Period     0.198610            \n",
       "Issued              0.111935            \n",
       "Late (16-30 days)   0.125618            \n",
       "Late (31-120 days)  0.157583            "
      ]
     },
     "execution_count": 11,
     "metadata": {},
     "output_type": "execute_result"
    }
   ],
   "source": [
    "infer_matrix_no_priors(x_train, x, T, n_states, chain_len, **{'n_iter': 20000})"
   ]
  },
  {
   "cell_type": "markdown",
   "metadata": {},
   "source": [
    "## Experiment 3: Stationary Markov Chain with Priors"
   ]
  },
  {
   "cell_type": "code",
   "execution_count": 11,
   "metadata": {},
   "outputs": [],
   "source": [
    "import tensorflow as tf\n",
    "import edward as ed\n",
    "from edward.models import Bernoulli, Categorical, Normal, Empirical, Multinomial, Beta, Dirichlet"
   ]
  },
  {
   "cell_type": "markdown",
   "metadata": {},
   "source": [
    "### Model"
   ]
  },
  {
   "cell_type": "code",
   "execution_count": 12,
   "metadata": {},
   "outputs": [],
   "source": [
    "N = x_train.shape[0] # training size\n",
    "M = 1000 # batch size\n",
    "D = len(x_train.columns) # number of features\n",
    "x_train_sub = x_train.sample(M) # subset for non-batch since full data too big "
   ]
  },
  {
   "cell_type": "code",
   "execution_count": 13,
   "metadata": {},
   "outputs": [],
   "source": [
    "tf.reset_default_graph()\n",
    "\n",
    "# create default starting state probability vector\n",
    "pi_0 = Dirichlet(tf.ones(n_states))\n",
    "x_0 = Categorical(pi_0, sample_shape=M)\n",
    "\n",
    "# transition matrix\n",
    "pi_T = Dirichlet(tf.ones([n_states, n_states]))\n",
    "\n",
    "x = []\n",
    "for _ in range(chain_len):\n",
    "    x_tm1 = x[-1] if x else x_0\n",
    "    x_t = Categorical(probs=tf.gather(pi_T, x_tm1))\n",
    "    x.append(x_t)"
   ]
  },
  {
   "cell_type": "markdown",
   "metadata": {},
   "source": [
    "### Inference"
   ]
  },
  {
   "cell_type": "code",
   "execution_count": 14,
   "metadata": {},
   "outputs": [],
   "source": [
    "qpi_0 = Dirichlet(tf.nn.softplus(tf.Variable(tf.ones(n_states))))\n",
    "qpi_T = Dirichlet(tf.nn.softplus(tf.Variable(tf.ones([n_states, n_states]))))"
   ]
  },
  {
   "cell_type": "markdown",
   "metadata": {},
   "source": [
    "#### Regular"
   ]
  },
  {
   "cell_type": "code",
   "execution_count": 29,
   "metadata": {},
   "outputs": [
    {
     "name": "stdout",
     "output_type": "stream",
     "text": [
      "20000/20000 [100%] ██████████████████████████████ Elapsed: 61s | Loss: nan\n"
     ]
    }
   ],
   "source": [
    "inferred_matrix = pd.DataFrame()\n",
    "with tf.Session() as sess:\n",
    "    sess.run(tf.global_variables_initializer())\n",
    "    \n",
    "    inference = ed.KLqp({pi_0: qpi_0, pi_T: qpi_T}, dict(zip(x, x_train_sub.values.T)))\n",
    "    inference.run(n_iter=20000, optimizer=tf.train.AdamOptimizer(0.005))\n",
    "    inferred_matrix = pd.DataFrame(sess.run(pi_T))"
   ]
  },
  {
   "cell_type": "code",
   "execution_count": 30,
   "metadata": {},
   "outputs": [
    {
     "data": {
      "text/html": [
       "<div>\n",
       "<style scoped>\n",
       "    .dataframe tbody tr th:only-of-type {\n",
       "        vertical-align: middle;\n",
       "    }\n",
       "\n",
       "    .dataframe tbody tr th {\n",
       "        vertical-align: top;\n",
       "    }\n",
       "\n",
       "    .dataframe thead th {\n",
       "        text-align: right;\n",
       "    }\n",
       "</style>\n",
       "<table border=\"1\" class=\"dataframe\">\n",
       "  <thead>\n",
       "    <tr style=\"text-align: right;\">\n",
       "      <th></th>\n",
       "      <th>Charged Off</th>\n",
       "      <th>Current</th>\n",
       "      <th>Default</th>\n",
       "      <th>Fully Paid</th>\n",
       "      <th>In Grace Period</th>\n",
       "      <th>Issued</th>\n",
       "      <th>Late (16-30 days)</th>\n",
       "      <th>Late (31-120 days)</th>\n",
       "    </tr>\n",
       "  </thead>\n",
       "  <tbody>\n",
       "    <tr>\n",
       "      <th>Charged Off</th>\n",
       "      <td>0.175220</td>\n",
       "      <td>0.018116</td>\n",
       "      <td>0.065895</td>\n",
       "      <td>0.303128</td>\n",
       "      <td>0.149540</td>\n",
       "      <td>0.017167</td>\n",
       "      <td>0.229230</td>\n",
       "      <td>0.041703</td>\n",
       "    </tr>\n",
       "    <tr>\n",
       "      <th>Current</th>\n",
       "      <td>0.034986</td>\n",
       "      <td>0.251653</td>\n",
       "      <td>0.007415</td>\n",
       "      <td>0.164301</td>\n",
       "      <td>0.430106</td>\n",
       "      <td>0.047164</td>\n",
       "      <td>0.006946</td>\n",
       "      <td>0.057428</td>\n",
       "    </tr>\n",
       "    <tr>\n",
       "      <th>Default</th>\n",
       "      <td>0.167583</td>\n",
       "      <td>0.144326</td>\n",
       "      <td>0.064408</td>\n",
       "      <td>0.032076</td>\n",
       "      <td>0.224577</td>\n",
       "      <td>0.089075</td>\n",
       "      <td>0.134294</td>\n",
       "      <td>0.143660</td>\n",
       "    </tr>\n",
       "    <tr>\n",
       "      <th>Fully Paid</th>\n",
       "      <td>0.159053</td>\n",
       "      <td>0.259229</td>\n",
       "      <td>0.013858</td>\n",
       "      <td>0.057950</td>\n",
       "      <td>0.088615</td>\n",
       "      <td>0.007864</td>\n",
       "      <td>0.119509</td>\n",
       "      <td>0.293924</td>\n",
       "    </tr>\n",
       "    <tr>\n",
       "      <th>In Grace Period</th>\n",
       "      <td>0.018802</td>\n",
       "      <td>0.048272</td>\n",
       "      <td>0.078763</td>\n",
       "      <td>0.043481</td>\n",
       "      <td>0.351334</td>\n",
       "      <td>0.118348</td>\n",
       "      <td>0.041926</td>\n",
       "      <td>0.299074</td>\n",
       "    </tr>\n",
       "    <tr>\n",
       "      <th>Issued</th>\n",
       "      <td>0.029450</td>\n",
       "      <td>0.288894</td>\n",
       "      <td>0.034076</td>\n",
       "      <td>0.226019</td>\n",
       "      <td>0.041663</td>\n",
       "      <td>0.096887</td>\n",
       "      <td>0.103362</td>\n",
       "      <td>0.179649</td>\n",
       "    </tr>\n",
       "    <tr>\n",
       "      <th>Late (16-30 days)</th>\n",
       "      <td>0.022802</td>\n",
       "      <td>0.154327</td>\n",
       "      <td>0.154978</td>\n",
       "      <td>0.005649</td>\n",
       "      <td>0.279331</td>\n",
       "      <td>0.247412</td>\n",
       "      <td>0.045383</td>\n",
       "      <td>0.090118</td>\n",
       "    </tr>\n",
       "    <tr>\n",
       "      <th>Late (31-120 days)</th>\n",
       "      <td>0.149606</td>\n",
       "      <td>0.227634</td>\n",
       "      <td>0.119993</td>\n",
       "      <td>0.104307</td>\n",
       "      <td>0.012134</td>\n",
       "      <td>0.140455</td>\n",
       "      <td>0.034072</td>\n",
       "      <td>0.211799</td>\n",
       "    </tr>\n",
       "  </tbody>\n",
       "</table>\n",
       "</div>"
      ],
      "text/plain": [
       "                    Charged Off   Current   Default  Fully Paid  \\\n",
       "Charged Off         0.175220     0.018116  0.065895  0.303128     \n",
       "Current             0.034986     0.251653  0.007415  0.164301     \n",
       "Default             0.167583     0.144326  0.064408  0.032076     \n",
       "Fully Paid          0.159053     0.259229  0.013858  0.057950     \n",
       "In Grace Period     0.018802     0.048272  0.078763  0.043481     \n",
       "Issued              0.029450     0.288894  0.034076  0.226019     \n",
       "Late (16-30 days)   0.022802     0.154327  0.154978  0.005649     \n",
       "Late (31-120 days)  0.149606     0.227634  0.119993  0.104307     \n",
       "\n",
       "                    In Grace Period    Issued  Late (16-30 days)  \\\n",
       "Charged Off         0.149540         0.017167  0.229230            \n",
       "Current             0.430106         0.047164  0.006946            \n",
       "Default             0.224577         0.089075  0.134294            \n",
       "Fully Paid          0.088615         0.007864  0.119509            \n",
       "In Grace Period     0.351334         0.118348  0.041926            \n",
       "Issued              0.041663         0.096887  0.103362            \n",
       "Late (16-30 days)   0.279331         0.247412  0.045383            \n",
       "Late (31-120 days)  0.012134         0.140455  0.034072            \n",
       "\n",
       "                    Late (31-120 days)  \n",
       "Charged Off         0.041703            \n",
       "Current             0.057428            \n",
       "Default             0.143660            \n",
       "Fully Paid          0.293924            \n",
       "In Grace Period     0.299074            \n",
       "Issued              0.179649            \n",
       "Late (16-30 days)   0.090118            \n",
       "Late (31-120 days)  0.211799            "
      ]
     },
     "execution_count": 30,
     "metadata": {},
     "output_type": "execute_result"
    }
   ],
   "source": [
    "reset_axes(inferred_matrix)"
   ]
  },
  {
   "cell_type": "markdown",
   "metadata": {},
   "source": [
    "#### Batch (Working but goes to Nan - Needs Optimization)"
   ]
  },
  {
   "cell_type": "code",
   "execution_count": 15,
   "metadata": {},
   "outputs": [],
   "source": [
    "def generator(df, batch_size):\n",
    "    \"\"\"Generate batches, one with respect to each array's first axis.\"\"\"\n",
    "    starts = 0 # pointer to where we are in iteration\n",
    "    while True:\n",
    "        start = starts\n",
    "        stop = start + batch_size\n",
    "        diff = stop - df.shape[0]\n",
    "        if diff <= 0:\n",
    "            batch = df.iloc[start:stop]\n",
    "            starts += batch_size\n",
    "        else:\n",
    "            batch = pd.concat((df.iloc[start:], df.iloc[:diff]))\n",
    "            starts = diff\n",
    "\n",
    "        yield batch\n",
    "\n",
    "data = generator(x_train, M)"
   ]
  },
  {
   "cell_type": "code",
   "execution_count": 23,
   "metadata": {
    "scrolled": true
   },
   "outputs": [
    {
     "name": "stdout",
     "output_type": "stream",
     "text": [
      "6666/6685 [ 99%] █████████████████████████████  ETA: 0s | Loss: nan"
     ]
    }
   ],
   "source": [
    "X = np.array([tf.placeholder(tf.int32, [M]) for _ in range(chain_len)])\n",
    "\n",
    "n_batch = int(N / M)\n",
    "n_epoch = 5\n",
    "\n",
    "inference = ed.KLqp({pi_0: qpi_0, pi_T: qpi_T}, data=dict(zip(x, X)))\n",
    "inference.initialize(n_iter=n_batch * n_epoch, n_samples=5)\n",
    "\n",
    "tf.global_variables_initializer().run()\n",
    "\n",
    "for _ in range(inference.n_iter):\n",
    "    x_batch = next(data)\n",
    "\n",
    "    info_dict = inference.update(dict(zip(X, x_batch.values.T)))\n",
    "    inference.print_progress(info_dict)\n"
   ]
  },
  {
   "cell_type": "code",
   "execution_count": null,
   "metadata": {},
   "outputs": [],
   "source": []
  }
 ],
 "metadata": {
  "kernelspec": {
   "display_name": "MLPP Lending Club",
   "language": "python",
   "name": "lending-club-analysis-iuojzap3"
  },
  "language_info": {
   "codemirror_mode": {
    "name": "ipython",
    "version": 3
   },
   "file_extension": ".py",
   "mimetype": "text/x-python",
   "name": "python",
   "nbconvert_exporter": "python",
   "pygments_lexer": "ipython3",
   "version": "3.6.5"
  }
 },
 "nbformat": 4,
 "nbformat_minor": 2
}
