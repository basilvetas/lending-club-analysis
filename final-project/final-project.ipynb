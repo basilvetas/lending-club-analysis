{
 "cells": [
  {
   "cell_type": "code",
   "execution_count": 1,
   "metadata": {},
   "outputs": [
    {
     "name": "stdout",
     "output_type": "stream",
     "text": [
      "WARNING:tensorflow:From /Users/basilvetas/.local/share/virtualenvs/lending-club-analysis-iUojZaP3/lib/python3.6/site-packages/tensorflow/contrib/learn/python/learn/datasets/base.py:198: retry (from tensorflow.contrib.learn.python.learn.datasets.base) is deprecated and will be removed in a future version.\n",
      "Instructions for updating:\n",
      "Use the retry module or similar alternatives.\n"
     ]
    }
   ],
   "source": [
    "import numpy as np\n",
    "import pandas as pd\n",
    "\n",
    "import matplotlib.pyplot as plt\n",
    "import seaborn as sns\n",
    "import missingno as msno\n",
    "\n",
    "import tensorflow as tf\n",
    "import edward as ed\n",
    "from edward.models import Bernoulli, Categorical, Normal, Empirical, Multinomial\n",
    "\n",
    "from utils.utils import load_dataframe, preprocess, transition_matrix"
   ]
  },
  {
   "cell_type": "code",
   "execution_count": 2,
   "metadata": {},
   "outputs": [],
   "source": [
    "pd.set_option('display.max_columns', 200)\n",
    "pd.set_option('display.max_rows', 200)\n",
    "pd.set_option('display.max_colwidth', -1)\n",
    "sns.set_style('whitegrid')"
   ]
  },
  {
   "cell_type": "markdown",
   "metadata": {},
   "source": [
    "## Data"
   ]
  },
  {
   "cell_type": "code",
   "execution_count": 3,
   "metadata": {},
   "outputs": [
    {
     "name": "stdout",
     "output_type": "stream",
     "text": [
      "Loading raw data from hdf5 cache...\n",
      "Fetching raw data took 2.85 seconds\n",
      "id             int64   \n",
      "loan_status    category\n",
      "age_of_loan    int64   \n",
      "term           category\n",
      "dtype: object\n",
      "Retrieved 40,268,594 rows, 4 columns\n"
     ]
    }
   ],
   "source": [
    "df = load_dataframe()"
   ]
  },
  {
   "cell_type": "code",
   "execution_count": 4,
   "metadata": {},
   "outputs": [
    {
     "name": "stdout",
     "output_type": "stream",
     "text": [
      "Mapping transformations...\n",
      "Preprocessing data...\n",
      "Caching...\n",
      "Preprocessing and caching took 129.73 seconds\n",
      "id             int64\n",
      "loan_status    int64\n",
      "age_of_loan    int64\n",
      "term           int64\n",
      "dtype: object\n",
      "Preprocessed 27,641,460 rows, 4 columns\n"
     ]
    }
   ],
   "source": [
    "# note I made this filter on term == 36 and age_of_loan <= 36 \n",
    "df = preprocess(df)"
   ]
  },
  {
   "cell_type": "code",
   "execution_count": 9,
   "metadata": {},
   "outputs": [
    {
     "name": "stdout",
     "output_type": "stream",
     "text": [
      "Loading transition matrix from hdf5 cache...\n",
      "Fetching transition matrix took 0.04 seconds\n"
     ]
    }
   ],
   "source": [
    "realized_transitions = transition_matrix(df)"
   ]
  },
  {
   "cell_type": "code",
   "execution_count": 10,
   "metadata": {},
   "outputs": [
    {
     "data": {
      "text/html": [
       "<div>\n",
       "<style scoped>\n",
       "    .dataframe tbody tr th:only-of-type {\n",
       "        vertical-align: middle;\n",
       "    }\n",
       "\n",
       "    .dataframe tbody tr th {\n",
       "        vertical-align: top;\n",
       "    }\n",
       "\n",
       "    .dataframe thead th {\n",
       "        text-align: right;\n",
       "    }\n",
       "</style>\n",
       "<table border=\"1\" class=\"dataframe\">\n",
       "  <thead>\n",
       "    <tr style=\"text-align: right;\">\n",
       "      <th>loan_status_y</th>\n",
       "      <th>Charged Off</th>\n",
       "      <th>Current</th>\n",
       "      <th>Default</th>\n",
       "      <th>Fully Paid</th>\n",
       "      <th>In Grace Period</th>\n",
       "      <th>Issued</th>\n",
       "      <th>Late (16-30 days)</th>\n",
       "      <th>Late (31-120 days)</th>\n",
       "    </tr>\n",
       "    <tr>\n",
       "      <th>loan_status_x</th>\n",
       "      <th></th>\n",
       "      <th></th>\n",
       "      <th></th>\n",
       "      <th></th>\n",
       "      <th></th>\n",
       "      <th></th>\n",
       "      <th></th>\n",
       "      <th></th>\n",
       "    </tr>\n",
       "  </thead>\n",
       "  <tbody>\n",
       "    <tr>\n",
       "      <th>Charged Off</th>\n",
       "      <td>0</td>\n",
       "      <td>0</td>\n",
       "      <td>0</td>\n",
       "      <td>0</td>\n",
       "      <td>0</td>\n",
       "      <td>0</td>\n",
       "      <td>0</td>\n",
       "      <td>0</td>\n",
       "    </tr>\n",
       "    <tr>\n",
       "      <th>Current</th>\n",
       "      <td>774</td>\n",
       "      <td>24453702</td>\n",
       "      <td>3</td>\n",
       "      <td>707322</td>\n",
       "      <td>5831</td>\n",
       "      <td>0</td>\n",
       "      <td>160366</td>\n",
       "      <td>62102</td>\n",
       "    </tr>\n",
       "    <tr>\n",
       "      <th>Default</th>\n",
       "      <td>28897</td>\n",
       "      <td>147</td>\n",
       "      <td>2297</td>\n",
       "      <td>71</td>\n",
       "      <td>0</td>\n",
       "      <td>0</td>\n",
       "      <td>4</td>\n",
       "      <td>506</td>\n",
       "    </tr>\n",
       "    <tr>\n",
       "      <th>Fully Paid</th>\n",
       "      <td>0</td>\n",
       "      <td>0</td>\n",
       "      <td>0</td>\n",
       "      <td>8063</td>\n",
       "      <td>12</td>\n",
       "      <td>0</td>\n",
       "      <td>101</td>\n",
       "      <td>72</td>\n",
       "    </tr>\n",
       "    <tr>\n",
       "      <th>In Grace Period</th>\n",
       "      <td>0</td>\n",
       "      <td>276</td>\n",
       "      <td>0</td>\n",
       "      <td>11</td>\n",
       "      <td>22</td>\n",
       "      <td>0</td>\n",
       "      <td>59</td>\n",
       "      <td>41</td>\n",
       "    </tr>\n",
       "    <tr>\n",
       "      <th>Issued</th>\n",
       "      <td>0</td>\n",
       "      <td>17206</td>\n",
       "      <td>0</td>\n",
       "      <td>670</td>\n",
       "      <td>1</td>\n",
       "      <td>0</td>\n",
       "      <td>38</td>\n",
       "      <td>1</td>\n",
       "    </tr>\n",
       "    <tr>\n",
       "      <th>Late (16-30 days)</th>\n",
       "      <td>4548</td>\n",
       "      <td>32376</td>\n",
       "      <td>0</td>\n",
       "      <td>2066</td>\n",
       "      <td>257</td>\n",
       "      <td>0</td>\n",
       "      <td>13413</td>\n",
       "      <td>119621</td>\n",
       "    </tr>\n",
       "    <tr>\n",
       "      <th>Late (31-120 days)</th>\n",
       "      <td>105934</td>\n",
       "      <td>25434</td>\n",
       "      <td>29802</td>\n",
       "      <td>2146</td>\n",
       "      <td>56</td>\n",
       "      <td>0</td>\n",
       "      <td>3292</td>\n",
       "      <td>332762</td>\n",
       "    </tr>\n",
       "  </tbody>\n",
       "</table>\n",
       "</div>"
      ],
      "text/plain": [
       "loan_status_y       Charged Off   Current  Default  Fully Paid  \\\n",
       "loan_status_x                                                    \n",
       "Charged Off         0            0         0        0            \n",
       "Current             774          24453702  3        707322       \n",
       "Default             28897        147       2297     71           \n",
       "Fully Paid          0            0         0        8063         \n",
       "In Grace Period     0            276       0        11           \n",
       "Issued              0            17206     0        670          \n",
       "Late (16-30 days)   4548         32376     0        2066         \n",
       "Late (31-120 days)  105934       25434     29802    2146         \n",
       "\n",
       "loan_status_y       In Grace Period  Issued  Late (16-30 days)  \\\n",
       "loan_status_x                                                    \n",
       "Charged Off         0                0       0                   \n",
       "Current             5831             0       160366              \n",
       "Default             0                0       4                   \n",
       "Fully Paid          12               0       101                 \n",
       "In Grace Period     22               0       59                  \n",
       "Issued              1                0       38                  \n",
       "Late (16-30 days)   257              0       13413               \n",
       "Late (31-120 days)  56               0       3292                \n",
       "\n",
       "loan_status_y       Late (31-120 days)  \n",
       "loan_status_x                           \n",
       "Charged Off         0                   \n",
       "Current             62102               \n",
       "Default             506                 \n",
       "Fully Paid          72                  \n",
       "In Grace Period     41                  \n",
       "Issued              1                   \n",
       "Late (16-30 days)   119621              \n",
       "Late (31-120 days)  332762              "
      ]
     },
     "execution_count": 10,
     "metadata": {},
     "output_type": "execute_result"
    }
   ],
   "source": [
    "realized_transitions"
   ]
  },
  {
   "cell_type": "markdown",
   "metadata": {},
   "source": [
    "## Model"
   ]
  },
  {
   "cell_type": "code",
   "execution_count": 13,
   "metadata": {},
   "outputs": [],
   "source": [
    "# from issue https://github.com/blei-lab/edward/issues/450\n",
    "chain_len = 36\n",
    "n_states = df.loan_status.unique().shape[0]\n",
    "\n",
    "# create default starting state probability vector\n",
    "x_0 = Categorical(probs=tf.fill([n_states], 1.0 / n_states))\n",
    "\n",
    "# transition matrix\n",
    "T = tf.nn.softmax(tf.Variable(tf.random_uniform([n_states, n_states])), axis=0)\n",
    "\n",
    "# MODEL\n",
    "x = []\n",
    "for _ in range(chain_len):\n",
    "    x_tm1 = x[-1] if x else x_0\n",
    "    x_t = Categorical(probs=T[:, x_tm1])\n",
    "    x.append(x_t)"
   ]
  },
  {
   "cell_type": "markdown",
   "metadata": {},
   "source": [
    "## Inference"
   ]
  },
  {
   "cell_type": "code",
   "execution_count": 20,
   "metadata": {},
   "outputs": [
    {
     "data": {
      "text/plain": [
       "id                int64\n",
       "loan_status       int64\n",
       "age_of_loan       int64\n",
       "term              int64\n",
       "previous_month    int64\n",
       "dtype: object"
      ]
     },
     "execution_count": 20,
     "metadata": {},
     "output_type": "execute_result"
    }
   ],
   "source": [
    "df.dtypes"
   ]
  },
  {
   "cell_type": "code",
   "execution_count": 36,
   "metadata": {},
   "outputs": [
    {
     "data": {
      "text/plain": [
       "array([1, 1, 1, 1, 1, 1, 1, 1, 1, 1, 1, 1, 1, 1, 1, 1, 1, 1, 1, 1, 1, 1,\n",
       "       1, 1, 1, 1, 1, 1, 1, 1, 1, 1, 1, 1, 1, 3], dtype=int64)"
      ]
     },
     "execution_count": 36,
     "metadata": {},
     "output_type": "execute_result"
    }
   ],
   "source": [
    "df.loc[df.id == 55742].loan_status.values"
   ]
  },
  {
   "cell_type": "code",
   "execution_count": null,
   "metadata": {},
   "outputs": [
    {
     "name": "stdout",
     "output_type": "stream",
     "text": [
      "[[0.18844862 0.09978226 0.09664977 0.09886406 0.13895456 0.10338021\n",
      "  0.10773823 0.13661277]\n",
      " [0.14108378 0.08936589 0.15624593 0.0896719  0.15368576 0.10087609\n",
      "  0.07927077 0.11207601]\n",
      " [0.08685982 0.10274765 0.1165492  0.13861166 0.08700369 0.11593374\n",
      "  0.15795189 0.18349783]\n",
      " [0.09175886 0.13810267 0.08606043 0.11435282 0.10001098 0.09824684\n",
      "  0.14901404 0.13795896]\n",
      " [0.09805723 0.11559549 0.13281026 0.18622339 0.1525802  0.11022329\n",
      "  0.16406138 0.0727964 ]\n",
      " [0.10331543 0.12159826 0.09394836 0.1037182  0.07208288 0.21389295\n",
      "  0.08911909 0.07214747]\n",
      " [0.09964392 0.10164499 0.16238947 0.09800943 0.16946645 0.15731917\n",
      "  0.13599394 0.1900072 ]\n",
      " [0.1908323  0.23116282 0.15534662 0.17054859 0.12621552 0.10012773\n",
      "  0.1168507  0.09490333]]\n"
     ]
    }
   ],
   "source": [
    "qx = [Categorical(probs=tf.nn.softmax(tf.Variable(tf.ones(n_states)))) for _ in range(chain_len)]\n",
    "\n",
    "x_data = df.loc[df.id == 55742].loan_status.values\n",
    "\n",
    "with tf.Session() as sess:\n",
    "    sess.run(tf.global_variables_initializer())\n",
    "    print(sess.run(T))\n",
    "\n",
    "    inference = ed.KLqp(dict(zip(x, qx)), dict(zip(x, x_data)))\n",
    "    inference.run(n_iter=20000)\n",
    "\n",
    "    print(sess.run(T))\n",
    "    print('qx:')\n",
    "    pprint(sess.run([foo.probs for foo in qx]))\n",
    "    print('x:')\n",
    "    pprint(sess.run([foo.probs for foo in x]))"
   ]
  },
  {
   "cell_type": "code",
   "execution_count": null,
   "metadata": {},
   "outputs": [],
   "source": []
  }
 ],
 "metadata": {
  "kernelspec": {
   "display_name": "MLPP Lending Club",
   "language": "python",
   "name": "lending-club-analysis-iuojzap3"
  },
  "language_info": {
   "codemirror_mode": {
    "name": "ipython",
    "version": 3
   },
   "file_extension": ".py",
   "mimetype": "text/x-python",
   "name": "python",
   "nbconvert_exporter": "python",
   "pygments_lexer": "ipython3",
   "version": "3.6.5"
  }
 },
 "nbformat": 4,
 "nbformat_minor": 2
}
