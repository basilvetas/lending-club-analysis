{
 "cells": [
  {
   "cell_type": "markdown",
   "metadata": {},
   "source": [
    "## Setup"
   ]
  },
  {
   "cell_type": "markdown",
   "metadata": {},
   "source": [
    "### Package Imports and Options"
   ]
  },
  {
   "cell_type": "code",
   "execution_count": 1,
   "metadata": {},
   "outputs": [
    {
     "name": "stdout",
     "output_type": "stream",
     "text": [
      "WARNING:tensorflow:From /Users/jeromekafrouni/.pyenv/versions/3.6.1/envs/prob-prog/lib/python3.6/site-packages/tensorflow/contrib/learn/python/learn/datasets/base.py:198: retry (from tensorflow.contrib.learn.python.learn.datasets.base) is deprecated and will be removed in a future version.\n",
      "Instructions for updating:\n",
      "Use the retry module or similar alternatives.\n"
     ]
    }
   ],
   "source": [
    "from os import getcwd\n",
    "import glob\n",
    "from pprint import pprint\n",
    "\n",
    "import pandas as pd\n",
    "import numpy as np\n",
    "from sklearn import preprocessing\n",
    "\n",
    "%matplotlib inline\n",
    "import matplotlib.pyplot as plt\n",
    "import seaborn as sns\n",
    "import missingno as msno\n",
    "\n",
    "# note I ran into an issue import tensorflow with Python 3.7. Solved via:\n",
    "# https://github.com/tensorflow/tensorflow/issues/20690\n",
    "import tensorflow as tf\n",
    "\n",
    "# I also ran into and issue importing edward with tensorflow > 1.5. Solved via:\n",
    "# https://github.com/blei-lab/edward/issues/893\n",
    "# ran into another edward - TF compatibility issue. Tried solving via:\n",
    "# https://github.com/blei-lab/edward/issues/895 — this solution didn't work however (still solving)\n",
    "import os\n",
    "os.environ['TF_C_API_GRAPH_CONSTRUCTION']='0'\n",
    "import edward as ed"
   ]
  },
  {
   "cell_type": "code",
   "execution_count": 2,
   "metadata": {},
   "outputs": [],
   "source": [
    "pd.set_option('display.max_columns', 200)\n",
    "pd.set_option('display.max_rows', 200)\n",
    "pd.set_option('display.max_colwidth', -1)"
   ]
  },
  {
   "cell_type": "markdown",
   "metadata": {},
   "source": [
    "### Load Data"
   ]
  },
  {
   "cell_type": "code",
   "execution_count": 3,
   "metadata": {},
   "outputs": [],
   "source": [
    "dic = pd.read_excel('data/LCDataDictionary.xlsx')"
   ]
  },
  {
   "cell_type": "code",
   "execution_count": 4,
   "metadata": {},
   "outputs": [],
   "source": [
    "csv_files = glob.glob(f'{getcwd()}/data/*.csv')\n",
    "df_raw = pd.concat((pd.read_csv(f, header=1, low_memory=False) for f in csv_files))"
   ]
  },
  {
   "cell_type": "code",
   "execution_count": 5,
   "metadata": {},
   "outputs": [],
   "source": [
    "df = df_raw"
   ]
  },
  {
   "cell_type": "code",
   "execution_count": 15,
   "metadata": {},
   "outputs": [
    {
     "data": {
      "text/plain": [
       " 36 months    1432001\n",
       " 60 months    572061 \n",
       "Name: term, dtype: int64"
      ]
     },
     "execution_count": 15,
     "metadata": {},
     "output_type": "execute_result"
    }
   ],
   "source": [
    "df.term.value_counts()"
   ]
  },
  {
   "cell_type": "code",
   "execution_count": 67,
   "metadata": {},
   "outputs": [],
   "source": [
    "df_36 = df.loc[df.term == ' 36 months',:]\n",
    "df_60 = df.loc[df.term == ' 60 months',:]"
   ]
  },
  {
   "cell_type": "markdown",
   "metadata": {},
   "source": [
    "## Building transitions month per month"
   ]
  },
  {
   "cell_type": "markdown",
   "metadata": {},
   "source": [
    "**Step 1:** We need to find month information to know when was each data point created."
   ]
  },
  {
   "cell_type": "code",
   "execution_count": 84,
   "metadata": {},
   "outputs": [],
   "source": [
    "samples = df_36.sample(10) # sample 10 points from the data to explore"
   ]
  },
  {
   "cell_type": "code",
   "execution_count": 242,
   "metadata": {},
   "outputs": [],
   "source": [
    "good_columns = ['loan_status',\n",
    "                'loan_amnt',\n",
    "                'issue_d',\n",
    "                'term',\n",
    "                'last_pymnt_d',\n",
    "                'last_pymnt_amnt',\n",
    "                'next_pymnt_d',\n",
    "                'installment',\n",
    "                # 'mths_since_last_delinq',\n",
    "                # 'mths_since_last_record',\n",
    "                'total_pymnt',\n",
    "                'last_credit_pull_d',\n",
    "                'delinq_amnt',\n",
    "                'chargeoff_within_12_mths'] "
   ]
  },
  {
   "cell_type": "code",
   "execution_count": 243,
   "metadata": {},
   "outputs": [
    {
     "data": {
      "text/html": [
       "<div>\n",
       "<style scoped>\n",
       "    .dataframe tbody tr th:only-of-type {\n",
       "        vertical-align: middle;\n",
       "    }\n",
       "\n",
       "    .dataframe tbody tr th {\n",
       "        vertical-align: top;\n",
       "    }\n",
       "\n",
       "    .dataframe thead th {\n",
       "        text-align: right;\n",
       "    }\n",
       "</style>\n",
       "<table border=\"1\" class=\"dataframe\">\n",
       "  <thead>\n",
       "    <tr style=\"text-align: right;\">\n",
       "      <th></th>\n",
       "      <th>loan_status</th>\n",
       "      <th>loan_amnt</th>\n",
       "      <th>issue_d</th>\n",
       "      <th>term</th>\n",
       "      <th>last_pymnt_d</th>\n",
       "      <th>last_pymnt_amnt</th>\n",
       "      <th>next_pymnt_d</th>\n",
       "      <th>installment</th>\n",
       "      <th>total_pymnt</th>\n",
       "      <th>last_credit_pull_d</th>\n",
       "      <th>delinq_amnt</th>\n",
       "      <th>chargeoff_within_12_mths</th>\n",
       "    </tr>\n",
       "  </thead>\n",
       "  <tbody>\n",
       "    <tr>\n",
       "      <th>10421</th>\n",
       "      <td>Current</td>\n",
       "      <td>5000.0</td>\n",
       "      <td>Jun-2016</td>\n",
       "      <td>36 months</td>\n",
       "      <td>Oct-2018</td>\n",
       "      <td>185.80</td>\n",
       "      <td>Nov-2018</td>\n",
       "      <td>185.80</td>\n",
       "      <td>5191.290000</td>\n",
       "      <td>Oct-2018</td>\n",
       "      <td>0.0</td>\n",
       "      <td>0.0</td>\n",
       "    </tr>\n",
       "    <tr>\n",
       "      <th>313598</th>\n",
       "      <td>Fully Paid</td>\n",
       "      <td>4000.0</td>\n",
       "      <td>Apr-2015</td>\n",
       "      <td>36 months</td>\n",
       "      <td>Apr-2018</td>\n",
       "      <td>133.42</td>\n",
       "      <td>NaN</td>\n",
       "      <td>133.42</td>\n",
       "      <td>4800.399120</td>\n",
       "      <td>May-2018</td>\n",
       "      <td>0.0</td>\n",
       "      <td>0.0</td>\n",
       "    </tr>\n",
       "    <tr>\n",
       "      <th>84315</th>\n",
       "      <td>Fully Paid</td>\n",
       "      <td>4800.0</td>\n",
       "      <td>Aug-2014</td>\n",
       "      <td>36 months</td>\n",
       "      <td>Sep-2017</td>\n",
       "      <td>172.41</td>\n",
       "      <td>NaN</td>\n",
       "      <td>172.50</td>\n",
       "      <td>6213.170018</td>\n",
       "      <td>Sep-2017</td>\n",
       "      <td>0.0</td>\n",
       "      <td>0.0</td>\n",
       "    </tr>\n",
       "    <tr>\n",
       "      <th>64455</th>\n",
       "      <td>Charged Off</td>\n",
       "      <td>5000.0</td>\n",
       "      <td>Feb-2018</td>\n",
       "      <td>36 months</td>\n",
       "      <td>Apr-2018</td>\n",
       "      <td>180.92</td>\n",
       "      <td>NaN</td>\n",
       "      <td>180.92</td>\n",
       "      <td>356.820000</td>\n",
       "      <td>Oct-2018</td>\n",
       "      <td>0.0</td>\n",
       "      <td>0.0</td>\n",
       "    </tr>\n",
       "    <tr>\n",
       "      <th>21047</th>\n",
       "      <td>Current</td>\n",
       "      <td>28000.0</td>\n",
       "      <td>Dec-2017</td>\n",
       "      <td>36 months</td>\n",
       "      <td>Oct-2018</td>\n",
       "      <td>938.32</td>\n",
       "      <td>Nov-2018</td>\n",
       "      <td>938.32</td>\n",
       "      <td>9363.570000</td>\n",
       "      <td>Oct-2018</td>\n",
       "      <td>0.0</td>\n",
       "      <td>0.0</td>\n",
       "    </tr>\n",
       "    <tr>\n",
       "      <th>66998</th>\n",
       "      <td>Current</td>\n",
       "      <td>35000.0</td>\n",
       "      <td>May-2017</td>\n",
       "      <td>36 months</td>\n",
       "      <td>Oct-2018</td>\n",
       "      <td>1247.68</td>\n",
       "      <td>Nov-2018</td>\n",
       "      <td>1247.68</td>\n",
       "      <td>21177.520000</td>\n",
       "      <td>Oct-2018</td>\n",
       "      <td>0.0</td>\n",
       "      <td>0.0</td>\n",
       "    </tr>\n",
       "    <tr>\n",
       "      <th>355324</th>\n",
       "      <td>Fully Paid</td>\n",
       "      <td>35000.0</td>\n",
       "      <td>Mar-2015</td>\n",
       "      <td>36 months</td>\n",
       "      <td>Sep-2015</td>\n",
       "      <td>31591.44</td>\n",
       "      <td>NaN</td>\n",
       "      <td>1223.77</td>\n",
       "      <td>37649.580000</td>\n",
       "      <td>May-2018</td>\n",
       "      <td>0.0</td>\n",
       "      <td>0.0</td>\n",
       "    </tr>\n",
       "    <tr>\n",
       "      <th>106917</th>\n",
       "      <td>Current</td>\n",
       "      <td>7800.0</td>\n",
       "      <td>Jan-2018</td>\n",
       "      <td>36 months</td>\n",
       "      <td>Oct-2018</td>\n",
       "      <td>274.31</td>\n",
       "      <td>Nov-2018</td>\n",
       "      <td>274.31</td>\n",
       "      <td>2461.850000</td>\n",
       "      <td>Oct-2018</td>\n",
       "      <td>0.0</td>\n",
       "      <td>0.0</td>\n",
       "    </tr>\n",
       "    <tr>\n",
       "      <th>19732</th>\n",
       "      <td>Current</td>\n",
       "      <td>3200.0</td>\n",
       "      <td>Mar-2017</td>\n",
       "      <td>36 months</td>\n",
       "      <td>Oct-2018</td>\n",
       "      <td>108.58</td>\n",
       "      <td>Nov-2018</td>\n",
       "      <td>108.58</td>\n",
       "      <td>2064.410000</td>\n",
       "      <td>Oct-2018</td>\n",
       "      <td>0.0</td>\n",
       "      <td>0.0</td>\n",
       "    </tr>\n",
       "    <tr>\n",
       "      <th>237590</th>\n",
       "      <td>Fully Paid</td>\n",
       "      <td>5000.0</td>\n",
       "      <td>Jul-2015</td>\n",
       "      <td>36 months</td>\n",
       "      <td>Aug-2015</td>\n",
       "      <td>5031.78</td>\n",
       "      <td>NaN</td>\n",
       "      <td>156.43</td>\n",
       "      <td>5029.590000</td>\n",
       "      <td>Jul-2015</td>\n",
       "      <td>0.0</td>\n",
       "      <td>0.0</td>\n",
       "    </tr>\n",
       "  </tbody>\n",
       "</table>\n",
       "</div>"
      ],
      "text/plain": [
       "        loan_status  loan_amnt   issue_d        term last_pymnt_d  \\\n",
       "10421   Current      5000.0     Jun-2016   36 months  Oct-2018      \n",
       "313598  Fully Paid   4000.0     Apr-2015   36 months  Apr-2018      \n",
       "84315   Fully Paid   4800.0     Aug-2014   36 months  Sep-2017      \n",
       "64455   Charged Off  5000.0     Feb-2018   36 months  Apr-2018      \n",
       "21047   Current      28000.0    Dec-2017   36 months  Oct-2018      \n",
       "66998   Current      35000.0    May-2017   36 months  Oct-2018      \n",
       "355324  Fully Paid   35000.0    Mar-2015   36 months  Sep-2015      \n",
       "106917  Current      7800.0     Jan-2018   36 months  Oct-2018      \n",
       "19732   Current      3200.0     Mar-2017   36 months  Oct-2018      \n",
       "237590  Fully Paid   5000.0     Jul-2015   36 months  Aug-2015      \n",
       "\n",
       "        last_pymnt_amnt next_pymnt_d  installment   total_pymnt  \\\n",
       "10421   185.80           Nov-2018     185.80       5191.290000    \n",
       "313598  133.42           NaN          133.42       4800.399120    \n",
       "84315   172.41           NaN          172.50       6213.170018    \n",
       "64455   180.92           NaN          180.92       356.820000     \n",
       "21047   938.32           Nov-2018     938.32       9363.570000    \n",
       "66998   1247.68          Nov-2018     1247.68      21177.520000   \n",
       "355324  31591.44         NaN          1223.77      37649.580000   \n",
       "106917  274.31           Nov-2018     274.31       2461.850000    \n",
       "19732   108.58           Nov-2018     108.58       2064.410000    \n",
       "237590  5031.78          NaN          156.43       5029.590000    \n",
       "\n",
       "       last_credit_pull_d  delinq_amnt  chargeoff_within_12_mths  \n",
       "10421   Oct-2018           0.0          0.0                       \n",
       "313598  May-2018           0.0          0.0                       \n",
       "84315   Sep-2017           0.0          0.0                       \n",
       "64455   Oct-2018           0.0          0.0                       \n",
       "21047   Oct-2018           0.0          0.0                       \n",
       "66998   Oct-2018           0.0          0.0                       \n",
       "355324  May-2018           0.0          0.0                       \n",
       "106917  Oct-2018           0.0          0.0                       \n",
       "19732   Oct-2018           0.0          0.0                       \n",
       "237590  Jul-2015           0.0          0.0                       "
      ]
     },
     "execution_count": 243,
     "metadata": {},
     "output_type": "execute_result"
    }
   ],
   "source": [
    "samples[good_columns]"
   ]
  },
  {
   "cell_type": "code",
   "execution_count": 244,
   "metadata": {},
   "outputs": [],
   "source": [
    "df2 = df[good_columns]"
   ]
  },
  {
   "cell_type": "code",
   "execution_count": 162,
   "metadata": {},
   "outputs": [
    {
     "data": {
      "text/plain": [
       "loan_status                 0.000014\n",
       "loan_amnt                   0.000014\n",
       "issue_d                     0.000014\n",
       "last_pymnt_d                0.001074\n",
       "last_pymnt_amnt             0.000014\n",
       "next_pymnt_d                0.579682\n",
       "installment                 0.000014\n",
       "total_pymnt                 0.000014\n",
       "last_credit_pull_d          0.000049\n",
       "delinq_amnt                 0.000029\n",
       "chargeoff_within_12_mths    0.000087\n",
       "dtype: float64"
      ]
     },
     "execution_count": 162,
     "metadata": {},
     "output_type": "execute_result"
    }
   ],
   "source": [
    "df2.isnull().mean()"
   ]
  },
  {
   "cell_type": "code",
   "execution_count": 245,
   "metadata": {},
   "outputs": [
    {
     "name": "stderr",
     "output_type": "stream",
     "text": [
      "/Users/jeromekafrouni/.pyenv/versions/3.6.1/envs/prob-prog/lib/python3.6/site-packages/ipykernel_launcher.py:2: SettingWithCopyWarning: \n",
      "A value is trying to be set on a copy of a slice from a DataFrame.\n",
      "Try using .loc[row_indexer,col_indexer] = value instead\n",
      "\n",
      "See the caveats in the documentation: http://pandas.pydata.org/pandas-docs/stable/indexing.html#indexing-view-versus-copy\n",
      "  \n"
     ]
    }
   ],
   "source": [
    "for c in ['issue_d', 'last_pymnt_d', 'next_pymnt_d', 'last_credit_pull_d']:\n",
    "    df2[c] = pd.to_datetime(df2[c])"
   ]
  },
  {
   "cell_type": "code",
   "execution_count": 246,
   "metadata": {},
   "outputs": [],
   "source": [
    "import pickle"
   ]
  },
  {
   "cell_type": "code",
   "execution_count": 247,
   "metadata": {},
   "outputs": [],
   "source": [
    "with open('df_with_time.pkl', 'wb') as f:\n",
    "    pickle.dump(df2, f)"
   ]
  },
  {
   "cell_type": "code",
   "execution_count": 165,
   "metadata": {},
   "outputs": [
    {
     "data": {
      "text/plain": [
       "(Timestamp('2007-06-01 00:00:00'), Timestamp('2018-06-01 00:00:00'))"
      ]
     },
     "execution_count": 165,
     "metadata": {},
     "output_type": "execute_result"
    }
   ],
   "source": [
    "df2.issue_d.min(), df2.issue_d.max()"
   ]
  },
  {
   "cell_type": "code",
   "execution_count": 155,
   "metadata": {},
   "outputs": [
    {
     "data": {
      "text/plain": [
       "Timedelta('4018 days 00:00:00')"
      ]
     },
     "execution_count": 155,
     "metadata": {},
     "output_type": "execute_result"
    }
   ],
   "source": [
    "df2.issue_d.max() - df2.issue_d.min()"
   ]
  },
  {
   "cell_type": "code",
   "execution_count": 187,
   "metadata": {},
   "outputs": [
    {
     "data": {
      "image/png": "[encoded data removed]",
      "text/plain": [
       "<Figure size 432x288 with 1 Axes>"
      ]
     },
     "metadata": {
      "needs_background": "light"
     },
     "output_type": "display_data"
    }
   ],
   "source": [
    "df2.issue_d.hist(bins=130);"
   ]
  },
  {
   "cell_type": "code",
   "execution_count": 166,
   "metadata": {},
   "outputs": [
    {
     "data": {
      "text/html": [
       "<div>\n",
       "<style scoped>\n",
       "    .dataframe tbody tr th:only-of-type {\n",
       "        vertical-align: middle;\n",
       "    }\n",
       "\n",
       "    .dataframe tbody tr th {\n",
       "        vertical-align: top;\n",
       "    }\n",
       "\n",
       "    .dataframe thead th {\n",
       "        text-align: right;\n",
       "    }\n",
       "</style>\n",
       "<table border=\"1\" class=\"dataframe\">\n",
       "  <thead>\n",
       "    <tr style=\"text-align: right;\">\n",
       "      <th></th>\n",
       "      <th>loan_status</th>\n",
       "      <th>loan_amnt</th>\n",
       "      <th>issue_d</th>\n",
       "      <th>last_pymnt_d</th>\n",
       "      <th>last_pymnt_amnt</th>\n",
       "      <th>next_pymnt_d</th>\n",
       "      <th>installment</th>\n",
       "      <th>total_pymnt</th>\n",
       "      <th>last_credit_pull_d</th>\n",
       "      <th>delinq_amnt</th>\n",
       "      <th>chargeoff_within_12_mths</th>\n",
       "    </tr>\n",
       "  </thead>\n",
       "  <tbody>\n",
       "    <tr>\n",
       "      <th>0</th>\n",
       "      <td>Fully Paid</td>\n",
       "      <td>5000.0</td>\n",
       "      <td>2011-12-01</td>\n",
       "      <td>2015-01-01</td>\n",
       "      <td>171.62</td>\n",
       "      <td>NaT</td>\n",
       "      <td>162.87</td>\n",
       "      <td>5863.155187</td>\n",
       "      <td>2018-10-01</td>\n",
       "      <td>0.0</td>\n",
       "      <td>0.0</td>\n",
       "    </tr>\n",
       "    <tr>\n",
       "      <th>1</th>\n",
       "      <td>Charged Off</td>\n",
       "      <td>2500.0</td>\n",
       "      <td>2011-12-01</td>\n",
       "      <td>2013-04-01</td>\n",
       "      <td>119.66</td>\n",
       "      <td>NaT</td>\n",
       "      <td>59.83</td>\n",
       "      <td>1014.530000</td>\n",
       "      <td>2016-10-01</td>\n",
       "      <td>0.0</td>\n",
       "      <td>0.0</td>\n",
       "    </tr>\n",
       "    <tr>\n",
       "      <th>2</th>\n",
       "      <td>Fully Paid</td>\n",
       "      <td>2400.0</td>\n",
       "      <td>2011-12-01</td>\n",
       "      <td>2014-06-01</td>\n",
       "      <td>649.91</td>\n",
       "      <td>NaT</td>\n",
       "      <td>84.33</td>\n",
       "      <td>3005.666844</td>\n",
       "      <td>2017-06-01</td>\n",
       "      <td>0.0</td>\n",
       "      <td>0.0</td>\n",
       "    </tr>\n",
       "    <tr>\n",
       "      <th>3</th>\n",
       "      <td>Fully Paid</td>\n",
       "      <td>10000.0</td>\n",
       "      <td>2011-12-01</td>\n",
       "      <td>2015-01-01</td>\n",
       "      <td>357.48</td>\n",
       "      <td>NaT</td>\n",
       "      <td>339.31</td>\n",
       "      <td>12231.890000</td>\n",
       "      <td>2016-04-01</td>\n",
       "      <td>0.0</td>\n",
       "      <td>0.0</td>\n",
       "    </tr>\n",
       "    <tr>\n",
       "      <th>4</th>\n",
       "      <td>Fully Paid</td>\n",
       "      <td>3000.0</td>\n",
       "      <td>2011-12-01</td>\n",
       "      <td>2017-01-01</td>\n",
       "      <td>67.30</td>\n",
       "      <td>NaT</td>\n",
       "      <td>67.79</td>\n",
       "      <td>4066.908161</td>\n",
       "      <td>2018-04-01</td>\n",
       "      <td>0.0</td>\n",
       "      <td>0.0</td>\n",
       "    </tr>\n",
       "  </tbody>\n",
       "</table>\n",
       "</div>"
      ],
      "text/plain": [
       "   loan_status  loan_amnt    issue_d last_pymnt_d  last_pymnt_amnt  \\\n",
       "0  Fully Paid   5000.0    2011-12-01 2015-01-01    171.62            \n",
       "1  Charged Off  2500.0    2011-12-01 2013-04-01    119.66            \n",
       "2  Fully Paid   2400.0    2011-12-01 2014-06-01    649.91            \n",
       "3  Fully Paid   10000.0   2011-12-01 2015-01-01    357.48            \n",
       "4  Fully Paid   3000.0    2011-12-01 2017-01-01    67.30             \n",
       "\n",
       "  next_pymnt_d  installment   total_pymnt last_credit_pull_d  delinq_amnt  \\\n",
       "0 NaT           162.87       5863.155187  2018-10-01          0.0           \n",
       "1 NaT           59.83        1014.530000  2016-10-01          0.0           \n",
       "2 NaT           84.33        3005.666844  2017-06-01          0.0           \n",
       "3 NaT           339.31       12231.890000 2016-04-01          0.0           \n",
       "4 NaT           67.79        4066.908161  2018-04-01          0.0           \n",
       "\n",
       "   chargeoff_within_12_mths  \n",
       "0  0.0                       \n",
       "1  0.0                       \n",
       "2  0.0                       \n",
       "3  0.0                       \n",
       "4  0.0                       "
      ]
     },
     "execution_count": 166,
     "metadata": {},
     "output_type": "execute_result"
    }
   ],
   "source": [
    "df2.head()"
   ]
  },
  {
   "cell_type": "code",
   "execution_count": 168,
   "metadata": {},
   "outputs": [
    {
     "data": {
      "text/plain": [
       "(Timestamp('2007-12-01 00:00:00'), Timestamp('2018-10-01 00:00:00'))"
      ]
     },
     "execution_count": 168,
     "metadata": {},
     "output_type": "execute_result"
    }
   ],
   "source": [
    "df2.last_pymnt_d.min(), df2.last_pymnt_d.max()"
   ]
  },
  {
   "cell_type": "code",
   "execution_count": 174,
   "metadata": {},
   "outputs": [
    {
     "data": {
      "image/png": "[encoded data removed]",
      "text/plain": [
       "<Figure size 432x288 with 1 Axes>"
      ]
     },
     "metadata": {
      "needs_background": "light"
     },
     "output_type": "display_data"
    }
   ],
   "source": [
    "df2.last_pymnt_d.hist(bins=44); # one bin per quarter"
   ]
  },
  {
   "cell_type": "code",
   "execution_count": 214,
   "metadata": {},
   "outputs": [
    {
     "data": {
      "text/plain": [
       "2018-10-01    0.413900\n",
       "2018-08-01    0.020052\n",
       "2018-09-01    0.019437\n",
       "2018-03-01    0.019116\n",
       "2018-07-01    0.018499\n",
       "Name: last_pymnt_d, dtype: float64"
      ]
     },
     "execution_count": 214,
     "metadata": {},
     "output_type": "execute_result"
    }
   ],
   "source": [
    "(df2.last_pymnt_d.dropna().value_counts()/df2.last_pymnt_d.dropna().shape[0]).head()"
   ]
  },
  {
   "cell_type": "code",
   "execution_count": 209,
   "metadata": {},
   "outputs": [
    {
     "data": {
      "image/png": "[encoded data removed]",
      "text/plain": [
       "<Figure size 432x288 with 1 Axes>"
      ]
     },
     "metadata": {
      "needs_background": "light"
     },
     "output_type": "display_data"
    }
   ],
   "source": [
    "df2.next_pymnt_d.dropna().hist();"
   ]
  },
  {
   "cell_type": "code",
   "execution_count": 213,
   "metadata": {},
   "outputs": [
    {
     "data": {
      "text/plain": [
       "2018-11-01    0.996414\n",
       "2018-10-01    0.000173\n",
       "2018-12-01    0.000142\n",
       "2011-03-01    0.000127\n",
       "2011-04-01    0.000120\n",
       "Name: next_pymnt_d, dtype: float64"
      ]
     },
     "execution_count": 213,
     "metadata": {},
     "output_type": "execute_result"
    }
   ],
   "source": [
    "(df2.next_pymnt_d.dropna().value_counts()/df2.next_pymnt_d.dropna().shape[0]).head()"
   ]
  },
  {
   "cell_type": "code",
   "execution_count": 196,
   "metadata": {},
   "outputs": [
    {
     "data": {
      "text/html": [
       "<div>\n",
       "<style scoped>\n",
       "    .dataframe tbody tr th:only-of-type {\n",
       "        vertical-align: middle;\n",
       "    }\n",
       "\n",
       "    .dataframe tbody tr th {\n",
       "        vertical-align: top;\n",
       "    }\n",
       "\n",
       "    .dataframe thead th {\n",
       "        text-align: right;\n",
       "    }\n",
       "</style>\n",
       "<table border=\"1\" class=\"dataframe\">\n",
       "  <thead>\n",
       "    <tr style=\"text-align: right;\">\n",
       "      <th></th>\n",
       "      <th>loan_status</th>\n",
       "      <th>loan_amnt</th>\n",
       "      <th>issue_d</th>\n",
       "      <th>last_pymnt_d</th>\n",
       "      <th>last_pymnt_amnt</th>\n",
       "      <th>next_pymnt_d</th>\n",
       "      <th>installment</th>\n",
       "      <th>total_pymnt</th>\n",
       "      <th>last_credit_pull_d</th>\n",
       "      <th>delinq_amnt</th>\n",
       "      <th>chargeoff_within_12_mths</th>\n",
       "    </tr>\n",
       "  </thead>\n",
       "  <tbody>\n",
       "    <tr>\n",
       "      <th>0</th>\n",
       "      <td>Fully Paid</td>\n",
       "      <td>5000.0</td>\n",
       "      <td>2011-12-01</td>\n",
       "      <td>2015-01-01</td>\n",
       "      <td>171.62</td>\n",
       "      <td>NaT</td>\n",
       "      <td>162.87</td>\n",
       "      <td>5863.155187</td>\n",
       "      <td>2018-10-01</td>\n",
       "      <td>0.0</td>\n",
       "      <td>0.0</td>\n",
       "    </tr>\n",
       "    <tr>\n",
       "      <th>1</th>\n",
       "      <td>Charged Off</td>\n",
       "      <td>2500.0</td>\n",
       "      <td>2011-12-01</td>\n",
       "      <td>2013-04-01</td>\n",
       "      <td>119.66</td>\n",
       "      <td>NaT</td>\n",
       "      <td>59.83</td>\n",
       "      <td>1014.530000</td>\n",
       "      <td>2016-10-01</td>\n",
       "      <td>0.0</td>\n",
       "      <td>0.0</td>\n",
       "    </tr>\n",
       "    <tr>\n",
       "      <th>2</th>\n",
       "      <td>Fully Paid</td>\n",
       "      <td>2400.0</td>\n",
       "      <td>2011-12-01</td>\n",
       "      <td>2014-06-01</td>\n",
       "      <td>649.91</td>\n",
       "      <td>NaT</td>\n",
       "      <td>84.33</td>\n",
       "      <td>3005.666844</td>\n",
       "      <td>2017-06-01</td>\n",
       "      <td>0.0</td>\n",
       "      <td>0.0</td>\n",
       "    </tr>\n",
       "    <tr>\n",
       "      <th>3</th>\n",
       "      <td>Fully Paid</td>\n",
       "      <td>10000.0</td>\n",
       "      <td>2011-12-01</td>\n",
       "      <td>2015-01-01</td>\n",
       "      <td>357.48</td>\n",
       "      <td>NaT</td>\n",
       "      <td>339.31</td>\n",
       "      <td>12231.890000</td>\n",
       "      <td>2016-04-01</td>\n",
       "      <td>0.0</td>\n",
       "      <td>0.0</td>\n",
       "    </tr>\n",
       "    <tr>\n",
       "      <th>4</th>\n",
       "      <td>Fully Paid</td>\n",
       "      <td>3000.0</td>\n",
       "      <td>2011-12-01</td>\n",
       "      <td>2017-01-01</td>\n",
       "      <td>67.30</td>\n",
       "      <td>NaT</td>\n",
       "      <td>67.79</td>\n",
       "      <td>4066.908161</td>\n",
       "      <td>2018-04-01</td>\n",
       "      <td>0.0</td>\n",
       "      <td>0.0</td>\n",
       "    </tr>\n",
       "  </tbody>\n",
       "</table>\n",
       "</div>"
      ],
      "text/plain": [
       "   loan_status  loan_amnt    issue_d last_pymnt_d  last_pymnt_amnt  \\\n",
       "0  Fully Paid   5000.0    2011-12-01 2015-01-01    171.62            \n",
       "1  Charged Off  2500.0    2011-12-01 2013-04-01    119.66            \n",
       "2  Fully Paid   2400.0    2011-12-01 2014-06-01    649.91            \n",
       "3  Fully Paid   10000.0   2011-12-01 2015-01-01    357.48            \n",
       "4  Fully Paid   3000.0    2011-12-01 2017-01-01    67.30             \n",
       "\n",
       "  next_pymnt_d  installment   total_pymnt last_credit_pull_d  delinq_amnt  \\\n",
       "0 NaT           162.87       5863.155187  2018-10-01          0.0           \n",
       "1 NaT           59.83        1014.530000  2016-10-01          0.0           \n",
       "2 NaT           84.33        3005.666844  2017-06-01          0.0           \n",
       "3 NaT           339.31       12231.890000 2016-04-01          0.0           \n",
       "4 NaT           67.79        4066.908161  2018-04-01          0.0           \n",
       "\n",
       "   chargeoff_within_12_mths  \n",
       "0  0.0                       \n",
       "1  0.0                       \n",
       "2  0.0                       \n",
       "3  0.0                       \n",
       "4  0.0                       "
      ]
     },
     "execution_count": 196,
     "metadata": {},
     "output_type": "execute_result"
    }
   ],
   "source": [
    "df2.head()"
   ]
  },
  {
   "cell_type": "code",
   "execution_count": 194,
   "metadata": {},
   "outputs": [
    {
     "data": {
      "text/html": [
       "<div>\n",
       "<style scoped>\n",
       "    .dataframe tbody tr th:only-of-type {\n",
       "        vertical-align: middle;\n",
       "    }\n",
       "\n",
       "    .dataframe tbody tr th {\n",
       "        vertical-align: top;\n",
       "    }\n",
       "\n",
       "    .dataframe thead th {\n",
       "        text-align: right;\n",
       "    }\n",
       "</style>\n",
       "<table border=\"1\" class=\"dataframe\">\n",
       "  <thead>\n",
       "    <tr style=\"text-align: right;\">\n",
       "      <th></th>\n",
       "      <th>last_pymnt_d</th>\n",
       "      <th>next_pymnt_d</th>\n",
       "    </tr>\n",
       "  </thead>\n",
       "  <tbody>\n",
       "    <tr>\n",
       "      <th>0</th>\n",
       "      <td>False</td>\n",
       "      <td>True</td>\n",
       "    </tr>\n",
       "    <tr>\n",
       "      <th>1</th>\n",
       "      <td>False</td>\n",
       "      <td>True</td>\n",
       "    </tr>\n",
       "    <tr>\n",
       "      <th>2</th>\n",
       "      <td>False</td>\n",
       "      <td>True</td>\n",
       "    </tr>\n",
       "    <tr>\n",
       "      <th>3</th>\n",
       "      <td>False</td>\n",
       "      <td>True</td>\n",
       "    </tr>\n",
       "    <tr>\n",
       "      <th>4</th>\n",
       "      <td>False</td>\n",
       "      <td>True</td>\n",
       "    </tr>\n",
       "  </tbody>\n",
       "</table>\n",
       "</div>"
      ],
      "text/plain": [
       "   last_pymnt_d  next_pymnt_d\n",
       "0  False         True        \n",
       "1  False         True        \n",
       "2  False         True        \n",
       "3  False         True        \n",
       "4  False         True        "
      ]
     },
     "execution_count": 194,
     "metadata": {},
     "output_type": "execute_result"
    }
   ],
   "source": [
    "(df2[['last_pymnt_d', 'next_pymnt_d']] >= pd.Timestamp('2018-10-01 00:00:00')).head()"
   ]
  },
  {
   "cell_type": "code",
   "execution_count": 192,
   "metadata": {},
   "outputs": [
    {
     "data": {
      "text/plain": [
       "last_pymnt_d    0.414530\n",
       "next_pymnt_d    0.998625\n",
       "dtype: float64"
      ]
     },
     "execution_count": 192,
     "metadata": {},
     "output_type": "execute_result"
    }
   ],
   "source": [
    "(df2[['last_pymnt_d', 'next_pymnt_d']] >= pd.Timestamp('2018-10-01 00:00:00')).mean()"
   ]
  },
  {
   "cell_type": "code",
   "execution_count": 182,
   "metadata": {},
   "outputs": [
    {
     "data": {
      "text/plain": [
       "Timestamp('2018-12-01 00:00:00')"
      ]
     },
     "execution_count": 182,
     "metadata": {},
     "output_type": "execute_result"
    }
   ],
   "source": [
    "df2.next_pymnt_d.max()"
   ]
  },
  {
   "cell_type": "code",
   "execution_count": 158,
   "metadata": {},
   "outputs": [
    {
     "data": {
      "text/plain": [
       "Fully Paid                                             0.463105\n",
       "Current                                                0.398671\n",
       "Charged Off                                            0.116563\n",
       "Late (31-120 days)                                     0.011490\n",
       "In Grace Period                                        0.005963\n",
       "Late (16-30 days)                                      0.002812\n",
       "Does not meet the credit policy. Status:Fully Paid     0.000992\n",
       "Does not meet the credit policy. Status:Charged Off    0.000380\n",
       "Default                                                0.000011\n",
       "Name: loan_status, dtype: float64"
      ]
     },
     "execution_count": 158,
     "metadata": {},
     "output_type": "execute_result"
    }
   ],
   "source": [
    "df2['loan_status'].value_counts()/df2.shape[0]"
   ]
  },
  {
   "cell_type": "markdown",
   "metadata": {},
   "source": [
    "**Important**: we have the status **today** of any loan that has ever existed on LC. We don't have any previous status."
   ]
  },
  {
   "cell_type": "markdown",
   "metadata": {},
   "source": [
    "Q3 ended sept 30, so if we look at the difference between the start date and oct 1, we know how old is each data point:"
   ]
  },
  {
   "cell_type": "code",
   "execution_count": 249,
   "metadata": {},
   "outputs": [
    {
     "name": "stderr",
     "output_type": "stream",
     "text": [
      "/Users/jeromekafrouni/.pyenv/versions/3.6.1/envs/prob-prog/lib/python3.6/site-packages/ipykernel_launcher.py:1: SettingWithCopyWarning: \n",
      "A value is trying to be set on a copy of a slice from a DataFrame.\n",
      "Try using .loc[row_indexer,col_indexer] = value instead\n",
      "\n",
      "See the caveats in the documentation: http://pandas.pydata.org/pandas-docs/stable/indexing.html#indexing-view-versus-copy\n",
      "  \"\"\"Entry point for launching an IPython kernel.\n"
     ]
    }
   ],
   "source": [
    "df2['age_of_loan'] = pd.Timestamp('2018-10-01 00:00:00') - df2.issue_d"
   ]
  },
  {
   "cell_type": "markdown",
   "metadata": {},
   "source": [
    "How old are the loans:"
   ]
  },
  {
   "cell_type": "code",
   "execution_count": 250,
   "metadata": {},
   "outputs": [
    {
     "data": {
      "image/png": "[encoded data removed]",
      "text/plain": [
       "<Figure size 432x288 with 1 Axes>"
      ]
     },
     "metadata": {
      "needs_background": "light"
     },
     "output_type": "display_data"
    }
   ],
   "source": [
    "(df2['age_of_loan']/pd.Timedelta(days=30)).hist(bins='auto');"
   ]
  },
  {
   "cell_type": "markdown",
   "metadata": {},
   "source": [
    "How old are the 36 month term loans:"
   ]
  },
  {
   "cell_type": "code",
   "execution_count": 254,
   "metadata": {},
   "outputs": [
    {
     "data": {
      "image/png": "[encoded data removed]",
      "text/plain": [
       "<Figure size 432x288 with 1 Axes>"
      ]
     },
     "metadata": {
      "needs_background": "light"
     },
     "output_type": "display_data"
    }
   ],
   "source": [
    "(df2.loc[df2['term'] == ' 36 months', 'age_of_loan']/pd.Timedelta(days=30)).hist(bins='auto');\n",
    "plt.title('Age (months) of loans of term=36 months');"
   ]
  },
  {
   "cell_type": "code",
   "execution_count": 255,
   "metadata": {},
   "outputs": [
    {
     "data": {
      "image/png": "[encoded data removed]",
      "text/plain": [
       "<Figure size 432x288 with 1 Axes>"
      ]
     },
     "metadata": {
      "needs_background": "light"
     },
     "output_type": "display_data"
    }
   ],
   "source": [
    "(df2.loc[df2['term'] == ' 60 months', 'age_of_loan']/pd.Timedelta(days=30)).hist(bins='auto');\n",
    "plt.title('Age (months) of loans of term=60 months');"
   ]
  },
  {
   "cell_type": "markdown",
   "metadata": {},
   "source": [
    "Adjust loans that are already finished:"
   ]
  },
  {
   "cell_type": "code",
   "execution_count": null,
   "metadata": {},
   "outputs": [],
   "source": [
    "df2['age_of_loan'] >= pd.Timedelta(days=1095)"
   ]
  },
  {
   "cell_type": "markdown",
   "metadata": {},
   "source": [
    "36 months = 1095 days. Adjust accordingly:"
   ]
  },
  {
   "cell_type": "code",
   "execution_count": 261,
   "metadata": {},
   "outputs": [
    {
     "name": "stderr",
     "output_type": "stream",
     "text": [
      "/Users/jeromekafrouni/.pyenv/versions/3.6.1/envs/prob-prog/lib/python3.6/site-packages/pandas/core/indexing.py:543: SettingWithCopyWarning: \n",
      "A value is trying to be set on a copy of a slice from a DataFrame.\n",
      "Try using .loc[row_indexer,col_indexer] = value instead\n",
      "\n",
      "See the caveats in the documentation: http://pandas.pydata.org/pandas-docs/stable/indexing.html#indexing-view-versus-copy\n",
      "  self.obj[item] = s\n"
     ]
    }
   ],
   "source": [
    "df2.loc[(df2['term'] == ' 36 months') & (df2['age_of_loan'] >= pd.Timedelta(days=1095)), 'age_of_loan'] = pd.Timedelta(days=1095)"
   ]
  },
  {
   "cell_type": "markdown",
   "metadata": {},
   "source": [
    "Same for 60 months = 1825 days:"
   ]
  },
  {
   "cell_type": "code",
   "execution_count": 262,
   "metadata": {},
   "outputs": [],
   "source": [
    "df2.loc[(df2['term'] == ' 60 months') & (df2['age_of_loan'] >= pd.Timedelta(days=1825)), 'age_of_loan'] = pd.Timedelta(days=1825)"
   ]
  },
  {
   "cell_type": "code",
   "execution_count": 263,
   "metadata": {},
   "outputs": [
    {
     "data": {
      "image/png": "[encoded data removed]",
      "text/plain": [
       "<Figure size 432x288 with 1 Axes>"
      ]
     },
     "metadata": {
      "needs_background": "light"
     },
     "output_type": "display_data"
    }
   ],
   "source": [
    "(df2.loc[df2['term'] == ' 36 months', 'age_of_loan']/pd.Timedelta(days=30)).hist(bins='auto');\n",
    "plt.title('Adjusted age (months) of loans of term=36 months');"
   ]
  },
  {
   "cell_type": "code",
   "execution_count": 264,
   "metadata": {},
   "outputs": [
    {
     "data": {
      "image/png": "[encoded data removed]",
      "text/plain": [
       "<Figure size 432x288 with 1 Axes>"
      ]
     },
     "metadata": {
      "needs_background": "light"
     },
     "output_type": "display_data"
    }
   ],
   "source": [
    "(df2.loc[df2['term'] == ' 60 months', 'age_of_loan']/pd.Timedelta(days=30)).hist(bins='auto');\n",
    "plt.title('Adjusted age (months) of loans of term=60 months');"
   ]
  },
  {
   "cell_type": "code",
   "execution_count": null,
   "metadata": {},
   "outputs": [],
   "source": []
  }
 ],
 "metadata": {
  "kernelspec": {
   "display_name": "Python 3",
   "language": "python",
   "name": "python3"
  },
  "language_info": {
   "codemirror_mode": {
    "name": "ipython",
    "version": 3
   },
   "file_extension": ".py",
   "mimetype": "text/x-python",
   "name": "python",
   "nbconvert_exporter": "python",
   "pygments_lexer": "ipython3",
   "version": "3.6.1"
  }
 },
 "nbformat": 4,
 "nbformat_minor": 2
}
